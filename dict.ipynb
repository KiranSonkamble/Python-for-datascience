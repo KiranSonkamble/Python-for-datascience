{
 "cells": [
  {
   "cell_type": "code",
   "execution_count": 2,
   "id": "dfee0954",
   "metadata": {},
   "outputs": [],
   "source": [
    "def prime_number(x):\n",
    "    if x >= 2:\n",
    "        for y in range(2,x):\n",
    "            if not ( x % y ):\n",
    "                return 'not prime'\n",
    "    else:\n",
    "        return False\n",
    "    return 'Prime'\n"
   ]
  },
  {
   "cell_type": "code",
   "execution_count": 3,
   "id": "4b8bc379",
   "metadata": {},
   "outputs": [
    {
     "name": "stdout",
     "output_type": "stream",
     "text": [
      "none\n",
      "wassup\n"
     ]
    }
   ],
   "source": [
    "def get (key, value = \"none\" ):\n",
    "    if key in my_dict.keys():\n",
    "        return my_dict[key]\n",
    "        \n",
    "    else:\n",
    "        print(value)\n",
    "        \n",
    "#         return value\n",
    "my_dict = {\"name\":\"Laxmi\",  \"country\" : \"USA\"}\n",
    "get(\"name\")\n",
    "get (\"location\")\n",
    "get('country')\n",
    "get(\"place\", 'wassup')\n"
   ]
  },
  {
   "cell_type": "code",
   "execution_count": 2,
   "id": "8db9e869",
   "metadata": {},
   "outputs": [
    {
     "name": "stdout",
     "output_type": "stream",
     "text": [
      "10\n",
      "12\n"
     ]
    }
   ],
   "source": [
    "import math_t"
   ]
  },
  {
   "cell_type": "code",
   "execution_count": 1,
   "id": "d4f557bb",
   "metadata": {},
   "outputs": [
    {
     "data": {
      "text/plain": [
       "{'email': 'kathy_abram897@gmail.com', 'Phone': 1887654321, 'City': 'New York'}"
      ]
     },
     "execution_count": 1,
     "metadata": {},
     "output_type": "execute_result"
    }
   ],
   "source": [
    "# Initialize a dictionary \"emp_info\" with below details\n",
    "# In - emp_info['Tom']\n",
    "# Out - {'email':'tom_latham019@gmail.com', 'Phone': +1987654321, 'City': 'California'}\n",
    "emp_info= {'Tom':{'email':'tom_latham019@gmail.com', 'Phone': +1987654321, 'City': 'California'},\n",
    "           'Kathy':{'email':'kathy_abram897@gmail.com', 'Phone': +1887654321, 'City': 'New York'}}\n",
    "emp_info['Tom']\n",
    "\n",
    "# In - emp_info['Kathy']\n",
    "# Out - {'email':'kathy_abram897@gmail.com', 'Phone': +1887654321, 'City': 'New York'}\n",
    "\n",
    "emp_info['Kathy']\n"
   ]
  },
  {
   "cell_type": "code",
   "execution_count": 64,
   "id": "a5f2ac28",
   "metadata": {},
   "outputs": [
    {
     "ename": "ValueError",
     "evalue": "too many values to unpack (expected 2)",
     "output_type": "error",
     "traceback": [
      "\u001b[1;31m---------------------------------------------------------------------------\u001b[0m",
      "\u001b[1;31mValueError\u001b[0m                                Traceback (most recent call last)",
      "\u001b[1;32mC:\\Users\\KIRANS~1\\AppData\\Local\\Temp/ipykernel_15412/417445079.py\u001b[0m in \u001b[0;36m<module>\u001b[1;34m\u001b[0m\n\u001b[0;32m     15\u001b[0m \u001b[0mb\u001b[0m\u001b[1;33m=\u001b[0m\u001b[1;33m{\u001b[0m\u001b[0memp_key\u001b[0m\u001b[1;33m:\u001b[0m\u001b[0memp2_val\u001b[0m \u001b[1;32mfor\u001b[0m \u001b[0memp_key\u001b[0m\u001b[1;33m,\u001b[0m\u001b[0memp2_val\u001b[0m \u001b[1;32min\u001b[0m \u001b[0mzip\u001b[0m\u001b[1;33m(\u001b[0m\u001b[0memp_key\u001b[0m\u001b[1;33m,\u001b[0m\u001b[0memp2_val\u001b[0m\u001b[1;33m)\u001b[0m\u001b[1;33m}\u001b[0m\u001b[1;33m\u001b[0m\u001b[1;33m\u001b[0m\u001b[0m\n\u001b[0;32m     16\u001b[0m \u001b[0md\u001b[0m\u001b[1;33m=\u001b[0m\u001b[1;33m[\u001b[0m\u001b[0ma\u001b[0m\u001b[1;33m,\u001b[0m\u001b[0mb\u001b[0m\u001b[1;33m]\u001b[0m\u001b[1;33m\u001b[0m\u001b[1;33m\u001b[0m\u001b[0m\n\u001b[1;32m---> 17\u001b[1;33m \u001b[1;33m{\u001b[0m\u001b[0mlst1\u001b[0m\u001b[1;33m:\u001b[0m\u001b[0md\u001b[0m \u001b[1;32mfor\u001b[0m \u001b[0mlst1\u001b[0m\u001b[1;33m,\u001b[0m\u001b[0md\u001b[0m \u001b[1;32min\u001b[0m \u001b[1;33m(\u001b[0m\u001b[0mlst1\u001b[0m\u001b[1;33m,\u001b[0m\u001b[0md\u001b[0m\u001b[1;33m)\u001b[0m\u001b[1;33m}\u001b[0m\u001b[1;33m\u001b[0m\u001b[1;33m\u001b[0m\u001b[0m\n\u001b[0m",
      "\u001b[1;32mC:\\Users\\KIRANS~1\\AppData\\Local\\Temp/ipykernel_15412/417445079.py\u001b[0m in \u001b[0;36m<dictcomp>\u001b[1;34m(.0)\u001b[0m\n\u001b[0;32m     15\u001b[0m \u001b[0mb\u001b[0m\u001b[1;33m=\u001b[0m\u001b[1;33m{\u001b[0m\u001b[0memp_key\u001b[0m\u001b[1;33m:\u001b[0m\u001b[0memp2_val\u001b[0m \u001b[1;32mfor\u001b[0m \u001b[0memp_key\u001b[0m\u001b[1;33m,\u001b[0m\u001b[0memp2_val\u001b[0m \u001b[1;32min\u001b[0m \u001b[0mzip\u001b[0m\u001b[1;33m(\u001b[0m\u001b[0memp_key\u001b[0m\u001b[1;33m,\u001b[0m\u001b[0memp2_val\u001b[0m\u001b[1;33m)\u001b[0m\u001b[1;33m}\u001b[0m\u001b[1;33m\u001b[0m\u001b[1;33m\u001b[0m\u001b[0m\n\u001b[0;32m     16\u001b[0m \u001b[0md\u001b[0m\u001b[1;33m=\u001b[0m\u001b[1;33m[\u001b[0m\u001b[0ma\u001b[0m\u001b[1;33m,\u001b[0m\u001b[0mb\u001b[0m\u001b[1;33m]\u001b[0m\u001b[1;33m\u001b[0m\u001b[1;33m\u001b[0m\u001b[0m\n\u001b[1;32m---> 17\u001b[1;33m \u001b[1;33m{\u001b[0m\u001b[0mlst1\u001b[0m\u001b[1;33m:\u001b[0m\u001b[0md\u001b[0m \u001b[1;32mfor\u001b[0m \u001b[0mlst1\u001b[0m\u001b[1;33m,\u001b[0m\u001b[0md\u001b[0m \u001b[1;32min\u001b[0m \u001b[1;33m(\u001b[0m\u001b[0mlst1\u001b[0m\u001b[1;33m,\u001b[0m\u001b[0md\u001b[0m\u001b[1;33m)\u001b[0m\u001b[1;33m}\u001b[0m\u001b[1;33m\u001b[0m\u001b[1;33m\u001b[0m\u001b[0m\n\u001b[0m",
      "\u001b[1;31mValueError\u001b[0m: too many values to unpack (expected 2)"
     ]
    }
   ],
   "source": [
    "\n",
    "a={emp_key:emp1_val for emp_key,emp1_val in zip(emp_key,emp1_val)}\n",
    "\n",
    "b={emp_key:emp2_val for emp_key,emp2_val in zip(emp_key,emp2_val)}\n",
    "d=[a,b]\n",
    "{lst1:d for lst1,d in (lst1,d)}\n"
   ]
  },
  {
   "cell_type": "code",
   "execution_count": 40,
   "id": "67bf5453",
   "metadata": {},
   "outputs": [
    {
     "name": "stdout",
     "output_type": "stream",
     "text": [
      "_______________________________\n",
      "{'reliance': 2175, 'infosys': 1127, 'tcs': 2750}\n",
      "_______________________________\n",
      "{'reliance': 2175, 'infosys': 1127, 'tcs': 2750}\n",
      "_______________________________\n",
      "reliance 2175\n",
      "infosys 1127\n",
      "tcs 2750\n",
      "_______________________________\n",
      "{'reliance': 2175, 'infosys': 1127, 'tcs': 2750}\n",
      "_______________________________\n",
      "{('tcs', 2750), ('infosys', 1127), ('reliance', 2175)}\n",
      "_______________________________\n",
      "[('reliance', 2175), ('infosys', 1127), ('tcs', 2750)]\n",
      "_______________________________\n",
      "(('reliance', 2175), ('infosys', 1127), ('tcs', 2750))\n",
      "_______________________________\n"
     ]
    }
   ],
   "source": [
    "stocks = ['reliance', 'infosys', 'tcs']\n",
    "prices = [2175, 1127, 2750]\n",
    "\n",
    "print('_______________________________')\n",
    "\n",
    "new_dict = {stocks: prices for stocks,\n",
    "        prices in zip(stocks, prices)}\n",
    "print(new_dict)\n",
    "\n",
    "print('_______________________________')\n",
    "nd ={stocks:prices for stocks,prices in zip(stocks,prices)}\n",
    "print(nd)\n",
    "print('_______________________________')\n",
    "\n",
    "for j in range(3):\n",
    "    print(stocks[j],prices[j])\n",
    "print('_______________________________')\n",
    "\n",
    "\n",
    "d = dict(zip(stocks,prices))\n",
    "print(d)\n",
    "print('_______________________________')\n",
    "\n",
    "se= set(zip(stocks,prices))\n",
    "print(se)\n",
    "\n",
    "print('_______________________________')\n",
    "\n",
    "lk= list(zip(stocks,prices))\n",
    "print(lk)\n",
    "\n",
    "print('_______________________________')\n",
    "\n",
    "dk =tuple(zip(stocks,prices))\n",
    "print(dk)\n",
    "print('_______________________________')\n"
   ]
  },
  {
   "cell_type": "code",
   "execution_count": 2,
   "id": "1f1f1cbc",
   "metadata": {},
   "outputs": [
    {
     "name": "stdout",
     "output_type": "stream",
     "text": [
      "enter the data{1:2,4:5}\n",
      "{1: 2, 4: 5} <class 'dict'>\n"
     ]
    }
   ],
   "source": [
    "a= eval(input('enter the data'))\n",
    "print(a,type(a))"
   ]
  },
  {
   "cell_type": "code",
   "execution_count": 32,
   "id": "7b52e0f6",
   "metadata": {},
   "outputs": [
    {
     "data": {
      "text/plain": [
       "{'emp1': {'e_name': 'John', 'e_id': 'SG101', 'e_sal': '$10,000'},\n",
       " 'emp2': {'e_name': 'Smith', 'e_id': 'SG102', 'e_sal': '$9,000'},\n",
       " 'emp3': {'e_name': 'Peter', 'e_id': 'SG103', 'e_sal': '$9,500'}}"
      ]
     },
     "execution_count": 32,
     "metadata": {},
     "output_type": "execute_result"
    }
   ],
   "source": [
    "# Create a dictionary out of below inputs\n",
    "lst1 = ['emp1', 'emp2', 'emp3']\n",
    "emp_key = ['e_name', 'e_id', 'e_sal']\n",
    "emp1_val = ['John', 'SG101', '$10,000']\n",
    "emp2_val = ['Smith', 'SG102', '$9,000']\n",
    "emp3_val = ['Peter', 'SG103', '$9,500']\n",
    "\n",
    "\n",
    "# Expected Output:- {'emp1':{'e_name':'John', 'e_id':'SG101', 'e_sal':$10,000}, \n",
    "#                    'emp2':{'e_name':'Smith', 'e_id':'SG102', 'e_sal':$9,000}, \n",
    "#                    'emp3':{'e_name':'Peter', 'e_id':'SG103', 'e_sal':$9,500}}\n",
    "\n",
    "d1= dict(zip(emp_key,emp1_val))\n",
    "d2= dict(zip(emp_key,emp2_val))\n",
    "d3= dict(zip(emp_key,emp3_val))\n",
    "\n",
    "d= [d1,d2,d3]\n",
    "dl= dict(zip(lst1,d))\n",
    "dl"
   ]
  },
  {
   "cell_type": "markdown",
   "id": "bc7e6c76",
   "metadata": {},
   "source": [
    "# asd"
   ]
  },
  {
   "cell_type": "code",
   "execution_count": 19,
   "id": "2da6ebf8",
   "metadata": {},
   "outputs": [
    {
     "data": {
      "text/plain": [
       "80"
      ]
     },
     "execution_count": 19,
     "metadata": {},
     "output_type": "execute_result"
    }
   ],
   "source": [
    "# Acess the value of key 'history'\n",
    "\n",
    "sampleDict = { \n",
    "   \"class\":{ \n",
    "      \"student\":{ \n",
    "         \"name\":\"Mike\",\n",
    "         \"marks\":{ \n",
    "            \"physics\":70,\n",
    "            \"history\":80\n",
    "         }\n",
    "      }\n",
    "   }\n",
    "}\n",
    "\n",
    "\n",
    "sampleDict['class']['student']['marks']['history']"
   ]
  },
  {
   "cell_type": "code",
   "execution_count": null,
   "id": "6d4a0580",
   "metadata": {},
   "outputs": [],
   "source": []
  },
  {
   "cell_type": "code",
   "execution_count": null,
   "id": "e84a6137",
   "metadata": {},
   "outputs": [],
   "source": []
  },
  {
   "cell_type": "markdown",
   "id": "8d5a92e7",
   "metadata": {},
   "source": [
    "# asd"
   ]
  },
  {
   "cell_type": "code",
   "execution_count": 10,
   "id": "cd6ab7f8",
   "metadata": {},
   "outputs": [
    {
     "name": "stdout",
     "output_type": "stream",
     "text": [
      "Kelly : {'designation': 'Application Developer', 'salary': 8000}\n",
      "Emma : {'designation': 'Application Developer', 'salary': 8000}\n",
      "John : {'designation': 'Application Developer', 'salary': 8000}\n"
     ]
    },
    {
     "data": {
      "text/plain": [
       "{'Kelly': {'designation': 'Application Developer', 'salary': 8000},\n",
       " 'Emma': {'designation': 'Application Developer', 'salary': 8000},\n",
       " 'John': {'designation': 'Application Developer', 'salary': 8000}}"
      ]
     },
     "execution_count": 10,
     "metadata": {},
     "output_type": "execute_result"
    }
   ],
   "source": [
    "# Initialize dictionary with default values. Inputs are:-\n",
    "employees = ['Kelly', 'Emma', 'John']\n",
    "defaults = {\"designation\": 'Application Developer', \"salary\": 8000}\n",
    "\n",
    "#Expected output:- {'Kelly': {'designation': 'Application Developer', 'salary': 8000}, \n",
    "#                   'Emma': {'designation': 'Application Developer', 'salary': 8000}, \n",
    "#                   'John': {'designation': 'Application Developer', 'salary': 8000}}\n",
    "\n",
    "# [dict(zip(employees,defaults)) for employees,defaults in (employees,defaults)]\n",
    "d11=dict(zip(employees,defaults)); d11\n",
    "\n",
    "[dict(zip(employees,defaults)) for employees,defaults in zip(employees,defaults)]\n",
    "\n",
    "# [dict(zip(employees,defaults)) for i in range(3)]\n",
    "\n",
    "\n",
    "for i in range(3):\n",
    "#     print(employees[i],':',defaults)\n",
    "    \n",
    "    \n",
    "#     print(dict(zip(employees,defaults)))\n",
    "    \n",
    "# #     print(f\"{employees[i]} : {defaults}\")\n",
    "#     df= list(defaults)\n",
    "#     d = dict(df)\n",
    "\n",
    "defaults= defaults.fromkeys(employees,defaults)   \n",
    "defaults"
   ]
  },
  {
   "cell_type": "markdown",
   "id": "f660af49",
   "metadata": {},
   "source": [
    "# asd"
   ]
  },
  {
   "cell_type": "code",
   "execution_count": 9,
   "id": "8adca82d",
   "metadata": {},
   "outputs": [],
   "source": [
    "# In gene expression, mRNA is transcribed from a DNA template. \n",
    "# The 4 nucleotide bases of A, T, C, G corresponds to the U, A, G, C bases of the mRNA. \n",
    "# Write a function that returns the mRNA transcript given the sequence of a DNA strand.\n",
    "\n",
    "# Use a dictionary to provide the mapping of DNA to RNA bases.\n",
    "\n",
    "# Python program to demonstrate working\n",
    "# of map.\n",
    "\n",
    "dna=['A','T','C','G']\n",
    "mrna=['U','A','G','C']\n",
    "RNA={}\n",
    "y=0\n",
    "\n",
    "# for i in dna:\n",
    "#     RNA[i]=mrna[y]\n",
    "\n",
    "# print(RNA)\n",
    "\n",
    "\n",
    "# for i in dna:\n",
    "#     RNA[i]=mrna\n",
    "\n",
    "# print(RNA)\n",
    "\n",
    "\n",
    "def DNA(x,y):\n",
    "    z={}\n",
    "    for i in x:\n",
    "        z[i]=y\n",
    "        "
   ]
  },
  {
   "cell_type": "markdown",
   "id": "9e99b4f3",
   "metadata": {},
   "source": [
    "# asd"
   ]
  },
  {
   "cell_type": "code",
   "execution_count": 55,
   "id": "6f7922d8",
   "metadata": {},
   "outputs": [
    {
     "name": "stdout",
     "output_type": "stream",
     "text": [
      "{'g': 2, 'o': 3, 'l': 1, 'e': 1, '.': 1, 'c': 1, 'm': 1}\n"
     ]
    }
   ],
   "source": [
    "# Write a function which takes a word as input and returns a dictionary with letters as key and no of time letters are repeated as value.\n",
    "# In - count_letter('google.com')\n",
    "# Out - {'g': 2, 'o': 3, 'l': 1, 'e': 1, '.': 1, 'c': 1, 'm': 1}\n",
    "\n",
    "def fun(x):\n",
    "    g = [x.count(i) for i in x]\n",
    "    return print(dict(zip(x,g)))\n",
    "\n",
    "fun('google.com')\n",
    "\n",
    "# for i in x:\n",
    "#     for j in x:\n",
    "#         if  x.count(i)!=x.count(j):\n",
    "            \n",
    "# #             print(dict(zip(j,i)))\n",
    "#             pass\n",
    "            \n",
    "\n",
    "\n",
    "# { x[j]:x.count(i) for i in x for j in range(len(x))}\n",
    "\n",
    "\n",
    "# { x[j]:x.count(i) for i in x for j in range(len(x))}\n",
    "\n",
    "# x.count('g')\n",
    "\n",
    "# x.count('g')\n",
    "# list(x)\n"
   ]
  },
  {
   "cell_type": "code",
   "execution_count": null,
   "id": "72a5a230",
   "metadata": {},
   "outputs": [],
   "source": []
  },
  {
   "cell_type": "markdown",
   "id": "4fd813f6",
   "metadata": {},
   "source": [
    "# asd"
   ]
  },
  {
   "cell_type": "code",
   "execution_count": 113,
   "id": "e9daf810",
   "metadata": {},
   "outputs": [
    {
     "data": {
      "text/plain": [
       "{'A': 1, 'C': 0, 'T': 1, 'G': 1}"
      ]
     },
     "execution_count": 113,
     "metadata": {},
     "output_type": "execute_result"
    }
   ],
   "source": [
    "# A DNA strand consisting of the 4 nucleotide bases is usually represented with a string of letters: A,T, C, G. \n",
    "# Write a function that computes the base composition of a given DNA sequence.\n",
    "\n",
    "# In - baseComposition(\"CTATCGGCACCCTTTCAGCA\")\n",
    "# Out - {'A': 4, 'C': 8, 'T': 5,  'G': 3 }\n",
    "\n",
    "# basecomposition(\"CTATCGGCACCCTTTCAGCA\")\n",
    "    \n",
    "# In - baseComposition(\"AGT\")\n",
    "# Out - {'A': 1, 'C': 0, 'T': 1,  'G': 1 }\n",
    "\n",
    "k='AGT'\n",
    "l=list(\"CTATCGGCACCCTTTCAGCA\")\n",
    "dna= ['A','C','T','G']\n",
    "\n",
    "\n",
    "def dnar(l):\n",
    "    dd=[l.count(i) for i in dna]\n",
    "    return dict(zip(dna,dd))\n",
    "\n",
    "dnar(l)\n",
    "dnar(k)\n",
    "\n",
    "\n",
    "# def basecomposition(d):\n",
    "#     g=[d.count(i) for i in d ]\n",
    "#     f=(dict(zip(d,g)))\n",
    "#     print(f,g)\n",
    "    \n",
    "\n",
    "\n",
    "\n",
    "# z=[]\n",
    "# mrna={}\n",
    "# for i in l:\n",
    "# #     print(i)\n",
    "#     if i in dna:\n",
    "#         print(i,dna.count(i))\n",
    "# #         mrna.fromkeys(dna,l.count(i)) =l.count(i)\n",
    "#         z.append(l.count(i))\n",
    "# #         print(i,z)\n",
    "\n",
    "\n",
    "      \n",
    "# dd=dict(zip(dna,z))\n",
    "# dd        "
   ]
  },
  {
   "cell_type": "code",
   "execution_count": 10,
   "id": "bc84f395",
   "metadata": {},
   "outputs": [],
   "source": [
    "l=list(\"CTATCGGCACCCTTTCAGCA\")\n",
    "dna= ['A','T','C','G']\n",
    "z=[]\n",
    "mrna={}\n",
    "# for i in l:\n",
    "# #     print(i)\n",
    "#     if i in dna:\n",
    "# #         print(i,dna.count(i))\n",
    "#         z.append(l.count(i))\n",
    "#     print(i,dna.count(i))\n",
    "      \n",
    "# dd=dict(zip(dna,z))\n",
    "# dd    \n",
    "\n"
   ]
  },
  {
   "cell_type": "code",
   "execution_count": 13,
   "id": "6d5383e9",
   "metadata": {},
   "outputs": [
    {
     "name": "stdout",
     "output_type": "stream",
     "text": [
      "{'C': 8, 'T': 5, 'A': 4, 'G': 3}\n"
     ]
    }
   ],
   "source": [
    "# In - baseComposition(\"CTATCGGCACCCTTTCAGCA\")\n",
    "# Out - {'A': 4, 'C': 8, 'T': 5,  'G': 3 }\n",
    "\n",
    "def basecomposition(d):\n",
    "    g=[d.count(i) for i in d ]\n",
    "    f=(dict(zip(d,g)))\n",
    "    print(f)\n",
    "    \n",
    "\n",
    "basecomposition(\"CTATCGGCACCCTTTCAGCA\")"
   ]
  },
  {
   "cell_type": "code",
   "execution_count": 3,
   "id": "26450e91",
   "metadata": {},
   "outputs": [],
   "source": [
    "# [MCQ] Suppose \"d\" is an empty dictionary, which statement does not assign \"d\" with {\"Name\":\"Tom\"}? \n",
    "# 1. d = {\"Name\": \"Tom\" }\n",
    "# 2. d[\"Name\"] = \"Tom\"\n",
    "# 3. d.update({\"Name\": \"Tom\" })\n",
    "# 4. d.setdefault(\"Name\", \"Tom\")\n",
    "# 5. None of the above.\n",
    "\n",
    "# 5.None of the above\n"
   ]
  },
  {
   "cell_type": "code",
   "execution_count": 17,
   "id": "669ce359",
   "metadata": {},
   "outputs": [],
   "source": [
    "# [MCQ] d = {\"a\":1, \"b\":2}. Which of the statements returns [1,2]? \n",
    "# 1. d.keys()\n",
    "# 2. d.values()\n",
    "# 3. d.items()\n",
    "# 4. d.popitem()\n",
    "# 5. None of the above.\n",
    "\n",
    "# 2. d.values"
   ]
  },
  {
   "cell_type": "code",
   "execution_count": 26,
   "id": "470f2498",
   "metadata": {},
   "outputs": [],
   "source": [
    "# [MCQ] Which of the following declarations is not valid for 'dict' type?\n",
    "# 1. d = {\"Name\": \"Tom\" }\n",
    "# 2. d = { (1,3,4): 4.5 }\n",
    "# 3. d = { [\"First\", \"Last\"]: (1,3) }\n",
    "# 4. d = { 1: 0.4 }\n",
    "# 5. None of the above\n",
    "\n",
    "\n",
    "# 3. d= {['First','Last']: (1,3)}"
   ]
  },
  {
   "cell_type": "code",
   "execution_count": 61,
   "id": "17faf7e0",
   "metadata": {},
   "outputs": [
    {
     "name": "stdout",
     "output_type": "stream",
     "text": [
      "dict_values([1, 2, 2])\n",
      "1\n"
     ]
    }
   ],
   "source": [
    "\n",
    "s = {'a':1, 'b':2, 'c':2}\n",
    "print(s.values() )\n",
    "dictionary={'a':1, 'b':2, 'c':2}\n",
    "\n",
    "\n",
    "def reverseLookup(di, value):\n",
    "    print(di.get('a'))\n",
    "    tuple(di)\n",
    "    \n",
    "    \n",
    "reverseLookup({'a':1, 'b':2, 'c':2},value= 1)"
   ]
  },
  {
   "cell_type": "code",
   "execution_count": 16,
   "id": "ced0d60a",
   "metadata": {},
   "outputs": [
    {
     "data": {
      "text/plain": [
       "['b', 'c']"
      ]
     },
     "execution_count": 16,
     "metadata": {},
     "output_type": "execute_result"
    }
   ],
   "source": [
    "# Write a function reverseLookup(dictionary, value) that takes in a dictionary \n",
    "# and a value as arguments and returns a sorted list of all keys that contains the value. \n",
    "# The function will return an empty list if no match is found.\n",
    "\n",
    "# In - reverseLookup({'a':1, 'b':2, 'c':2}, 1)\n",
    "# Out - ['a']\n",
    "# In - reverseLookup({'a':1, 'b':2, 'c':2}, 2)\n",
    "# Out - ['b', 'c']\n",
    "# In - reverseLookup({'a':1, 'b':2, 'c':2}, 3)\n",
    "# Out - []\n",
    "\n",
    "def reverseLookup(dic,val):\n",
    "    all_keys = []\n",
    "    for key, value in dic.items():\n",
    "        if(value == val):\n",
    "            all_keys.append(key)\n",
    "        else:\n",
    "            all_keys\n",
    "\n",
    "#     print(all_keys)\n",
    "    \n",
    "    return(all_keys)\n",
    "    \n",
    "    \n",
    "reverseLookup({'a':1, 'b':2, 'c':2},2)\n",
    "    \n",
    "\n",
    "\n",
    "# def reverse_lookup(d, v):\n",
    "#     for k in d:\n",
    "#         if d[k] == v:\n",
    "#             return [k]\n",
    "#     return None\n",
    "        \n",
    "# reverse_lookup({'a':1, 'b':2, 'c':2},2)\n"
   ]
  },
  {
   "cell_type": "code",
   "execution_count": null,
   "id": "68276376",
   "metadata": {},
   "outputs": [],
   "source": [
    "Here is a function that takes a value and returns the first key that maps to that value:\n",
    "\n",
    "def reverse_lookup(d, v):\n",
    "    for k in d:\n",
    "        if d[k] == v:\n",
    "            return k\n",
    "    raise LookupError()"
   ]
  },
  {
   "cell_type": "code",
   "execution_count": 15,
   "id": "c8e9e12c",
   "metadata": {},
   "outputs": [
    {
     "name": "stdout",
     "output_type": "stream",
     "text": [
      "['a', 'c']\n"
     ]
    }
   ],
   "source": [
    "dictionary = {'a': 1, 'b': 2, 'c': 1}\n",
    "\n",
    "lookup_val = 1\n",
    "\n",
    "all_keys = []\n",
    "for key, value in dictionary.items():\n",
    "   if(value == lookup_val):\n",
    "        all_keys.append(key)\n",
    "\n",
    "print(all_keys)"
   ]
  },
  {
   "cell_type": "markdown",
   "id": "00d308ab",
   "metadata": {},
   "source": [
    "# asd"
   ]
  },
  {
   "cell_type": "code",
   "execution_count": 6,
   "id": "61bf1f4d",
   "metadata": {},
   "outputs": [
    {
     "data": {
      "text/plain": [
       "{1: ['a'], 2: ['b', 'd'], 3: ['c']}"
      ]
     },
     "execution_count": 6,
     "metadata": {},
     "output_type": "execute_result"
    }
   ],
   "source": [
    "# Write a function invertDictionary(d) that takes in a dictionary as argument and return a dictionary that inverts the keys and the values of the original dictionary.\n",
    "# In - invertDictionary({'a':1, 'b':2, 'c':3, 'd':2})\n",
    "# Out - {1: ['a'], 2: ['b', 'd'], 3: ['c']}\n",
    "# In - invertDictionary({'a':3, 'b':3, 'c':3})\n",
    "# Out - {3: ['a', 'c', 'b']}\n",
    "# In - invertDictionary({'a':2, 'b':1, 'c':2, 'd':1})\n",
    "# Out - {1: ['b', 'd'], 2: ['a', 'c']}\n",
    "\n",
    "\n",
    "ls= {'a':1, 'b':2, 'c':3, 'd':2}\n",
    " \n",
    "def Inverted_ls(ls):\n",
    "    from collections import defaultdict\n",
    "    ls_invert = defaultdict(list)\n",
    "    {ls_invert[v].append(k) for k,v in ls.items()}\n",
    "    \n",
    "    return(dict(ls_invert))\n",
    "    \n",
    "Inverted_ls({'a':1, 'b':2, 'c':3, 'd':2})\n",
    "\n",
    "\n",
    "\n",
    "\n",
    "\n",
    "\n",
    "# def invertdic(dic):\n",
    "#     d = {v: k for k, v in dic.items()}\n",
    "#     return d\n",
    "\n",
    "# invertdic({'a':1, 'b':2, 'c':3, 'd':2})"
   ]
  },
  {
   "cell_type": "code",
   "execution_count": 7,
   "id": "2a4cddb7",
   "metadata": {},
   "outputs": [
    {
     "ename": "SyntaxError",
     "evalue": "invalid syntax (Temp/ipykernel_12732/1075662725.py, line 2)",
     "output_type": "error",
     "traceback": [
      "\u001b[1;36m  File \u001b[1;32m\"C:\\Users\\KIRANS~1\\AppData\\Local\\Temp/ipykernel_12732/1075662725.py\"\u001b[1;36m, line \u001b[1;32m2\u001b[0m\n\u001b[1;33m    d= [v, k for k, v in dic.items()]\u001b[0m\n\u001b[1;37m             ^\u001b[0m\n\u001b[1;31mSyntaxError\u001b[0m\u001b[1;31m:\u001b[0m invalid syntax\n"
     ]
    }
   ],
   "source": [
    "def invertdic(dic):\n",
    "    d= [v, k for k, v in dic.items()]\n",
    "    return d\n",
    "\n",
    "invertdic({'a':1, 'b':2, 'c':3, 'd':2})"
   ]
  },
  {
   "cell_type": "code",
   "execution_count": 45,
   "id": "dbed49c7",
   "metadata": {},
   "outputs": [
    {
     "data": {
      "text/plain": [
       "{1: 'a', 2: 'd', 3: 'c'}"
      ]
     },
     "execution_count": 45,
     "metadata": {},
     "output_type": "execute_result"
    }
   ],
   "source": [
    "inv_dict = dict(map(reversed, dic.items()))\n",
    "inv_dict"
   ]
  },
  {
   "cell_type": "code",
   "execution_count": 46,
   "id": "3ff0cd35",
   "metadata": {},
   "outputs": [
    {
     "ename": "IndentationError",
     "evalue": "unexpected indent (Temp/ipykernel_23096/2161790439.py, line 5)",
     "output_type": "error",
     "traceback": [
      "\u001b[1;36m  File \u001b[1;32m\"C:\\Users\\KIRANS~1\\AppData\\Local\\Temp/ipykernel_23096/2161790439.py\"\u001b[1;36m, line \u001b[1;32m5\u001b[0m\n\u001b[1;33m    d =dict(zip(h,l))\u001b[0m\n\u001b[1;37m    ^\u001b[0m\n\u001b[1;31mIndentationError\u001b[0m\u001b[1;31m:\u001b[0m unexpected indent\n"
     ]
    }
   ],
   "source": [
    "def invertdic(dic):\n",
    "    h=[]\n",
    "    l=[]\n",
    "{h.append(v): l.append(k) for k, v in dic.items()}\n",
    "    d =dict(zip(h,l))"
   ]
  },
  {
   "cell_type": "code",
   "execution_count": 51,
   "id": "e396cecb",
   "metadata": {},
   "outputs": [
    {
     "name": "stdout",
     "output_type": "stream",
     "text": [
      "{}\n"
     ]
    }
   ],
   "source": [
    "from collections import defaultdict\n",
    "list({'a':1, 'b':2, 'c':3, 'd':2})\n",
    "inverted = defaultdict(list)\n",
    "result = dict(inverted)\n",
    "print(result)"
   ]
  },
  {
   "cell_type": "code",
   "execution_count": 54,
   "id": "a293c6a7",
   "metadata": {},
   "outputs": [
    {
     "name": "stdout",
     "output_type": "stream",
     "text": [
      "{'Dog': 'James', 'Cat': 'Jane', 'Lion': 'Jerome', 'Giraffe': 'Jared'}\n"
     ]
    }
   ],
   "source": [
    "favAnimal = {\n",
    "  \"John\": \"Dog\",\n",
    "  \"Jane\": \"Cat\",\n",
    "  \"Jerome\": \"Lion\",\n",
    "  \"Jenny\": \"Dog\",\n",
    "  \"Jared\": \"Giraffe\",\n",
    "  \"James\": \"Dog\"\n",
    "}\n",
    "\n",
    "favAnimal = {v: k for k, v in favAnimal.items()}\n",
    "\n",
    "print(favAnimal)"
   ]
  },
  {
   "cell_type": "code",
   "execution_count": 59,
   "id": "e77c8e26",
   "metadata": {},
   "outputs": [
    {
     "ename": "TypeError",
     "evalue": "first argument must be callable or None",
     "output_type": "error",
     "traceback": [
      "\u001b[1;31m---------------------------------------------------------------------------\u001b[0m",
      "\u001b[1;31mTypeError\u001b[0m                                 Traceback (most recent call last)",
      "\u001b[1;32mC:\\Users\\KIRANS~1\\AppData\\Local\\Temp/ipykernel_23096/2478614298.py\u001b[0m in \u001b[0;36m<module>\u001b[1;34m\u001b[0m\n\u001b[0;32m      9\u001b[0m \u001b[1;33m\u001b[0m\u001b[0m\n\u001b[0;32m     10\u001b[0m \u001b[1;32mfrom\u001b[0m \u001b[0mcollections\u001b[0m \u001b[1;32mimport\u001b[0m \u001b[0mdefaultdict\u001b[0m\u001b[1;33m\u001b[0m\u001b[1;33m\u001b[0m\u001b[0m\n\u001b[1;32m---> 11\u001b[1;33m \u001b[0minverted\u001b[0m\u001b[1;33m=\u001b[0m \u001b[0mdefaultdict\u001b[0m\u001b[1;33m(\u001b[0m\u001b[0ml\u001b[0m\u001b[1;33m)\u001b[0m\u001b[1;33m\u001b[0m\u001b[1;33m\u001b[0m\u001b[0m\n\u001b[0m\u001b[0;32m     12\u001b[0m \u001b[1;33m\u001b[0m\u001b[0m\n\u001b[0;32m     13\u001b[0m \u001b[1;33m{\u001b[0m\u001b[0minverted\u001b[0m\u001b[1;33m[\u001b[0m\u001b[0mv\u001b[0m\u001b[1;33m]\u001b[0m\u001b[1;33m.\u001b[0m\u001b[0mappend\u001b[0m\u001b[1;33m(\u001b[0m\u001b[0mk\u001b[0m\u001b[1;33m)\u001b[0m \u001b[1;32mfor\u001b[0m \u001b[0mk\u001b[0m\u001b[1;33m,\u001b[0m\u001b[0mv\u001b[0m \u001b[1;32min\u001b[0m \u001b[0ml\u001b[0m\u001b[1;33m.\u001b[0m\u001b[0mitems\u001b[0m\u001b[1;33m(\u001b[0m\u001b[1;33m)\u001b[0m\u001b[1;33m}\u001b[0m\u001b[1;33m\u001b[0m\u001b[1;33m\u001b[0m\u001b[0m\n",
      "\u001b[1;31mTypeError\u001b[0m: first argument must be callable or None"
     ]
    }
   ],
   "source": [
    "l = {\n",
    "  \"John\": \"Dog\",\n",
    "  \"Jane\": \"Cat\",\n",
    "  \"Jerome\": \"Lion\",\n",
    "  \"Jenny\": \"Dog\",\n",
    "  \"Jared\": \"Giraffe\",\n",
    "  \"James\": \"Dog\"\n",
    "}\n",
    "\n",
    "from collections import defaultdict\n",
    "inverted= defaultdict(l)\n",
    "\n",
    "{inverted[v].append(k) for k,v in l.items()}\n",
    "print(inverted)"
   ]
  },
  {
   "cell_type": "code",
   "execution_count": 14,
   "id": "7a00f055",
   "metadata": {},
   "outputs": [
    {
     "name": "stdout",
     "output_type": "stream",
     "text": [
      "{1: ['a'], 2: ['b', 'd'], 3: ['c']}\n"
     ]
    }
   ],
   "source": [
    "favAnimal = {'a':1, 'b':2, 'c':3, 'd':2}\n",
    "from collections import defaultdict\n",
    "\n",
    "favAnimal_inverted = defaultdict(list)\n",
    "{favAnimal_inverted[v].append(k) for k, v in favAnimal.items()}\n",
    "result = dict(favAnimal_inverted)\n",
    "print(result)"
   ]
  },
  {
   "cell_type": "code",
   "execution_count": 20,
   "id": "0683339f",
   "metadata": {},
   "outputs": [
    {
     "data": {
      "text/plain": [
       "{}"
      ]
     },
     "execution_count": 20,
     "metadata": {},
     "output_type": "execute_result"
    }
   ],
   "source": [
    "# Write a function that converts a sparse vector into a dictionary as described above.\n",
    "# In - convertVector([1, 0, 0, 2, 0, 0, 0, 3, 0, 0, 0, 0, 4])\n",
    "# Out - {0: 1, 3: 2, 7: 3, 12: 4}\n",
    "# In - convertVector([1, 0, 1 , 0, 2, 0, 1, 0, 0, 1, 0])\n",
    "# Out - {0: 1, 2: 1, 4: 2, 6: 1, 9: 1}\n",
    "# In - convertVector([0, 0, 0, 0, 0])\n",
    "# Out - {}\n",
    "\n",
    "\n",
    "def convertVector(numbers):\n",
    "    d = {}\n",
    "    for k, c in enumerate(numbers):\n",
    "        if c:\n",
    "            d[k] = c  \n",
    "    return d\n",
    "\n",
    "convertVector([1, 0, 0, 2, 0, 0, 0, 3, 0, 0, 0, 0, 4])\n",
    "convertVector([1, 0, 1 , 0, 2, 0, 1, 0, 0, 1, 0])\n",
    "convertVector([0, 0, 0, 0, 0])"
   ]
  },
  {
   "cell_type": "code",
   "execution_count": 28,
   "id": "fd030775",
   "metadata": {},
   "outputs": [
    {
     "data": {
      "text/plain": [
       "[1, 0, 1, 0, 2, 0, 1, 0, 0, 1]"
      ]
     },
     "execution_count": 28,
     "metadata": {},
     "output_type": "execute_result"
    }
   ],
   "source": [
    "# Write a function that converts a dictionary back to its sparse vector representation.\n",
    "# In - convertDictionary({0: 1, 3: 2, 7: 3, 12: 4})\n",
    "# Out - [1, 0, 0, 2, 0, 0, 0, 3, 0, 0, 0, 0, 4]\n",
    "# In - convertDictionary({0: 1, 2: 1, 4: 2, 6: 1, 9: 1})\n",
    "# Out - [1, 0, 1, 0, 2, 0, 1, 0, 0, 1]\n",
    "# In - convertDictionary({})\n",
    "# Out - []\n",
    "\n",
    "from collections import defaultdict\n",
    "\n",
    "def makeA(d):\n",
    "    dd = defaultdict(int, d)\n",
    "    return [dd[n] for n in range(10)]\n",
    "\n",
    "\n",
    "makeA({0: 1, 3: 2, 7: 3, 12: 4})\n",
    "makeA({})\n",
    "makeA({0: 1, 2: 1, 4: 2, 6: 1, 9: 1})\n"
   ]
  },
  {
   "cell_type": "code",
   "execution_count": 33,
   "id": "392e5e02",
   "metadata": {},
   "outputs": [
    {
     "data": {
      "text/plain": [
       "{'emp1': {'name': 'Jhon', 'salary': 7500},\n",
       " 'emp2': {'name': 'Emma', 'salary': 8000},\n",
       " 'emp3': {'name': 'Brad', 'salary': 8500}}"
      ]
     },
     "execution_count": 33,
     "metadata": {},
     "output_type": "execute_result"
    }
   ],
   "source": [
    "# Given a Python dictionary, Change Brad’s salary to 8500\n",
    "sampleDict = {\n",
    "     'emp1': {'name': 'Jhon', 'salary': 7500},\n",
    "     'emp2': {'name': 'Emma', 'salary': 8000},\n",
    "     'emp3': {'name': 'Brad', 'salary': 6500}\n",
    "}\n",
    "\n",
    "# Expected Output\n",
    "# sampleDict = {\n",
    "#      'emp1': {'name': 'Jhon', 'salary': 7500},\n",
    "#      'emp2': {'name': 'Emma', 'salary': 8000},\n",
    "#      'emp3': {'name': 'Brad', 'salary': 8500}\n",
    "# }\n",
    "\n",
    "sampleDict['emp3']['salary']= 8500\n",
    "sampleDict"
   ]
  },
  {
   "cell_type": "code",
   "execution_count": 39,
   "id": "125d56f6",
   "metadata": {},
   "outputs": [
    {
     "name": "stdout",
     "output_type": "stream",
     "text": [
      "['Math']\n"
     ]
    }
   ],
   "source": [
    "# Get the key corresponding to the minimum value from the following dictionary\n",
    "sampleDict = {\n",
    "  'Physics': 82,\n",
    "  'Math': 65,\n",
    "  'history': 75\n",
    "}\n",
    "\n",
    "# Expected Output\n",
    "# Math\n",
    "\n",
    "temp = min(sampleDict.values())\n",
    "res = [key for key in sampleDict if sampleDict[key] == temp]\n",
    "print(res)"
   ]
  },
  {
   "cell_type": "code",
   "execution_count": 1,
   "id": "4e52f285",
   "metadata": {},
   "outputs": [
    {
     "name": "stdout",
     "output_type": "stream",
     "text": [
      "{'name': 'Kelly', 'age': 25, 'salary': 8000, 'city': 'New york'}\n"
     ]
    }
   ],
   "source": [
    "# Rename key city to location in the following dictionary\n",
    "sampleDict = {\n",
    "  \"name\": \"Kelly\",\n",
    "  \"age\":25,\n",
    "  \"salary\": 8000,\n",
    "  \"city\": \"New york\"\n",
    "}\n",
    "\n",
    "# Expected Output\n",
    "# {\n",
    "#   \"name\": \"Kelly\",\n",
    "#   \"age\":25,\n",
    "#   \"salary\": 8000,\n",
    "#   \"location\": \"New york\"\n",
    "# }\n",
    "\n",
    "old_k = 'cityi'\n",
    "new_k = 'location'\n",
    "# new_v = 4  # optional\n",
    "\n",
    "print(dict((new_k, new_v) if k == old_k else (k, v) for k, v in sampleDict.items()))"
   ]
  },
  {
   "cell_type": "code",
   "execution_count": 67,
   "id": "33a22307",
   "metadata": {},
   "outputs": [
    {
     "name": "stdout",
     "output_type": "stream",
     "text": [
      "True\n"
     ]
    }
   ],
   "source": [
    "# Check if a value 200 exists in a dictionary\n",
    "# sampleDict = {'a': 100, 'b': 200, 'c': 300}\n",
    "\n",
    "# Expected Output: True\n",
    "\n",
    "\n",
    "def val(di,x_val):\n",
    "    \n",
    "    if x_val in di.values():\n",
    "        print('True')\n",
    "    else:\n",
    "        return di.values()\n",
    "    \n",
    "    return None\n",
    "\n",
    "        \n",
    "val({'a': 100, 'b': 200, 'c': 300},200)\n"
   ]
  },
  {
   "cell_type": "code",
   "execution_count": 100,
   "id": "bec55ecb",
   "metadata": {},
   "outputs": [
    {
     "data": {
      "text/plain": [
       "{'age': 25, 'city': 'New york'}"
      ]
     },
     "execution_count": 100,
     "metadata": {},
     "output_type": "execute_result"
    }
   ],
   "source": [
    "# Delete set of keys from Python Dictionary\n",
    "sampleDict = {\n",
    "  \"name\": \"Kelly\",\n",
    "  \"age\":25,\n",
    "  \"salary\": 8000,\n",
    "  \"city\": \"New york\"\n",
    "  \n",
    "}\n",
    "keysToRemove = [\"name\", \"salary\"]\n",
    "\n",
    "# Expected Output:\n",
    "# {'city': 'New york', 'age': 25}\n",
    "\n",
    "\n",
    "def delete_key(sampleDict,keysToRemove):\n",
    "    keysToRemove = [\"name\", \"salary\"]\n",
    "    {sampleDict.pop(key) for key in keysToRemove}\n",
    "    return(sampleDict)\n",
    "\n",
    "delete_key(sampleDict,keysToRemove)"
   ]
  }
 ],
 "metadata": {
  "kernelspec": {
   "display_name": "Python 3 (ipykernel)",
   "language": "python",
   "name": "python3"
  },
  "language_info": {
   "codemirror_mode": {
    "name": "ipython",
    "version": 3
   },
   "file_extension": ".py",
   "mimetype": "text/x-python",
   "name": "python",
   "nbconvert_exporter": "python",
   "pygments_lexer": "ipython3",
   "version": "3.9.7"
  }
 },
 "nbformat": 4,
 "nbformat_minor": 5
}
