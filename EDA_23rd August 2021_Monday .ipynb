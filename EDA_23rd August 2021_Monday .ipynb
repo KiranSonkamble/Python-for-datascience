{
 "cells": [
  {
   "cell_type": "markdown",
   "id": "dfb6daba",
   "metadata": {},
   "source": [
    "## Scenario 1\n",
    "You have given the datasets by the WHO to help the countries know better about their health status, as well as,help individuals to get prepared with the \n",
    "upcoming problems. There are 2 datasets available which are present in csv format\n",
    "and you have to explore it, align it if not in structured format."
   ]
  },
  {
   "cell_type": "markdown",
   "id": "fec55b7b",
   "metadata": {},
   "source": [
    "**step1:**\n",
    "* Import the libraries numpy, pandas, matplotlib and seaborn that are going to use for data exploration.\n",
    "* Call the daasets using python and save them under the var name \"df1\" for \"dataset1\" and df2 for \"dataset2\".\n",
    "* View the top 5 rows of both the datasets."
   ]
  },
  {
   "cell_type": "code",
   "execution_count": 1,
   "id": "0972e669",
   "metadata": {},
   "outputs": [],
   "source": [
    "import numpy as np\n",
    "import pandas as pd\n",
    "import seaborn as sns\n",
    "import matplotlib.pyplot as plt"
   ]
  },
  {
   "cell_type": "code",
   "execution_count": 2,
   "id": "5d0e4169",
   "metadata": {},
   "outputs": [],
   "source": [
    "df1= pd.read_csv(\"datasets\\countryData.csv\")\n",
    "df2= pd.read_csv(\"datasets\\immunitizationData.csv\")"
   ]
  },
  {
   "cell_type": "code",
   "execution_count": 3,
   "id": "487d25b3",
   "metadata": {},
   "outputs": [
    {
     "data": {
      "text/html": [
       "<div>\n",
       "<style scoped>\n",
       "    .dataframe tbody tr th:only-of-type {\n",
       "        vertical-align: middle;\n",
       "    }\n",
       "\n",
       "    .dataframe tbody tr th {\n",
       "        vertical-align: top;\n",
       "    }\n",
       "\n",
       "    .dataframe thead th {\n",
       "        text-align: right;\n",
       "    }\n",
       "</style>\n",
       "<table border=\"1\" class=\"dataframe\">\n",
       "  <thead>\n",
       "    <tr style=\"text-align: right;\">\n",
       "      <th></th>\n",
       "      <th>Country</th>\n",
       "      <th>Year</th>\n",
       "      <th>Status</th>\n",
       "      <th>Life expectancy</th>\n",
       "      <th>Adult Mortality</th>\n",
       "      <th>Alcohol</th>\n",
       "      <th>percentage expenditure</th>\n",
       "      <th>Total expenditure</th>\n",
       "      <th>GDP</th>\n",
       "      <th>Population</th>\n",
       "      <th>thinness  1-19 years</th>\n",
       "      <th>thinness 5-9 years</th>\n",
       "      <th>Income composition of resources</th>\n",
       "      <th>Schooling</th>\n",
       "    </tr>\n",
       "  </thead>\n",
       "  <tbody>\n",
       "    <tr>\n",
       "      <th>0</th>\n",
       "      <td>Afghanistan</td>\n",
       "      <td>2015</td>\n",
       "      <td>Developing</td>\n",
       "      <td>65.0</td>\n",
       "      <td>263.0</td>\n",
       "      <td>0.01</td>\n",
       "      <td>71.279624</td>\n",
       "      <td>8.16</td>\n",
       "      <td>584.259210</td>\n",
       "      <td>33736494.0</td>\n",
       "      <td>17.2</td>\n",
       "      <td>17.3</td>\n",
       "      <td>0.479</td>\n",
       "      <td>10.1</td>\n",
       "    </tr>\n",
       "    <tr>\n",
       "      <th>1</th>\n",
       "      <td>Afghanistan</td>\n",
       "      <td>2014</td>\n",
       "      <td>Developing</td>\n",
       "      <td>59.9</td>\n",
       "      <td>271.0</td>\n",
       "      <td>0.01</td>\n",
       "      <td>73.523582</td>\n",
       "      <td>8.18</td>\n",
       "      <td>612.696514</td>\n",
       "      <td>327582.0</td>\n",
       "      <td>17.5</td>\n",
       "      <td>17.5</td>\n",
       "      <td>0.476</td>\n",
       "      <td>10.0</td>\n",
       "    </tr>\n",
       "    <tr>\n",
       "      <th>2</th>\n",
       "      <td>Afghanistan</td>\n",
       "      <td>2013</td>\n",
       "      <td>Developing</td>\n",
       "      <td>59.9</td>\n",
       "      <td>268.0</td>\n",
       "      <td>0.01</td>\n",
       "      <td>73.219243</td>\n",
       "      <td>8.13</td>\n",
       "      <td>631.744976</td>\n",
       "      <td>31731688.0</td>\n",
       "      <td>17.7</td>\n",
       "      <td>17.7</td>\n",
       "      <td>0.470</td>\n",
       "      <td>9.9</td>\n",
       "    </tr>\n",
       "  </tbody>\n",
       "</table>\n",
       "</div>"
      ],
      "text/plain": [
       "       Country  Year      Status  Life expectancy   Adult Mortality  Alcohol  \\\n",
       "0  Afghanistan  2015  Developing              65.0            263.0     0.01   \n",
       "1  Afghanistan  2014  Developing              59.9            271.0     0.01   \n",
       "2  Afghanistan  2013  Developing              59.9            268.0     0.01   \n",
       "\n",
       "   percentage expenditure  Total expenditure         GDP  Population  \\\n",
       "0               71.279624               8.16  584.259210  33736494.0   \n",
       "1               73.523582               8.18  612.696514    327582.0   \n",
       "2               73.219243               8.13  631.744976  31731688.0   \n",
       "\n",
       "    thinness  1-19 years   thinness 5-9 years  \\\n",
       "0                   17.2                 17.3   \n",
       "1                   17.5                 17.5   \n",
       "2                   17.7                 17.7   \n",
       "\n",
       "   Income composition of resources  Schooling  \n",
       "0                            0.479       10.1  \n",
       "1                            0.476       10.0  \n",
       "2                            0.470        9.9  "
      ]
     },
     "execution_count": 3,
     "metadata": {},
     "output_type": "execute_result"
    }
   ],
   "source": [
    "df1.head(3)"
   ]
  },
  {
   "cell_type": "code",
   "execution_count": 4,
   "id": "2210f62b",
   "metadata": {},
   "outputs": [
    {
     "data": {
      "text/html": [
       "<div>\n",
       "<style scoped>\n",
       "    .dataframe tbody tr th:only-of-type {\n",
       "        vertical-align: middle;\n",
       "    }\n",
       "\n",
       "    .dataframe tbody tr th {\n",
       "        vertical-align: top;\n",
       "    }\n",
       "\n",
       "    .dataframe thead th {\n",
       "        text-align: right;\n",
       "    }\n",
       "</style>\n",
       "<table border=\"1\" class=\"dataframe\">\n",
       "  <thead>\n",
       "    <tr style=\"text-align: right;\">\n",
       "      <th></th>\n",
       "      <th>Country</th>\n",
       "      <th>Year</th>\n",
       "      <th>infant deaths</th>\n",
       "      <th>Hepatitis B</th>\n",
       "      <th>Measles</th>\n",
       "      <th>BMI</th>\n",
       "      <th>under-five deaths</th>\n",
       "      <th>Polio</th>\n",
       "      <th>Diphtheria</th>\n",
       "      <th>HIV/AIDS</th>\n",
       "    </tr>\n",
       "  </thead>\n",
       "  <tbody>\n",
       "    <tr>\n",
       "      <th>0</th>\n",
       "      <td>Afghanistan</td>\n",
       "      <td>2015</td>\n",
       "      <td>62</td>\n",
       "      <td>65.0</td>\n",
       "      <td>1154</td>\n",
       "      <td>19.1</td>\n",
       "      <td>83</td>\n",
       "      <td>6.0</td>\n",
       "      <td>65.0</td>\n",
       "      <td>0.1</td>\n",
       "    </tr>\n",
       "    <tr>\n",
       "      <th>1</th>\n",
       "      <td>Afghanistan</td>\n",
       "      <td>2014</td>\n",
       "      <td>64</td>\n",
       "      <td>62.0</td>\n",
       "      <td>492</td>\n",
       "      <td>18.6</td>\n",
       "      <td>86</td>\n",
       "      <td>58.0</td>\n",
       "      <td>62.0</td>\n",
       "      <td>0.1</td>\n",
       "    </tr>\n",
       "    <tr>\n",
       "      <th>2</th>\n",
       "      <td>Afghanistan</td>\n",
       "      <td>2013</td>\n",
       "      <td>66</td>\n",
       "      <td>64.0</td>\n",
       "      <td>430</td>\n",
       "      <td>18.1</td>\n",
       "      <td>89</td>\n",
       "      <td>62.0</td>\n",
       "      <td>64.0</td>\n",
       "      <td>0.1</td>\n",
       "    </tr>\n",
       "    <tr>\n",
       "      <th>3</th>\n",
       "      <td>Afghanistan</td>\n",
       "      <td>2012</td>\n",
       "      <td>69</td>\n",
       "      <td>67.0</td>\n",
       "      <td>2787</td>\n",
       "      <td>17.6</td>\n",
       "      <td>93</td>\n",
       "      <td>67.0</td>\n",
       "      <td>67.0</td>\n",
       "      <td>0.1</td>\n",
       "    </tr>\n",
       "    <tr>\n",
       "      <th>4</th>\n",
       "      <td>Afghanistan</td>\n",
       "      <td>2011</td>\n",
       "      <td>71</td>\n",
       "      <td>68.0</td>\n",
       "      <td>3013</td>\n",
       "      <td>17.2</td>\n",
       "      <td>97</td>\n",
       "      <td>68.0</td>\n",
       "      <td>68.0</td>\n",
       "      <td>0.1</td>\n",
       "    </tr>\n",
       "  </tbody>\n",
       "</table>\n",
       "</div>"
      ],
      "text/plain": [
       "       Country  Year  infant deaths  Hepatitis B  Measles    BMI   \\\n",
       "0  Afghanistan  2015             62         65.0      1154   19.1   \n",
       "1  Afghanistan  2014             64         62.0       492   18.6   \n",
       "2  Afghanistan  2013             66         64.0       430   18.1   \n",
       "3  Afghanistan  2012             69         67.0      2787   17.6   \n",
       "4  Afghanistan  2011             71         68.0      3013   17.2   \n",
       "\n",
       "   under-five deaths   Polio  Diphtheria    HIV/AIDS  \n",
       "0                  83    6.0         65.0        0.1  \n",
       "1                  86   58.0         62.0        0.1  \n",
       "2                  89   62.0         64.0        0.1  \n",
       "3                  93   67.0         67.0        0.1  \n",
       "4                  97   68.0         68.0        0.1  "
      ]
     },
     "execution_count": 4,
     "metadata": {},
     "output_type": "execute_result"
    }
   ],
   "source": [
    "df2.head()"
   ]
  },
  {
   "cell_type": "markdown",
   "id": "8eab2cb9",
   "metadata": {},
   "source": [
    "Make sure to merge the datsets 1:1 mapping not 1:N."
   ]
  },
  {
   "cell_type": "code",
   "execution_count": 5,
   "id": "b4f0aa43",
   "metadata": {},
   "outputs": [
    {
     "data": {
      "text/plain": [
       "2013    193\n",
       "2015    183\n",
       "2014    183\n",
       "2012    183\n",
       "2011    183\n",
       "2010    183\n",
       "2009    183\n",
       "2008    183\n",
       "2007    183\n",
       "2006    183\n",
       "2005    183\n",
       "2004    183\n",
       "2003    183\n",
       "2002    183\n",
       "2001    183\n",
       "2000    183\n",
       "Name: Year, dtype: int64"
      ]
     },
     "execution_count": 5,
     "metadata": {},
     "output_type": "execute_result"
    }
   ],
   "source": [
    "df1.Year.value_counts()"
   ]
  },
  {
   "cell_type": "code",
   "execution_count": 6,
   "id": "d1f7f524",
   "metadata": {},
   "outputs": [
    {
     "data": {
      "text/plain": [
       "Afghanistan      1\n",
       "Lithuania        1\n",
       "Nigeria          1\n",
       "Niue             1\n",
       "Norway           1\n",
       "                ..\n",
       "Grenada          1\n",
       "Guatemala        1\n",
       "Guinea           1\n",
       "Guinea-Bissau    1\n",
       "Zimbabwe         1\n",
       "Name: Country, Length: 193, dtype: int64"
      ]
     },
     "execution_count": 6,
     "metadata": {},
     "output_type": "execute_result"
    }
   ],
   "source": [
    "df1.loc[df1['Year']==2013,'Country'].value_counts()"
   ]
  },
  {
   "cell_type": "code",
   "execution_count": 7,
   "id": "09ca9f47",
   "metadata": {},
   "outputs": [
    {
     "name": "stdout",
     "output_type": "stream",
     "text": [
      "<class 'pandas.core.frame.DataFrame'>\n",
      "RangeIndex: 2938 entries, 0 to 2937\n",
      "Data columns (total 14 columns):\n",
      " #   Column                           Non-Null Count  Dtype  \n",
      "---  ------                           --------------  -----  \n",
      " 0   Country                          2938 non-null   object \n",
      " 1   Year                             2938 non-null   int64  \n",
      " 2   Status                           2938 non-null   object \n",
      " 3   Life expectancy                  2928 non-null   float64\n",
      " 4   Adult Mortality                  2928 non-null   float64\n",
      " 5   Alcohol                          2744 non-null   float64\n",
      " 6   percentage expenditure           2938 non-null   float64\n",
      " 7   Total expenditure                2712 non-null   float64\n",
      " 8   GDP                              2490 non-null   float64\n",
      " 9   Population                       2286 non-null   float64\n",
      " 10   thinness  1-19 years            2904 non-null   float64\n",
      " 11   thinness 5-9 years              2904 non-null   float64\n",
      " 12  Income composition of resources  2771 non-null   float64\n",
      " 13  Schooling                        2775 non-null   float64\n",
      "dtypes: float64(11), int64(1), object(2)\n",
      "memory usage: 321.5+ KB\n"
     ]
    }
   ],
   "source": [
    "df1.info()"
   ]
  },
  {
   "cell_type": "code",
   "execution_count": 8,
   "id": "09fb3730",
   "metadata": {},
   "outputs": [
    {
     "data": {
      "text/plain": [
       "Afghanistan              True\n",
       "Peru                     True\n",
       "Nicaragua                True\n",
       "Niger                    True\n",
       "Nigeria                  True\n",
       "                         ... \n",
       "Niue                     True\n",
       "San Marino               True\n",
       "Nauru                    True\n",
       "Saint Kitts and Nevis    True\n",
       "Dominica                 True\n",
       "Name: Country, Length: 193, dtype: bool"
      ]
     },
     "execution_count": 8,
     "metadata": {},
     "output_type": "execute_result"
    }
   ],
   "source": [
    "df2.Country.value_counts()== df1.Country.value_counts()"
   ]
  },
  {
   "cell_type": "markdown",
   "id": "43595b73",
   "metadata": {},
   "source": [
    "**Step:2**\n",
    "* When the dataset is loaded successfully, the first and foremost job of a Data Analyst is to get clarity on the structure of the dataset.\n",
    "**Once the dataset is called, understanding the feature names becomes important. Show the feature names of dataset.**\n",
    "* To get information we will do basic exploration, follow below steps.\n",
    "* What are the dimensions for the datasets?\n",
    "* Considering you have created the datasets. To apply any operation on a feature you need to understand its datatype.\n",
    "Show the datatypes of each columns.\n"
   ]
  },
  {
   "cell_type": "code",
   "execution_count": 9,
   "id": "10a4a6ce",
   "metadata": {},
   "outputs": [
    {
     "data": {
      "text/plain": [
       "Index(['Country', 'Year', 'Status', 'Life expectancy ', 'Adult Mortality',\n",
       "       'Alcohol', 'percentage expenditure', 'Total expenditure', 'GDP',\n",
       "       'Population', ' thinness  1-19 years', ' thinness 5-9 years',\n",
       "       'Income composition of resources', 'Schooling'],\n",
       "      dtype='object')"
      ]
     },
     "execution_count": 9,
     "metadata": {},
     "output_type": "execute_result"
    }
   ],
   "source": [
    "df1.columns"
   ]
  },
  {
   "cell_type": "code",
   "execution_count": 10,
   "id": "35863f87",
   "metadata": {},
   "outputs": [
    {
     "data": {
      "text/plain": [
       "<AxesSubplot:xlabel='Year', ylabel='Life expectancy '>"
      ]
     },
     "execution_count": 10,
     "metadata": {},
     "output_type": "execute_result"
    },
    {
     "data": {
      "image/png": "[encoded data removed]",
      "text/plain": [
       "<Figure size 432x288 with 1 Axes>"
      ]
     },
     "metadata": {
      "needs_background": "light"
     },
     "output_type": "display_data"
    }
   ],
   "source": [
    "sns.boxenplot(y=df1['Life expectancy '],x=df1['Year'])"
   ]
  },
  {
   "cell_type": "code",
   "execution_count": 11,
   "id": "1885a8bc",
   "metadata": {},
   "outputs": [
    {
     "data": {
      "text/plain": [
       "Index(['Country', 'Year', 'infant deaths', 'Hepatitis B', 'Measles ', ' BMI ',\n",
       "       'under-five deaths ', 'Polio', 'Diphtheria ', ' HIV/AIDS'],\n",
       "      dtype='object')"
      ]
     },
     "execution_count": 11,
     "metadata": {},
     "output_type": "execute_result"
    }
   ],
   "source": [
    "df2.columns"
   ]
  },
  {
   "cell_type": "code",
   "execution_count": 12,
   "id": "59e02265",
   "metadata": {},
   "outputs": [
    {
     "data": {
      "text/plain": [
       "(2938, 14)"
      ]
     },
     "execution_count": 12,
     "metadata": {},
     "output_type": "execute_result"
    }
   ],
   "source": [
    "df1.shape"
   ]
  },
  {
   "cell_type": "code",
   "execution_count": 13,
   "id": "d284e78e",
   "metadata": {},
   "outputs": [
    {
     "data": {
      "text/plain": [
       "(2938, 10)"
      ]
     },
     "execution_count": 13,
     "metadata": {},
     "output_type": "execute_result"
    }
   ],
   "source": [
    "df2.shape"
   ]
  },
  {
   "cell_type": "code",
   "execution_count": 14,
   "id": "36f7231f",
   "metadata": {},
   "outputs": [
    {
     "data": {
      "text/plain": [
       "Country                             object\n",
       "Year                                 int64\n",
       "Status                              object\n",
       "Life expectancy                    float64\n",
       "Adult Mortality                    float64\n",
       "Alcohol                            float64\n",
       "percentage expenditure             float64\n",
       "Total expenditure                  float64\n",
       "GDP                                float64\n",
       "Population                         float64\n",
       " thinness  1-19 years              float64\n",
       " thinness 5-9 years                float64\n",
       "Income composition of resources    float64\n",
       "Schooling                          float64\n",
       "dtype: object"
      ]
     },
     "execution_count": 14,
     "metadata": {},
     "output_type": "execute_result"
    }
   ],
   "source": [
    "df1.dtypes"
   ]
  },
  {
   "cell_type": "code",
   "execution_count": 15,
   "id": "184747c4",
   "metadata": {},
   "outputs": [
    {
     "data": {
      "text/plain": [
       "Country                object\n",
       "Year                    int64\n",
       "infant deaths           int64\n",
       "Hepatitis B           float64\n",
       "Measles                 int64\n",
       " BMI                  float64\n",
       "under-five deaths       int64\n",
       "Polio                 float64\n",
       "Diphtheria            float64\n",
       " HIV/AIDS             float64\n",
       "dtype: object"
      ]
     },
     "execution_count": 15,
     "metadata": {},
     "output_type": "execute_result"
    }
   ],
   "source": [
    "df2.dtypes"
   ]
  },
  {
   "cell_type": "code",
   "execution_count": 16,
   "id": "16c3ea87",
   "metadata": {},
   "outputs": [
    {
     "data": {
      "text/plain": [
       "Index(['infant deaths', 'Hepatitis B', 'Measles ', ' BMI ',\n",
       "       'under-five deaths ', 'Polio', 'Diphtheria ', ' HIV/AIDS'],\n",
       "      dtype='object')"
      ]
     },
     "execution_count": 16,
     "metadata": {},
     "output_type": "execute_result"
    }
   ],
   "source": [
    "df2.columns[2:]"
   ]
  },
  {
   "cell_type": "code",
   "execution_count": 17,
   "id": "e679cc59",
   "metadata": {},
   "outputs": [
    {
     "name": "stdout",
     "output_type": "stream",
     "text": [
      "<class 'pandas.core.frame.DataFrame'>\n",
      "RangeIndex: 2938 entries, 0 to 2937\n",
      "Data columns (total 14 columns):\n",
      " #   Column                           Non-Null Count  Dtype  \n",
      "---  ------                           --------------  -----  \n",
      " 0   Country                          2938 non-null   object \n",
      " 1   Year                             2938 non-null   int64  \n",
      " 2   Status                           2938 non-null   object \n",
      " 3   Life expectancy                  2928 non-null   float64\n",
      " 4   Adult Mortality                  2928 non-null   float64\n",
      " 5   Alcohol                          2744 non-null   float64\n",
      " 6   percentage expenditure           2938 non-null   float64\n",
      " 7   Total expenditure                2712 non-null   float64\n",
      " 8   GDP                              2490 non-null   float64\n",
      " 9   Population                       2286 non-null   float64\n",
      " 10   thinness  1-19 years            2904 non-null   float64\n",
      " 11   thinness 5-9 years              2904 non-null   float64\n",
      " 12  Income composition of resources  2771 non-null   float64\n",
      " 13  Schooling                        2775 non-null   float64\n",
      "dtypes: float64(11), int64(1), object(2)\n",
      "memory usage: 321.5+ KB\n"
     ]
    }
   ],
   "source": [
    "df1.info()"
   ]
  },
  {
   "cell_type": "markdown",
   "id": "fc484938",
   "metadata": {},
   "source": [
    "**step3:**\n",
    "* You have just kick started your exploration and observed that there is not a single column with unique values that can be used to merge the datasets.\n",
    "    Also the column names have blank spaces, which you have to correct. You have to create a primary key column for both datafarames by usunng the apply method..\n",
    "    Perform below tasks:\n",
    "* Rename the column by removing blank spaces from both the dataset.Apply string strip function on each datasets clumn.\n",
    "* Create a unique column, named as \"UniqueKey\". We will explore unique columns from both the datasets, if not then will have to create it.\n",
    "        "
   ]
  },
  {
   "cell_type": "code",
   "execution_count": 18,
   "id": "2d698649",
   "metadata": {},
   "outputs": [],
   "source": [
    "#  Removing blank spaces from column name\n",
    "\n",
    "df1=df1.rename(columns=lambda x: x.strip())\n",
    "df2=df2.rename(columns=lambda y: y.strip())"
   ]
  },
  {
   "cell_type": "code",
   "execution_count": 19,
   "id": "eb979572",
   "metadata": {},
   "outputs": [
    {
     "data": {
      "text/plain": [
       "Index(['Country', 'Year', 'Status', 'Life expectancy', 'Adult Mortality',\n",
       "       'Alcohol', 'percentage expenditure', 'Total expenditure', 'GDP',\n",
       "       'Population', 'thinness  1-19 years', 'thinness 5-9 years',\n",
       "       'Income composition of resources', 'Schooling'],\n",
       "      dtype='object')"
      ]
     },
     "execution_count": 19,
     "metadata": {},
     "output_type": "execute_result"
    }
   ],
   "source": [
    "df1.columns"
   ]
  },
  {
   "cell_type": "code",
   "execution_count": 20,
   "id": "da1040ec",
   "metadata": {},
   "outputs": [
    {
     "data": {
      "text/plain": [
       "Index(['Country', 'Year', 'infant deaths', 'Hepatitis B', 'Measles', 'BMI',\n",
       "       'under-five deaths', 'Polio', 'Diphtheria', 'HIV/AIDS'],\n",
       "      dtype='object')"
      ]
     },
     "execution_count": 20,
     "metadata": {},
     "output_type": "execute_result"
    }
   ],
   "source": [
    "# df1.columns=df1.columns.str.strip()\n",
    "df2.columns"
   ]
  },
  {
   "cell_type": "markdown",
   "id": "9ec6c0cc",
   "metadata": {},
   "source": [
    "If Want to merge columns from a dataset donot use direct **concatination** ."
   ]
  },
  {
   "cell_type": "code",
   "execution_count": 21,
   "id": "0cebbbad",
   "metadata": {},
   "outputs": [
    {
     "data": {
      "text/plain": [
       "(2938, 15)"
      ]
     },
     "execution_count": 21,
     "metadata": {},
     "output_type": "execute_result"
    }
   ],
   "source": [
    "# If you use direct concatination rows not get well merge\n",
    "\n",
    "df1[\"UniqueKey\"] = df1[\"Country\"]+str(df1[\"Year\"])\n",
    "df1.shape"
   ]
  },
  {
   "cell_type": "code",
   "execution_count": 22,
   "id": "91e3f616",
   "metadata": {},
   "outputs": [],
   "source": [
    "# # just informative \n",
    "# df11=pd.merge(df1,df2,how='inner',on=['Country','Year'])\n",
    "# df11.shape\n",
    "\n",
    "# # df2=df2.drop(columns=[\"Uniquekey\"])"
   ]
  },
  {
   "cell_type": "markdown",
   "id": "37a6e726",
   "metadata": {},
   "source": [
    "**apply method** to Concatinate 2 columns of same dataset"
   ]
  },
  {
   "cell_type": "code",
   "execution_count": 23,
   "id": "823b5004",
   "metadata": {},
   "outputs": [
    {
     "data": {
      "text/plain": [
       "(2938, 11)"
      ]
     },
     "execution_count": 23,
     "metadata": {},
     "output_type": "execute_result"
    }
   ],
   "source": [
    "df2[\"UniqueKey\"]=df2.apply(lambda z: z[\"Country\"]+str(z[\"Year\"]), axis=1)\n",
    "df2.shape"
   ]
  },
  {
   "cell_type": "code",
   "execution_count": 24,
   "id": "48e695d3",
   "metadata": {},
   "outputs": [],
   "source": [
    "# df3= pd.concat([df2[\"UniqueKey\"], df2.drop([\"UniqueKey\"],axis=1)],axis=1)\n",
    "# df3.head(10)"
   ]
  },
  {
   "cell_type": "code",
   "execution_count": 25,
   "id": "002da740",
   "metadata": {},
   "outputs": [],
   "source": [
    "# df31=pd.concat([df2.UniqueKey, df2.drop([\"UniqueKey\"], axis=1)],axis=1)\n",
    "# df31"
   ]
  },
  {
   "cell_type": "markdown",
   "id": "dd19a986",
   "metadata": {},
   "source": [
    "**Step4:**\n",
    "* Both  the datasets have columns \"Country\" and \"Year\" as common, so we can drop columns \"Country\" and \"Year\" from any dataframe, or else  after merging\n",
    "you willfind two columns each related to \"Country\" and \"Year\"\n",
    "* Remove The Columns \"country\" and \"Year\" from df2.\n",
    "* Apply merge operations on the datasets df1 and df2, using the common \"UniqueKey\", to form a single dataset and name it as df.\n",
    "*Check dim of df using other joins also(left,right,inner,outer)"
   ]
  },
  {
   "cell_type": "code",
   "execution_count": 26,
   "id": "96621cfa",
   "metadata": {},
   "outputs": [
    {
     "data": {
      "text/plain": [
       "((2938, 15), (2938, 9))"
      ]
     },
     "execution_count": 26,
     "metadata": {},
     "output_type": "execute_result"
    }
   ],
   "source": [
    "df2.drop([\"Country\",\"Year\"],inplace=True,axis=1)\n",
    "df1.shape, df2.shape"
   ]
  },
  {
   "cell_type": "code",
   "execution_count": 29,
   "id": "3fe13c51",
   "metadata": {},
   "outputs": [
    {
     "data": {
      "text/html": [
       "<div>\n",
       "<style scoped>\n",
       "    .dataframe tbody tr th:only-of-type {\n",
       "        vertical-align: middle;\n",
       "    }\n",
       "\n",
       "    .dataframe tbody tr th {\n",
       "        vertical-align: top;\n",
       "    }\n",
       "\n",
       "    .dataframe thead th {\n",
       "        text-align: right;\n",
       "    }\n",
       "</style>\n",
       "<table border=\"1\" class=\"dataframe\">\n",
       "  <thead>\n",
       "    <tr style=\"text-align: right;\">\n",
       "      <th></th>\n",
       "      <th>Country</th>\n",
       "      <th>Year</th>\n",
       "      <th>Status</th>\n",
       "      <th>Life expectancy</th>\n",
       "      <th>Adult Mortality</th>\n",
       "      <th>Alcohol</th>\n",
       "      <th>percentage expenditure</th>\n",
       "      <th>Total expenditure</th>\n",
       "      <th>GDP</th>\n",
       "      <th>Population</th>\n",
       "      <th>...</th>\n",
       "      <th>Schooling</th>\n",
       "      <th>UniqueKey</th>\n",
       "      <th>infant deaths</th>\n",
       "      <th>Hepatitis B</th>\n",
       "      <th>Measles</th>\n",
       "      <th>BMI</th>\n",
       "      <th>under-five deaths</th>\n",
       "      <th>Polio</th>\n",
       "      <th>Diphtheria</th>\n",
       "      <th>HIV/AIDS</th>\n",
       "    </tr>\n",
       "  </thead>\n",
       "  <tbody>\n",
       "  </tbody>\n",
       "</table>\n",
       "<p>0 rows × 23 columns</p>\n",
       "</div>"
      ],
      "text/plain": [
       "Empty DataFrame\n",
       "Columns: [Country, Year, Status, Life expectancy, Adult Mortality, Alcohol, percentage expenditure, Total expenditure, GDP, Population, thinness  1-19 years, thinness 5-9 years, Income composition of resources, Schooling, UniqueKey, infant deaths, Hepatitis B, Measles, BMI, under-five deaths, Polio, Diphtheria, HIV/AIDS]\n",
       "Index: []\n",
       "\n",
       "[0 rows x 23 columns]"
      ]
     },
     "execution_count": 29,
     "metadata": {},
     "output_type": "execute_result"
    }
   ],
   "source": [
    "df=pd.merge(df1,df2,how='inner',on='UniqueKey')\n",
    "df"
   ]
  },
  {
   "cell_type": "code",
   "execution_count": 28,
   "id": "38644650",
   "metadata": {},
   "outputs": [
    {
     "name": "stdout",
     "output_type": "stream",
     "text": [
      "(0, 23) (2938, 23) (2938, 23) (5876, 23)\n"
     ]
    }
   ],
   "source": [
    "df_inner= pd.merge(df1,df2,on=\"UniqueKey\",how=\"inner\")\n",
    "i=df_inner.shape\n",
    "df_right= pd.merge(df1,df2,on=\"UniqueKey\",how=\"right\")\n",
    "r=df_right.shape\n",
    "df_left= pd.merge(df1,df2,on=\"UniqueKey\",how=\"left\")\n",
    "l=df_left.shape\n",
    "df_outer= pd.merge(df1,df2,on=\"UniqueKey\",how=\"outer\")\n",
    "o=df_outer.shape\n",
    "print(i,r,l,o)"
   ]
  },
  {
   "cell_type": "markdown",
   "id": "faa12d90",
   "metadata": {},
   "source": [
    "## Scenario2:\n",
    "You Should give yorself a pat. You have successfully merged the dataset. Before youcan start exploring the relationship and draw insights, cleaning the dataset\n",
    "is the most important job. Complete below tasks to prepare your dataset for further analysis."
   ]
  },
  {
   "cell_type": "markdown",
   "id": "26585e2d",
   "metadata": {},
   "source": [
    "**Step5**\n",
    "* There can be chanc you have recieved a dataset with duplicate values. Remove them and analyze the dimension of the dataframe before and after removing.\n",
    "* For each feature, identity the total nimber of unique columns.\n",
    "* Information for the feature \"UniqueKey\" is already reflected in \"Country\" and \"Year\".\n",
    "You can remove it and verify your results by viewing the names"
   ]
  },
  {
   "cell_type": "code",
   "execution_count": 29,
   "id": "0cf78c6d",
   "metadata": {},
   "outputs": [
    {
     "name": "stdout",
     "output_type": "stream",
     "text": [
      "(2938, 23)\n",
      "(2938, 23)\n"
     ]
    }
   ],
   "source": [
    "print(df.shape)\n",
    "df.drop_duplicates(inplace=True)\n",
    "print(df.shape)"
   ]
  },
  {
   "cell_type": "code",
   "execution_count": 30,
   "id": "bd8dc3cd",
   "metadata": {},
   "outputs": [
    {
     "data": {
      "text/plain": [
       "Country                             193\n",
       "Year                                 16\n",
       "Status                                2\n",
       "Life expectancy                     362\n",
       "Adult Mortality                     425\n",
       "Alcohol                            1076\n",
       "percentage expenditure             2328\n",
       "Total expenditure                   818\n",
       "GDP                                2490\n",
       "Population                         2278\n",
       "thinness  1-19 years                200\n",
       "thinness 5-9 years                  207\n",
       "Income composition of resources     625\n",
       "Schooling                           173\n",
       "UniqueKey                          2938\n",
       "infant deaths                       209\n",
       "Hepatitis B                          87\n",
       "Measles                             958\n",
       "BMI                                 608\n",
       "under-five deaths                   252\n",
       "Polio                                73\n",
       "Diphtheria                           81\n",
       "HIV/AIDS                            200\n",
       "dtype: int64"
      ]
     },
     "execution_count": 30,
     "metadata": {},
     "output_type": "execute_result"
    }
   ],
   "source": [
    "# Unique values in datasets\n",
    "df.nunique()"
   ]
  },
  {
   "cell_type": "code",
   "execution_count": 31,
   "id": "63529e74",
   "metadata": {},
   "outputs": [],
   "source": [
    "# drop unwanted features\n",
    "df.drop(\"UniqueKey\", inplace=True,axis=1)"
   ]
  },
  {
   "cell_type": "code",
   "execution_count": 32,
   "id": "75104e80",
   "metadata": {},
   "outputs": [
    {
     "name": "stdout",
     "output_type": "stream",
     "text": [
      "<class 'pandas.core.frame.DataFrame'>\n",
      "Int64Index: 2938 entries, 0 to 2937\n",
      "Data columns (total 22 columns):\n",
      " #   Column                           Non-Null Count  Dtype  \n",
      "---  ------                           --------------  -----  \n",
      " 0   Country                          2938 non-null   object \n",
      " 1   Year                             2938 non-null   int64  \n",
      " 2   Status                           2938 non-null   object \n",
      " 3   Life expectancy                  2928 non-null   float64\n",
      " 4   Adult Mortality                  2928 non-null   float64\n",
      " 5   Alcohol                          2744 non-null   float64\n",
      " 6   percentage expenditure           2938 non-null   float64\n",
      " 7   Total expenditure                2712 non-null   float64\n",
      " 8   GDP                              2490 non-null   float64\n",
      " 9   Population                       2286 non-null   float64\n",
      " 10  thinness  1-19 years             2904 non-null   float64\n",
      " 11  thinness 5-9 years               2904 non-null   float64\n",
      " 12  Income composition of resources  2771 non-null   float64\n",
      " 13  Schooling                        2775 non-null   float64\n",
      " 14  infant deaths                    2938 non-null   int64  \n",
      " 15  Hepatitis B                      2385 non-null   float64\n",
      " 16  Measles                          2938 non-null   int64  \n",
      " 17  BMI                              2904 non-null   float64\n",
      " 18  under-five deaths                2938 non-null   int64  \n",
      " 19  Polio                            2919 non-null   float64\n",
      " 20  Diphtheria                       2919 non-null   float64\n",
      " 21  HIV/AIDS                         2938 non-null   float64\n",
      "dtypes: float64(16), int64(4), object(2)\n",
      "memory usage: 527.9+ KB\n"
     ]
    }
   ],
   "source": [
    "df.info()"
   ]
  },
  {
   "cell_type": "markdown",
   "id": "f0cbb03a",
   "metadata": {},
   "source": [
    "**Step6:** \n",
    "* Show the Total NA values in each feature of the dataset.\n",
    "* Replace the NA values with suitable function(CEntral Tendancy).\n"
   ]
  },
  {
   "cell_type": "code",
   "execution_count": 33,
   "id": "923d4551",
   "metadata": {},
   "outputs": [
    {
     "data": {
      "text/plain": [
       "Country                              0\n",
       "Year                                 0\n",
       "Status                               0\n",
       "Life expectancy                     10\n",
       "Adult Mortality                     10\n",
       "Alcohol                            194\n",
       "percentage expenditure               0\n",
       "Total expenditure                  226\n",
       "GDP                                448\n",
       "Population                         652\n",
       "thinness  1-19 years                34\n",
       "thinness 5-9 years                  34\n",
       "Income composition of resources    167\n",
       "Schooling                          163\n",
       "infant deaths                        0\n",
       "Hepatitis B                        553\n",
       "Measles                              0\n",
       "BMI                                 34\n",
       "under-five deaths                    0\n",
       "Polio                               19\n",
       "Diphtheria                          19\n",
       "HIV/AIDS                             0\n",
       "dtype: int64"
      ]
     },
     "execution_count": 33,
     "metadata": {},
     "output_type": "execute_result"
    }
   ],
   "source": [
    "df.isnull().sum()"
   ]
  },
  {
   "cell_type": "code",
   "execution_count": 34,
   "id": "86ed03e5",
   "metadata": {},
   "outputs": [
    {
     "name": "stdout",
     "output_type": "stream",
     "text": [
      "13.2\n",
      "4.5\n"
     ]
    }
   ],
   "source": [
    "# for example\n",
    "l=[1,1,0,4,5,6,7,18,90,0]\n",
    "print(np.mean(l))\n",
    "print(np.median(l))"
   ]
  },
  {
   "cell_type": "code",
   "execution_count": 35,
   "id": "c07540c1",
   "metadata": {},
   "outputs": [
    {
     "name": "stdout",
     "output_type": "stream",
     "text": [
      "69.22493169398912\n",
      "nan\n"
     ]
    }
   ],
   "source": [
    "print(np.mean(df[\"Life expectancy\"]))\n",
    "print(np.median(df[\"Life expectancy\"]))\n"
   ]
  },
  {
   "cell_type": "markdown",
   "id": "ef282459",
   "metadata": {},
   "source": [
    "Choose wisely !!!"
   ]
  },
  {
   "cell_type": "code",
   "execution_count": 36,
   "id": "d6ff18ea",
   "metadata": {},
   "outputs": [
    {
     "name": "stdout",
     "output_type": "stream",
     "text": [
      "30.303948264125257\n",
      "3.0\n"
     ]
    }
   ],
   "source": [
    "print(np.mean(df[\"infant deaths\"]))\n",
    "print(np.median(df[\"infant deaths\"]))"
   ]
  },
  {
   "cell_type": "code",
   "execution_count": 37,
   "id": "16761197",
   "metadata": {},
   "outputs": [
    {
     "data": {
      "text/plain": [
       "72.1"
      ]
     },
     "execution_count": 37,
     "metadata": {},
     "output_type": "execute_result"
    }
   ],
   "source": [
    "# df.iloc[rowIndex,columnIndex] :: no stepSize\n",
    "df.iloc[:,3].median()"
   ]
  },
  {
   "cell_type": "code",
   "execution_count": 38,
   "id": "a85832b5",
   "metadata": {},
   "outputs": [
    {
     "data": {
      "text/plain": [
       "Country                              0\n",
       "Year                                 0\n",
       "Status                               0\n",
       "Life expectancy                     10\n",
       "Adult Mortality                     10\n",
       "Alcohol                            194\n",
       "percentage expenditure               0\n",
       "Total expenditure                  226\n",
       "GDP                                448\n",
       "Population                         652\n",
       "thinness  1-19 years                34\n",
       "thinness 5-9 years                  34\n",
       "Income composition of resources    167\n",
       "Schooling                          163\n",
       "infant deaths                        0\n",
       "Hepatitis B                        553\n",
       "Measles                              0\n",
       "BMI                                 34\n",
       "under-five deaths                    0\n",
       "Polio                               19\n",
       "Diphtheria                          19\n",
       "HIV/AIDS                             0\n",
       "dtype: int64"
      ]
     },
     "execution_count": 38,
     "metadata": {},
     "output_type": "execute_result"
    }
   ],
   "source": [
    "df.isna().sum()"
   ]
  },
  {
   "cell_type": "code",
   "execution_count": 39,
   "id": "845d815b",
   "metadata": {},
   "outputs": [
    {
     "data": {
      "text/plain": [
       "22"
      ]
     },
     "execution_count": 39,
     "metadata": {},
     "output_type": "execute_result"
    }
   ],
   "source": [
    "# df.fillna(df[\"Status\"].median())\n",
    "# # \"Status\" is object datatype cannot fill median\n",
    "len(df.columns)"
   ]
  },
  {
   "cell_type": "code",
   "execution_count": 40,
   "id": "c93939b6",
   "metadata": {},
   "outputs": [
    {
     "data": {
      "text/plain": [
       "Country                            0\n",
       "Year                               0\n",
       "Status                             0\n",
       "Life expectancy                    0\n",
       "Adult Mortality                    0\n",
       "Alcohol                            0\n",
       "percentage expenditure             0\n",
       "Total expenditure                  0\n",
       "GDP                                0\n",
       "Population                         0\n",
       "thinness  1-19 years               0\n",
       "thinness 5-9 years                 0\n",
       "Income composition of resources    0\n",
       "Schooling                          0\n",
       "infant deaths                      0\n",
       "Hepatitis B                        0\n",
       "Measles                            0\n",
       "BMI                                0\n",
       "under-five deaths                  0\n",
       "Polio                              0\n",
       "Diphtheria                         0\n",
       "HIV/AIDS                           0\n",
       "dtype: int64"
      ]
     },
     "execution_count": 40,
     "metadata": {},
     "output_type": "execute_result"
    }
   ],
   "source": [
    "for i in range(3,len(df.columns)):\n",
    "    df.iloc[:,i].fillna(df.iloc[:,i].median(), inplace=True)\n",
    "df.isnull().sum()"
   ]
  },
  {
   "cell_type": "markdown",
   "id": "f45e59d6",
   "metadata": {},
   "source": [
    "##  Scenario3\n",
    "Your managers want an urgent report for upcoming plan for effectively allocatng expenses for the healthcare sector. Making queries and analysing data using dataframe operations is time consuming. You decide tomove ahead with visualiztion metod to draw more insights and find relationship between different columns.\n",
    "\n",
    "* Univariate analysis- exploring one column at a time.\n",
    "* Bivariate analysis- exploring 2 columns at a time. NUm|NUm, Cat|Num, Cat|Cat."
   ]
  },
  {
   "cell_type": "markdown",
   "id": "5b69b1fc",
   "metadata": {},
   "source": [
    "**Step7:**\n",
    "\n",
    "You can start exploring a single columnat a timeand draw key insights. There are few categorical types and others numerical type columns. your job to pick up the key important columns. Start by following tasks.\n",
    "\n",
    "* Show the distribution chart for life expectancy. Also make sure to label axises and title.\n",
    "* Show the distribution of status features using seaborn, showing count of each record. Here also axises and title shall be visible clearly.\n"
   ]
  },
  {
   "cell_type": "code",
   "execution_count": 41,
   "id": "9ea195a2",
   "metadata": {},
   "outputs": [
    {
     "data": {
      "image/png": "[encoded data removed]",
      "text/plain": [
       "<Figure size 432x288 with 1 Axes>"
      ]
     },
     "metadata": {
      "needs_background": "light"
     },
     "output_type": "display_data"
    }
   ],
   "source": [
    "plt.hist(df['Life expectancy'],bins=50)\n",
    "plt.xlabel('Life expectancy')\n",
    "plt.ylabel('counts')\n",
    "plt.title('Life Expectancy Distribution')\n",
    "plt.show()"
   ]
  },
  {
   "cell_type": "code",
   "execution_count": 42,
   "id": "e9dd7e21",
   "metadata": {},
   "outputs": [
    {
     "name": "stderr",
     "output_type": "stream",
     "text": [
      "C:\\ProgramData\\Anaconda3\\lib\\site-packages\\seaborn\\_decorators.py:36: FutureWarning: Pass the following variable as a keyword arg: x. From version 0.12, the only valid positional argument will be `data`, and passing other arguments without an explicit keyword will result in an error or misinterpretation.\n",
      "  warnings.warn(\n"
     ]
    },
    {
     "data": {
      "text/plain": [
       "<AxesSubplot:xlabel='Status', ylabel='count'>"
      ]
     },
     "execution_count": 42,
     "metadata": {},
     "output_type": "execute_result"
    },
    {
     "data": {
      "image/png": "[encoded data removed]",
      "text/plain": [
       "<Figure size 432x288 with 1 Axes>"
      ]
     },
     "metadata": {
      "needs_background": "light"
     },
     "output_type": "display_data"
    }
   ],
   "source": [
    "sns.countplot(df['Status'])\n"
   ]
  },
  {
   "cell_type": "code",
   "execution_count": 43,
   "id": "102aa65f",
   "metadata": {},
   "outputs": [
    {
     "data": {
      "text/plain": [
       "<AxesSubplot:xlabel='GDP', ylabel='Count'>"
      ]
     },
     "execution_count": 43,
     "metadata": {},
     "output_type": "execute_result"
    },
    {
     "data": {
      "image/png": "[encoded data removed]",
      "text/plain": [
       "<Figure size 432x288 with 1 Axes>"
      ]
     },
     "metadata": {
      "needs_background": "light"
     },
     "output_type": "display_data"
    }
   ],
   "source": [
    "sns.histplot(df['GDP'],bins=19)"
   ]
  },
  {
   "cell_type": "markdown",
   "id": "f1657443",
   "metadata": {},
   "source": [
    "Need to write a query to find perticuler thing..  \n",
    "\n",
    "eg. find the minimum GDP of india?"
   ]
  },
  {
   "cell_type": "code",
   "execution_count": 44,
   "id": "be65b2ff",
   "metadata": {},
   "outputs": [
    {
     "data": {
      "text/plain": [
       "(16, 22)"
      ]
     },
     "execution_count": 44,
     "metadata": {},
     "output_type": "execute_result"
    }
   ],
   "source": [
    "df_india=df[df[\"Country\"]==\"India\"]\n",
    "df_india.shape"
   ]
  },
  {
   "cell_type": "code",
   "execution_count": 45,
   "id": "a9cec0bc",
   "metadata": {},
   "outputs": [
    {
     "data": {
      "image/png": "[encoded data removed]",
      "text/plain": [
       "<Figure size 432x288 with 1 Axes>"
      ]
     },
     "metadata": {
      "needs_background": "light"
     },
     "output_type": "display_data"
    }
   ],
   "source": [
    "# sns.histplot(df_india,bins=19)   #// wrong choice\n",
    "\n",
    "plt.bar(x=df_india[\"Year\"], height=df_india[\"GDP\"])\n",
    "plt.show()"
   ]
  },
  {
   "cell_type": "code",
   "execution_count": 46,
   "id": "9eb2db3b",
   "metadata": {},
   "outputs": [
    {
     "name": "stderr",
     "output_type": "stream",
     "text": [
      "C:\\ProgramData\\Anaconda3\\lib\\site-packages\\seaborn\\_decorators.py:36: FutureWarning: Pass the following variables as keyword args: x, y. From version 0.12, the only valid positional argument will be `data`, and passing other arguments without an explicit keyword will result in an error or misinterpretation.\n",
      "  warnings.warn(\n"
     ]
    },
    {
     "data": {
      "text/plain": [
       "<AxesSubplot:xlabel='Year', ylabel='GDP'>"
      ]
     },
     "execution_count": 46,
     "metadata": {},
     "output_type": "execute_result"
    },
    {
     "data": {
      "image/png": "[encoded data removed]",
      "text/plain": [
       "<Figure size 432x288 with 1 Axes>"
      ]
     },
     "metadata": {
      "needs_background": "light"
     },
     "output_type": "display_data"
    }
   ],
   "source": [
    "sns.lineplot(df_india[\"Year\"],df_india['GDP'],marker='o',color='red')"
   ]
  },
  {
   "cell_type": "markdown",
   "id": "858a76a1",
   "metadata": {},
   "source": [
    "**Step8:**\n",
    "\n",
    "There is a lot of information present and you can successfully draw more insights using two columns at a time. This is known as biavariate analysis. Since the report is urgent, you shall focus in comparing columns that are wrapped around more on expences \"Life expectancy\" aand \"Year\". Each of the tasks shall be articuted, highlighting title, x-axis and y-axis name.\n",
    "\n",
    "Note: Line plot plays a  very critical role to analyze the growth of a coutry in respect to years.\n",
    "you can have basic understanding from the reference link shared here, beforeyou proceed to complete below tasks.\n",
    "\n",
    "\n",
    "* Show the total expenditure|Year, using the line plot.\n",
    "* Show how \"Life expectancy\" changed over the years, using line plots.\n",
    "* Compare the features of \"life Expectancy and Schooling\".\n",
    "* What is the trend followed for life expectancy against the status of countries? Draw the INSIGHTS using seaborn bar chart."
   ]
  },
  {
   "cell_type": "code",
   "execution_count": 50,
   "id": "fcc3c036",
   "metadata": {},
   "outputs": [
    {
     "name": "stdout",
     "output_type": "stream",
     "text": [
      "<class 'pandas.core.frame.DataFrame'>\n",
      "Int64Index: 2938 entries, 0 to 2937\n",
      "Data columns (total 22 columns):\n",
      " #   Column                           Non-Null Count  Dtype  \n",
      "---  ------                           --------------  -----  \n",
      " 0   Country                          2938 non-null   object \n",
      " 1   Year                             2938 non-null   int64  \n",
      " 2   Status                           2938 non-null   object \n",
      " 3   Life expectancy                  2938 non-null   float64\n",
      " 4   Adult Mortality                  2938 non-null   float64\n",
      " 5   Alcohol                          2938 non-null   float64\n",
      " 6   percentage expenditure           2938 non-null   float64\n",
      " 7   Total expenditure                2938 non-null   float64\n",
      " 8   GDP                              2938 non-null   float64\n",
      " 9   Population                       2938 non-null   float64\n",
      " 10  thinness  1-19 years             2938 non-null   float64\n",
      " 11  thinness 5-9 years               2938 non-null   float64\n",
      " 12  Income composition of resources  2938 non-null   float64\n",
      " 13  Schooling                        2938 non-null   float64\n",
      " 14  infant deaths                    2938 non-null   int64  \n",
      " 15  Hepatitis B                      2938 non-null   float64\n",
      " 16  Measles                          2938 non-null   int64  \n",
      " 17  BMI                              2938 non-null   float64\n",
      " 18  under-five deaths                2938 non-null   int64  \n",
      " 19  Polio                            2938 non-null   float64\n",
      " 20  Diphtheria                       2938 non-null   float64\n",
      " 21  HIV/AIDS                         2938 non-null   float64\n",
      "dtypes: float64(16), int64(4), object(2)\n",
      "memory usage: 592.5+ KB\n"
     ]
    }
   ],
   "source": [
    "df.info()"
   ]
  },
  {
   "cell_type": "code",
   "execution_count": 51,
   "id": "b0301318",
   "metadata": {},
   "outputs": [
    {
     "name": "stderr",
     "output_type": "stream",
     "text": [
      "C:\\ProgramData\\Anaconda3\\lib\\site-packages\\seaborn\\_decorators.py:36: FutureWarning: Pass the following variables as keyword args: x, y. From version 0.12, the only valid positional argument will be `data`, and passing other arguments without an explicit keyword will result in an error or misinterpretation.\n",
      "  warnings.warn(\n"
     ]
    },
    {
     "data": {
      "text/plain": [
       "<AxesSubplot:xlabel='Year', ylabel='Total expenditure'>"
      ]
     },
     "execution_count": 51,
     "metadata": {},
     "output_type": "execute_result"
    },
    {
     "data": {
      "image/png": "[encoded data removed]",
      "text/plain": [
       "<Figure size 432x288 with 1 Axes>"
      ]
     },
     "metadata": {
      "needs_background": "light"
     },
     "output_type": "display_data"
    }
   ],
   "source": [
    "sns.lineplot(df[\"Year\"],df[\"Total expenditure\"],marker='o')"
   ]
  },
  {
   "cell_type": "code",
   "execution_count": 52,
   "id": "96d1d5b1",
   "metadata": {},
   "outputs": [
    {
     "name": "stderr",
     "output_type": "stream",
     "text": [
      "C:\\ProgramData\\Anaconda3\\lib\\site-packages\\seaborn\\_decorators.py:36: FutureWarning: Pass the following variables as keyword args: x, y. From version 0.12, the only valid positional argument will be `data`, and passing other arguments without an explicit keyword will result in an error or misinterpretation.\n",
      "  warnings.warn(\n"
     ]
    },
    {
     "data": {
      "image/png": "[encoded data removed]",
      "text/plain": [
       "<Figure size 432x288 with 1 Axes>"
      ]
     },
     "metadata": {
      "needs_background": "light"
     },
     "output_type": "display_data"
    }
   ],
   "source": [
    "sns.lineplot(df[\"Year\"],df[\"Life expectancy\"],marker=\"d\",color='orange')\n",
    "plt.show()\n"
   ]
  },
  {
   "cell_type": "code",
   "execution_count": 53,
   "id": "6ac2bbff",
   "metadata": {},
   "outputs": [],
   "source": [
    "# sns.pairplot(df)\n",
    "# heatmap\n"
   ]
  },
  {
   "cell_type": "code",
   "execution_count": 54,
   "id": "88754e90",
   "metadata": {},
   "outputs": [
    {
     "name": "stderr",
     "output_type": "stream",
     "text": [
      "C:\\ProgramData\\Anaconda3\\lib\\site-packages\\seaborn\\_decorators.py:36: FutureWarning: Pass the following variables as keyword args: x, y. From version 0.12, the only valid positional argument will be `data`, and passing other arguments without an explicit keyword will result in an error or misinterpretation.\n",
      "  warnings.warn(\n"
     ]
    },
    {
     "data": {
      "text/plain": [
       "<seaborn.axisgrid.JointGrid at 0x282a4c95430>"
      ]
     },
     "execution_count": 54,
     "metadata": {},
     "output_type": "execute_result"
    },
    {
     "data": {
      "image/png": "[encoded data removed]",
      "text/plain": [
       "<Figure size 432x432 with 3 Axes>"
      ]
     },
     "metadata": {
      "needs_background": "light"
     },
     "output_type": "display_data"
    }
   ],
   "source": [
    "sns.jointplot(df[\"Life expectancy\"], df[\"Schooling\"])"
   ]
  },
  {
   "cell_type": "code",
   "execution_count": 55,
   "id": "98bbb86c",
   "metadata": {},
   "outputs": [
    {
     "name": "stderr",
     "output_type": "stream",
     "text": [
      "C:\\ProgramData\\Anaconda3\\lib\\site-packages\\seaborn\\_decorators.py:36: FutureWarning: Pass the following variables as keyword args: x, y. From version 0.12, the only valid positional argument will be `data`, and passing other arguments without an explicit keyword will result in an error or misinterpretation.\n",
      "  warnings.warn(\n"
     ]
    },
    {
     "data": {
      "text/plain": [
       "<AxesSubplot:xlabel='Life expectancy', ylabel='Schooling'>"
      ]
     },
     "execution_count": 55,
     "metadata": {},
     "output_type": "execute_result"
    },
    {
     "data": {
      "image/png": "[encoded data removed]",
      "text/plain": [
       "<Figure size 432x288 with 1 Axes>"
      ]
     },
     "metadata": {
      "needs_background": "light"
     },
     "output_type": "display_data"
    }
   ],
   "source": [
    "sns.scatterplot(df[\"Life expectancy\"],df[\"Schooling\"])"
   ]
  },
  {
   "cell_type": "code",
   "execution_count": 56,
   "id": "dff03074",
   "metadata": {},
   "outputs": [
    {
     "name": "stderr",
     "output_type": "stream",
     "text": [
      "C:\\ProgramData\\Anaconda3\\lib\\site-packages\\seaborn\\_decorators.py:36: FutureWarning: Pass the following variables as keyword args: x, y. From version 0.12, the only valid positional argument will be `data`, and passing other arguments without an explicit keyword will result in an error or misinterpretation.\n",
      "  warnings.warn(\n"
     ]
    },
    {
     "data": {
      "text/plain": [
       "<AxesSubplot:xlabel='Status', ylabel='Life expectancy'>"
      ]
     },
     "execution_count": 56,
     "metadata": {},
     "output_type": "execute_result"
    },
    {
     "data": {
      "image/png": "[encoded data removed]",
      "text/plain": [
       "<Figure size 432x288 with 1 Axes>"
      ]
     },
     "metadata": {
      "needs_background": "light"
     },
     "output_type": "display_data"
    }
   ],
   "source": [
    "sns.barplot(df[\"Status\"],df[\"Life expectancy\"])"
   ]
  },
  {
   "cell_type": "code",
   "execution_count": 57,
   "id": "ad11bcd8",
   "metadata": {},
   "outputs": [
    {
     "name": "stderr",
     "output_type": "stream",
     "text": [
      "C:\\ProgramData\\Anaconda3\\lib\\site-packages\\seaborn\\_decorators.py:36: FutureWarning: Pass the following variables as keyword args: x, y. From version 0.12, the only valid positional argument will be `data`, and passing other arguments without an explicit keyword will result in an error or misinterpretation.\n",
      "  warnings.warn(\n",
      "C:\\ProgramData\\Anaconda3\\lib\\site-packages\\seaborn\\_decorators.py:36: FutureWarning: Pass the following variables as keyword args: x, y. From version 0.12, the only valid positional argument will be `data`, and passing other arguments without an explicit keyword will result in an error or misinterpretation.\n",
      "  warnings.warn(\n",
      "C:\\ProgramData\\Anaconda3\\lib\\site-packages\\seaborn\\_decorators.py:36: FutureWarning: Pass the following variables as keyword args: x, y. From version 0.12, the only valid positional argument will be `data`, and passing other arguments without an explicit keyword will result in an error or misinterpretation.\n",
      "  warnings.warn(\n",
      "C:\\ProgramData\\Anaconda3\\lib\\site-packages\\seaborn\\_decorators.py:36: FutureWarning: Pass the following variables as keyword args: x, y. From version 0.12, the only valid positional argument will be `data`, and passing other arguments without an explicit keyword will result in an error or misinterpretation.\n",
      "  warnings.warn(\n"
     ]
    },
    {
     "data": {
      "image/png": "[encoded data removed]",
      "text/plain": [
       "<Figure size 432x288 with 4 Axes>"
      ]
     },
     "metadata": {
      "needs_background": "light"
     },
     "output_type": "display_data"
    }
   ],
   "source": [
    "plt.subplot(221)\n",
    "sns.lineplot(df[\"Year\"],df[\"Hepatitis B\"])\n",
    "plt.subplot(222)\n",
    "sns.lineplot(df[\"Year\"],df[\"Polio\"])\n",
    "plt.subplot(223)\n",
    "sns.lineplot(df[\"Year\"],df[\"Diphtheria\"])\n",
    "plt.subplot(224)\n",
    "sns.lineplot(df[\"Year\"],df[\"HIV/AIDS\"])\n",
    "plt.show()"
   ]
  },
  {
   "cell_type": "markdown",
   "id": "07a303b0",
   "metadata": {},
   "source": [
    "**Step8:**\n",
    "    \n",
    "As data Analyst, you have to compare all the columns with each other and find patters, Comparing 2 or 3 columns at a time can betime consuming. IF your dataset has maximum number of numerical columns, you can use seaborn heatmap to find correlation between all of them. Complete these tasks to have in-depth knowledge of dataset;\n",
    "\n",
    "* Create a heatmap for dataframes correlation and show annotations."
   ]
  },
  {
   "cell_type": "code",
   "execution_count": 58,
   "id": "0a9e4039",
   "metadata": {},
   "outputs": [
    {
     "data": {
      "text/plain": [
       "<AxesSubplot:>"
      ]
     },
     "execution_count": 58,
     "metadata": {},
     "output_type": "execute_result"
    },
    {
     "data": {
      "image/png": "[encoded data removed]",
      "text/plain": [
       "<Figure size 1440x864 with 2 Axes>"
      ]
     },
     "metadata": {
      "needs_background": "light"
     },
     "output_type": "display_data"
    }
   ],
   "source": [
    "plt.figure(figsize=(20,12))\n",
    "sns.heatmap(df.corr(),annot=True)"
   ]
  },
  {
   "cell_type": "code",
   "execution_count": 59,
   "id": "abd89471",
   "metadata": {},
   "outputs": [
    {
     "data": {
      "text/html": [
       "<div>\n",
       "<style scoped>\n",
       "    .dataframe tbody tr th:only-of-type {\n",
       "        vertical-align: middle;\n",
       "    }\n",
       "\n",
       "    .dataframe tbody tr th {\n",
       "        vertical-align: top;\n",
       "    }\n",
       "\n",
       "    .dataframe thead th {\n",
       "        text-align: right;\n",
       "    }\n",
       "</style>\n",
       "<table border=\"1\" class=\"dataframe\">\n",
       "  <thead>\n",
       "    <tr style=\"text-align: right;\">\n",
       "      <th></th>\n",
       "      <th>Year</th>\n",
       "      <th>Life expectancy</th>\n",
       "      <th>Adult Mortality</th>\n",
       "      <th>Alcohol</th>\n",
       "      <th>percentage expenditure</th>\n",
       "      <th>Total expenditure</th>\n",
       "      <th>GDP</th>\n",
       "      <th>Population</th>\n",
       "      <th>thinness  1-19 years</th>\n",
       "      <th>thinness 5-9 years</th>\n",
       "      <th>Income composition of resources</th>\n",
       "      <th>Schooling</th>\n",
       "      <th>infant deaths</th>\n",
       "      <th>Hepatitis B</th>\n",
       "      <th>Measles</th>\n",
       "      <th>BMI</th>\n",
       "      <th>under-five deaths</th>\n",
       "      <th>Polio</th>\n",
       "      <th>Diphtheria</th>\n",
       "      <th>HIV/AIDS</th>\n",
       "    </tr>\n",
       "  </thead>\n",
       "  <tbody>\n",
       "    <tr>\n",
       "      <th>count</th>\n",
       "      <td>2938.000000</td>\n",
       "      <td>2938.000000</td>\n",
       "      <td>2938.000000</td>\n",
       "      <td>2938.000000</td>\n",
       "      <td>2938.000000</td>\n",
       "      <td>2938.000000</td>\n",
       "      <td>2938.000000</td>\n",
       "      <td>2.938000e+03</td>\n",
       "      <td>2938.000000</td>\n",
       "      <td>2938.000000</td>\n",
       "      <td>2938.000000</td>\n",
       "      <td>2938.000000</td>\n",
       "      <td>2938.000000</td>\n",
       "      <td>2938.000000</td>\n",
       "      <td>2938.000000</td>\n",
       "      <td>2938.000000</td>\n",
       "      <td>2938.000000</td>\n",
       "      <td>2938.000000</td>\n",
       "      <td>2938.000000</td>\n",
       "      <td>2938.000000</td>\n",
       "    </tr>\n",
       "    <tr>\n",
       "      <th>mean</th>\n",
       "      <td>2007.518720</td>\n",
       "      <td>69.234717</td>\n",
       "      <td>164.725664</td>\n",
       "      <td>4.546875</td>\n",
       "      <td>738.251295</td>\n",
       "      <td>5.924098</td>\n",
       "      <td>6611.523863</td>\n",
       "      <td>1.023085e+07</td>\n",
       "      <td>4.821886</td>\n",
       "      <td>4.852144</td>\n",
       "      <td>0.630362</td>\n",
       "      <td>12.009837</td>\n",
       "      <td>30.303948</td>\n",
       "      <td>83.022124</td>\n",
       "      <td>2419.592240</td>\n",
       "      <td>38.381178</td>\n",
       "      <td>42.035739</td>\n",
       "      <td>82.617767</td>\n",
       "      <td>82.393125</td>\n",
       "      <td>1.742103</td>\n",
       "    </tr>\n",
       "    <tr>\n",
       "      <th>std</th>\n",
       "      <td>4.613841</td>\n",
       "      <td>9.509115</td>\n",
       "      <td>124.086215</td>\n",
       "      <td>3.921946</td>\n",
       "      <td>1987.914858</td>\n",
       "      <td>2.400770</td>\n",
       "      <td>13296.603449</td>\n",
       "      <td>5.402242e+07</td>\n",
       "      <td>4.397621</td>\n",
       "      <td>4.485854</td>\n",
       "      <td>0.205140</td>\n",
       "      <td>3.265139</td>\n",
       "      <td>117.926501</td>\n",
       "      <td>22.996984</td>\n",
       "      <td>11467.272489</td>\n",
       "      <td>19.935375</td>\n",
       "      <td>160.445548</td>\n",
       "      <td>23.367166</td>\n",
       "      <td>23.655562</td>\n",
       "      <td>5.077785</td>\n",
       "    </tr>\n",
       "    <tr>\n",
       "      <th>min</th>\n",
       "      <td>2000.000000</td>\n",
       "      <td>36.300000</td>\n",
       "      <td>1.000000</td>\n",
       "      <td>0.010000</td>\n",
       "      <td>0.000000</td>\n",
       "      <td>0.370000</td>\n",
       "      <td>1.681350</td>\n",
       "      <td>3.400000e+01</td>\n",
       "      <td>0.100000</td>\n",
       "      <td>0.100000</td>\n",
       "      <td>0.000000</td>\n",
       "      <td>0.000000</td>\n",
       "      <td>0.000000</td>\n",
       "      <td>1.000000</td>\n",
       "      <td>0.000000</td>\n",
       "      <td>1.000000</td>\n",
       "      <td>0.000000</td>\n",
       "      <td>3.000000</td>\n",
       "      <td>2.000000</td>\n",
       "      <td>0.100000</td>\n",
       "    </tr>\n",
       "    <tr>\n",
       "      <th>25%</th>\n",
       "      <td>2004.000000</td>\n",
       "      <td>63.200000</td>\n",
       "      <td>74.000000</td>\n",
       "      <td>1.092500</td>\n",
       "      <td>4.685343</td>\n",
       "      <td>4.370000</td>\n",
       "      <td>580.486996</td>\n",
       "      <td>4.189172e+05</td>\n",
       "      <td>1.600000</td>\n",
       "      <td>1.600000</td>\n",
       "      <td>0.504250</td>\n",
       "      <td>10.300000</td>\n",
       "      <td>0.000000</td>\n",
       "      <td>82.000000</td>\n",
       "      <td>0.000000</td>\n",
       "      <td>19.400000</td>\n",
       "      <td>0.000000</td>\n",
       "      <td>78.000000</td>\n",
       "      <td>78.000000</td>\n",
       "      <td>0.100000</td>\n",
       "    </tr>\n",
       "    <tr>\n",
       "      <th>50%</th>\n",
       "      <td>2008.000000</td>\n",
       "      <td>72.100000</td>\n",
       "      <td>144.000000</td>\n",
       "      <td>3.755000</td>\n",
       "      <td>64.912906</td>\n",
       "      <td>5.755000</td>\n",
       "      <td>1766.947595</td>\n",
       "      <td>1.386542e+06</td>\n",
       "      <td>3.300000</td>\n",
       "      <td>3.300000</td>\n",
       "      <td>0.677000</td>\n",
       "      <td>12.300000</td>\n",
       "      <td>3.000000</td>\n",
       "      <td>92.000000</td>\n",
       "      <td>17.000000</td>\n",
       "      <td>43.500000</td>\n",
       "      <td>4.000000</td>\n",
       "      <td>93.000000</td>\n",
       "      <td>93.000000</td>\n",
       "      <td>0.100000</td>\n",
       "    </tr>\n",
       "    <tr>\n",
       "      <th>75%</th>\n",
       "      <td>2012.000000</td>\n",
       "      <td>75.600000</td>\n",
       "      <td>227.000000</td>\n",
       "      <td>7.390000</td>\n",
       "      <td>441.534144</td>\n",
       "      <td>7.330000</td>\n",
       "      <td>4779.405190</td>\n",
       "      <td>4.584371e+06</td>\n",
       "      <td>7.100000</td>\n",
       "      <td>7.200000</td>\n",
       "      <td>0.772000</td>\n",
       "      <td>14.100000</td>\n",
       "      <td>22.000000</td>\n",
       "      <td>96.000000</td>\n",
       "      <td>360.250000</td>\n",
       "      <td>56.100000</td>\n",
       "      <td>28.000000</td>\n",
       "      <td>97.000000</td>\n",
       "      <td>97.000000</td>\n",
       "      <td>0.800000</td>\n",
       "    </tr>\n",
       "    <tr>\n",
       "      <th>max</th>\n",
       "      <td>2015.000000</td>\n",
       "      <td>89.000000</td>\n",
       "      <td>723.000000</td>\n",
       "      <td>17.870000</td>\n",
       "      <td>19479.911610</td>\n",
       "      <td>17.600000</td>\n",
       "      <td>119172.741800</td>\n",
       "      <td>1.293859e+09</td>\n",
       "      <td>27.700000</td>\n",
       "      <td>28.600000</td>\n",
       "      <td>0.948000</td>\n",
       "      <td>20.700000</td>\n",
       "      <td>1800.000000</td>\n",
       "      <td>99.000000</td>\n",
       "      <td>212183.000000</td>\n",
       "      <td>87.300000</td>\n",
       "      <td>2500.000000</td>\n",
       "      <td>99.000000</td>\n",
       "      <td>99.000000</td>\n",
       "      <td>50.600000</td>\n",
       "    </tr>\n",
       "  </tbody>\n",
       "</table>\n",
       "</div>"
      ],
      "text/plain": [
       "              Year  Life expectancy  Adult Mortality      Alcohol  \\\n",
       "count  2938.000000      2938.000000      2938.000000  2938.000000   \n",
       "mean   2007.518720        69.234717       164.725664     4.546875   \n",
       "std       4.613841         9.509115       124.086215     3.921946   \n",
       "min    2000.000000        36.300000         1.000000     0.010000   \n",
       "25%    2004.000000        63.200000        74.000000     1.092500   \n",
       "50%    2008.000000        72.100000       144.000000     3.755000   \n",
       "75%    2012.000000        75.600000       227.000000     7.390000   \n",
       "max    2015.000000        89.000000       723.000000    17.870000   \n",
       "\n",
       "       percentage expenditure  Total expenditure            GDP    Population  \\\n",
       "count             2938.000000        2938.000000    2938.000000  2.938000e+03   \n",
       "mean               738.251295           5.924098    6611.523863  1.023085e+07   \n",
       "std               1987.914858           2.400770   13296.603449  5.402242e+07   \n",
       "min                  0.000000           0.370000       1.681350  3.400000e+01   \n",
       "25%                  4.685343           4.370000     580.486996  4.189172e+05   \n",
       "50%                 64.912906           5.755000    1766.947595  1.386542e+06   \n",
       "75%                441.534144           7.330000    4779.405190  4.584371e+06   \n",
       "max              19479.911610          17.600000  119172.741800  1.293859e+09   \n",
       "\n",
       "       thinness  1-19 years  thinness 5-9 years  \\\n",
       "count           2938.000000         2938.000000   \n",
       "mean               4.821886            4.852144   \n",
       "std                4.397621            4.485854   \n",
       "min                0.100000            0.100000   \n",
       "25%                1.600000            1.600000   \n",
       "50%                3.300000            3.300000   \n",
       "75%                7.100000            7.200000   \n",
       "max               27.700000           28.600000   \n",
       "\n",
       "       Income composition of resources    Schooling  infant deaths  \\\n",
       "count                      2938.000000  2938.000000    2938.000000   \n",
       "mean                          0.630362    12.009837      30.303948   \n",
       "std                           0.205140     3.265139     117.926501   \n",
       "min                           0.000000     0.000000       0.000000   \n",
       "25%                           0.504250    10.300000       0.000000   \n",
       "50%                           0.677000    12.300000       3.000000   \n",
       "75%                           0.772000    14.100000      22.000000   \n",
       "max                           0.948000    20.700000    1800.000000   \n",
       "\n",
       "       Hepatitis B        Measles          BMI  under-five deaths  \\\n",
       "count  2938.000000    2938.000000  2938.000000        2938.000000   \n",
       "mean     83.022124    2419.592240    38.381178          42.035739   \n",
       "std      22.996984   11467.272489    19.935375         160.445548   \n",
       "min       1.000000       0.000000     1.000000           0.000000   \n",
       "25%      82.000000       0.000000    19.400000           0.000000   \n",
       "50%      92.000000      17.000000    43.500000           4.000000   \n",
       "75%      96.000000     360.250000    56.100000          28.000000   \n",
       "max      99.000000  212183.000000    87.300000        2500.000000   \n",
       "\n",
       "             Polio   Diphtheria     HIV/AIDS  \n",
       "count  2938.000000  2938.000000  2938.000000  \n",
       "mean     82.617767    82.393125     1.742103  \n",
       "std      23.367166    23.655562     5.077785  \n",
       "min       3.000000     2.000000     0.100000  \n",
       "25%      78.000000    78.000000     0.100000  \n",
       "50%      93.000000    93.000000     0.100000  \n",
       "75%      97.000000    97.000000     0.800000  \n",
       "max      99.000000    99.000000    50.600000  "
      ]
     },
     "execution_count": 59,
     "metadata": {},
     "output_type": "execute_result"
    }
   ],
   "source": [
    "df.describe()"
   ]
  },
  {
   "cell_type": "markdown",
   "id": "c61fb3aa",
   "metadata": {},
   "source": [
    "**Scenario4**\n",
    "\n",
    "Congratulations, you have successfully sent a report based on visualiztion to your managers. They will get back to you and explit problem statements in order to draw outcomes. You have already sent insights using visualization and now you can move ahead with more hidden patterns0r find relationships among features."
   ]
  },
  {
   "cell_type": "markdown",
   "id": "ecfd979e",
   "metadata": {},
   "source": [
    "**Step9:**\n",
    "\n",
    "Life expectancy in countries, whether developed or developing, depends on various health facors. You will start with finding the countries which are impacted maximum or minimum against them.\n",
    "* Study the stastical parameters of all features\n",
    "* Countries having minimum BMI\n",
    "* Countries having max of alcohol consumption cases"
   ]
  },
  {
   "cell_type": "code",
   "execution_count": 60,
   "id": "19496032",
   "metadata": {},
   "outputs": [
    {
     "data": {
      "text/html": [
       "<div>\n",
       "<style scoped>\n",
       "    .dataframe tbody tr th:only-of-type {\n",
       "        vertical-align: middle;\n",
       "    }\n",
       "\n",
       "    .dataframe tbody tr th {\n",
       "        vertical-align: top;\n",
       "    }\n",
       "\n",
       "    .dataframe thead th {\n",
       "        text-align: right;\n",
       "    }\n",
       "</style>\n",
       "<table border=\"1\" class=\"dataframe\">\n",
       "  <thead>\n",
       "    <tr style=\"text-align: right;\">\n",
       "      <th></th>\n",
       "      <th>Year</th>\n",
       "      <th>Life expectancy</th>\n",
       "      <th>Adult Mortality</th>\n",
       "      <th>Alcohol</th>\n",
       "      <th>percentage expenditure</th>\n",
       "      <th>Total expenditure</th>\n",
       "      <th>GDP</th>\n",
       "      <th>Population</th>\n",
       "      <th>thinness  1-19 years</th>\n",
       "      <th>thinness 5-9 years</th>\n",
       "      <th>Income composition of resources</th>\n",
       "      <th>Schooling</th>\n",
       "      <th>infant deaths</th>\n",
       "      <th>Hepatitis B</th>\n",
       "      <th>Measles</th>\n",
       "      <th>BMI</th>\n",
       "      <th>under-five deaths</th>\n",
       "      <th>Polio</th>\n",
       "      <th>Diphtheria</th>\n",
       "      <th>HIV/AIDS</th>\n",
       "    </tr>\n",
       "  </thead>\n",
       "  <tbody>\n",
       "    <tr>\n",
       "      <th>count</th>\n",
       "      <td>2938.000000</td>\n",
       "      <td>2938.000000</td>\n",
       "      <td>2938.000000</td>\n",
       "      <td>2938.000000</td>\n",
       "      <td>2938.000000</td>\n",
       "      <td>2938.000000</td>\n",
       "      <td>2938.000000</td>\n",
       "      <td>2.938000e+03</td>\n",
       "      <td>2938.000000</td>\n",
       "      <td>2938.000000</td>\n",
       "      <td>2938.000000</td>\n",
       "      <td>2938.000000</td>\n",
       "      <td>2938.000000</td>\n",
       "      <td>2938.000000</td>\n",
       "      <td>2938.000000</td>\n",
       "      <td>2938.000000</td>\n",
       "      <td>2938.000000</td>\n",
       "      <td>2938.000000</td>\n",
       "      <td>2938.000000</td>\n",
       "      <td>2938.000000</td>\n",
       "    </tr>\n",
       "    <tr>\n",
       "      <th>mean</th>\n",
       "      <td>2007.518720</td>\n",
       "      <td>69.234717</td>\n",
       "      <td>164.725664</td>\n",
       "      <td>4.546875</td>\n",
       "      <td>738.251295</td>\n",
       "      <td>5.924098</td>\n",
       "      <td>6611.523863</td>\n",
       "      <td>1.023085e+07</td>\n",
       "      <td>4.821886</td>\n",
       "      <td>4.852144</td>\n",
       "      <td>0.630362</td>\n",
       "      <td>12.009837</td>\n",
       "      <td>30.303948</td>\n",
       "      <td>83.022124</td>\n",
       "      <td>2419.592240</td>\n",
       "      <td>38.381178</td>\n",
       "      <td>42.035739</td>\n",
       "      <td>82.617767</td>\n",
       "      <td>82.393125</td>\n",
       "      <td>1.742103</td>\n",
       "    </tr>\n",
       "    <tr>\n",
       "      <th>std</th>\n",
       "      <td>4.613841</td>\n",
       "      <td>9.509115</td>\n",
       "      <td>124.086215</td>\n",
       "      <td>3.921946</td>\n",
       "      <td>1987.914858</td>\n",
       "      <td>2.400770</td>\n",
       "      <td>13296.603449</td>\n",
       "      <td>5.402242e+07</td>\n",
       "      <td>4.397621</td>\n",
       "      <td>4.485854</td>\n",
       "      <td>0.205140</td>\n",
       "      <td>3.265139</td>\n",
       "      <td>117.926501</td>\n",
       "      <td>22.996984</td>\n",
       "      <td>11467.272489</td>\n",
       "      <td>19.935375</td>\n",
       "      <td>160.445548</td>\n",
       "      <td>23.367166</td>\n",
       "      <td>23.655562</td>\n",
       "      <td>5.077785</td>\n",
       "    </tr>\n",
       "    <tr>\n",
       "      <th>min</th>\n",
       "      <td>2000.000000</td>\n",
       "      <td>36.300000</td>\n",
       "      <td>1.000000</td>\n",
       "      <td>0.010000</td>\n",
       "      <td>0.000000</td>\n",
       "      <td>0.370000</td>\n",
       "      <td>1.681350</td>\n",
       "      <td>3.400000e+01</td>\n",
       "      <td>0.100000</td>\n",
       "      <td>0.100000</td>\n",
       "      <td>0.000000</td>\n",
       "      <td>0.000000</td>\n",
       "      <td>0.000000</td>\n",
       "      <td>1.000000</td>\n",
       "      <td>0.000000</td>\n",
       "      <td>1.000000</td>\n",
       "      <td>0.000000</td>\n",
       "      <td>3.000000</td>\n",
       "      <td>2.000000</td>\n",
       "      <td>0.100000</td>\n",
       "    </tr>\n",
       "    <tr>\n",
       "      <th>25%</th>\n",
       "      <td>2004.000000</td>\n",
       "      <td>63.200000</td>\n",
       "      <td>74.000000</td>\n",
       "      <td>1.092500</td>\n",
       "      <td>4.685343</td>\n",
       "      <td>4.370000</td>\n",
       "      <td>580.486996</td>\n",
       "      <td>4.189172e+05</td>\n",
       "      <td>1.600000</td>\n",
       "      <td>1.600000</td>\n",
       "      <td>0.504250</td>\n",
       "      <td>10.300000</td>\n",
       "      <td>0.000000</td>\n",
       "      <td>82.000000</td>\n",
       "      <td>0.000000</td>\n",
       "      <td>19.400000</td>\n",
       "      <td>0.000000</td>\n",
       "      <td>78.000000</td>\n",
       "      <td>78.000000</td>\n",
       "      <td>0.100000</td>\n",
       "    </tr>\n",
       "    <tr>\n",
       "      <th>50%</th>\n",
       "      <td>2008.000000</td>\n",
       "      <td>72.100000</td>\n",
       "      <td>144.000000</td>\n",
       "      <td>3.755000</td>\n",
       "      <td>64.912906</td>\n",
       "      <td>5.755000</td>\n",
       "      <td>1766.947595</td>\n",
       "      <td>1.386542e+06</td>\n",
       "      <td>3.300000</td>\n",
       "      <td>3.300000</td>\n",
       "      <td>0.677000</td>\n",
       "      <td>12.300000</td>\n",
       "      <td>3.000000</td>\n",
       "      <td>92.000000</td>\n",
       "      <td>17.000000</td>\n",
       "      <td>43.500000</td>\n",
       "      <td>4.000000</td>\n",
       "      <td>93.000000</td>\n",
       "      <td>93.000000</td>\n",
       "      <td>0.100000</td>\n",
       "    </tr>\n",
       "    <tr>\n",
       "      <th>75%</th>\n",
       "      <td>2012.000000</td>\n",
       "      <td>75.600000</td>\n",
       "      <td>227.000000</td>\n",
       "      <td>7.390000</td>\n",
       "      <td>441.534144</td>\n",
       "      <td>7.330000</td>\n",
       "      <td>4779.405190</td>\n",
       "      <td>4.584371e+06</td>\n",
       "      <td>7.100000</td>\n",
       "      <td>7.200000</td>\n",
       "      <td>0.772000</td>\n",
       "      <td>14.100000</td>\n",
       "      <td>22.000000</td>\n",
       "      <td>96.000000</td>\n",
       "      <td>360.250000</td>\n",
       "      <td>56.100000</td>\n",
       "      <td>28.000000</td>\n",
       "      <td>97.000000</td>\n",
       "      <td>97.000000</td>\n",
       "      <td>0.800000</td>\n",
       "    </tr>\n",
       "    <tr>\n",
       "      <th>max</th>\n",
       "      <td>2015.000000</td>\n",
       "      <td>89.000000</td>\n",
       "      <td>723.000000</td>\n",
       "      <td>17.870000</td>\n",
       "      <td>19479.911610</td>\n",
       "      <td>17.600000</td>\n",
       "      <td>119172.741800</td>\n",
       "      <td>1.293859e+09</td>\n",
       "      <td>27.700000</td>\n",
       "      <td>28.600000</td>\n",
       "      <td>0.948000</td>\n",
       "      <td>20.700000</td>\n",
       "      <td>1800.000000</td>\n",
       "      <td>99.000000</td>\n",
       "      <td>212183.000000</td>\n",
       "      <td>87.300000</td>\n",
       "      <td>2500.000000</td>\n",
       "      <td>99.000000</td>\n",
       "      <td>99.000000</td>\n",
       "      <td>50.600000</td>\n",
       "    </tr>\n",
       "  </tbody>\n",
       "</table>\n",
       "</div>"
      ],
      "text/plain": [
       "              Year  Life expectancy  Adult Mortality      Alcohol  \\\n",
       "count  2938.000000      2938.000000      2938.000000  2938.000000   \n",
       "mean   2007.518720        69.234717       164.725664     4.546875   \n",
       "std       4.613841         9.509115       124.086215     3.921946   \n",
       "min    2000.000000        36.300000         1.000000     0.010000   \n",
       "25%    2004.000000        63.200000        74.000000     1.092500   \n",
       "50%    2008.000000        72.100000       144.000000     3.755000   \n",
       "75%    2012.000000        75.600000       227.000000     7.390000   \n",
       "max    2015.000000        89.000000       723.000000    17.870000   \n",
       "\n",
       "       percentage expenditure  Total expenditure            GDP    Population  \\\n",
       "count             2938.000000        2938.000000    2938.000000  2.938000e+03   \n",
       "mean               738.251295           5.924098    6611.523863  1.023085e+07   \n",
       "std               1987.914858           2.400770   13296.603449  5.402242e+07   \n",
       "min                  0.000000           0.370000       1.681350  3.400000e+01   \n",
       "25%                  4.685343           4.370000     580.486996  4.189172e+05   \n",
       "50%                 64.912906           5.755000    1766.947595  1.386542e+06   \n",
       "75%                441.534144           7.330000    4779.405190  4.584371e+06   \n",
       "max              19479.911610          17.600000  119172.741800  1.293859e+09   \n",
       "\n",
       "       thinness  1-19 years  thinness 5-9 years  \\\n",
       "count           2938.000000         2938.000000   \n",
       "mean               4.821886            4.852144   \n",
       "std                4.397621            4.485854   \n",
       "min                0.100000            0.100000   \n",
       "25%                1.600000            1.600000   \n",
       "50%                3.300000            3.300000   \n",
       "75%                7.100000            7.200000   \n",
       "max               27.700000           28.600000   \n",
       "\n",
       "       Income composition of resources    Schooling  infant deaths  \\\n",
       "count                      2938.000000  2938.000000    2938.000000   \n",
       "mean                          0.630362    12.009837      30.303948   \n",
       "std                           0.205140     3.265139     117.926501   \n",
       "min                           0.000000     0.000000       0.000000   \n",
       "25%                           0.504250    10.300000       0.000000   \n",
       "50%                           0.677000    12.300000       3.000000   \n",
       "75%                           0.772000    14.100000      22.000000   \n",
       "max                           0.948000    20.700000    1800.000000   \n",
       "\n",
       "       Hepatitis B        Measles          BMI  under-five deaths  \\\n",
       "count  2938.000000    2938.000000  2938.000000        2938.000000   \n",
       "mean     83.022124    2419.592240    38.381178          42.035739   \n",
       "std      22.996984   11467.272489    19.935375         160.445548   \n",
       "min       1.000000       0.000000     1.000000           0.000000   \n",
       "25%      82.000000       0.000000    19.400000           0.000000   \n",
       "50%      92.000000      17.000000    43.500000           4.000000   \n",
       "75%      96.000000     360.250000    56.100000          28.000000   \n",
       "max      99.000000  212183.000000    87.300000        2500.000000   \n",
       "\n",
       "             Polio   Diphtheria     HIV/AIDS  \n",
       "count  2938.000000  2938.000000  2938.000000  \n",
       "mean     82.617767    82.393125     1.742103  \n",
       "std      23.367166    23.655562     5.077785  \n",
       "min       3.000000     2.000000     0.100000  \n",
       "25%      78.000000    78.000000     0.100000  \n",
       "50%      93.000000    93.000000     0.100000  \n",
       "75%      97.000000    97.000000     0.800000  \n",
       "max      99.000000    99.000000    50.600000  "
      ]
     },
     "execution_count": 60,
     "metadata": {},
     "output_type": "execute_result"
    }
   ],
   "source": [
    "df.describe()"
   ]
  },
  {
   "cell_type": "code",
   "execution_count": 61,
   "id": "fa58416a",
   "metadata": {},
   "outputs": [
    {
     "data": {
      "text/html": [
       "<div>\n",
       "<style scoped>\n",
       "    .dataframe tbody tr th:only-of-type {\n",
       "        vertical-align: middle;\n",
       "    }\n",
       "\n",
       "    .dataframe tbody tr th {\n",
       "        vertical-align: top;\n",
       "    }\n",
       "\n",
       "    .dataframe thead th {\n",
       "        text-align: right;\n",
       "    }\n",
       "</style>\n",
       "<table border=\"1\" class=\"dataframe\">\n",
       "  <thead>\n",
       "    <tr style=\"text-align: right;\">\n",
       "      <th></th>\n",
       "      <th>Country</th>\n",
       "      <th>Year</th>\n",
       "      <th>Status</th>\n",
       "      <th>Life expectancy</th>\n",
       "      <th>Adult Mortality</th>\n",
       "      <th>Alcohol</th>\n",
       "      <th>percentage expenditure</th>\n",
       "      <th>Total expenditure</th>\n",
       "      <th>GDP</th>\n",
       "      <th>Population</th>\n",
       "      <th>...</th>\n",
       "      <th>Income composition of resources</th>\n",
       "      <th>Schooling</th>\n",
       "      <th>infant deaths</th>\n",
       "      <th>Hepatitis B</th>\n",
       "      <th>Measles</th>\n",
       "      <th>BMI</th>\n",
       "      <th>under-five deaths</th>\n",
       "      <th>Polio</th>\n",
       "      <th>Diphtheria</th>\n",
       "      <th>HIV/AIDS</th>\n",
       "    </tr>\n",
       "  </thead>\n",
       "  <tbody>\n",
       "    <tr>\n",
       "      <th>2887</th>\n",
       "      <td>Viet Nam</td>\n",
       "      <td>2002</td>\n",
       "      <td>Developing</td>\n",
       "      <td>73.8</td>\n",
       "      <td>137.0</td>\n",
       "      <td>2.03</td>\n",
       "      <td>0.0</td>\n",
       "      <td>4.7</td>\n",
       "      <td>1766.947595</td>\n",
       "      <td>1386542.0</td>\n",
       "      <td>...</td>\n",
       "      <td>0.584</td>\n",
       "      <td>10.7</td>\n",
       "      <td>30</td>\n",
       "      <td>92.0</td>\n",
       "      <td>6755</td>\n",
       "      <td>1.0</td>\n",
       "      <td>39</td>\n",
       "      <td>92.0</td>\n",
       "      <td>75.0</td>\n",
       "      <td>0.2</td>\n",
       "    </tr>\n",
       "  </tbody>\n",
       "</table>\n",
       "<p>1 rows × 22 columns</p>\n",
       "</div>"
      ],
      "text/plain": [
       "       Country  Year      Status  Life expectancy  Adult Mortality  Alcohol  \\\n",
       "2887  Viet Nam  2002  Developing             73.8            137.0     2.03   \n",
       "\n",
       "      percentage expenditure  Total expenditure          GDP  Population  ...  \\\n",
       "2887                     0.0                4.7  1766.947595   1386542.0  ...   \n",
       "\n",
       "      Income composition of resources  Schooling  infant deaths  Hepatitis B  \\\n",
       "2887                            0.584       10.7             30         92.0   \n",
       "\n",
       "      Measles  BMI  under-five deaths  Polio  Diphtheria  HIV/AIDS  \n",
       "2887     6755  1.0                 39   92.0        75.0       0.2  \n",
       "\n",
       "[1 rows x 22 columns]"
      ]
     },
     "execution_count": 61,
     "metadata": {},
     "output_type": "execute_result"
    }
   ],
   "source": [
    "# Countires having min BMI\n",
    "df[\"BMI\"]\n",
    "df[df[\"BMI\"]== df[\"BMI\"].min()]\n",
    "# df[df[\"BMI\"]== df[\"BMI\"].min()][\"Country\"]"
   ]
  },
  {
   "cell_type": "code",
   "execution_count": 62,
   "id": "e3deac50",
   "metadata": {},
   "outputs": [
    {
     "data": {
      "text/plain": [
       "874    Estonia\n",
       "Name: Country, dtype: object"
      ]
     },
     "execution_count": 62,
     "metadata": {},
     "output_type": "execute_result"
    }
   ],
   "source": [
    "# Countries having max of alcohol consuption cases\n",
    "df[df[\"Alcohol\"]==df[\"Alcohol\"].max()][\"Country\"]"
   ]
  },
  {
   "cell_type": "code",
   "execution_count": 63,
   "id": "38463ed6",
   "metadata": {},
   "outputs": [
    {
     "data": {
      "text/plain": [
       "1200    2001\n",
       "1201    2000\n",
       "Name: Year, dtype: int64"
      ]
     },
     "execution_count": 63,
     "metadata": {},
     "output_type": "execute_result"
    }
   ],
   "source": [
    "# maximum infants deaths in country.\n",
    "df[df[\"infant deaths\"]==df[\"infant deaths\"].max()][\"Year\"]"
   ]
  },
  {
   "cell_type": "code",
   "execution_count": 67,
   "id": "88db6358",
   "metadata": {},
   "outputs": [
    {
     "data": {
      "text/plain": [
       "69.23471749489448"
      ]
     },
     "execution_count": 67,
     "metadata": {},
     "output_type": "execute_result"
    }
   ],
   "source": [
    "np.average(df[\"Life expectancy\"])"
   ]
  },
  {
   "cell_type": "code",
   "execution_count": 74,
   "id": "ec819199",
   "metadata": {},
   "outputs": [
    {
     "data": {
      "text/html": [
       "<div>\n",
       "<style scoped>\n",
       "    .dataframe tbody tr th:only-of-type {\n",
       "        vertical-align: middle;\n",
       "    }\n",
       "\n",
       "    .dataframe tbody tr th {\n",
       "        vertical-align: top;\n",
       "    }\n",
       "\n",
       "    .dataframe thead th {\n",
       "        text-align: right;\n",
       "    }\n",
       "</style>\n",
       "<table border=\"1\" class=\"dataframe\">\n",
       "  <thead>\n",
       "    <tr style=\"text-align: right;\">\n",
       "      <th></th>\n",
       "      <th>Country</th>\n",
       "      <th>Year</th>\n",
       "      <th>Status</th>\n",
       "      <th>Life expectancy</th>\n",
       "      <th>Adult Mortality</th>\n",
       "      <th>Alcohol</th>\n",
       "      <th>percentage expenditure</th>\n",
       "      <th>Total expenditure</th>\n",
       "      <th>GDP</th>\n",
       "      <th>Population</th>\n",
       "      <th>...</th>\n",
       "      <th>Income composition of resources</th>\n",
       "      <th>Schooling</th>\n",
       "      <th>infant deaths</th>\n",
       "      <th>Hepatitis B</th>\n",
       "      <th>Measles</th>\n",
       "      <th>BMI</th>\n",
       "      <th>under-five deaths</th>\n",
       "      <th>Polio</th>\n",
       "      <th>Diphtheria</th>\n",
       "      <th>HIV/AIDS</th>\n",
       "    </tr>\n",
       "  </thead>\n",
       "  <tbody>\n",
       "    <tr>\n",
       "      <th>1608</th>\n",
       "      <td>Maldives</td>\n",
       "      <td>2009</td>\n",
       "      <td>Developing</td>\n",
       "      <td>76.3</td>\n",
       "      <td>75.0</td>\n",
       "      <td>1.59</td>\n",
       "      <td>100.503021</td>\n",
       "      <td>9.22</td>\n",
       "      <td>597.165900</td>\n",
       "      <td>36.0</td>\n",
       "      <td>...</td>\n",
       "      <td>0.651</td>\n",
       "      <td>11.8</td>\n",
       "      <td>0</td>\n",
       "      <td>98.0</td>\n",
       "      <td>6</td>\n",
       "      <td>21.2</td>\n",
       "      <td>0</td>\n",
       "      <td>98.0</td>\n",
       "      <td>98.0</td>\n",
       "      <td>0.1</td>\n",
       "    </tr>\n",
       "    <tr>\n",
       "      <th>1614</th>\n",
       "      <td>Maldives</td>\n",
       "      <td>2003</td>\n",
       "      <td>Developing</td>\n",
       "      <td>72.7</td>\n",
       "      <td>112.0</td>\n",
       "      <td>1.75</td>\n",
       "      <td>491.497891</td>\n",
       "      <td>5.90</td>\n",
       "      <td>3432.247841</td>\n",
       "      <td>34.0</td>\n",
       "      <td>...</td>\n",
       "      <td>0.601</td>\n",
       "      <td>11.8</td>\n",
       "      <td>0</td>\n",
       "      <td>98.0</td>\n",
       "      <td>75</td>\n",
       "      <td>16.7</td>\n",
       "      <td>0</td>\n",
       "      <td>98.0</td>\n",
       "      <td>98.0</td>\n",
       "      <td>0.1</td>\n",
       "    </tr>\n",
       "  </tbody>\n",
       "</table>\n",
       "<p>2 rows × 22 columns</p>\n",
       "</div>"
      ],
      "text/plain": [
       "       Country  Year      Status  Life expectancy  Adult Mortality  Alcohol  \\\n",
       "1608  Maldives  2009  Developing             76.3             75.0     1.59   \n",
       "1614  Maldives  2003  Developing             72.7            112.0     1.75   \n",
       "\n",
       "      percentage expenditure  Total expenditure          GDP  Population  ...  \\\n",
       "1608              100.503021               9.22   597.165900        36.0  ...   \n",
       "1614              491.497891               5.90  3432.247841        34.0  ...   \n",
       "\n",
       "      Income composition of resources  Schooling  infant deaths  Hepatitis B  \\\n",
       "1608                            0.651       11.8              0         98.0   \n",
       "1614                            0.601       11.8              0         98.0   \n",
       "\n",
       "      Measles   BMI  under-five deaths  Polio  Diphtheria  HIV/AIDS  \n",
       "1608        6  21.2                  0   98.0        98.0       0.1  \n",
       "1614       75  16.7                  0   98.0        98.0       0.1  \n",
       "\n",
       "[2 rows x 22 columns]"
      ]
     },
     "execution_count": 74,
     "metadata": {},
     "output_type": "execute_result"
    }
   ],
   "source": [
    "# country with poplution <40\n",
    "df[df[\"Population\"]<40]"
   ]
  },
  {
   "cell_type": "code",
   "execution_count": 84,
   "id": "54f87a10",
   "metadata": {},
   "outputs": [
    {
     "name": "stderr",
     "output_type": "stream",
     "text": [
      "C:\\ProgramData\\Anaconda3\\lib\\site-packages\\seaborn\\_decorators.py:36: FutureWarning: Pass the following variables as keyword args: x, y. From version 0.12, the only valid positional argument will be `data`, and passing other arguments without an explicit keyword will result in an error or misinterpretation.\n",
      "  warnings.warn(\n"
     ]
    },
    {
     "data": {
      "text/plain": [
       "<AxesSubplot:xlabel='Year', ylabel='Population'>"
      ]
     },
     "execution_count": 84,
     "metadata": {},
     "output_type": "execute_result"
    },
    {
     "data": {
      "image/png": "[encoded data removed]",
      "text/plain": [
       "<Figure size 432x288 with 1 Axes>"
      ]
     },
     "metadata": {
      "needs_background": "light"
     },
     "output_type": "display_data"
    }
   ],
   "source": [
    "# draw the plot of maldives populationabs\n",
    "\n",
    "# m=df[df[\"Country\"]==\"Maldives\"]\n",
    "sns.lineplot(df[\"Year\"],df[df[\"Country\"]==\"Maldives\"][\"Population\"])"
   ]
  },
  {
   "cell_type": "markdown",
   "id": "5da9f996",
   "metadata": {},
   "source": [
    "**Step10:**\n",
    "    \n",
    "You have to study the total expenses done by countries towards the health sector. There is a hidden pattern you can highlight to your manager that can be relatedunrelated to healthe. Compplete below tasks to show your result.\n",
    "* Maldives have the smallest population. YOu can study the percentage of expenses contributed by a country despite such a population. Colllect the data for \"Maldives\" and take it's features, Year, Population, Total  expenditur. sort the data with respect to \"Year\" values.\n",
    "* You have shown a keen interest to find out the Country having maximum Life Expectancy. Studying about their health facilities and expenses done given by the goverment. can help other countries too execute new planes.\n",
    "* Your job role requires you to study about countries spending max of Total Expenditure towards Health, their life expectancy pattern can play a critical role in allocating resources and expenses.\n",
    "* Your job requires you to study about countries spending less than 1% of total expenditure on heealth, identify those countries as they mightbe on the vergee of an emergency.\n",
    "* FInd out the developing countries, which are having max and min populations. This can help you as data analyst in drawing this insights for Total Expences."
   ]
  },
  {
   "cell_type": "code",
   "execution_count": 96,
   "id": "7ed59311",
   "metadata": {},
   "outputs": [
    {
     "data": {
      "text/html": [
       "<div>\n",
       "<style scoped>\n",
       "    .dataframe tbody tr th:only-of-type {\n",
       "        vertical-align: middle;\n",
       "    }\n",
       "\n",
       "    .dataframe tbody tr th {\n",
       "        vertical-align: top;\n",
       "    }\n",
       "\n",
       "    .dataframe thead th {\n",
       "        text-align: right;\n",
       "    }\n",
       "</style>\n",
       "<table border=\"1\" class=\"dataframe\">\n",
       "  <thead>\n",
       "    <tr style=\"text-align: right;\">\n",
       "      <th></th>\n",
       "      <th>Year</th>\n",
       "      <th>Population</th>\n",
       "      <th>Total expenditure</th>\n",
       "    </tr>\n",
       "  </thead>\n",
       "  <tbody>\n",
       "    <tr>\n",
       "      <th>1617</th>\n",
       "      <td>2000</td>\n",
       "      <td>286.0</td>\n",
       "      <td>8.000</td>\n",
       "    </tr>\n",
       "    <tr>\n",
       "      <th>1616</th>\n",
       "      <td>2001</td>\n",
       "      <td>292.0</td>\n",
       "      <td>5.840</td>\n",
       "    </tr>\n",
       "    <tr>\n",
       "      <th>1615</th>\n",
       "      <td>2002</td>\n",
       "      <td>297.0</td>\n",
       "      <td>5.780</td>\n",
       "    </tr>\n",
       "    <tr>\n",
       "      <th>1614</th>\n",
       "      <td>2003</td>\n",
       "      <td>34.0</td>\n",
       "      <td>5.900</td>\n",
       "    </tr>\n",
       "    <tr>\n",
       "      <th>1613</th>\n",
       "      <td>2004</td>\n",
       "      <td>312.0</td>\n",
       "      <td>5.890</td>\n",
       "    </tr>\n",
       "    <tr>\n",
       "      <th>1612</th>\n",
       "      <td>2005</td>\n",
       "      <td>321.0</td>\n",
       "      <td>9.520</td>\n",
       "    </tr>\n",
       "    <tr>\n",
       "      <th>1611</th>\n",
       "      <td>2006</td>\n",
       "      <td>333.0</td>\n",
       "      <td>7.370</td>\n",
       "    </tr>\n",
       "    <tr>\n",
       "      <th>1610</th>\n",
       "      <td>2007</td>\n",
       "      <td>349.0</td>\n",
       "      <td>6.640</td>\n",
       "    </tr>\n",
       "    <tr>\n",
       "      <th>1609</th>\n",
       "      <td>2008</td>\n",
       "      <td>362.0</td>\n",
       "      <td>9.300</td>\n",
       "    </tr>\n",
       "    <tr>\n",
       "      <th>1608</th>\n",
       "      <td>2009</td>\n",
       "      <td>36.0</td>\n",
       "      <td>9.220</td>\n",
       "    </tr>\n",
       "    <tr>\n",
       "      <th>1607</th>\n",
       "      <td>2010</td>\n",
       "      <td>367.0</td>\n",
       "      <td>7.930</td>\n",
       "    </tr>\n",
       "    <tr>\n",
       "      <th>1606</th>\n",
       "      <td>2011</td>\n",
       "      <td>377.0</td>\n",
       "      <td>8.110</td>\n",
       "    </tr>\n",
       "    <tr>\n",
       "      <th>1605</th>\n",
       "      <td>2012</td>\n",
       "      <td>385.0</td>\n",
       "      <td>9.160</td>\n",
       "    </tr>\n",
       "    <tr>\n",
       "      <th>1604</th>\n",
       "      <td>2013</td>\n",
       "      <td>393.0</td>\n",
       "      <td>11.160</td>\n",
       "    </tr>\n",
       "    <tr>\n",
       "      <th>1603</th>\n",
       "      <td>2014</td>\n",
       "      <td>41.0</td>\n",
       "      <td>13.730</td>\n",
       "    </tr>\n",
       "    <tr>\n",
       "      <th>1602</th>\n",
       "      <td>2015</td>\n",
       "      <td>49163.0</td>\n",
       "      <td>5.755</td>\n",
       "    </tr>\n",
       "  </tbody>\n",
       "</table>\n",
       "</div>"
      ],
      "text/plain": [
       "      Year  Population  Total expenditure\n",
       "1617  2000       286.0              8.000\n",
       "1616  2001       292.0              5.840\n",
       "1615  2002       297.0              5.780\n",
       "1614  2003        34.0              5.900\n",
       "1613  2004       312.0              5.890\n",
       "1612  2005       321.0              9.520\n",
       "1611  2006       333.0              7.370\n",
       "1610  2007       349.0              6.640\n",
       "1609  2008       362.0              9.300\n",
       "1608  2009        36.0              9.220\n",
       "1607  2010       367.0              7.930\n",
       "1606  2011       377.0              8.110\n",
       "1605  2012       385.0              9.160\n",
       "1604  2013       393.0             11.160\n",
       "1603  2014        41.0             13.730\n",
       "1602  2015     49163.0              5.755"
      ]
     },
     "execution_count": 96,
     "metadata": {},
     "output_type": "execute_result"
    }
   ],
   "source": [
    "df[df[\"Country\"]==\"Maldives\"][[\"Year\",\"Population\",\"Total expenditure\"]].sort_values(by=\"Year\")"
   ]
  },
  {
   "cell_type": "code",
   "execution_count": 102,
   "id": "908de483",
   "metadata": {},
   "outputs": [
    {
     "data": {
      "text/html": [
       "<div>\n",
       "<style scoped>\n",
       "    .dataframe tbody tr th:only-of-type {\n",
       "        vertical-align: middle;\n",
       "    }\n",
       "\n",
       "    .dataframe tbody tr th {\n",
       "        vertical-align: top;\n",
       "    }\n",
       "\n",
       "    .dataframe thead th {\n",
       "        text-align: right;\n",
       "    }\n",
       "</style>\n",
       "<table border=\"1\" class=\"dataframe\">\n",
       "  <thead>\n",
       "    <tr style=\"text-align: right;\">\n",
       "      <th></th>\n",
       "      <th>Country</th>\n",
       "      <th>Year</th>\n",
       "      <th>Status</th>\n",
       "      <th>Life expectancy</th>\n",
       "      <th>Adult Mortality</th>\n",
       "      <th>Alcohol</th>\n",
       "      <th>percentage expenditure</th>\n",
       "      <th>Total expenditure</th>\n",
       "      <th>GDP</th>\n",
       "      <th>Population</th>\n",
       "      <th>...</th>\n",
       "      <th>Income composition of resources</th>\n",
       "      <th>Schooling</th>\n",
       "      <th>infant deaths</th>\n",
       "      <th>Hepatitis B</th>\n",
       "      <th>Measles</th>\n",
       "      <th>BMI</th>\n",
       "      <th>under-five deaths</th>\n",
       "      <th>Polio</th>\n",
       "      <th>Diphtheria</th>\n",
       "      <th>HIV/AIDS</th>\n",
       "    </tr>\n",
       "  </thead>\n",
       "  <tbody>\n",
       "    <tr>\n",
       "      <th>241</th>\n",
       "      <td>Belgium</td>\n",
       "      <td>2014</td>\n",
       "      <td>Developed</td>\n",
       "      <td>89.0</td>\n",
       "      <td>76.0</td>\n",
       "      <td>12.60</td>\n",
       "      <td>7163.348923</td>\n",
       "      <td>1.59</td>\n",
       "      <td>47439.39684</td>\n",
       "      <td>112957.0</td>\n",
       "      <td>...</td>\n",
       "      <td>0.890</td>\n",
       "      <td>16.3</td>\n",
       "      <td>0</td>\n",
       "      <td>98.0</td>\n",
       "      <td>70</td>\n",
       "      <td>63.4</td>\n",
       "      <td>1</td>\n",
       "      <td>99.0</td>\n",
       "      <td>99.0</td>\n",
       "      <td>0.1</td>\n",
       "    </tr>\n",
       "    <tr>\n",
       "      <th>915</th>\n",
       "      <td>Finland</td>\n",
       "      <td>2014</td>\n",
       "      <td>Developing</td>\n",
       "      <td>89.0</td>\n",
       "      <td>78.0</td>\n",
       "      <td>8.80</td>\n",
       "      <td>6164.455402</td>\n",
       "      <td>9.68</td>\n",
       "      <td>49914.61864</td>\n",
       "      <td>5461512.0</td>\n",
       "      <td>...</td>\n",
       "      <td>0.890</td>\n",
       "      <td>17.0</td>\n",
       "      <td>0</td>\n",
       "      <td>92.0</td>\n",
       "      <td>0</td>\n",
       "      <td>61.7</td>\n",
       "      <td>0</td>\n",
       "      <td>98.0</td>\n",
       "      <td>98.0</td>\n",
       "      <td>0.1</td>\n",
       "    </tr>\n",
       "    <tr>\n",
       "      <th>937</th>\n",
       "      <td>France</td>\n",
       "      <td>2008</td>\n",
       "      <td>Developing</td>\n",
       "      <td>89.0</td>\n",
       "      <td>88.0</td>\n",
       "      <td>11.90</td>\n",
       "      <td>7002.785925</td>\n",
       "      <td>1.57</td>\n",
       "      <td>45413.65710</td>\n",
       "      <td>6437499.0</td>\n",
       "      <td>...</td>\n",
       "      <td>0.877</td>\n",
       "      <td>16.1</td>\n",
       "      <td>3</td>\n",
       "      <td>47.0</td>\n",
       "      <td>604</td>\n",
       "      <td>59.1</td>\n",
       "      <td>3</td>\n",
       "      <td>98.0</td>\n",
       "      <td>98.0</td>\n",
       "      <td>0.1</td>\n",
       "    </tr>\n",
       "    <tr>\n",
       "      <th>938</th>\n",
       "      <td>France</td>\n",
       "      <td>2007</td>\n",
       "      <td>Developing</td>\n",
       "      <td>89.0</td>\n",
       "      <td>89.0</td>\n",
       "      <td>12.20</td>\n",
       "      <td>64.737149</td>\n",
       "      <td>1.45</td>\n",
       "      <td>416.58397</td>\n",
       "      <td>6416229.0</td>\n",
       "      <td>...</td>\n",
       "      <td>0.873</td>\n",
       "      <td>16.1</td>\n",
       "      <td>3</td>\n",
       "      <td>42.0</td>\n",
       "      <td>39</td>\n",
       "      <td>58.6</td>\n",
       "      <td>3</td>\n",
       "      <td>99.0</td>\n",
       "      <td>98.0</td>\n",
       "      <td>0.1</td>\n",
       "    </tr>\n",
       "    <tr>\n",
       "      <th>995</th>\n",
       "      <td>Germany</td>\n",
       "      <td>2014</td>\n",
       "      <td>Developed</td>\n",
       "      <td>89.0</td>\n",
       "      <td>69.0</td>\n",
       "      <td>11.03</td>\n",
       "      <td>941.756291</td>\n",
       "      <td>11.30</td>\n",
       "      <td>4792.65288</td>\n",
       "      <td>89825.0</td>\n",
       "      <td>...</td>\n",
       "      <td>0.920</td>\n",
       "      <td>17.0</td>\n",
       "      <td>2</td>\n",
       "      <td>88.0</td>\n",
       "      <td>443</td>\n",
       "      <td>61.9</td>\n",
       "      <td>3</td>\n",
       "      <td>94.0</td>\n",
       "      <td>95.0</td>\n",
       "      <td>0.1</td>\n",
       "    </tr>\n",
       "    <tr>\n",
       "      <th>1293</th>\n",
       "      <td>Italy</td>\n",
       "      <td>2004</td>\n",
       "      <td>Developed</td>\n",
       "      <td>89.0</td>\n",
       "      <td>66.0</td>\n",
       "      <td>8.98</td>\n",
       "      <td>4270.914882</td>\n",
       "      <td>8.49</td>\n",
       "      <td>31174.56118</td>\n",
       "      <td>57685327.0</td>\n",
       "      <td>...</td>\n",
       "      <td>0.846</td>\n",
       "      <td>15.6</td>\n",
       "      <td>2</td>\n",
       "      <td>96.0</td>\n",
       "      <td>599</td>\n",
       "      <td>57.6</td>\n",
       "      <td>3</td>\n",
       "      <td>97.0</td>\n",
       "      <td>94.0</td>\n",
       "      <td>0.1</td>\n",
       "    </tr>\n",
       "    <tr>\n",
       "      <th>1850</th>\n",
       "      <td>New Zealand</td>\n",
       "      <td>2010</td>\n",
       "      <td>Developed</td>\n",
       "      <td>89.0</td>\n",
       "      <td>71.0</td>\n",
       "      <td>9.62</td>\n",
       "      <td>6664.148708</td>\n",
       "      <td>11.20</td>\n",
       "      <td>33691.34837</td>\n",
       "      <td>1386542.0</td>\n",
       "      <td>...</td>\n",
       "      <td>0.899</td>\n",
       "      <td>20.3</td>\n",
       "      <td>0</td>\n",
       "      <td>9.0</td>\n",
       "      <td>43</td>\n",
       "      <td>64.8</td>\n",
       "      <td>0</td>\n",
       "      <td>93.0</td>\n",
       "      <td>93.0</td>\n",
       "      <td>0.1</td>\n",
       "    </tr>\n",
       "    <tr>\n",
       "      <th>1916</th>\n",
       "      <td>Norway</td>\n",
       "      <td>2009</td>\n",
       "      <td>Developed</td>\n",
       "      <td>89.0</td>\n",
       "      <td>67.0</td>\n",
       "      <td>6.68</td>\n",
       "      <td>142.374943</td>\n",
       "      <td>9.49</td>\n",
       "      <td>817.77681</td>\n",
       "      <td>4828726.0</td>\n",
       "      <td>...</td>\n",
       "      <td>0.936</td>\n",
       "      <td>17.4</td>\n",
       "      <td>0</td>\n",
       "      <td>92.0</td>\n",
       "      <td>2</td>\n",
       "      <td>58.5</td>\n",
       "      <td>0</td>\n",
       "      <td>94.0</td>\n",
       "      <td>94.0</td>\n",
       "      <td>0.1</td>\n",
       "    </tr>\n",
       "    <tr>\n",
       "      <th>2056</th>\n",
       "      <td>Portugal</td>\n",
       "      <td>2014</td>\n",
       "      <td>Developed</td>\n",
       "      <td>89.0</td>\n",
       "      <td>78.0</td>\n",
       "      <td>9.88</td>\n",
       "      <td>271.254553</td>\n",
       "      <td>9.50</td>\n",
       "      <td>2277.53613</td>\n",
       "      <td>14162.0</td>\n",
       "      <td>...</td>\n",
       "      <td>0.837</td>\n",
       "      <td>16.8</td>\n",
       "      <td>0</td>\n",
       "      <td>98.0</td>\n",
       "      <td>0</td>\n",
       "      <td>6.9</td>\n",
       "      <td>0</td>\n",
       "      <td>98.0</td>\n",
       "      <td>98.0</td>\n",
       "      <td>0.1</td>\n",
       "    </tr>\n",
       "    <tr>\n",
       "      <th>2433</th>\n",
       "      <td>Spain</td>\n",
       "      <td>2007</td>\n",
       "      <td>Developed</td>\n",
       "      <td>89.0</td>\n",
       "      <td>72.0</td>\n",
       "      <td>11.05</td>\n",
       "      <td>510.932701</td>\n",
       "      <td>8.36</td>\n",
       "      <td>3279.41400</td>\n",
       "      <td>4522683.0</td>\n",
       "      <td>...</td>\n",
       "      <td>0.849</td>\n",
       "      <td>16.0</td>\n",
       "      <td>2</td>\n",
       "      <td>96.0</td>\n",
       "      <td>267</td>\n",
       "      <td>61.7</td>\n",
       "      <td>2</td>\n",
       "      <td>96.0</td>\n",
       "      <td>96.0</td>\n",
       "      <td>0.1</td>\n",
       "    </tr>\n",
       "    <tr>\n",
       "      <th>2513</th>\n",
       "      <td>Sweden</td>\n",
       "      <td>2007</td>\n",
       "      <td>Developed</td>\n",
       "      <td>89.0</td>\n",
       "      <td>63.0</td>\n",
       "      <td>6.90</td>\n",
       "      <td>7593.391622</td>\n",
       "      <td>8.92</td>\n",
       "      <td>53324.37937</td>\n",
       "      <td>914892.0</td>\n",
       "      <td>...</td>\n",
       "      <td>0.895</td>\n",
       "      <td>15.8</td>\n",
       "      <td>0</td>\n",
       "      <td>92.0</td>\n",
       "      <td>1</td>\n",
       "      <td>56.1</td>\n",
       "      <td>0</td>\n",
       "      <td>98.0</td>\n",
       "      <td>98.0</td>\n",
       "      <td>0.1</td>\n",
       "    </tr>\n",
       "  </tbody>\n",
       "</table>\n",
       "<p>11 rows × 22 columns</p>\n",
       "</div>"
      ],
      "text/plain": [
       "          Country  Year      Status  Life expectancy  Adult Mortality  \\\n",
       "241       Belgium  2014   Developed             89.0             76.0   \n",
       "915       Finland  2014  Developing             89.0             78.0   \n",
       "937        France  2008  Developing             89.0             88.0   \n",
       "938        France  2007  Developing             89.0             89.0   \n",
       "995       Germany  2014   Developed             89.0             69.0   \n",
       "1293        Italy  2004   Developed             89.0             66.0   \n",
       "1850  New Zealand  2010   Developed             89.0             71.0   \n",
       "1916       Norway  2009   Developed             89.0             67.0   \n",
       "2056     Portugal  2014   Developed             89.0             78.0   \n",
       "2433        Spain  2007   Developed             89.0             72.0   \n",
       "2513       Sweden  2007   Developed             89.0             63.0   \n",
       "\n",
       "      Alcohol  percentage expenditure  Total expenditure          GDP  \\\n",
       "241     12.60             7163.348923               1.59  47439.39684   \n",
       "915      8.80             6164.455402               9.68  49914.61864   \n",
       "937     11.90             7002.785925               1.57  45413.65710   \n",
       "938     12.20               64.737149               1.45    416.58397   \n",
       "995     11.03              941.756291              11.30   4792.65288   \n",
       "1293     8.98             4270.914882               8.49  31174.56118   \n",
       "1850     9.62             6664.148708              11.20  33691.34837   \n",
       "1916     6.68              142.374943               9.49    817.77681   \n",
       "2056     9.88              271.254553               9.50   2277.53613   \n",
       "2433    11.05              510.932701               8.36   3279.41400   \n",
       "2513     6.90             7593.391622               8.92  53324.37937   \n",
       "\n",
       "      Population  ...  Income composition of resources  Schooling  \\\n",
       "241     112957.0  ...                            0.890       16.3   \n",
       "915    5461512.0  ...                            0.890       17.0   \n",
       "937    6437499.0  ...                            0.877       16.1   \n",
       "938    6416229.0  ...                            0.873       16.1   \n",
       "995      89825.0  ...                            0.920       17.0   \n",
       "1293  57685327.0  ...                            0.846       15.6   \n",
       "1850   1386542.0  ...                            0.899       20.3   \n",
       "1916   4828726.0  ...                            0.936       17.4   \n",
       "2056     14162.0  ...                            0.837       16.8   \n",
       "2433   4522683.0  ...                            0.849       16.0   \n",
       "2513    914892.0  ...                            0.895       15.8   \n",
       "\n",
       "      infant deaths  Hepatitis B  Measles   BMI  under-five deaths  Polio  \\\n",
       "241               0         98.0       70  63.4                  1   99.0   \n",
       "915               0         92.0        0  61.7                  0   98.0   \n",
       "937               3         47.0      604  59.1                  3   98.0   \n",
       "938               3         42.0       39  58.6                  3   99.0   \n",
       "995               2         88.0      443  61.9                  3   94.0   \n",
       "1293              2         96.0      599  57.6                  3   97.0   \n",
       "1850              0          9.0       43  64.8                  0   93.0   \n",
       "1916              0         92.0        2  58.5                  0   94.0   \n",
       "2056              0         98.0        0   6.9                  0   98.0   \n",
       "2433              2         96.0      267  61.7                  2   96.0   \n",
       "2513              0         92.0        1  56.1                  0   98.0   \n",
       "\n",
       "      Diphtheria  HIV/AIDS  \n",
       "241         99.0       0.1  \n",
       "915         98.0       0.1  \n",
       "937         98.0       0.1  \n",
       "938         98.0       0.1  \n",
       "995         95.0       0.1  \n",
       "1293        94.0       0.1  \n",
       "1850        93.0       0.1  \n",
       "1916        94.0       0.1  \n",
       "2056        98.0       0.1  \n",
       "2433        96.0       0.1  \n",
       "2513        98.0       0.1  \n",
       "\n",
       "[11 rows x 22 columns]"
      ]
     },
     "execution_count": 102,
     "metadata": {},
     "output_type": "execute_result"
    }
   ],
   "source": [
    "df[df[\"Life expectancy\"]==df[\"Life expectancy\"].max()]"
   ]
  },
  {
   "cell_type": "code",
   "execution_count": 106,
   "id": "5d09ffde",
   "metadata": {},
   "outputs": [
    {
     "data": {
      "text/plain": [
       "10"
      ]
     },
     "execution_count": 106,
     "metadata": {},
     "output_type": "execute_result"
    }
   ],
   "source": [
    "df[df[\"Life expectancy\"]==df[\"Life expectancy\"].max()][\"Country\"].nunique()"
   ]
  },
  {
   "cell_type": "code",
   "execution_count": 113,
   "id": "403070dc",
   "metadata": {},
   "outputs": [
    {
     "data": {
      "text/plain": [
       "array(['Timor-Leste'], dtype=object)"
      ]
     },
     "execution_count": 113,
     "metadata": {},
     "output_type": "execute_result"
    }
   ],
   "source": [
    "# country spending less than 1%\n",
    "df[df[\"Total expenditure\"]<1][\"Country\"].unique()"
   ]
  },
  {
   "cell_type": "code",
   "execution_count": 118,
   "id": "c51409f8",
   "metadata": {},
   "outputs": [
    {
     "data": {
      "text/html": [
       "<div>\n",
       "<style scoped>\n",
       "    .dataframe tbody tr th:only-of-type {\n",
       "        vertical-align: middle;\n",
       "    }\n",
       "\n",
       "    .dataframe tbody tr th {\n",
       "        vertical-align: top;\n",
       "    }\n",
       "\n",
       "    .dataframe thead th {\n",
       "        text-align: right;\n",
       "    }\n",
       "</style>\n",
       "<table border=\"1\" class=\"dataframe\">\n",
       "  <thead>\n",
       "    <tr style=\"text-align: right;\">\n",
       "      <th></th>\n",
       "      <th>Country</th>\n",
       "      <th>Year</th>\n",
       "      <th>Status</th>\n",
       "      <th>Life expectancy</th>\n",
       "      <th>Adult Mortality</th>\n",
       "      <th>Alcohol</th>\n",
       "      <th>percentage expenditure</th>\n",
       "      <th>Total expenditure</th>\n",
       "      <th>GDP</th>\n",
       "      <th>Population</th>\n",
       "      <th>...</th>\n",
       "      <th>Income composition of resources</th>\n",
       "      <th>Schooling</th>\n",
       "      <th>infant deaths</th>\n",
       "      <th>Hepatitis B</th>\n",
       "      <th>Measles</th>\n",
       "      <th>BMI</th>\n",
       "      <th>under-five deaths</th>\n",
       "      <th>Polio</th>\n",
       "      <th>Diphtheria</th>\n",
       "      <th>HIV/AIDS</th>\n",
       "    </tr>\n",
       "  </thead>\n",
       "  <tbody>\n",
       "    <tr>\n",
       "      <th>2616</th>\n",
       "      <td>Timor-Leste</td>\n",
       "      <td>2000</td>\n",
       "      <td>Developing</td>\n",
       "      <td>58.7</td>\n",
       "      <td>276.0</td>\n",
       "      <td>0.500</td>\n",
       "      <td>49.069672</td>\n",
       "      <td>3.260</td>\n",
       "      <td>422.286330</td>\n",
       "      <td>87167.0</td>\n",
       "      <td>...</td>\n",
       "      <td>0.000</td>\n",
       "      <td>0.0</td>\n",
       "      <td>3</td>\n",
       "      <td>92.0</td>\n",
       "      <td>0</td>\n",
       "      <td>11.9</td>\n",
       "      <td>4</td>\n",
       "      <td>93.0</td>\n",
       "      <td>93.0</td>\n",
       "      <td>0.1</td>\n",
       "    </tr>\n",
       "    <tr>\n",
       "      <th>2615</th>\n",
       "      <td>Timor-Leste</td>\n",
       "      <td>2001</td>\n",
       "      <td>Developing</td>\n",
       "      <td>59.4</td>\n",
       "      <td>269.0</td>\n",
       "      <td>0.500</td>\n",
       "      <td>6.556583</td>\n",
       "      <td>3.750</td>\n",
       "      <td>56.424987</td>\n",
       "      <td>892531.0</td>\n",
       "      <td>...</td>\n",
       "      <td>0.470</td>\n",
       "      <td>9.8</td>\n",
       "      <td>3</td>\n",
       "      <td>92.0</td>\n",
       "      <td>0</td>\n",
       "      <td>12.3</td>\n",
       "      <td>4</td>\n",
       "      <td>93.0</td>\n",
       "      <td>93.0</td>\n",
       "      <td>0.1</td>\n",
       "    </tr>\n",
       "    <tr>\n",
       "      <th>2613</th>\n",
       "      <td>Timor-Leste</td>\n",
       "      <td>2003</td>\n",
       "      <td>Developing</td>\n",
       "      <td>61.0</td>\n",
       "      <td>25.0</td>\n",
       "      <td>0.440</td>\n",
       "      <td>46.391328</td>\n",
       "      <td>2.480</td>\n",
       "      <td>471.456582</td>\n",
       "      <td>96852.0</td>\n",
       "      <td>...</td>\n",
       "      <td>0.485</td>\n",
       "      <td>9.8</td>\n",
       "      <td>3</td>\n",
       "      <td>92.0</td>\n",
       "      <td>94</td>\n",
       "      <td>12.9</td>\n",
       "      <td>4</td>\n",
       "      <td>55.0</td>\n",
       "      <td>55.0</td>\n",
       "      <td>0.1</td>\n",
       "    </tr>\n",
       "    <tr>\n",
       "      <th>2614</th>\n",
       "      <td>Timor-Leste</td>\n",
       "      <td>2002</td>\n",
       "      <td>Developing</td>\n",
       "      <td>62.0</td>\n",
       "      <td>261.0</td>\n",
       "      <td>0.480</td>\n",
       "      <td>5.649123</td>\n",
       "      <td>3.890</td>\n",
       "      <td>48.615520</td>\n",
       "      <td>923825.0</td>\n",
       "      <td>...</td>\n",
       "      <td>0.475</td>\n",
       "      <td>9.8</td>\n",
       "      <td>3</td>\n",
       "      <td>92.0</td>\n",
       "      <td>0</td>\n",
       "      <td>12.6</td>\n",
       "      <td>4</td>\n",
       "      <td>38.0</td>\n",
       "      <td>54.0</td>\n",
       "      <td>0.1</td>\n",
       "    </tr>\n",
       "    <tr>\n",
       "      <th>2612</th>\n",
       "      <td>Timor-Leste</td>\n",
       "      <td>2004</td>\n",
       "      <td>Developing</td>\n",
       "      <td>62.3</td>\n",
       "      <td>229.0</td>\n",
       "      <td>0.380</td>\n",
       "      <td>8.415789</td>\n",
       "      <td>1.310</td>\n",
       "      <td>467.543830</td>\n",
       "      <td>996698.0</td>\n",
       "      <td>...</td>\n",
       "      <td>0.484</td>\n",
       "      <td>10.2</td>\n",
       "      <td>3</td>\n",
       "      <td>92.0</td>\n",
       "      <td>41</td>\n",
       "      <td>13.2</td>\n",
       "      <td>3</td>\n",
       "      <td>57.0</td>\n",
       "      <td>57.0</td>\n",
       "      <td>0.1</td>\n",
       "    </tr>\n",
       "    <tr>\n",
       "      <th>2611</th>\n",
       "      <td>Timor-Leste</td>\n",
       "      <td>2005</td>\n",
       "      <td>Developing</td>\n",
       "      <td>63.7</td>\n",
       "      <td>26.0</td>\n",
       "      <td>0.360</td>\n",
       "      <td>7.127145</td>\n",
       "      <td>1.500</td>\n",
       "      <td>478.331859</td>\n",
       "      <td>126484.0</td>\n",
       "      <td>...</td>\n",
       "      <td>0.492</td>\n",
       "      <td>10.6</td>\n",
       "      <td>3</td>\n",
       "      <td>92.0</td>\n",
       "      <td>203</td>\n",
       "      <td>13.5</td>\n",
       "      <td>3</td>\n",
       "      <td>55.0</td>\n",
       "      <td>55.0</td>\n",
       "      <td>0.1</td>\n",
       "    </tr>\n",
       "    <tr>\n",
       "      <th>2610</th>\n",
       "      <td>Timor-Leste</td>\n",
       "      <td>2006</td>\n",
       "      <td>Developing</td>\n",
       "      <td>64.9</td>\n",
       "      <td>186.0</td>\n",
       "      <td>0.040</td>\n",
       "      <td>28.125605</td>\n",
       "      <td>0.650</td>\n",
       "      <td>441.532260</td>\n",
       "      <td>148621.0</td>\n",
       "      <td>...</td>\n",
       "      <td>0.511</td>\n",
       "      <td>11.0</td>\n",
       "      <td>2</td>\n",
       "      <td>92.0</td>\n",
       "      <td>90</td>\n",
       "      <td>13.9</td>\n",
       "      <td>3</td>\n",
       "      <td>62.0</td>\n",
       "      <td>63.0</td>\n",
       "      <td>0.1</td>\n",
       "    </tr>\n",
       "    <tr>\n",
       "      <th>2609</th>\n",
       "      <td>Timor-Leste</td>\n",
       "      <td>2007</td>\n",
       "      <td>Developing</td>\n",
       "      <td>65.8</td>\n",
       "      <td>173.0</td>\n",
       "      <td>0.050</td>\n",
       "      <td>11.757669</td>\n",
       "      <td>0.370</td>\n",
       "      <td>524.895936</td>\n",
       "      <td>164973.0</td>\n",
       "      <td>...</td>\n",
       "      <td>0.541</td>\n",
       "      <td>11.3</td>\n",
       "      <td>2</td>\n",
       "      <td>92.0</td>\n",
       "      <td>0</td>\n",
       "      <td>14.2</td>\n",
       "      <td>3</td>\n",
       "      <td>7.0</td>\n",
       "      <td>7.0</td>\n",
       "      <td>0.1</td>\n",
       "    </tr>\n",
       "    <tr>\n",
       "      <th>2608</th>\n",
       "      <td>Timor-Leste</td>\n",
       "      <td>2008</td>\n",
       "      <td>Developing</td>\n",
       "      <td>66.2</td>\n",
       "      <td>168.0</td>\n",
       "      <td>0.060</td>\n",
       "      <td>36.691989</td>\n",
       "      <td>0.740</td>\n",
       "      <td>643.719110</td>\n",
       "      <td>17811.0</td>\n",
       "      <td>...</td>\n",
       "      <td>0.566</td>\n",
       "      <td>11.7</td>\n",
       "      <td>2</td>\n",
       "      <td>79.0</td>\n",
       "      <td>0</td>\n",
       "      <td>14.7</td>\n",
       "      <td>3</td>\n",
       "      <td>79.0</td>\n",
       "      <td>79.0</td>\n",
       "      <td>0.1</td>\n",
       "    </tr>\n",
       "    <tr>\n",
       "      <th>2607</th>\n",
       "      <td>Timor-Leste</td>\n",
       "      <td>2009</td>\n",
       "      <td>Developing</td>\n",
       "      <td>66.6</td>\n",
       "      <td>165.0</td>\n",
       "      <td>0.090</td>\n",
       "      <td>36.199487</td>\n",
       "      <td>1.200</td>\n",
       "      <td>757.311444</td>\n",
       "      <td>19221.0</td>\n",
       "      <td>...</td>\n",
       "      <td>0.599</td>\n",
       "      <td>12.1</td>\n",
       "      <td>2</td>\n",
       "      <td>72.0</td>\n",
       "      <td>10</td>\n",
       "      <td>15.1</td>\n",
       "      <td>3</td>\n",
       "      <td>78.0</td>\n",
       "      <td>72.0</td>\n",
       "      <td>0.1</td>\n",
       "    </tr>\n",
       "    <tr>\n",
       "      <th>2606</th>\n",
       "      <td>Timor-Leste</td>\n",
       "      <td>2010</td>\n",
       "      <td>Developing</td>\n",
       "      <td>66.9</td>\n",
       "      <td>163.0</td>\n",
       "      <td>0.100</td>\n",
       "      <td>38.583766</td>\n",
       "      <td>0.920</td>\n",
       "      <td>849.862697</td>\n",
       "      <td>119591.0</td>\n",
       "      <td>...</td>\n",
       "      <td>0.599</td>\n",
       "      <td>12.4</td>\n",
       "      <td>2</td>\n",
       "      <td>72.0</td>\n",
       "      <td>50</td>\n",
       "      <td>15.5</td>\n",
       "      <td>3</td>\n",
       "      <td>72.0</td>\n",
       "      <td>72.0</td>\n",
       "      <td>0.1</td>\n",
       "    </tr>\n",
       "    <tr>\n",
       "      <th>2605</th>\n",
       "      <td>Timor-Leste</td>\n",
       "      <td>2011</td>\n",
       "      <td>Developing</td>\n",
       "      <td>67.2</td>\n",
       "      <td>161.0</td>\n",
       "      <td>0.500</td>\n",
       "      <td>2.726571</td>\n",
       "      <td>0.760</td>\n",
       "      <td>114.561790</td>\n",
       "      <td>1131523.0</td>\n",
       "      <td>...</td>\n",
       "      <td>0.607</td>\n",
       "      <td>12.5</td>\n",
       "      <td>2</td>\n",
       "      <td>67.0</td>\n",
       "      <td>763</td>\n",
       "      <td>15.8</td>\n",
       "      <td>3</td>\n",
       "      <td>66.0</td>\n",
       "      <td>67.0</td>\n",
       "      <td>0.1</td>\n",
       "    </tr>\n",
       "    <tr>\n",
       "      <th>2604</th>\n",
       "      <td>Timor-Leste</td>\n",
       "      <td>2012</td>\n",
       "      <td>Developing</td>\n",
       "      <td>67.4</td>\n",
       "      <td>159.0</td>\n",
       "      <td>0.010</td>\n",
       "      <td>30.179985</td>\n",
       "      <td>1.100</td>\n",
       "      <td>1117.777240</td>\n",
       "      <td>115676.0</td>\n",
       "      <td>...</td>\n",
       "      <td>0.618</td>\n",
       "      <td>12.5</td>\n",
       "      <td>2</td>\n",
       "      <td>83.0</td>\n",
       "      <td>16</td>\n",
       "      <td>16.2</td>\n",
       "      <td>2</td>\n",
       "      <td>83.0</td>\n",
       "      <td>83.0</td>\n",
       "      <td>0.1</td>\n",
       "    </tr>\n",
       "    <tr>\n",
       "      <th>2603</th>\n",
       "      <td>Timor-Leste</td>\n",
       "      <td>2013</td>\n",
       "      <td>Developing</td>\n",
       "      <td>67.7</td>\n",
       "      <td>158.0</td>\n",
       "      <td>0.010</td>\n",
       "      <td>3.379875</td>\n",
       "      <td>1.290</td>\n",
       "      <td>117.765674</td>\n",
       "      <td>1184366.0</td>\n",
       "      <td>...</td>\n",
       "      <td>0.620</td>\n",
       "      <td>12.5</td>\n",
       "      <td>2</td>\n",
       "      <td>82.0</td>\n",
       "      <td>4</td>\n",
       "      <td>16.6</td>\n",
       "      <td>2</td>\n",
       "      <td>82.0</td>\n",
       "      <td>82.0</td>\n",
       "      <td>0.1</td>\n",
       "    </tr>\n",
       "    <tr>\n",
       "      <th>2602</th>\n",
       "      <td>Timor-Leste</td>\n",
       "      <td>2014</td>\n",
       "      <td>Developing</td>\n",
       "      <td>68.0</td>\n",
       "      <td>155.0</td>\n",
       "      <td>0.010</td>\n",
       "      <td>28.145785</td>\n",
       "      <td>1.480</td>\n",
       "      <td>1153.515780</td>\n",
       "      <td>1212814.0</td>\n",
       "      <td>...</td>\n",
       "      <td>0.612</td>\n",
       "      <td>12.5</td>\n",
       "      <td>2</td>\n",
       "      <td>77.0</td>\n",
       "      <td>47</td>\n",
       "      <td>17.0</td>\n",
       "      <td>2</td>\n",
       "      <td>76.0</td>\n",
       "      <td>77.0</td>\n",
       "      <td>0.1</td>\n",
       "    </tr>\n",
       "    <tr>\n",
       "      <th>2601</th>\n",
       "      <td>Timor-Leste</td>\n",
       "      <td>2015</td>\n",
       "      <td>Developing</td>\n",
       "      <td>68.3</td>\n",
       "      <td>152.0</td>\n",
       "      <td>3.755</td>\n",
       "      <td>0.000000</td>\n",
       "      <td>5.755</td>\n",
       "      <td>1161.769350</td>\n",
       "      <td>124977.0</td>\n",
       "      <td>...</td>\n",
       "      <td>0.603</td>\n",
       "      <td>12.5</td>\n",
       "      <td>2</td>\n",
       "      <td>76.0</td>\n",
       "      <td>43</td>\n",
       "      <td>17.4</td>\n",
       "      <td>2</td>\n",
       "      <td>75.0</td>\n",
       "      <td>76.0</td>\n",
       "      <td>0.1</td>\n",
       "    </tr>\n",
       "  </tbody>\n",
       "</table>\n",
       "<p>16 rows × 22 columns</p>\n",
       "</div>"
      ],
      "text/plain": [
       "          Country  Year      Status  Life expectancy  Adult Mortality  \\\n",
       "2616  Timor-Leste  2000  Developing             58.7            276.0   \n",
       "2615  Timor-Leste  2001  Developing             59.4            269.0   \n",
       "2613  Timor-Leste  2003  Developing             61.0             25.0   \n",
       "2614  Timor-Leste  2002  Developing             62.0            261.0   \n",
       "2612  Timor-Leste  2004  Developing             62.3            229.0   \n",
       "2611  Timor-Leste  2005  Developing             63.7             26.0   \n",
       "2610  Timor-Leste  2006  Developing             64.9            186.0   \n",
       "2609  Timor-Leste  2007  Developing             65.8            173.0   \n",
       "2608  Timor-Leste  2008  Developing             66.2            168.0   \n",
       "2607  Timor-Leste  2009  Developing             66.6            165.0   \n",
       "2606  Timor-Leste  2010  Developing             66.9            163.0   \n",
       "2605  Timor-Leste  2011  Developing             67.2            161.0   \n",
       "2604  Timor-Leste  2012  Developing             67.4            159.0   \n",
       "2603  Timor-Leste  2013  Developing             67.7            158.0   \n",
       "2602  Timor-Leste  2014  Developing             68.0            155.0   \n",
       "2601  Timor-Leste  2015  Developing             68.3            152.0   \n",
       "\n",
       "      Alcohol  percentage expenditure  Total expenditure          GDP  \\\n",
       "2616    0.500               49.069672              3.260   422.286330   \n",
       "2615    0.500                6.556583              3.750    56.424987   \n",
       "2613    0.440               46.391328              2.480   471.456582   \n",
       "2614    0.480                5.649123              3.890    48.615520   \n",
       "2612    0.380                8.415789              1.310   467.543830   \n",
       "2611    0.360                7.127145              1.500   478.331859   \n",
       "2610    0.040               28.125605              0.650   441.532260   \n",
       "2609    0.050               11.757669              0.370   524.895936   \n",
       "2608    0.060               36.691989              0.740   643.719110   \n",
       "2607    0.090               36.199487              1.200   757.311444   \n",
       "2606    0.100               38.583766              0.920   849.862697   \n",
       "2605    0.500                2.726571              0.760   114.561790   \n",
       "2604    0.010               30.179985              1.100  1117.777240   \n",
       "2603    0.010                3.379875              1.290   117.765674   \n",
       "2602    0.010               28.145785              1.480  1153.515780   \n",
       "2601    3.755                0.000000              5.755  1161.769350   \n",
       "\n",
       "      Population  ...  Income composition of resources  Schooling  \\\n",
       "2616     87167.0  ...                            0.000        0.0   \n",
       "2615    892531.0  ...                            0.470        9.8   \n",
       "2613     96852.0  ...                            0.485        9.8   \n",
       "2614    923825.0  ...                            0.475        9.8   \n",
       "2612    996698.0  ...                            0.484       10.2   \n",
       "2611    126484.0  ...                            0.492       10.6   \n",
       "2610    148621.0  ...                            0.511       11.0   \n",
       "2609    164973.0  ...                            0.541       11.3   \n",
       "2608     17811.0  ...                            0.566       11.7   \n",
       "2607     19221.0  ...                            0.599       12.1   \n",
       "2606    119591.0  ...                            0.599       12.4   \n",
       "2605   1131523.0  ...                            0.607       12.5   \n",
       "2604    115676.0  ...                            0.618       12.5   \n",
       "2603   1184366.0  ...                            0.620       12.5   \n",
       "2602   1212814.0  ...                            0.612       12.5   \n",
       "2601    124977.0  ...                            0.603       12.5   \n",
       "\n",
       "      infant deaths  Hepatitis B  Measles   BMI  under-five deaths  Polio  \\\n",
       "2616              3         92.0        0  11.9                  4   93.0   \n",
       "2615              3         92.0        0  12.3                  4   93.0   \n",
       "2613              3         92.0       94  12.9                  4   55.0   \n",
       "2614              3         92.0        0  12.6                  4   38.0   \n",
       "2612              3         92.0       41  13.2                  3   57.0   \n",
       "2611              3         92.0      203  13.5                  3   55.0   \n",
       "2610              2         92.0       90  13.9                  3   62.0   \n",
       "2609              2         92.0        0  14.2                  3    7.0   \n",
       "2608              2         79.0        0  14.7                  3   79.0   \n",
       "2607              2         72.0       10  15.1                  3   78.0   \n",
       "2606              2         72.0       50  15.5                  3   72.0   \n",
       "2605              2         67.0      763  15.8                  3   66.0   \n",
       "2604              2         83.0       16  16.2                  2   83.0   \n",
       "2603              2         82.0        4  16.6                  2   82.0   \n",
       "2602              2         77.0       47  17.0                  2   76.0   \n",
       "2601              2         76.0       43  17.4                  2   75.0   \n",
       "\n",
       "      Diphtheria  HIV/AIDS  \n",
       "2616        93.0       0.1  \n",
       "2615        93.0       0.1  \n",
       "2613        55.0       0.1  \n",
       "2614        54.0       0.1  \n",
       "2612        57.0       0.1  \n",
       "2611        55.0       0.1  \n",
       "2610        63.0       0.1  \n",
       "2609         7.0       0.1  \n",
       "2608        79.0       0.1  \n",
       "2607        72.0       0.1  \n",
       "2606        72.0       0.1  \n",
       "2605        67.0       0.1  \n",
       "2604        83.0       0.1  \n",
       "2603        82.0       0.1  \n",
       "2602        77.0       0.1  \n",
       "2601        76.0       0.1  \n",
       "\n",
       "[16 rows x 22 columns]"
      ]
     },
     "execution_count": 118,
     "metadata": {},
     "output_type": "execute_result"
    }
   ],
   "source": [
    "df[df[\"Country\"]==\"Timor-Leste\"].sort_values(\"Life expectancy\")"
   ]
  },
  {
   "cell_type": "code",
   "execution_count": 120,
   "id": "5f738400",
   "metadata": {},
   "outputs": [
    {
     "data": {
      "text/html": [
       "<div>\n",
       "<style scoped>\n",
       "    .dataframe tbody tr th:only-of-type {\n",
       "        vertical-align: middle;\n",
       "    }\n",
       "\n",
       "    .dataframe tbody tr th {\n",
       "        vertical-align: top;\n",
       "    }\n",
       "\n",
       "    .dataframe thead th {\n",
       "        text-align: right;\n",
       "    }\n",
       "</style>\n",
       "<table border=\"1\" class=\"dataframe\">\n",
       "  <thead>\n",
       "    <tr style=\"text-align: right;\">\n",
       "      <th></th>\n",
       "      <th>Country</th>\n",
       "      <th>Year</th>\n",
       "      <th>Status</th>\n",
       "      <th>Life expectancy</th>\n",
       "      <th>Adult Mortality</th>\n",
       "      <th>Alcohol</th>\n",
       "      <th>percentage expenditure</th>\n",
       "      <th>Total expenditure</th>\n",
       "      <th>GDP</th>\n",
       "      <th>Population</th>\n",
       "      <th>...</th>\n",
       "      <th>Income composition of resources</th>\n",
       "      <th>Schooling</th>\n",
       "      <th>infant deaths</th>\n",
       "      <th>Hepatitis B</th>\n",
       "      <th>Measles</th>\n",
       "      <th>BMI</th>\n",
       "      <th>under-five deaths</th>\n",
       "      <th>Polio</th>\n",
       "      <th>Diphtheria</th>\n",
       "      <th>HIV/AIDS</th>\n",
       "    </tr>\n",
       "  </thead>\n",
       "  <tbody>\n",
       "    <tr>\n",
       "      <th>2798</th>\n",
       "      <td>United States of America</td>\n",
       "      <td>2011</td>\n",
       "      <td>Developed</td>\n",
       "      <td>78.7</td>\n",
       "      <td>16.0</td>\n",
       "      <td>8.67</td>\n",
       "      <td>0.0</td>\n",
       "      <td>17.6</td>\n",
       "      <td>1766.947595</td>\n",
       "      <td>1386542.0</td>\n",
       "      <td>...</td>\n",
       "      <td>0.677</td>\n",
       "      <td>12.3</td>\n",
       "      <td>25</td>\n",
       "      <td>91.0</td>\n",
       "      <td>220</td>\n",
       "      <td>67.5</td>\n",
       "      <td>29</td>\n",
       "      <td>94.0</td>\n",
       "      <td>96.0</td>\n",
       "      <td>0.1</td>\n",
       "    </tr>\n",
       "  </tbody>\n",
       "</table>\n",
       "<p>1 rows × 22 columns</p>\n",
       "</div>"
      ],
      "text/plain": [
       "                       Country  Year     Status  Life expectancy  \\\n",
       "2798  United States of America  2011  Developed             78.7   \n",
       "\n",
       "      Adult Mortality  Alcohol  percentage expenditure  Total expenditure  \\\n",
       "2798             16.0     8.67                     0.0               17.6   \n",
       "\n",
       "              GDP  Population  ...  Income composition of resources  \\\n",
       "2798  1766.947595   1386542.0  ...                            0.677   \n",
       "\n",
       "      Schooling  infant deaths  Hepatitis B  Measles   BMI  under-five deaths  \\\n",
       "2798       12.3             25         91.0      220  67.5                 29   \n",
       "\n",
       "      Polio  Diphtheria  HIV/AIDS  \n",
       "2798   94.0        96.0       0.1  \n",
       "\n",
       "[1 rows x 22 columns]"
      ]
     },
     "execution_count": 120,
     "metadata": {},
     "output_type": "execute_result"
    }
   ],
   "source": [
    "# Countries spending max of total expenditure towards health\n",
    "df[df[\"Total expenditure\"]==df[\"Total expenditure\"].max()]\n",
    " "
   ]
  },
  {
   "cell_type": "code",
   "execution_count": 136,
   "id": "6ee800f6",
   "metadata": {},
   "outputs": [
    {
     "data": {
      "text/html": [
       "<div>\n",
       "<style scoped>\n",
       "    .dataframe tbody tr th:only-of-type {\n",
       "        vertical-align: middle;\n",
       "    }\n",
       "\n",
       "    .dataframe tbody tr th {\n",
       "        vertical-align: top;\n",
       "    }\n",
       "\n",
       "    .dataframe thead th {\n",
       "        text-align: right;\n",
       "    }\n",
       "</style>\n",
       "<table border=\"1\" class=\"dataframe\">\n",
       "  <thead>\n",
       "    <tr style=\"text-align: right;\">\n",
       "      <th></th>\n",
       "      <th>Country</th>\n",
       "      <th>Year</th>\n",
       "      <th>Status</th>\n",
       "      <th>Life expectancy</th>\n",
       "      <th>Adult Mortality</th>\n",
       "      <th>Alcohol</th>\n",
       "      <th>percentage expenditure</th>\n",
       "      <th>Total expenditure</th>\n",
       "      <th>GDP</th>\n",
       "      <th>Population</th>\n",
       "      <th>...</th>\n",
       "      <th>Income composition of resources</th>\n",
       "      <th>Schooling</th>\n",
       "      <th>infant deaths</th>\n",
       "      <th>Hepatitis B</th>\n",
       "      <th>Measles</th>\n",
       "      <th>BMI</th>\n",
       "      <th>under-five deaths</th>\n",
       "      <th>Polio</th>\n",
       "      <th>Diphtheria</th>\n",
       "      <th>HIV/AIDS</th>\n",
       "    </tr>\n",
       "  </thead>\n",
       "  <tbody>\n",
       "    <tr>\n",
       "      <th>1201</th>\n",
       "      <td>India</td>\n",
       "      <td>2000</td>\n",
       "      <td>Developing</td>\n",
       "      <td>62.5</td>\n",
       "      <td>224.0</td>\n",
       "      <td>0.930</td>\n",
       "      <td>19.266157</td>\n",
       "      <td>4.260</td>\n",
       "      <td>438.864634</td>\n",
       "      <td>1.535912e+06</td>\n",
       "      <td>...</td>\n",
       "      <td>0.489</td>\n",
       "      <td>8.3</td>\n",
       "      <td>1800</td>\n",
       "      <td>92.0</td>\n",
       "      <td>38835</td>\n",
       "      <td>11.4</td>\n",
       "      <td>2500</td>\n",
       "      <td>57.0</td>\n",
       "      <td>58.0</td>\n",
       "      <td>0.3</td>\n",
       "    </tr>\n",
       "    <tr>\n",
       "      <th>1200</th>\n",
       "      <td>India</td>\n",
       "      <td>2001</td>\n",
       "      <td>Developing</td>\n",
       "      <td>62.9</td>\n",
       "      <td>222.0</td>\n",
       "      <td>1.000</td>\n",
       "      <td>19.003406</td>\n",
       "      <td>4.500</td>\n",
       "      <td>447.138966</td>\n",
       "      <td>1.714779e+08</td>\n",
       "      <td>...</td>\n",
       "      <td>0.494</td>\n",
       "      <td>8.3</td>\n",
       "      <td>1800</td>\n",
       "      <td>92.0</td>\n",
       "      <td>51780</td>\n",
       "      <td>11.8</td>\n",
       "      <td>2400</td>\n",
       "      <td>58.0</td>\n",
       "      <td>59.0</td>\n",
       "      <td>0.3</td>\n",
       "    </tr>\n",
       "    <tr>\n",
       "      <th>1199</th>\n",
       "      <td>India</td>\n",
       "      <td>2002</td>\n",
       "      <td>Developing</td>\n",
       "      <td>63.3</td>\n",
       "      <td>219.0</td>\n",
       "      <td>1.100</td>\n",
       "      <td>17.812056</td>\n",
       "      <td>4.400</td>\n",
       "      <td>466.284200</td>\n",
       "      <td>1.898711e+07</td>\n",
       "      <td>...</td>\n",
       "      <td>0.499</td>\n",
       "      <td>8.4</td>\n",
       "      <td>1700</td>\n",
       "      <td>92.0</td>\n",
       "      <td>40044</td>\n",
       "      <td>12.2</td>\n",
       "      <td>2300</td>\n",
       "      <td>58.0</td>\n",
       "      <td>59.0</td>\n",
       "      <td>0.3</td>\n",
       "    </tr>\n",
       "    <tr>\n",
       "      <th>1198</th>\n",
       "      <td>India</td>\n",
       "      <td>2003</td>\n",
       "      <td>Developing</td>\n",
       "      <td>63.7</td>\n",
       "      <td>216.0</td>\n",
       "      <td>1.190</td>\n",
       "      <td>19.480868</td>\n",
       "      <td>4.300</td>\n",
       "      <td>541.135228</td>\n",
       "      <td>1.182785e+07</td>\n",
       "      <td>...</td>\n",
       "      <td>0.505</td>\n",
       "      <td>8.6</td>\n",
       "      <td>1700</td>\n",
       "      <td>92.0</td>\n",
       "      <td>47147</td>\n",
       "      <td>12.6</td>\n",
       "      <td>2200</td>\n",
       "      <td>57.0</td>\n",
       "      <td>61.0</td>\n",
       "      <td>0.3</td>\n",
       "    </tr>\n",
       "    <tr>\n",
       "      <th>1197</th>\n",
       "      <td>India</td>\n",
       "      <td>2004</td>\n",
       "      <td>Developing</td>\n",
       "      <td>64.0</td>\n",
       "      <td>214.0</td>\n",
       "      <td>1.200</td>\n",
       "      <td>27.338009</td>\n",
       "      <td>4.220</td>\n",
       "      <td>621.318377</td>\n",
       "      <td>1.126136e+09</td>\n",
       "      <td>...</td>\n",
       "      <td>0.518</td>\n",
       "      <td>9.2</td>\n",
       "      <td>1600</td>\n",
       "      <td>6.0</td>\n",
       "      <td>55443</td>\n",
       "      <td>13.0</td>\n",
       "      <td>2100</td>\n",
       "      <td>58.0</td>\n",
       "      <td>63.0</td>\n",
       "      <td>0.3</td>\n",
       "    </tr>\n",
       "    <tr>\n",
       "      <th>1196</th>\n",
       "      <td>India</td>\n",
       "      <td>2005</td>\n",
       "      <td>Developing</td>\n",
       "      <td>64.4</td>\n",
       "      <td>211.0</td>\n",
       "      <td>1.270</td>\n",
       "      <td>3.509637</td>\n",
       "      <td>4.280</td>\n",
       "      <td>77.819000</td>\n",
       "      <td>1.144119e+09</td>\n",
       "      <td>...</td>\n",
       "      <td>0.526</td>\n",
       "      <td>9.4</td>\n",
       "      <td>1500</td>\n",
       "      <td>8.0</td>\n",
       "      <td>36711</td>\n",
       "      <td>13.5</td>\n",
       "      <td>2000</td>\n",
       "      <td>65.0</td>\n",
       "      <td>65.0</td>\n",
       "      <td>0.3</td>\n",
       "    </tr>\n",
       "    <tr>\n",
       "      <th>1195</th>\n",
       "      <td>India</td>\n",
       "      <td>2006</td>\n",
       "      <td>Developing</td>\n",
       "      <td>64.8</td>\n",
       "      <td>28.0</td>\n",
       "      <td>1.370</td>\n",
       "      <td>34.859427</td>\n",
       "      <td>4.250</td>\n",
       "      <td>792.259698</td>\n",
       "      <td>1.161978e+09</td>\n",
       "      <td>...</td>\n",
       "      <td>0.536</td>\n",
       "      <td>9.7</td>\n",
       "      <td>1500</td>\n",
       "      <td>6.0</td>\n",
       "      <td>64185</td>\n",
       "      <td>13.9</td>\n",
       "      <td>2000</td>\n",
       "      <td>66.0</td>\n",
       "      <td>65.0</td>\n",
       "      <td>0.3</td>\n",
       "    </tr>\n",
       "    <tr>\n",
       "      <th>1194</th>\n",
       "      <td>India</td>\n",
       "      <td>2007</td>\n",
       "      <td>Developing</td>\n",
       "      <td>65.2</td>\n",
       "      <td>26.0</td>\n",
       "      <td>1.590</td>\n",
       "      <td>5.234770</td>\n",
       "      <td>4.230</td>\n",
       "      <td>118.166373</td>\n",
       "      <td>1.179681e+09</td>\n",
       "      <td>...</td>\n",
       "      <td>0.546</td>\n",
       "      <td>9.9</td>\n",
       "      <td>1400</td>\n",
       "      <td>6.0</td>\n",
       "      <td>41144</td>\n",
       "      <td>14.4</td>\n",
       "      <td>1900</td>\n",
       "      <td>67.0</td>\n",
       "      <td>64.0</td>\n",
       "      <td>0.3</td>\n",
       "    </tr>\n",
       "    <tr>\n",
       "      <th>1193</th>\n",
       "      <td>India</td>\n",
       "      <td>2008</td>\n",
       "      <td>Developing</td>\n",
       "      <td>65.5</td>\n",
       "      <td>23.0</td>\n",
       "      <td>1.930</td>\n",
       "      <td>43.030433</td>\n",
       "      <td>4.340</td>\n",
       "      <td>991.484634</td>\n",
       "      <td>1.197147e+08</td>\n",
       "      <td>...</td>\n",
       "      <td>0.556</td>\n",
       "      <td>10.2</td>\n",
       "      <td>1300</td>\n",
       "      <td>29.0</td>\n",
       "      <td>44258</td>\n",
       "      <td>14.9</td>\n",
       "      <td>1800</td>\n",
       "      <td>69.0</td>\n",
       "      <td>7.0</td>\n",
       "      <td>0.3</td>\n",
       "    </tr>\n",
       "    <tr>\n",
       "      <th>1192</th>\n",
       "      <td>India</td>\n",
       "      <td>2009</td>\n",
       "      <td>Developing</td>\n",
       "      <td>66.0</td>\n",
       "      <td>2.0</td>\n",
       "      <td>2.500</td>\n",
       "      <td>0.844186</td>\n",
       "      <td>4.380</td>\n",
       "      <td>19.317765</td>\n",
       "      <td>1.214271e+08</td>\n",
       "      <td>...</td>\n",
       "      <td>0.563</td>\n",
       "      <td>10.5</td>\n",
       "      <td>1300</td>\n",
       "      <td>37.0</td>\n",
       "      <td>56188</td>\n",
       "      <td>15.4</td>\n",
       "      <td>1700</td>\n",
       "      <td>73.0</td>\n",
       "      <td>74.0</td>\n",
       "      <td>0.2</td>\n",
       "    </tr>\n",
       "    <tr>\n",
       "      <th>1191</th>\n",
       "      <td>India</td>\n",
       "      <td>2010</td>\n",
       "      <td>Developing</td>\n",
       "      <td>66.4</td>\n",
       "      <td>196.0</td>\n",
       "      <td>2.770</td>\n",
       "      <td>57.733599</td>\n",
       "      <td>4.280</td>\n",
       "      <td>1345.771530</td>\n",
       "      <td>1.239869e+07</td>\n",
       "      <td>...</td>\n",
       "      <td>0.569</td>\n",
       "      <td>10.4</td>\n",
       "      <td>1200</td>\n",
       "      <td>38.0</td>\n",
       "      <td>31458</td>\n",
       "      <td>15.9</td>\n",
       "      <td>1600</td>\n",
       "      <td>76.0</td>\n",
       "      <td>79.0</td>\n",
       "      <td>0.2</td>\n",
       "    </tr>\n",
       "    <tr>\n",
       "      <th>1190</th>\n",
       "      <td>India</td>\n",
       "      <td>2011</td>\n",
       "      <td>Developing</td>\n",
       "      <td>66.8</td>\n",
       "      <td>193.0</td>\n",
       "      <td>3.000</td>\n",
       "      <td>64.605901</td>\n",
       "      <td>4.330</td>\n",
       "      <td>1461.671957</td>\n",
       "      <td>1.247236e+08</td>\n",
       "      <td>...</td>\n",
       "      <td>0.580</td>\n",
       "      <td>10.8</td>\n",
       "      <td>1100</td>\n",
       "      <td>44.0</td>\n",
       "      <td>33634</td>\n",
       "      <td>16.4</td>\n",
       "      <td>1500</td>\n",
       "      <td>79.0</td>\n",
       "      <td>82.0</td>\n",
       "      <td>0.2</td>\n",
       "    </tr>\n",
       "    <tr>\n",
       "      <th>1189</th>\n",
       "      <td>India</td>\n",
       "      <td>2012</td>\n",
       "      <td>Developing</td>\n",
       "      <td>67.3</td>\n",
       "      <td>19.0</td>\n",
       "      <td>3.100</td>\n",
       "      <td>64.969645</td>\n",
       "      <td>4.390</td>\n",
       "      <td>1446.985410</td>\n",
       "      <td>1.263659e+08</td>\n",
       "      <td>...</td>\n",
       "      <td>0.590</td>\n",
       "      <td>11.3</td>\n",
       "      <td>1100</td>\n",
       "      <td>73.0</td>\n",
       "      <td>18668</td>\n",
       "      <td>17.0</td>\n",
       "      <td>1400</td>\n",
       "      <td>79.0</td>\n",
       "      <td>82.0</td>\n",
       "      <td>0.2</td>\n",
       "    </tr>\n",
       "    <tr>\n",
       "      <th>1188</th>\n",
       "      <td>India</td>\n",
       "      <td>2013</td>\n",
       "      <td>Developing</td>\n",
       "      <td>67.6</td>\n",
       "      <td>187.0</td>\n",
       "      <td>3.110</td>\n",
       "      <td>67.672304</td>\n",
       "      <td>4.530</td>\n",
       "      <td>1452.195373</td>\n",
       "      <td>1.278562e+08</td>\n",
       "      <td>...</td>\n",
       "      <td>0.599</td>\n",
       "      <td>11.5</td>\n",
       "      <td>1000</td>\n",
       "      <td>7.0</td>\n",
       "      <td>13822</td>\n",
       "      <td>17.5</td>\n",
       "      <td>1300</td>\n",
       "      <td>82.0</td>\n",
       "      <td>83.0</td>\n",
       "      <td>0.2</td>\n",
       "    </tr>\n",
       "    <tr>\n",
       "      <th>1187</th>\n",
       "      <td>India</td>\n",
       "      <td>2014</td>\n",
       "      <td>Developing</td>\n",
       "      <td>68.0</td>\n",
       "      <td>184.0</td>\n",
       "      <td>3.070</td>\n",
       "      <td>86.521539</td>\n",
       "      <td>4.690</td>\n",
       "      <td>1573.118890</td>\n",
       "      <td>1.293859e+09</td>\n",
       "      <td>...</td>\n",
       "      <td>0.607</td>\n",
       "      <td>11.6</td>\n",
       "      <td>957</td>\n",
       "      <td>79.0</td>\n",
       "      <td>79563</td>\n",
       "      <td>18.1</td>\n",
       "      <td>1200</td>\n",
       "      <td>84.0</td>\n",
       "      <td>85.0</td>\n",
       "      <td>0.2</td>\n",
       "    </tr>\n",
       "    <tr>\n",
       "      <th>1186</th>\n",
       "      <td>India</td>\n",
       "      <td>2015</td>\n",
       "      <td>Developing</td>\n",
       "      <td>68.3</td>\n",
       "      <td>181.0</td>\n",
       "      <td>3.755</td>\n",
       "      <td>0.000000</td>\n",
       "      <td>5.755</td>\n",
       "      <td>1613.188780</td>\n",
       "      <td>1.395398e+06</td>\n",
       "      <td>...</td>\n",
       "      <td>0.615</td>\n",
       "      <td>11.6</td>\n",
       "      <td>910</td>\n",
       "      <td>87.0</td>\n",
       "      <td>90387</td>\n",
       "      <td>18.7</td>\n",
       "      <td>1100</td>\n",
       "      <td>86.0</td>\n",
       "      <td>87.0</td>\n",
       "      <td>0.2</td>\n",
       "    </tr>\n",
       "  </tbody>\n",
       "</table>\n",
       "<p>16 rows × 22 columns</p>\n",
       "</div>"
      ],
      "text/plain": [
       "     Country  Year      Status  Life expectancy  Adult Mortality  Alcohol  \\\n",
       "1201   India  2000  Developing             62.5            224.0    0.930   \n",
       "1200   India  2001  Developing             62.9            222.0    1.000   \n",
       "1199   India  2002  Developing             63.3            219.0    1.100   \n",
       "1198   India  2003  Developing             63.7            216.0    1.190   \n",
       "1197   India  2004  Developing             64.0            214.0    1.200   \n",
       "1196   India  2005  Developing             64.4            211.0    1.270   \n",
       "1195   India  2006  Developing             64.8             28.0    1.370   \n",
       "1194   India  2007  Developing             65.2             26.0    1.590   \n",
       "1193   India  2008  Developing             65.5             23.0    1.930   \n",
       "1192   India  2009  Developing             66.0              2.0    2.500   \n",
       "1191   India  2010  Developing             66.4            196.0    2.770   \n",
       "1190   India  2011  Developing             66.8            193.0    3.000   \n",
       "1189   India  2012  Developing             67.3             19.0    3.100   \n",
       "1188   India  2013  Developing             67.6            187.0    3.110   \n",
       "1187   India  2014  Developing             68.0            184.0    3.070   \n",
       "1186   India  2015  Developing             68.3            181.0    3.755   \n",
       "\n",
       "      percentage expenditure  Total expenditure          GDP    Population  \\\n",
       "1201               19.266157              4.260   438.864634  1.535912e+06   \n",
       "1200               19.003406              4.500   447.138966  1.714779e+08   \n",
       "1199               17.812056              4.400   466.284200  1.898711e+07   \n",
       "1198               19.480868              4.300   541.135228  1.182785e+07   \n",
       "1197               27.338009              4.220   621.318377  1.126136e+09   \n",
       "1196                3.509637              4.280    77.819000  1.144119e+09   \n",
       "1195               34.859427              4.250   792.259698  1.161978e+09   \n",
       "1194                5.234770              4.230   118.166373  1.179681e+09   \n",
       "1193               43.030433              4.340   991.484634  1.197147e+08   \n",
       "1192                0.844186              4.380    19.317765  1.214271e+08   \n",
       "1191               57.733599              4.280  1345.771530  1.239869e+07   \n",
       "1190               64.605901              4.330  1461.671957  1.247236e+08   \n",
       "1189               64.969645              4.390  1446.985410  1.263659e+08   \n",
       "1188               67.672304              4.530  1452.195373  1.278562e+08   \n",
       "1187               86.521539              4.690  1573.118890  1.293859e+09   \n",
       "1186                0.000000              5.755  1613.188780  1.395398e+06   \n",
       "\n",
       "      ...  Income composition of resources  Schooling  infant deaths  \\\n",
       "1201  ...                            0.489        8.3           1800   \n",
       "1200  ...                            0.494        8.3           1800   \n",
       "1199  ...                            0.499        8.4           1700   \n",
       "1198  ...                            0.505        8.6           1700   \n",
       "1197  ...                            0.518        9.2           1600   \n",
       "1196  ...                            0.526        9.4           1500   \n",
       "1195  ...                            0.536        9.7           1500   \n",
       "1194  ...                            0.546        9.9           1400   \n",
       "1193  ...                            0.556       10.2           1300   \n",
       "1192  ...                            0.563       10.5           1300   \n",
       "1191  ...                            0.569       10.4           1200   \n",
       "1190  ...                            0.580       10.8           1100   \n",
       "1189  ...                            0.590       11.3           1100   \n",
       "1188  ...                            0.599       11.5           1000   \n",
       "1187  ...                            0.607       11.6            957   \n",
       "1186  ...                            0.615       11.6            910   \n",
       "\n",
       "      Hepatitis B  Measles   BMI  under-five deaths  Polio  Diphtheria  \\\n",
       "1201         92.0    38835  11.4               2500   57.0        58.0   \n",
       "1200         92.0    51780  11.8               2400   58.0        59.0   \n",
       "1199         92.0    40044  12.2               2300   58.0        59.0   \n",
       "1198         92.0    47147  12.6               2200   57.0        61.0   \n",
       "1197          6.0    55443  13.0               2100   58.0        63.0   \n",
       "1196          8.0    36711  13.5               2000   65.0        65.0   \n",
       "1195          6.0    64185  13.9               2000   66.0        65.0   \n",
       "1194          6.0    41144  14.4               1900   67.0        64.0   \n",
       "1193         29.0    44258  14.9               1800   69.0         7.0   \n",
       "1192         37.0    56188  15.4               1700   73.0        74.0   \n",
       "1191         38.0    31458  15.9               1600   76.0        79.0   \n",
       "1190         44.0    33634  16.4               1500   79.0        82.0   \n",
       "1189         73.0    18668  17.0               1400   79.0        82.0   \n",
       "1188          7.0    13822  17.5               1300   82.0        83.0   \n",
       "1187         79.0    79563  18.1               1200   84.0        85.0   \n",
       "1186         87.0    90387  18.7               1100   86.0        87.0   \n",
       "\n",
       "      HIV/AIDS  \n",
       "1201       0.3  \n",
       "1200       0.3  \n",
       "1199       0.3  \n",
       "1198       0.3  \n",
       "1197       0.3  \n",
       "1196       0.3  \n",
       "1195       0.3  \n",
       "1194       0.3  \n",
       "1193       0.3  \n",
       "1192       0.2  \n",
       "1191       0.2  \n",
       "1190       0.2  \n",
       "1189       0.2  \n",
       "1188       0.2  \n",
       "1187       0.2  \n",
       "1186       0.2  \n",
       "\n",
       "[16 rows x 22 columns]"
      ]
     },
     "execution_count": 136,
     "metadata": {},
     "output_type": "execute_result"
    }
   ],
   "source": [
    "df[df[\"Country\"]==\"India\"].sort_values(\"Year\")"
   ]
  },
  {
   "cell_type": "code",
   "execution_count": 140,
   "id": "401ffe21",
   "metadata": {},
   "outputs": [
    {
     "data": {
      "text/html": [
       "<div>\n",
       "<style scoped>\n",
       "    .dataframe tbody tr th:only-of-type {\n",
       "        vertical-align: middle;\n",
       "    }\n",
       "\n",
       "    .dataframe tbody tr th {\n",
       "        vertical-align: top;\n",
       "    }\n",
       "\n",
       "    .dataframe thead th {\n",
       "        text-align: right;\n",
       "    }\n",
       "</style>\n",
       "<table border=\"1\" class=\"dataframe\">\n",
       "  <thead>\n",
       "    <tr style=\"text-align: right;\">\n",
       "      <th></th>\n",
       "      <th>Country</th>\n",
       "      <th>Year</th>\n",
       "      <th>Status</th>\n",
       "      <th>Life expectancy</th>\n",
       "      <th>Adult Mortality</th>\n",
       "      <th>Alcohol</th>\n",
       "      <th>percentage expenditure</th>\n",
       "      <th>Total expenditure</th>\n",
       "      <th>GDP</th>\n",
       "      <th>Population</th>\n",
       "      <th>...</th>\n",
       "      <th>Income composition of resources</th>\n",
       "      <th>Schooling</th>\n",
       "      <th>infant deaths</th>\n",
       "      <th>Hepatitis B</th>\n",
       "      <th>Measles</th>\n",
       "      <th>BMI</th>\n",
       "      <th>under-five deaths</th>\n",
       "      <th>Polio</th>\n",
       "      <th>Diphtheria</th>\n",
       "      <th>HIV/AIDS</th>\n",
       "    </tr>\n",
       "  </thead>\n",
       "  <tbody>\n",
       "    <tr>\n",
       "      <th>1187</th>\n",
       "      <td>India</td>\n",
       "      <td>2014</td>\n",
       "      <td>Developing</td>\n",
       "      <td>68.0</td>\n",
       "      <td>184.0</td>\n",
       "      <td>3.07</td>\n",
       "      <td>86.521539</td>\n",
       "      <td>4.69</td>\n",
       "      <td>1573.11889</td>\n",
       "      <td>1.293859e+09</td>\n",
       "      <td>...</td>\n",
       "      <td>0.607</td>\n",
       "      <td>11.6</td>\n",
       "      <td>957</td>\n",
       "      <td>79.0</td>\n",
       "      <td>79563</td>\n",
       "      <td>18.1</td>\n",
       "      <td>1200</td>\n",
       "      <td>84.0</td>\n",
       "      <td>85.0</td>\n",
       "      <td>0.2</td>\n",
       "    </tr>\n",
       "  </tbody>\n",
       "</table>\n",
       "<p>1 rows × 22 columns</p>\n",
       "</div>"
      ],
      "text/plain": [
       "     Country  Year      Status  Life expectancy  Adult Mortality  Alcohol  \\\n",
       "1187   India  2014  Developing             68.0            184.0     3.07   \n",
       "\n",
       "      percentage expenditure  Total expenditure         GDP    Population  \\\n",
       "1187               86.521539               4.69  1573.11889  1.293859e+09   \n",
       "\n",
       "      ...  Income composition of resources  Schooling  infant deaths  \\\n",
       "1187  ...                            0.607       11.6            957   \n",
       "\n",
       "      Hepatitis B  Measles   BMI  under-five deaths  Polio  Diphtheria  \\\n",
       "1187         79.0    79563  18.1               1200   84.0        85.0   \n",
       "\n",
       "      HIV/AIDS  \n",
       "1187       0.2  \n",
       "\n",
       "[1 rows x 22 columns]"
      ]
     },
     "execution_count": 140,
     "metadata": {},
     "output_type": "execute_result"
    }
   ],
   "source": [
    "df[(df['Status']==\"Developing\") & (df['Population']==df['Population'].max())]"
   ]
  },
  {
   "cell_type": "code",
   "execution_count": 142,
   "id": "1023dbd1",
   "metadata": {},
   "outputs": [
    {
     "data": {
      "text/html": [
       "<div>\n",
       "<style scoped>\n",
       "    .dataframe tbody tr th:only-of-type {\n",
       "        vertical-align: middle;\n",
       "    }\n",
       "\n",
       "    .dataframe tbody tr th {\n",
       "        vertical-align: top;\n",
       "    }\n",
       "\n",
       "    .dataframe thead th {\n",
       "        text-align: right;\n",
       "    }\n",
       "</style>\n",
       "<table border=\"1\" class=\"dataframe\">\n",
       "  <thead>\n",
       "    <tr style=\"text-align: right;\">\n",
       "      <th></th>\n",
       "      <th>Country</th>\n",
       "      <th>Year</th>\n",
       "      <th>Status</th>\n",
       "      <th>Life expectancy</th>\n",
       "      <th>Adult Mortality</th>\n",
       "      <th>Alcohol</th>\n",
       "      <th>percentage expenditure</th>\n",
       "      <th>Total expenditure</th>\n",
       "      <th>GDP</th>\n",
       "      <th>Population</th>\n",
       "      <th>...</th>\n",
       "      <th>Income composition of resources</th>\n",
       "      <th>Schooling</th>\n",
       "      <th>infant deaths</th>\n",
       "      <th>Hepatitis B</th>\n",
       "      <th>Measles</th>\n",
       "      <th>BMI</th>\n",
       "      <th>under-five deaths</th>\n",
       "      <th>Polio</th>\n",
       "      <th>Diphtheria</th>\n",
       "      <th>HIV/AIDS</th>\n",
       "    </tr>\n",
       "  </thead>\n",
       "  <tbody>\n",
       "    <tr>\n",
       "      <th>1614</th>\n",
       "      <td>Maldives</td>\n",
       "      <td>2003</td>\n",
       "      <td>Developing</td>\n",
       "      <td>72.7</td>\n",
       "      <td>112.0</td>\n",
       "      <td>1.75</td>\n",
       "      <td>491.497891</td>\n",
       "      <td>5.9</td>\n",
       "      <td>3432.247841</td>\n",
       "      <td>34.0</td>\n",
       "      <td>...</td>\n",
       "      <td>0.601</td>\n",
       "      <td>11.8</td>\n",
       "      <td>0</td>\n",
       "      <td>98.0</td>\n",
       "      <td>75</td>\n",
       "      <td>16.7</td>\n",
       "      <td>0</td>\n",
       "      <td>98.0</td>\n",
       "      <td>98.0</td>\n",
       "      <td>0.1</td>\n",
       "    </tr>\n",
       "  </tbody>\n",
       "</table>\n",
       "<p>1 rows × 22 columns</p>\n",
       "</div>"
      ],
      "text/plain": [
       "       Country  Year      Status  Life expectancy  Adult Mortality  Alcohol  \\\n",
       "1614  Maldives  2003  Developing             72.7            112.0     1.75   \n",
       "\n",
       "      percentage expenditure  Total expenditure          GDP  Population  ...  \\\n",
       "1614              491.497891                5.9  3432.247841        34.0  ...   \n",
       "\n",
       "      Income composition of resources  Schooling  infant deaths  Hepatitis B  \\\n",
       "1614                            0.601       11.8              0         98.0   \n",
       "\n",
       "      Measles   BMI  under-five deaths  Polio  Diphtheria  HIV/AIDS  \n",
       "1614       75  16.7                  0   98.0        98.0       0.1  \n",
       "\n",
       "[1 rows x 22 columns]"
      ]
     },
     "execution_count": 142,
     "metadata": {},
     "output_type": "execute_result"
    }
   ],
   "source": [
    "df[(df[\"Status\"]=='Developing')&(df[\"Population\"]==df['Population'].min())]"
   ]
  },
  {
   "cell_type": "code",
   "execution_count": null,
   "id": "3d1b613a",
   "metadata": {},
   "outputs": [],
   "source": []
  }
 ],
 "metadata": {
  "kernelspec": {
   "display_name": "Python 3 (ipykernel)",
   "language": "python",
   "name": "python3"
  },
  "language_info": {
   "codemirror_mode": {
    "name": "ipython",
    "version": 3
   },
   "file_extension": ".py",
   "mimetype": "text/x-python",
   "name": "python",
   "nbconvert_exporter": "python",
   "pygments_lexer": "ipython3",
   "version": "3.9.12"
  }
 },
 "nbformat": 4,
 "nbformat_minor": 5
}
