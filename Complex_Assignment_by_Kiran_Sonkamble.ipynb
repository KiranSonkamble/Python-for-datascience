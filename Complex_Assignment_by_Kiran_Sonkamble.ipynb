{
 "cells": [
  {
   "cell_type": "markdown",
   "id": "7cefafd0",
   "metadata": {},
   "source": [
    ":Kiran Sonkamble : 9880994453 :krnsonkambl3@gmail.com"
   ]
  },
  {
   "cell_type": "code",
   "execution_count": 5,
   "id": "72646d7c",
   "metadata": {},
   "outputs": [
    {
     "name": "stdout",
     "output_type": "stream",
     "text": [
      "2602801850928 <class 'complex'> (12+6j)\n"
     ]
    }
   ],
   "source": [
    "a= 12+6j\n",
    "\n",
    "print(id(a), type(a), a)"
   ]
  },
  {
   "cell_type": "code",
   "execution_count": 9,
   "id": "3649b98b",
   "metadata": {},
   "outputs": [
    {
     "name": "stdout",
     "output_type": "stream",
     "text": [
      "sum(32+17j), diff (14-1j), prod (135+279j), div (1.7222222222222223-0.8333333333333334j) ,pow (140047568077.22156+47982261308.84044j) \n"
     ]
    }
   ],
   "source": [
    "b=23+8j\n",
    "c=9+9j\n",
    "\n",
    "sum_ = b+c\n",
    "diff_=b-c\n",
    "prod_=b*c\n",
    "div_ =b/c\n",
    "pow_ =b**c\n",
    "\n",
    "print(f\"sum{sum_ }, diff {diff_}, prod {prod_}, div {div_} ,pow {pow_} \")"
   ]
  },
  {
   "cell_type": "code",
   "execution_count": 10,
   "id": "ffb20929",
   "metadata": {},
   "outputs": [],
   "source": [
    "# Comparison Operation not applicable between instance of complex values.\n",
    "# Object reusability concept is not applicable on complex number"
   ]
  },
  {
   "cell_type": "code",
   "execution_count": 12,
   "id": "76f79df0",
   "metadata": {},
   "outputs": [
    {
     "name": "stdout",
     "output_type": "stream",
     "text": [
      "False\n",
      "True\n"
     ]
    }
   ],
   "source": [
    "print(b==c)\n",
    "print(b!=c)"
   ]
  },
  {
   "cell_type": "code",
   "execution_count": 22,
   "id": "ed8865ad",
   "metadata": {},
   "outputs": [
    {
     "name": "stdout",
     "output_type": "stream",
     "text": [
      "(20+30j)\n",
      "0j\n",
      "0j\n",
      "0j\n",
      "(10+20j)\n",
      "(20+30j)\n",
      "(20+30j)\n",
      "0j\n",
      "False\n",
      "True\n"
     ]
    }
   ],
   "source": [
    "# Logical operators\n",
    "\n",
    "print(10+20j and 20+30j) \n",
    "\n",
    "print(0+0j and 20+30j)   \n",
    "\n",
    "print(20+30j and 0+0j)   \n",
    "\n",
    "print(0+0j and 0+0j)     \n",
    "\n",
    "print(10+20j or 20+30j)  \n",
    "\n",
    "print(0+0j or 20+30j)    \n",
    "\n",
    "print(20+30j or 0+0j)    \n",
    "\n",
    "print(0+0j or 0+0j)      \n",
    " \n",
    "print(not 10+20j)        \n",
    "\n",
    "print(not 0+0j)          \n",
    "\n"
   ]
  },
  {
   "cell_type": "code",
   "execution_count": 15,
   "id": "64144cd7",
   "metadata": {},
   "outputs": [
    {
     "data": {
      "text/plain": [
       "True"
      ]
     },
     "execution_count": 15,
     "metadata": {},
     "output_type": "execute_result"
    }
   ],
   "source": [
    "bool(10+20j)\n",
    "bool(20+30j)"
   ]
  },
  {
   "cell_type": "code",
   "execution_count": 21,
   "id": "5fef6855",
   "metadata": {},
   "outputs": [
    {
     "data": {
      "text/plain": [
       "'0b10100'"
      ]
     },
     "execution_count": 21,
     "metadata": {},
     "output_type": "execute_result"
    }
   ],
   "source": [
    "bin(10)\n",
    "bin(20)\n"
   ]
  },
  {
   "cell_type": "code",
   "execution_count": 27,
   "id": "7e26c695",
   "metadata": {},
   "outputs": [
    {
     "name": "stdout",
     "output_type": "stream",
     "text": [
      "False\n",
      "True\n"
     ]
    }
   ],
   "source": [
    "# Identity \n",
    "\n",
    "a = 10+20j\n",
    "b = 10+20j\n",
    "print(a is b)\n",
    "print(a is not b) \n",
    "\n",
    "# id's of variable are different"
   ]
  },
  {
   "cell_type": "code",
   "execution_count": 36,
   "id": "c7031c65",
   "metadata": {},
   "outputs": [
    {
     "name": "stdout",
     "output_type": "stream",
     "text": [
      "True\n",
      "True\n",
      "True\n",
      "True\n",
      "True\n",
      "True\n"
     ]
    }
   ],
   "source": [
    "print('2' in 'Python2.7.8')                \n",
    "print(10+20j in [10,10.20,10+20j,'Python'])  \n",
    "print(10+20j in (10,10.20,10+20j,'Python'))  \n",
    "print(30+40j in {1,20.30,30+40j})            \n",
    "print(30+40j in {1:100, 2.3:200, 30+40j:300})\n",
    "print(10 in range(20)) # but 20 not present in range                      "
   ]
  }
 ],
 "metadata": {
  "kernelspec": {
   "display_name": "Python 3 (ipykernel)",
   "language": "python",
   "name": "python3"
  },
  "language_info": {
   "codemirror_mode": {
    "name": "ipython",
    "version": 3
   },
   "file_extension": ".py",
   "mimetype": "text/x-python",
   "name": "python",
   "nbconvert_exporter": "python",
   "pygments_lexer": "ipython3",
   "version": "3.9.7"
  }
 },
 "nbformat": 4,
 "nbformat_minor": 5
}
