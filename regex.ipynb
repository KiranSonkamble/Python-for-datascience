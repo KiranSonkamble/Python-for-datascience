{
 "cells": [
  {
   "cell_type": "code",
   "execution_count": 33,
   "id": "c2e29047",
   "metadata": {},
   "outputs": [
    {
     "name": "stdout",
     "output_type": "stream",
     "text": [
      "['a', 's', 's', 'd', 'f', 'o', 'r', 'b', 'i', 'd', 'd', 'e', 'n', 'm', 'a', 'k', 'e', 'b', 'o', 'b', 'b', 's', 'b', 'o', 's', 's', '3', '4', 'U', 'M', 'a', 'k', 'E', 'N', 'o', 'b', 'M', 'a', 'd', '3', 'g', 'm', 'a', 'i', 'l', 'C', 'O', 'e', 'd', 'u', 'B', 'r', 'o'] "
     ]
    }
   ],
   "source": [
    "# Write a Python program to check that a string contains only a certain set of characters (in this case a-z, A-Z and 0-9).\n",
    "\n",
    "q= '''assd forbidden make, bobbs boss 34-U MakE  Nob Mad3@gmail.CO.edu.. Bro'''\n",
    "import re\n",
    "pattern=re.compile(r'\\w')\n",
    "match =pattern.findall(q)\n",
    "\n",
    "print(match,end=' ')"
   ]
  },
  {
   "cell_type": "code",
   "execution_count": 43,
   "id": "c318ff62",
   "metadata": {},
   "outputs": [
    {
     "name": "stdout",
     "output_type": "stream",
     "text": [
      "['rb', 'ob', 'ob'] "
     ]
    }
   ],
   "source": [
    "# Write a Python program that matches a string that has an a followed by zero or more b's.\n",
    "\n",
    "pattern= re.compile(r'\\w\\Bb')\n",
    "mac =pattern.findall(q)\n",
    "\n",
    "print(mac,end=' ')"
   ]
  }
 ],
 "metadata": {
  "kernelspec": {
   "display_name": "Python 3 (ipykernel)",
   "language": "python",
   "name": "python3"
  },
  "language_info": {
   "codemirror_mode": {
    "name": "ipython",
    "version": 3
   },
   "file_extension": ".py",
   "mimetype": "text/x-python",
   "name": "python",
   "nbconvert_exporter": "python",
   "pygments_lexer": "ipython3",
   "version": "3.9.7"
  }
 },
 "nbformat": 4,
 "nbformat_minor": 5
}
