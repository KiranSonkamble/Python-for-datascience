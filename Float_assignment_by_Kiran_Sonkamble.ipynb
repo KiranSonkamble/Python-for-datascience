{
 "cells": [
  {
   "cell_type": "markdown",
   "id": "691169d5",
   "metadata": {},
   "source": [
    ": Kiran Sonkamble :9880994453 :krnsonkamble3@gmail.com"
   ]
  },
  {
   "cell_type": "code",
   "execution_count": 3,
   "id": "a894894b",
   "metadata": {},
   "outputs": [
    {
     "name": "stdout",
     "output_type": "stream",
     "text": [
      "2063226088240 21.2\n"
     ]
    }
   ],
   "source": [
    "q=21.2\n",
    "print(id(q), q)"
   ]
  },
  {
   "cell_type": "code",
   "execution_count": 5,
   "id": "f9d95b5f",
   "metadata": {},
   "outputs": [
    {
     "name": "stdout",
     "output_type": "stream",
     "text": [
      "add_44.400000000000006, diff_19.8, prod_394.83000000000004, div_0.38317757009345793, rem_12.3, qou_0.0, pow_9.68175474866133e+34\n"
     ]
    }
   ],
   "source": [
    "b= 12.3\n",
    "v= 32.10\n",
    "\n",
    "add_=v+b\n",
    "diff_=v-b\n",
    "prod_=v*b\n",
    "div_=b/v\n",
    "rem_=b%v\n",
    "qou_=b//v\n",
    "pow_=b**v\n",
    "\n",
    "print(f\"add_{add_}, diff_{diff_}, prod_{prod_}, div_{div_}, rem_{rem_}, qou_{qou_}, pow_{pow_}\")"
   ]
  },
  {
   "cell_type": "code",
   "execution_count": 7,
   "id": "5cce16c4",
   "metadata": {},
   "outputs": [
    {
     "name": "stdout",
     "output_type": "stream",
     "text": [
      "True\n",
      "False\n",
      "True\n",
      "False\n"
     ]
    }
   ],
   "source": [
    "n= 10.0\n",
    "m=23.54\n",
    "\n",
    "print(m>n)     #Greater than, '>'\n",
    "print(m<n)     #less than, '<'\n",
    "print(m>=n)     #Greater than or equal to, '>='\n",
    "print(m<=n)     #Less than or equal to, '<='    "
   ]
  },
  {
   "cell_type": "code",
   "execution_count": 9,
   "id": "f081d935",
   "metadata": {},
   "outputs": [
    {
     "name": "stdout",
     "output_type": "stream",
     "text": [
      "False\n",
      "True\n"
     ]
    }
   ],
   "source": [
    "l= 12.65\n",
    "k= 909.90\n",
    "\n",
    "print(l==k)\n",
    "print(l!=k)"
   ]
  },
  {
   "cell_type": "code",
   "execution_count": 23,
   "id": "96535623",
   "metadata": {},
   "outputs": [
    {
     "name": "stdout",
     "output_type": "stream",
     "text": [
      "20.3\n",
      "0.0\n",
      "0.0\n",
      "0.0\n",
      "10.2\n",
      "20.3\n",
      "20.3\n",
      "0.0\n",
      "False\n",
      "True\n"
     ]
    }
   ],
   "source": [
    "# Logical operators\n",
    "\n",
    "print(10.20 and 20.30)\n",
    "\n",
    "print(0.0 and 20.30) \n",
    "\n",
    "print(20.30 and 0.0) \n",
    "\n",
    "print(0.0 and 0.0) \n",
    "\n",
    "print(10.20 or 20.30)\n",
    "\n",
    "print(0.0 or 20.30) \n",
    "\n",
    "print(20.30 or 0.0) \n",
    "\n",
    "print(0.0 or 0.0) \n",
    "\n",
    "print(not 10.20) \n",
    "\n",
    "print(not 0.0) \n",
    "\n"
   ]
  },
  {
   "cell_type": "code",
   "execution_count": 27,
   "id": "5fe8a051",
   "metadata": {},
   "outputs": [
    {
     "name": "stdout",
     "output_type": "stream",
     "text": [
      "140\n"
     ]
    }
   ],
   "source": [
    "# print(20 and 140)\n"
   ]
  },
  {
   "cell_type": "code",
   "execution_count": 66,
   "id": "f80abf3b",
   "metadata": {},
   "outputs": [
    {
     "name": "stdout",
     "output_type": "stream",
     "text": [
      "10.2 10.2\n",
      "True\n",
      "False\n",
      "2063227769488 2063227769488\n"
     ]
    }
   ],
   "source": [
    "a = 10.20\n",
    "b = 10.20\n",
    "a=b        \n",
    "print(a,b)\n",
    "print(a is b) \n",
    "print(a is not b)\n",
    "print(id(a), id(b))"
   ]
  },
  {
   "cell_type": "code",
   "execution_count": 63,
   "id": "11d52f72",
   "metadata": {},
   "outputs": [],
   "source": [
    "\n",
    "# print(12.4 & 12.3)\n",
    "\n"
   ]
  },
  {
   "cell_type": "markdown",
   "id": "fe468e07",
   "metadata": {},
   "source": [
    "Bitwise operation is not applicable between instances of float.\n",
    "Why the Id of float values are different when the same value is\n",
    "assigned to two different variables"
   ]
  },
  {
   "cell_type": "code",
   "execution_count": 58,
   "id": "93a1d67a",
   "metadata": {},
   "outputs": [
    {
     "name": "stdout",
     "output_type": "stream",
     "text": [
      "True\n",
      "True\n",
      "True\n",
      "True\n",
      "True\n",
      "True\n"
     ]
    }
   ],
   "source": [
    "print('2.7' in 'Python2.7.8')              \n",
    "print(10.20 in [10,10.20,10+20j,'Python']) \n",
    "print(10.20 in (10,10.20,10+20j,'Python')) \n",
    "print(20.30 in {1,20.30,30+40j})           \n",
    "print(1 in {1:100, 2.3:200, 30+40j:300}) \n",
    "print(10 in range(20))                     "
   ]
  }
 ],
 "metadata": {
  "kernelspec": {
   "display_name": "Python 3 (ipykernel)",
   "language": "python",
   "name": "python3"
  },
  "language_info": {
   "codemirror_mode": {
    "name": "ipython",
    "version": 3
   },
   "file_extension": ".py",
   "mimetype": "text/x-python",
   "name": "python",
   "nbconvert_exporter": "python",
   "pygments_lexer": "ipython3",
   "version": "3.9.7"
  }
 },
 "nbformat": 4,
 "nbformat_minor": 5
}
