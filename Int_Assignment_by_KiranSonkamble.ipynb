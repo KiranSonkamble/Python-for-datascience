{
 "cells": [
  {
   "cell_type": "markdown",
   "id": "3eb52a8c",
   "metadata": {},
   "source": [
    "### Kiran Sonkamble\n",
    "#### 9880994453"
   ]
  },
  {
   "cell_type": "markdown",
   "id": "3a13eb18",
   "metadata": {},
   "source": [
    "Declare an int value and store it in a variable.\n",
    "Check the type and print the id of the same."
   ]
  },
  {
   "cell_type": "code",
   "execution_count": 4,
   "id": "31651c1f",
   "metadata": {},
   "outputs": [
    {
     "name": "stdout",
     "output_type": "stream",
     "text": [
      "<class 'int'> 2230156814992 Var 12\n"
     ]
    }
   ],
   "source": [
    "q = 12\n",
    "print(type(q),id(q), \"Var\" ,q)"
   ]
  },
  {
   "cell_type": "markdown",
   "id": "19e75db2",
   "metadata": {},
   "source": [
    "Take one int value between 0 - 256.\n",
    "Assign it to two different variables.\n",
    "Check the id of both the variables. It should come the same. Check why?\n"
   ]
  },
  {
   "cell_type": "code",
   "execution_count": 21,
   "id": "6c758032",
   "metadata": {},
   "outputs": [
    {
     "name": "stdout",
     "output_type": "stream",
     "text": [
      "2230157009968\n",
      "2230157009968\n"
     ]
    },
    {
     "data": {
      "text/plain": [
       "True"
      ]
     },
     "execution_count": 21,
     "metadata": {},
     "output_type": "execute_result"
    }
   ],
   "source": [
    "w= 213\n",
    "e=213\n",
    "\n",
    "print(id(e))\n",
    "print(id(w))\n",
    "w  is e\n",
    "\n",
    "# The id value of both the variables same, \n",
    "# because object reusability concept allows int: 0-256 numbers.\n",
    "# Which can have same memory address if int value is same."
   ]
  },
  {
   "cell_type": "markdown",
   "id": "7cb05fb9",
   "metadata": {},
   "source": [
    "Take one int value either less than -5 or greater than 256.\n",
    "Assign it to two different variables.\n",
    "Check the id of both the variables. It should come different.Check why?\n"
   ]
  },
  {
   "cell_type": "code",
   "execution_count": 27,
   "id": "a0866382",
   "metadata": {},
   "outputs": [
    {
     "name": "stdout",
     "output_type": "stream",
     "text": [
      "False 2230237876560 2230237876976\n"
     ]
    }
   ],
   "source": [
    "r= 423\n",
    "t= 423\n",
    "\n",
    "print(r is t,id(r),id(t))\n",
    "\n",
    "# Because concept of object reusability not applicable here."
   ]
  },
  {
   "cell_type": "markdown",
   "id": "6c8b9fe4",
   "metadata": {},
   "source": [
    "Arithmetic Operations on integers\n",
    "Take two different integer values.\n",
    "Store them in two different variables.\n",
    "\n",
    "Do below operations on them:-"
   ]
  },
  {
   "cell_type": "markdown",
   "id": "12f3efff",
   "metadata": {},
   "source": [
    "* Find sum of both numbers"
   ]
  },
  {
   "cell_type": "code",
   "execution_count": 34,
   "id": "7da16a7c",
   "metadata": {},
   "outputs": [
    {
     "name": "stdout",
     "output_type": "stream",
     "text": [
      "100 ADD\n"
     ]
    }
   ],
   "source": [
    "y=56\n",
    "u=44\n",
    "print(y+u,\"ADD\")"
   ]
  },
  {
   "cell_type": "markdown",
   "id": "9326cebf",
   "metadata": {},
   "source": [
    "* Find difference between them\n",
    "* Find the product of both numbers.\n",
    "* Find value after dividing first num with second number\n",
    "* Find the remainder after dividing first number with second number\n",
    "* Find the quotient after dividing first number with second number\n",
    "* Find the result of the first num to the power of the second number."
   ]
  },
  {
   "cell_type": "code",
   "execution_count": 44,
   "id": "b77f7e03",
   "metadata": {},
   "outputs": [
    {
     "name": "stdout",
     "output_type": "stream",
     "text": [
      "12 Diff\n",
      "2464 Product\n",
      "1.2727272727272727 Div\n",
      "12 remanider\n",
      "1 Quotient\n",
      "83228714775187609516087769446382451891863484247270434060973411467321143197696 pow\n"
     ]
    }
   ],
   "source": [
    "print(y-u,\"Diff\")\n",
    "\n",
    "print(y*u,\"Product\")\n",
    "\n",
    "print(y/u,\"Div\")\n",
    "\n",
    "print(y%u,\"remanider\")\n",
    "\n",
    "print(y//u,\"Quotient\")\n",
    "\n",
    "print(y**u,\"pow\")"
   ]
  },
  {
   "cell_type": "markdown",
   "id": "88e5d501",
   "metadata": {},
   "source": [
    "Comparison Operators on integers\n",
    "Take two different integer values.\n",
    "Store them in two different variables.\n",
    "Do below operations on them:-"
   ]
  },
  {
   "cell_type": "code",
   "execution_count": 49,
   "id": "8ee1b020",
   "metadata": {},
   "outputs": [
    {
     "name": "stdout",
     "output_type": "stream",
     "text": [
      "True\n",
      "False\n",
      "True\n",
      "False\n"
     ]
    }
   ],
   "source": [
    "y=89\n",
    "u=78\n",
    "\n",
    "print(y > u) #Greater than\n",
    "\n",
    "print(y < u)  #Smaller than\n",
    "\n",
    "print(y >= u)  #Greater than or equal to\n",
    "\n",
    "print(y <= u)  #Less than or equal to"
   ]
  },
  {
   "cell_type": "markdown",
   "id": "8c0ee7f1",
   "metadata": {},
   "source": [
    " Equality Operator\n",
    "Take two different integer values.\n",
    "Store them in two different variables.\n",
    "Equate them using equality operators (==, !=)\n",
    "Observe the output(return type should be boolean)"
   ]
  },
  {
   "cell_type": "code",
   "execution_count": 51,
   "id": "47c582f4",
   "metadata": {},
   "outputs": [
    {
     "name": "stdout",
     "output_type": "stream",
     "text": [
      "False\n",
      "True\n"
     ]
    }
   ],
   "source": [
    "i = 76\n",
    "o = 65\n",
    "\n",
    "print(i==o)\n",
    "\n",
    "print(i!=0)"
   ]
  },
  {
   "cell_type": "markdown",
   "id": "4301b1d8",
   "metadata": {},
   "source": [
    "Logical operators\n",
    "Observe the output of below code\n",
    "Cross check the output manually"
   ]
  },
  {
   "cell_type": "code",
   "execution_count": 52,
   "id": "2f3a796e",
   "metadata": {},
   "outputs": [
    {
     "name": "stdout",
     "output_type": "stream",
     "text": [
      "20\n"
     ]
    }
   ],
   "source": [
    "print(10 and 20)"
   ]
  },
  {
   "cell_type": "code",
   "execution_count": 53,
   "id": "859996c9",
   "metadata": {},
   "outputs": [
    {
     "name": "stdout",
     "output_type": "stream",
     "text": [
      "0\n"
     ]
    }
   ],
   "source": [
    "print(0 and 20)"
   ]
  },
  {
   "cell_type": "code",
   "execution_count": 54,
   "id": "3b69a5c5",
   "metadata": {},
   "outputs": [
    {
     "data": {
      "text/plain": [
       "'0b10100'"
      ]
     },
     "execution_count": 54,
     "metadata": {},
     "output_type": "execute_result"
    }
   ],
   "source": [
    "bin(20)"
   ]
  },
  {
   "cell_type": "code",
   "execution_count": 55,
   "id": "1e2815e4",
   "metadata": {},
   "outputs": [
    {
     "data": {
      "text/plain": [
       "'0b1010'"
      ]
     },
     "execution_count": 55,
     "metadata": {},
     "output_type": "execute_result"
    }
   ],
   "source": [
    "bin(10)"
   ]
  },
  {
   "cell_type": "code",
   "execution_count": 56,
   "id": "01ff86cb",
   "metadata": {},
   "outputs": [
    {
     "name": "stdout",
     "output_type": "stream",
     "text": [
      "0\n"
     ]
    }
   ],
   "source": [
    "print(20 and 0)"
   ]
  },
  {
   "cell_type": "code",
   "execution_count": 57,
   "id": "9f1a7670",
   "metadata": {},
   "outputs": [
    {
     "name": "stdout",
     "output_type": "stream",
     "text": [
      "0\n"
     ]
    }
   ],
   "source": [
    "print(20 and 0)"
   ]
  },
  {
   "cell_type": "code",
   "execution_count": 58,
   "id": "59f4276a",
   "metadata": {},
   "outputs": [
    {
     "name": "stdout",
     "output_type": "stream",
     "text": [
      "0\n"
     ]
    }
   ],
   "source": [
    "print(20 and 0)"
   ]
  },
  {
   "cell_type": "code",
   "execution_count": 59,
   "id": "276f83b8",
   "metadata": {},
   "outputs": [
    {
     "name": "stdout",
     "output_type": "stream",
     "text": [
      "0\n"
     ]
    }
   ],
   "source": [
    "print(0 and 20)"
   ]
  },
  {
   "cell_type": "code",
   "execution_count": 61,
   "id": "37aa3a0d",
   "metadata": {},
   "outputs": [
    {
     "name": "stdout",
     "output_type": "stream",
     "text": [
      "20\n"
     ]
    }
   ],
   "source": [
    "print(0 or 20)"
   ]
  },
  {
   "cell_type": "code",
   "execution_count": 62,
   "id": "6ef867db",
   "metadata": {},
   "outputs": [
    {
     "name": "stdout",
     "output_type": "stream",
     "text": [
      "20\n"
     ]
    }
   ],
   "source": [
    "print(20 or 0)"
   ]
  },
  {
   "cell_type": "code",
   "execution_count": 64,
   "id": "d542f3b5",
   "metadata": {},
   "outputs": [
    {
     "name": "stdout",
     "output_type": "stream",
     "text": [
      "0\n"
     ]
    }
   ],
   "source": [
    "print(0 or 0)"
   ]
  },
  {
   "cell_type": "code",
   "execution_count": 65,
   "id": "f152c0e7",
   "metadata": {},
   "outputs": [
    {
     "name": "stdout",
     "output_type": "stream",
     "text": [
      "False\n"
     ]
    }
   ],
   "source": [
    "print(not 10)"
   ]
  },
  {
   "cell_type": "code",
   "execution_count": 68,
   "id": "7ef8dc10",
   "metadata": {},
   "outputs": [
    {
     "name": "stdout",
     "output_type": "stream",
     "text": [
      "True\n"
     ]
    }
   ],
   "source": [
    "print(not 0)"
   ]
  },
  {
   "cell_type": "markdown",
   "id": "8d285d75",
   "metadata": {},
   "source": [
    "Bitwise Operators\n",
    "Do below operations on the values provided below:"
   ]
  },
  {
   "cell_type": "code",
   "execution_count": 69,
   "id": "329b7a94",
   "metadata": {},
   "outputs": [
    {
     "name": "stdout",
     "output_type": "stream",
     "text": [
      "0\n"
     ]
    }
   ],
   "source": [
    "print(10 & 20)"
   ]
  },
  {
   "cell_type": "code",
   "execution_count": 71,
   "id": "7dedbb62",
   "metadata": {},
   "outputs": [
    {
     "name": "stdout",
     "output_type": "stream",
     "text": [
      "30\n"
     ]
    }
   ],
   "source": [
    "print(10 | 20)"
   ]
  },
  {
   "cell_type": "code",
   "execution_count": 72,
   "id": "af1f77ce",
   "metadata": {},
   "outputs": [
    {
     "name": "stdout",
     "output_type": "stream",
     "text": [
      "30\n"
     ]
    }
   ],
   "source": [
    "print(10 ^ 20)"
   ]
  },
  {
   "cell_type": "code",
   "execution_count": 73,
   "id": "4e70fc62",
   "metadata": {},
   "outputs": [
    {
     "name": "stdout",
     "output_type": "stream",
     "text": [
      "-11\n"
     ]
    }
   ],
   "source": [
    "print(~10)"
   ]
  },
  {
   "cell_type": "code",
   "execution_count": 74,
   "id": "72dcd236",
   "metadata": {},
   "outputs": [
    {
     "name": "stdout",
     "output_type": "stream",
     "text": [
      "2\n"
     ]
    }
   ],
   "source": [
    "print(10>>2)"
   ]
  },
  {
   "cell_type": "code",
   "execution_count": 75,
   "id": "caefc4cf",
   "metadata": {},
   "outputs": [
    {
     "name": "stdout",
     "output_type": "stream",
     "text": [
      "40\n"
     ]
    }
   ],
   "source": [
    "print(10 << 2)"
   ]
  },
  {
   "cell_type": "markdown",
   "id": "d2b0d49b",
   "metadata": {},
   "source": [
    "What is the output of expression inside print statement. Cross check\n",
    "before running the program"
   ]
  },
  {
   "cell_type": "code",
   "execution_count": 77,
   "id": "7c1e6629",
   "metadata": {},
   "outputs": [
    {
     "name": "stdout",
     "output_type": "stream",
     "text": [
      "True\n",
      "False\n"
     ]
    }
   ],
   "source": [
    "a = 10\n",
    "b = 10\n",
    "print(a is b) \n",
    "print(a is not b)"
   ]
  },
  {
   "cell_type": "code",
   "execution_count": 79,
   "id": "10e68dc0",
   "metadata": {},
   "outputs": [
    {
     "name": "stdout",
     "output_type": "stream",
     "text": [
      "False\n",
      "True\n"
     ]
    }
   ],
   "source": [
    "a = 1000\n",
    "b = 1000\n",
    "print(a is b) \n",
    "print(a is not b)"
   ]
  },
  {
   "cell_type": "markdown",
   "id": "e7281ff9",
   "metadata": {},
   "source": [
    "What is the output of expression inside print statement. Cross check\n",
    "before running the program.\n"
   ]
  },
  {
   "cell_type": "code",
   "execution_count": 80,
   "id": "71a9e4f3",
   "metadata": {},
   "outputs": [
    {
     "name": "stdout",
     "output_type": "stream",
     "text": [
      "20\n"
     ]
    }
   ],
   "source": [
    "print(10+(10*32)//2**5&20+(~(-10))<<2)"
   ]
  },
  {
   "cell_type": "code",
   "execution_count": 81,
   "id": "0a04166e",
   "metadata": {},
   "outputs": [
    {
     "data": {
      "text/plain": [
       "116"
      ]
     },
     "execution_count": 81,
     "metadata": {},
     "output_type": "execute_result"
    }
   ],
   "source": [
    "29<<2"
   ]
  },
  {
   "cell_type": "code",
   "execution_count": 82,
   "id": "e549ca95",
   "metadata": {},
   "outputs": [
    {
     "data": {
      "text/plain": [
       "20"
      ]
     },
     "execution_count": 82,
     "metadata": {},
     "output_type": "execute_result"
    }
   ],
   "source": [
    "20&116\n"
   ]
  },
  {
   "cell_type": "markdown",
   "id": "6405ab82",
   "metadata": {},
   "source": [
    "Membership operation\n",
    "in, not in are two membership operators and it returns boolean value\n"
   ]
  },
  {
   "cell_type": "code",
   "execution_count": 87,
   "id": "37b16e2e",
   "metadata": {},
   "outputs": [
    {
     "name": "stdout",
     "output_type": "stream",
     "text": [
      "True\n",
      "True\n",
      "True\n",
      "True\n",
      "True\n",
      "True\n"
     ]
    }
   ],
   "source": [
    "print('2' in 'Python2.7.8')\n",
    "\n",
    "print(10 in [10,10.20,10+20j,'Python'])\n",
    "\n",
    "print(10 in (10,10.20,10+20j,'Python'))\n",
    "\n",
    "print(3 in {1,2,3})\n",
    "\n",
    "print(3 in {1:100, 2:200, 3:300})\n",
    "\n",
    "print(10 in range(20))"
   ]
  },
  {
   "cell_type": "markdown",
   "id": "358c453e",
   "metadata": {},
   "source": [
    " An integer can be represented in binary, octal or hexadecimal form.\n",
    "Declare one binary, one octal and one hexadecimal value and store them\n",
    "in three different variables.\n",
    "Convert 9876 to its binary, octal and hexadecimal equivalent and print\n",
    "their corresponding value."
   ]
  },
  {
   "cell_type": "code",
   "execution_count": 105,
   "id": "5fd2093e",
   "metadata": {},
   "outputs": [
    {
     "name": "stdout",
     "output_type": "stream",
     "text": [
      "0b10011010010100 0o23224 0x2694\n"
     ]
    }
   ],
   "source": [
    "b= bin(9876)\n",
    "oo= oct(9876)\n",
    "hx= hex(9876)\n",
    "print(b, oo, hx)\n",
    "\n",
    "# 0b101001\n",
    "\n",
    "# 0x10f8\n",
    "\n",
    "# 0o760"
   ]
  },
  {
   "cell_type": "markdown",
   "id": "cd3fff50",
   "metadata": {},
   "source": [
    "What will be the output of following:"
   ]
  },
  {
   "cell_type": "code",
   "execution_count": 106,
   "id": "1f8d0aca",
   "metadata": {},
   "outputs": [
    {
     "name": "stdout",
     "output_type": "stream",
     "text": [
      "80\n"
     ]
    }
   ],
   "source": [
    "a = 0b1010000\n",
    "print(a)\n"
   ]
  },
  {
   "cell_type": "code",
   "execution_count": 107,
   "id": "6f5c604f",
   "metadata": {},
   "outputs": [
    {
     "name": "stdout",
     "output_type": "stream",
     "text": [
      "3870\n",
      "64222\n"
     ]
    }
   ],
   "source": [
    "b = 0o7436\n",
    "print(b)\n",
    "\n",
    "c = 0xfade\n",
    "print(c)\n"
   ]
  },
  {
   "cell_type": "code",
   "execution_count": 109,
   "id": "dcc69c42",
   "metadata": {},
   "outputs": [
    {
     "name": "stdout",
     "output_type": "stream",
     "text": [
      "0b1010000\n",
      "0o7436\n"
     ]
    }
   ],
   "source": [
    "print(bin(80))\n",
    "\n",
    "print(oct(3870))\n",
    "\n"
   ]
  },
  {
   "cell_type": "code",
   "execution_count": 110,
   "id": "e77bcf5d",
   "metadata": {},
   "outputs": [
    {
     "name": "stdout",
     "output_type": "stream",
     "text": [
      "0xfade\n",
      "0b1010000\n",
      "0b1111101011011110\n",
      "0o175336\n",
      "0o7436\n",
      "0x50\n",
      "0xfade\n"
     ]
    }
   ],
   "source": [
    "print(hex(64222))\n",
    "\n",
    "print(bin(0b1010000))\n",
    "\n",
    "print(bin(0xfade))\n",
    "\n",
    "print(oct(0xfade))\n",
    "\n",
    "print(oct(0o7436))\n",
    "\n",
    "print(hex(0b1010000))\n",
    "\n",
    "print(hex(0xfade))"
   ]
  }
 ],
 "metadata": {
  "kernelspec": {
   "display_name": "Python 3 (ipykernel)",
   "language": "python",
   "name": "python3"
  },
  "language_info": {
   "codemirror_mode": {
    "name": "ipython",
    "version": 3
   },
   "file_extension": ".py",
   "mimetype": "text/x-python",
   "name": "python",
   "nbconvert_exporter": "python",
   "pygments_lexer": "ipython3",
   "version": "3.9.7"
  }
 },
 "nbformat": 4,
 "nbformat_minor": 5
}
