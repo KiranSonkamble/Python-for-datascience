{
 "cells": [
  {
   "cell_type": "code",
   "execution_count": 2,
   "id": "85a292fe",
   "metadata": {},
   "outputs": [
    {
     "data": {
      "text/plain": [
       "120"
      ]
     },
     "execution_count": 2,
     "metadata": {},
     "output_type": "execute_result"
    }
   ],
   "source": [
    "# Recursive function:\n",
    "\n",
    "\n",
    "def factorials(x):\n",
    "    if x==0:\n",
    "        return 1\n",
    "    else:\n",
    "        return x*factorials(x-1)\n",
    "\n",
    "factorials(5)"
   ]
  },
  {
   "cell_type": "code",
   "execution_count": 1,
   "id": "d3fa2398",
   "metadata": {},
   "outputs": [
    {
     "data": {
      "text/plain": [
       "2"
      ]
     },
     "execution_count": 1,
     "metadata": {},
     "output_type": "execute_result"
    }
   ],
   "source": [
    "(lambda a: a if a%2==0 else (-1))(2)\n"
   ]
  },
  {
   "cell_type": "code",
   "execution_count": 32,
   "id": "3baaf1e8",
   "metadata": {},
   "outputs": [
    {
     "data": {
      "text/plain": [
       "'Not prime'"
      ]
     },
     "execution_count": 32,
     "metadata": {},
     "output_type": "execute_result"
    }
   ],
   "source": [
    "def p(x):\n",
    "    for i in range(2,x):\n",
    "        if x%2==0:\n",
    "            return'Not prime'\n",
    "            \n",
    "            \n",
    "    else:\n",
    "        return('is prime')\n",
    "            \n",
    "p(40)"
   ]
  },
  {
   "cell_type": "code",
   "execution_count": 1,
   "id": "f91885c1",
   "metadata": {},
   "outputs": [
    {
     "data": {
      "text/plain": [
       "[24, 34, 36, 47, 20]"
      ]
     },
     "execution_count": 1,
     "metadata": {},
     "output_type": "execute_result"
    }
   ],
   "source": [
    "# map function take one fun and iterable.\n",
    "\n",
    "g=[12,32,34,45,18]\n",
    "c1=[12,2,2,2,2]\n",
    "def f(x):\n",
    "    return x+5\n",
    "\n",
    "c2=map(f,c1)   #no fun arg\n",
    "c= map(lambda x: x+1,g)      #supports lambda fun #single arg, single iterable\n",
    "list(c)   \n",
    "list(c2)\n",
    "\n",
    "# Multiple arg and multiple iterable \n",
    "# BUT NOT MULTIPLE FUNCTIONS\n",
    "\n",
    "v= map(lambda q,w: q+w, g,c1)\n",
    "list(v)"
   ]
  },
  {
   "cell_type": "code",
   "execution_count": 10,
   "id": "58358a46",
   "metadata": {},
   "outputs": [
    {
     "name": "stdout",
     "output_type": "stream",
     "text": [
      "(0, 1)\n",
      "(1, 2)\n",
      "(2, 3)\n",
      "(3, 4)\n",
      "(4, 3)\n",
      "(5, 2)\n",
      "(6, 3)\n",
      "(7, 2)\n",
      "(8, 3)\n",
      "(9, 3)\n"
     ]
    }
   ],
   "source": [
    "a4=[1,2,3,4,3,2,3,2,3,3]\n",
    "for i in enumerate(a4):\n",
    "    print(i)"
   ]
  },
  {
   "cell_type": "code",
   "execution_count": 15,
   "id": "3bbe2848",
   "metadata": {},
   "outputs": [
    {
     "name": "stdout",
     "output_type": "stream",
     "text": [
      "1\n",
      "5\n",
      "7\n"
     ]
    }
   ],
   "source": [
    "for index,value in enumerate(a4):\n",
    "    if value==2:\n",
    "        print(index)"
   ]
  },
  {
   "cell_type": "code",
   "execution_count": 40,
   "id": "4d7a999f",
   "metadata": {},
   "outputs": [
    {
     "ename": "TypeError",
     "evalue": "'type' object does not support item assignment",
     "output_type": "error",
     "traceback": [
      "\u001b[1;31m---------------------------------------------------------------------------\u001b[0m",
      "\u001b[1;31mTypeError\u001b[0m                                 Traceback (most recent call last)",
      "\u001b[1;32mC:\\Users\\KIRANS~1\\AppData\\Local\\Temp/ipykernel_16076/162855460.py\u001b[0m in \u001b[0;36m<module>\u001b[1;34m\u001b[0m\n\u001b[0;32m      2\u001b[0m     \u001b[1;32mif\u001b[0m \u001b[0mvalue\u001b[0m\u001b[1;33m==\u001b[0m\u001b[1;34m'as'\u001b[0m\u001b[1;33m:\u001b[0m\u001b[1;33m\u001b[0m\u001b[1;33m\u001b[0m\u001b[0m\n\u001b[0;32m      3\u001b[0m \u001b[1;31m#         a4[i]=='go'\u001b[0m\u001b[1;33m\u001b[0m\u001b[1;33m\u001b[0m\u001b[0m\n\u001b[1;32m----> 4\u001b[1;33m         \u001b[0mlist\u001b[0m\u001b[1;33m[\u001b[0m\u001b[0mvalue\u001b[0m\u001b[1;33m]\u001b[0m\u001b[1;33m=\u001b[0m\u001b[1;34m'go'\u001b[0m\u001b[1;33m\u001b[0m\u001b[1;33m\u001b[0m\u001b[0m\n\u001b[0m",
      "\u001b[1;31mTypeError\u001b[0m: 'type' object does not support item assignment"
     ]
    }
   ],
   "source": [
    "for index, value in enumerate([12,2,'as']):\n",
    "    if value=='as':\n",
    "#         a4[i]=='go'\n",
    "        list[value]='go'"
   ]
  },
  {
   "cell_type": "code",
   "execution_count": 2,
   "id": "7996555d",
   "metadata": {},
   "outputs": [
    {
     "data": {
      "text/plain": [
       "[(1, 12), (2, 21), (3, 12), (4, 32), (5, 33), (6, 23), (7, 12)]"
      ]
     },
     "execution_count": 2,
     "metadata": {},
     "output_type": "execute_result"
    }
   ],
   "source": [
    "qw= [12,21,12,32,33,23,12]\n",
    "\n",
    "e1= enumerate(qw,1)\n",
    "list(e1)"
   ]
  },
  {
   "cell_type": "code",
   "execution_count": 11,
   "id": "1af87107",
   "metadata": {},
   "outputs": [
    {
     "name": "stdout",
     "output_type": "stream",
     "text": [
      "0\n",
      "2\n",
      "6\n"
     ]
    }
   ],
   "source": [
    "for i in enumerate(qw):\n",
    "#     print(i)\n",
    "    if i[1]==12:\n",
    "        print(i[0])"
   ]
  },
  {
   "cell_type": "code",
   "execution_count": 44,
   "id": "3f8a723a",
   "metadata": {},
   "outputs": [
    {
     "name": "stdout",
     "output_type": "stream",
     "text": [
      "12\n",
      "122212 12\n",
      "zxcv 13\n"
     ]
    },
    {
     "ename": "IndexError",
     "evalue": "list assignment index out of range",
     "output_type": "error",
     "traceback": [
      "\u001b[1;31m---------------------------------------------------------------------------\u001b[0m",
      "\u001b[1;31mIndexError\u001b[0m                                Traceback (most recent call last)",
      "\u001b[1;32mC:\\Users\\KIRANS~1\\AppData\\Local\\Temp/ipykernel_14408/3301823880.py\u001b[0m in \u001b[0;36m<module>\u001b[1;34m\u001b[0m\n\u001b[0;32m      8\u001b[0m \u001b[1;33m\u001b[0m\u001b[0m\n\u001b[0;32m      9\u001b[0m         \u001b[0mprint\u001b[0m\u001b[1;33m(\u001b[0m\u001b[1;34m'zxcv'\u001b[0m\u001b[1;33m,\u001b[0m\u001b[0mi\u001b[0m\u001b[1;33m)\u001b[0m\u001b[1;33m\u001b[0m\u001b[1;33m\u001b[0m\u001b[0m\n\u001b[1;32m---> 10\u001b[1;33m         \u001b[0mqw01\u001b[0m\u001b[1;33m[\u001b[0m\u001b[0mi\u001b[0m\u001b[1;33m]\u001b[0m\u001b[1;33m=\u001b[0m\u001b[1;36m0\u001b[0m\u001b[1;33m\u001b[0m\u001b[1;33m\u001b[0m\u001b[0m\n\u001b[0m\u001b[0;32m     11\u001b[0m \u001b[1;33m\u001b[0m\u001b[0m\n\u001b[0;32m     12\u001b[0m \u001b[1;33m\u001b[0m\u001b[0m\n",
      "\u001b[1;31mIndexError\u001b[0m: list assignment index out of range"
     ]
    }
   ],
   "source": [
    "qw01=[12,21,12,32,33,23,12]\n",
    "\n",
    "for i in qw01:\n",
    "    print(i)\n",
    "    if i==12:\n",
    "        print('122212', i)\n",
    "        i+=1\n",
    "        \n",
    "        print('zxcv',i)\n",
    "        qw01[i]=0\n",
    "\n",
    "        \n",
    "qw01"
   ]
  },
  {
   "cell_type": "code",
   "execution_count": 4,
   "id": "998d2f69",
   "metadata": {},
   "outputs": [
    {
     "name": "stdout",
     "output_type": "stream",
     "text": [
      "(0, 12)\n"
     ]
    },
    {
     "ename": "TypeError",
     "evalue": "list indices must be integers or slices, not tuple",
     "output_type": "error",
     "traceback": [
      "\u001b[1;31m---------------------------------------------------------------------------\u001b[0m",
      "\u001b[1;31mTypeError\u001b[0m                                 Traceback (most recent call last)",
      "\u001b[1;32mC:\\Users\\KIRANS~1\\AppData\\Local\\Temp/ipykernel_21860/4148698852.py\u001b[0m in \u001b[0;36m<module>\u001b[1;34m\u001b[0m\n\u001b[0;32m      3\u001b[0m     \u001b[0mprint\u001b[0m\u001b[1;33m(\u001b[0m\u001b[0mj\u001b[0m\u001b[1;33m)\u001b[0m\u001b[1;33m\u001b[0m\u001b[1;33m\u001b[0m\u001b[0m\n\u001b[0;32m      4\u001b[0m     \u001b[1;32mif\u001b[0m \u001b[0mj\u001b[0m\u001b[1;33m[\u001b[0m\u001b[1;36m1\u001b[0m\u001b[1;33m]\u001b[0m\u001b[1;33m==\u001b[0m\u001b[1;36m12\u001b[0m\u001b[1;33m:\u001b[0m\u001b[1;33m\u001b[0m\u001b[1;33m\u001b[0m\u001b[0m\n\u001b[1;32m----> 5\u001b[1;33m         \u001b[0mqw0\u001b[0m\u001b[1;33m[\u001b[0m\u001b[0mj\u001b[0m\u001b[1;33m]\u001b[0m\u001b[1;33m=\u001b[0m\u001b[1;34m'go'\u001b[0m\u001b[1;33m\u001b[0m\u001b[1;33m\u001b[0m\u001b[0m\n\u001b[0m\u001b[0;32m      6\u001b[0m \u001b[1;33m\u001b[0m\u001b[0m\n\u001b[0;32m      7\u001b[0m \u001b[0mqw0\u001b[0m\u001b[1;33m\u001b[0m\u001b[1;33m\u001b[0m\u001b[0m\n",
      "\u001b[1;31mTypeError\u001b[0m: list indices must be integers or slices, not tuple"
     ]
    }
   ],
   "source": [
    "qw0=[12,21,12,32,33,23,12]\n",
    "for j in enumerate(qw0):\n",
    "    print(j)\n",
    "    if j[1]==12:\n",
    "        qw0[j]='go'\n",
    "        \n",
    "qw0"
   ]
  },
  {
   "cell_type": "code",
   "execution_count": 35,
   "id": "c2100717",
   "metadata": {},
   "outputs": [
    {
     "data": {
      "text/plain": [
       "['go', 21, 'go', 32, 33, 23, 'go']"
      ]
     },
     "execution_count": 35,
     "metadata": {},
     "output_type": "execute_result"
    }
   ],
   "source": [
    "qw1 =[12,21,12,32,33,23,12]\n",
    "for index,value in enumerate(qw1):\n",
    "#     print(j)\n",
    "    if value==12:\n",
    "        qw1[index]='go'\n",
    "        \n",
    "qw1"
   ]
  },
  {
   "cell_type": "code",
   "execution_count": null,
   "id": "98587ace",
   "metadata": {},
   "outputs": [],
   "source": []
  },
  {
   "cell_type": "code",
   "execution_count": 1,
   "id": "39af2229",
   "metadata": {},
   "outputs": [
    {
     "name": "stdout",
     "output_type": "stream",
     "text": [
      "0 --- 12\n",
      "1 --- 21\n",
      "2 --- 12\n",
      "3 --- 32\n",
      "4 --- 33\n",
      "5 --- 23\n",
      "6 --- 12\n"
     ]
    },
    {
     "data": {
      "text/plain": [
       "['o', 21, 'o', 32, 33, 23, 'o']"
      ]
     },
     "execution_count": 1,
     "metadata": {},
     "output_type": "execute_result"
    }
   ],
   "source": [
    "qw11 =[12,21,12,32,33,23,12]\n",
    "for index,value in enumerate(qw11):\n",
    "    print(index, \"---\", value)\n",
    "    if value==12:\n",
    "        qw11[index]='o'\n",
    "#         qw11[value]='8'\n",
    "        \n",
    "qw11"
   ]
  },
  {
   "cell_type": "code",
   "execution_count": 4,
   "id": "3a10b468",
   "metadata": {},
   "outputs": [
    {
     "name": "stdout",
     "output_type": "stream",
     "text": [
      "['In', 'Out', '_', '_3', '__', '___', '__builtin__', '__builtins__', '__doc__', '__loader__', '__name__', '__package__', '__spec__', '_dh', '_i', '_i1', '_i2', '_i3', '_i4', '_ih', '_ii', '_iii', '_oh', 'exit', 'get_ipython', 'mt', 'quit']\n"
     ]
    }
   ],
   "source": [
    "# 23/03/22\n",
    "\n",
    "# this is global variable space\n",
    "# whenever user defining a variable,fun,class is stored\n",
    "\n",
    "print(dir())"
   ]
  },
  {
   "cell_type": "code",
   "execution_count": 12,
   "id": "423b51b5",
   "metadata": {},
   "outputs": [
    {
     "name": "stdout",
     "output_type": "stream",
     "text": [
      "9\n"
     ]
    }
   ],
   "source": [
    "def sum(q,w):\n",
    "    return q+w\n",
    "\n",
    "sum(12,2)\n",
    "\n",
    "(lambda x: print(x))(9)"
   ]
  },
  {
   "cell_type": "code",
   "execution_count": 14,
   "id": "6a735230",
   "metadata": {},
   "outputs": [
    {
     "name": "stdout",
     "output_type": "stream",
     "text": [
      "['In', 'Out', '_', '_1', '_9', '__', '___', '__builtin__', '__builtins__', '__doc__', '__loader__', '__name__', '__package__', '__spec__', '_dh', '_i', '_i1', '_i10', '_i11', '_i12', '_i13', '_i14', '_i2', '_i3', '_i4', '_i5', '_i6', '_i7', '_i8', '_i9', '_ih', '_ii', '_iii', '_oh', 'exit', 'get_ipython', 'index', 'quit', 'qw11', 'sum', 'value']\n"
     ]
    }
   ],
   "source": [
    "print(dir())"
   ]
  },
  {
   "cell_type": "code",
   "execution_count": 2,
   "id": "b1563501",
   "metadata": {},
   "outputs": [
    {
     "name": "stdout",
     "output_type": "stream",
     "text": [
      "['In', 'Out', '_', '__', '___', '__builtin__', '__builtins__', '__doc__', '__loader__', '__name__', '__package__', '__spec__', '_dh', '_i', '_i1', '_i2', '_ih', '_ii', '_iii', '_oh', 'exit', 'get_ipython', 'mt', 'quit']\n",
      "['__builtins__', '__cached__', '__doc__', '__file__', '__loader__', '__name__', '__package__', '__spec__', 'a', 'dif', 'q', 'r', 'sum']\n"
     ]
    }
   ],
   "source": [
    "import module_tst as mt\n",
    "print(dir())\n",
    "print(dir(mt))\n"
   ]
  },
  {
   "cell_type": "code",
   "execution_count": 8,
   "id": "8da380fc",
   "metadata": {},
   "outputs": [
    {
     "data": {
      "text/plain": [
       "11"
      ]
     },
     "execution_count": 8,
     "metadata": {},
     "output_type": "execute_result"
    }
   ],
   "source": [
    "mt.dif(12,2,3)\n",
    "mt.sum(12,2,3)"
   ]
  },
  {
   "cell_type": "code",
   "execution_count": 3,
   "id": "886ada52",
   "metadata": {},
   "outputs": [
    {
     "data": {
      "text/plain": [
       "['__builtins__',\n",
       " '__cached__',\n",
       " '__doc__',\n",
       " '__file__',\n",
       " '__loader__',\n",
       " '__name__',\n",
       " '__package__',\n",
       " '__spec__',\n",
       " 'a',\n",
       " 'dif',\n",
       " 'q',\n",
       " 'r',\n",
       " 'sum']"
      ]
     },
     "execution_count": 3,
     "metadata": {},
     "output_type": "execute_result"
    }
   ],
   "source": [
    "dir(mt)"
   ]
  }
 ],
 "metadata": {
  "kernelspec": {
   "display_name": "Python 3 (ipykernel)",
   "language": "python",
   "name": "python3"
  },
  "language_info": {
   "codemirror_mode": {
    "name": "ipython",
    "version": 3
   },
   "file_extension": ".py",
   "mimetype": "text/x-python",
   "name": "python",
   "nbconvert_exporter": "python",
   "pygments_lexer": "ipython3",
   "version": "3.9.12"
  }
 },
 "nbformat": 4,
 "nbformat_minor": 5
}
