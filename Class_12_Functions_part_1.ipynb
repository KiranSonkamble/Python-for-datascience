{
 "cells": [
  {
   "cell_type": "markdown",
   "id": "fdc47dd8",
   "metadata": {
    "id": "fdc47dd8"
   },
   "source": [
    "# Functions"
   ]
  },
  {
   "cell_type": "code",
   "execution_count": null,
   "id": "8caee49d",
   "metadata": {
    "ExecuteTime": {
     "end_time": "2022-01-26T14:10:23.231973Z",
     "start_time": "2022-01-26T14:10:23.224483Z"
    },
    "id": "8caee49d"
   },
   "outputs": [],
   "source": [
    "def my_add():\n",
    "    num1 = int(input(\"Enter 1st number: \"))\n",
    "    num2 = int(input(\"Enter 2nd number: \"))\n",
    "    res = num1+num2\n",
    "    print(res)"
   ]
  },
  {
   "cell_type": "code",
   "execution_count": null,
   "id": "967d8261",
   "metadata": {
    "ExecuteTime": {
     "end_time": "2022-01-26T14:22:23.049957Z",
     "start_time": "2022-01-26T14:22:20.769464Z"
    },
    "id": "967d8261",
    "outputId": "30086169-538f-4758-ffdc-f1104c5909a9"
   },
   "outputs": [
    {
     "name": "stdout",
     "output_type": "stream",
     "text": [
      "Enter 1st number: 100\n",
      "Enter 2nd number: 200\n",
      "300\n",
      "None\n"
     ]
    }
   ],
   "source": [
    "my_add()"
   ]
  },
  {
   "cell_type": "code",
   "execution_count": 4,
   "id": "dfeabd18",
   "metadata": {},
   "outputs": [
    {
     "name": "stdout",
     "output_type": "stream",
     "text": [
      "8\n",
      "9\n"
     ]
    },
    {
     "data": {
      "text/plain": [
       "17"
      ]
     },
     "execution_count": 4,
     "metadata": {},
     "output_type": "execute_result"
    }
   ],
   "source": [
    "i1 = int(input())\n",
    "i2 = int(input())\n",
    "def add(x, y):\n",
    "    return i1 + i2\n",
    "add(i1, i2)"
   ]
  },
  {
   "cell_type": "code",
   "execution_count": null,
   "id": "032e4647",
   "metadata": {
    "id": "032e4647"
   },
   "outputs": [],
   "source": [
    "# Type of functions\n",
    "    # Builtin function - len, type, id, int, float, eval, input, print etc\n",
    "    # User defined - "
   ]
  },
  {
   "cell_type": "code",
   "execution_count": null,
   "id": "0b20283c",
   "metadata": {
    "id": "0b20283c"
   },
   "outputs": [],
   "source": [
    "# Syntax of defining the function\n",
    "\n",
    "def func_name(param1, param2, param3...):\n",
    "    code1\n",
    "    code2\n",
    "    code3\n",
    "    code4\n",
    "    ...\n",
    "    return stat\n",
    "\n",
    "# Parameters are optional\n",
    "# Return stat optional\n",
    "# If return stat is not written then function returns None by default\n",
    "# One function can return only once at a time\n"
   ]
  },
  {
   "cell_type": "code",
   "execution_count": null,
   "id": "173bc722",
   "metadata": {
    "id": "173bc722"
   },
   "outputs": [],
   "source": [
    "# Syntax of calling the function\n",
    "\n",
    "func_name(args1, args2, args3...)\n",
    "\n",
    "# args is optional\n",
    "\n",
    "# Function definition does not execute the function\n",
    "# Function call executes the function\n"
   ]
  },
  {
   "cell_type": "code",
   "execution_count": null,
   "id": "6840273c",
   "metadata": {
    "id": "6840273c"
   },
   "outputs": [],
   "source": [
    "# Input to the function - parameters and argument\n",
    "    # Parameter - is the variable which holds the argument\n",
    "    # Argument is the actual value\n",
    "\n",
    "# len('Python')\n",
    "\n",
    "\n",
    "# Output to the function - return stat\n"
   ]
  },
  {
   "cell_type": "code",
   "execution_count": null,
   "id": "980923a7",
   "metadata": {
    "ExecuteTime": {
     "end_time": "2022-01-26T14:29:13.571699Z",
     "start_time": "2022-01-26T14:29:13.566130Z"
    },
    "id": "980923a7"
   },
   "outputs": [],
   "source": [
    "# a = 3\n",
    "\n",
    "def my_add(num1, num2):\n",
    "    res = num1+num2\n",
    "    return res\n",
    "\n",
    "# Parameters = num1, num2"
   ]
  },
  {
   "cell_type": "code",
   "execution_count": null,
   "id": "45044c00",
   "metadata": {
    "ExecuteTime": {
     "end_time": "2022-01-26T14:29:15.037459Z",
     "start_time": "2022-01-26T14:29:15.031156Z"
    },
    "id": "45044c00",
    "outputId": "64e540c8-0295-4c03-eb12-7464af86b2e5"
   },
   "outputs": [
    {
     "name": "stdout",
     "output_type": "stream",
     "text": [
      "None\n"
     ]
    }
   ],
   "source": [
    "a = my_add(11, 22)\n",
    "print(a)\n",
    "\n",
    "# Arguments = 11, 22"
   ]
  },
  {
   "cell_type": "code",
   "execution_count": null,
   "id": "74bd524f",
   "metadata": {
    "ExecuteTime": {
     "end_time": "2022-01-26T14:42:05.396544Z",
     "start_time": "2022-01-26T14:42:05.387186Z"
    },
    "id": "74bd524f"
   },
   "outputs": [],
   "source": [
    "# Positional parameters/arguments\n",
    "# Order should maintained\n",
    "# No of parameters and arguments should match\n",
    "\n",
    "def emp_info(emp_name, emp_id, emp_loc):\n",
    "    print('Employee name is:', emp_name)\n",
    "    print('Employee ID is:', emp_id)\n",
    "    print('Employee Location is:', emp_loc)\n",
    "\n",
    "# emp_info('Krishna', 101, 'BLR', )\n",
    "\n",
    "# emp_info('Krishna', 101,)  # TypeError: emp_info() missing 1 required positional argument: 'emp_loc'\n",
    "\n",
    "# emp_info('Krishna', 101, 'BLR', 99999) # TypeError: emp_info() takes 3 positional arguments but 4 were given"
   ]
  },
  {
   "cell_type": "code",
   "execution_count": null,
   "id": "abda9417",
   "metadata": {
    "ExecuteTime": {
     "end_time": "2022-01-26T14:46:59.054276Z",
     "start_time": "2022-01-26T14:46:59.041723Z"
    },
    "id": "abda9417"
   },
   "outputs": [],
   "source": [
    "def str_center(my_str, length, char):\n",
    "    left_len = length-len(my_str)\n",
    "    if left_len < 0:\n",
    "        print('The value of legth should be more than length of string')\n",
    "    else:\n",
    "        mid_left_len = left_len//2\n",
    "        leftover_len = left_len - mid_left_len\n",
    "        print((char * mid_left_len) + my_str + (char * leftover_len))\n",
    "        \n",
    "        \n",
    "# str_center('Python', 20, '*', )        \n",
    "# str_center(20, '*', 'Python')        \n",
    "        \n",
    "        \n",
    "        "
   ]
  },
  {
   "cell_type": "code",
   "execution_count": null,
   "id": "dc7c941c",
   "metadata": {
    "ExecuteTime": {
     "end_time": "2022-01-26T14:45:19.769214Z",
     "start_time": "2022-01-26T14:45:19.765206Z"
    },
    "id": "dc7c941c"
   },
   "outputs": [],
   "source": [
    "# len(10)"
   ]
  },
  {
   "cell_type": "code",
   "execution_count": null,
   "id": "81a8f9b2",
   "metadata": {
    "ExecuteTime": {
     "end_time": "2022-01-26T14:55:08.598057Z",
     "start_time": "2022-01-26T14:55:08.591934Z"
    },
    "id": "81a8f9b2"
   },
   "outputs": [],
   "source": [
    "# Default Parameters/arguments\n",
    "# It is optional\n",
    "# Default parameter should always follow the positional parameters\n",
    "\n",
    "\n",
    "\n",
    "# SyntaxError: non-default argument follows default argument\n",
    "# def emp_info(emp_name, emp_id, emp_comp = 'Learnbay', emp_loc,):\n",
    "#     print('Employee name is:', emp_name)\n",
    "#     print('Employee ID is:', emp_id)\n",
    "#     print('Employee Location is:', emp_loc)\n",
    "#     print('Employee Company is:', emp_comp)\n",
    "\n",
    "# # emp_info('Krishna', 101, 'CHN')\n",
    "\n",
    "# emp_info('Krishna', 101, 'CHN', 'TCS')\n",
    "\n",
    "\n",
    "def emp_info(emp_name, emp_id, emp_loc,emp_comp = 'Learnbay'):\n",
    "    print('Employee name is:', emp_name)\n",
    "    print('Employee ID is:', emp_id)\n",
    "    print('Employee Location is:', emp_loc)\n",
    "    print('Employee Company is:', emp_comp)\n",
    "\n",
    "# emp_info('Krishna', 101, 'CHN')\n",
    "\n",
    "# emp_info('Krishna', 101, 'CHN', 'TCS')\n",
    "# emp_info('Krishna', 101, 'CHN', )"
   ]
  },
  {
   "cell_type": "code",
   "execution_count": null,
   "id": "96f2709c",
   "metadata": {
    "ExecuteTime": {
     "end_time": "2022-01-26T15:05:22.766316Z",
     "start_time": "2022-01-26T15:05:22.755558Z"
    },
    "id": "96f2709c",
    "outputId": "d7821462-e75f-470b-adb3-4346a40275ad"
   },
   "outputs": [
    {
     "name": "stdout",
     "output_type": "stream",
     "text": [
      "Employee Location is: LKO\n",
      "Employee Company is: Infosys\n",
      "Employee name is: Abhishek\n",
      "Employee ID is: 109\n"
     ]
    }
   ],
   "source": [
    "# Keyworded Arguments\n",
    "# Order is important\n",
    "# Keyworded arguments should always be passed after positional arguments\n",
    "\n",
    "\n",
    "def emp_info(emp_name, emp_id, emp_loc,emp_comp = 'Learnbay'):\n",
    "    print('Employee Location is:', emp_loc)\n",
    "    print('Employee Company is:', emp_comp)\n",
    "    print('Employee name is:', emp_name)\n",
    "    print('Employee ID is:', emp_id)\n",
    "    \n",
    "# emp_info(emp_id = 109, emp_loc = 'HYD', emp_comp = 'TCS', emp_name = 'Abhishek')\n",
    "emp_info('Abhishek', 109, emp_comp = 'Infosys', emp_loc = 'LKO')\n",
    "\n",
    "\n",
    "# SyntaxError: positional argument follows keyword argument\n",
    "# emp_info( emp_comp = 'Infosys', emp_loc = 'LKO', 'Abhishek', 109,)\n",
    "\n"
   ]
  },
  {
   "cell_type": "code",
   "execution_count": null,
   "id": "39889cfd",
   "metadata": {
    "ExecuteTime": {
     "end_time": "2022-01-26T14:10:44.636641Z",
     "start_time": "2022-01-26T14:10:42.493334Z"
    },
    "id": "39889cfd"
   },
   "outputs": [],
   "source": [
    "# Define a function ehich takes two arguments\n",
    "# First is a string and secind is index from whoch the string will be altered\n",
    "\n",
    "my_str = 'abcde1234'\n",
    "ind = 4\n",
    "# output = '1234abcde'\n"
   ]
  },
  {
   "cell_type": "code",
   "execution_count": null,
   "id": "c3c344f8",
   "metadata": {
    "ExecuteTime": {
     "end_time": "2022-01-26T15:06:55.791686Z",
     "start_time": "2022-01-26T15:06:55.777408Z"
    },
    "id": "c3c344f8",
    "outputId": "d8edd990-b21b-4afc-b681-35ec968010d4"
   },
   "outputs": [
    {
     "name": "stdout",
     "output_type": "stream",
     "text": [
      " Employee name is     : Prateek\n",
      " Employee id is       : 101\n",
      " Employee loc is      : New Delh\n",
      " Employee company is  : Cloudy Blocks\n"
     ]
    }
   ],
   "source": [
    "def emp_info(emp_loc,emp_name, emp_id, emp_comp = 'Cloudy Blocks', emp_owner = 'Meenu'):\n",
    "\n",
    "    print(' Employee name is     :', emp_name)\n",
    "    print(' Employee id is       :', emp_id)\n",
    "    print(' Employee loc is      :', emp_loc)\n",
    "    print(' Employee company is  :', emp_comp)\n",
    "emp_info('New Delh', emp_id=101, emp_name ='Prateek')"
   ]
  },
  {
   "cell_type": "code",
   "execution_count": null,
   "id": "6ba02595",
   "metadata": {
    "id": "6ba02595"
   },
   "outputs": [],
   "source": [
    "my_str = 'This is Python class'\n",
    "sep = 'is'\n",
    "out_lst = ['This', 'is', 'Python class']"
   ]
  },
  {
   "cell_type": "code",
   "execution_count": null,
   "id": "6bca6386",
   "metadata": {
    "id": "6bca6386"
   },
   "outputs": [],
   "source": [
    "def split_is(my_str, sep):\n",
    "    pass\n",
    "\n",
    "split_is('This is Python class', 'is')"
   ]
  },
  {
   "cell_type": "code",
   "execution_count": null,
   "id": "e95f9747",
   "metadata": {
    "ExecuteTime": {
     "end_time": "2022-01-26T15:15:07.697162Z",
     "start_time": "2022-01-26T15:15:07.677949Z"
    },
    "id": "e95f9747"
   },
   "outputs": [],
   "source": [
    "def a():\n",
    "    my_str = input(\"Enter a string: \")\n",
    "    x = input('Enter index value: ')\n",
    "    \n",
    "    s1 = my_str[:x]\n",
    "    s2 = my_str[x:]\n",
    "    out_str = s2+s1\n",
    "    return (out_str)"
   ]
  },
  {
   "cell_type": "code",
   "execution_count": null,
   "id": "fc75f71f",
   "metadata": {
    "ExecuteTime": {
     "end_time": "2022-01-26T15:21:49.300983Z",
     "start_time": "2022-01-26T15:21:49.280226Z"
    },
    "id": "fc75f71f",
    "outputId": "c536da04-4678-4656-a9b9-1e2ab54a7b51"
   },
   "outputs": [
    {
     "data": {
      "text/plain": [
       "['This ', 'is', ' Python class']"
      ]
     },
     "execution_count": 41,
     "metadata": {},
     "output_type": "execute_result"
    }
   ],
   "source": [
    "def split_is(my_str, sep):\n",
    "    \n",
    "    output=[]\n",
    "    word = ''\n",
    "    index = -1\n",
    "    for i in range(len(my_str)):\n",
    "        if my_str[i] != ' ':\n",
    "            word += my_str[i] \n",
    "        else:\n",
    "            if word == sep:\n",
    "                index = i - len(sep)\n",
    "                break\n",
    "            word = ''\n",
    "\n",
    "    return [my_str[:index],sep, my_str[index+len(sep):]]\n",
    "\n",
    "my_str = 'This is Python class'\n",
    "sep = 'is'\n",
    "split_is(my_str, sep)"
   ]
  },
  {
   "cell_type": "code",
   "execution_count": null,
   "id": "b73c2f66",
   "metadata": {
    "ExecuteTime": {
     "end_time": "2022-01-26T15:25:24.553813Z",
     "start_time": "2022-01-26T15:25:24.544240Z"
    },
    "id": "b73c2f66"
   },
   "outputs": [],
   "source": [
    "# def my_alter(string):\n",
    "#     a = len(my_str)\n",
    "#     b = a/2\n",
    "#     for i in my_str:\n",
    "#         if i == b:\n",
    "#             print(my_str[b:])\n",
    "#     print(my_str[b:] + my_str[0:b])\n",
    "\n",
    "# my_alter('ABCDE1234')"
   ]
  },
  {
   "cell_type": "code",
   "execution_count": null,
   "id": "7f843830",
   "metadata": {
    "ExecuteTime": {
     "end_time": "2022-01-26T15:26:14.358231Z",
     "start_time": "2022-01-26T15:26:14.353733Z"
    },
    "id": "7f843830"
   },
   "outputs": [],
   "source": [
    "# Varible legth arguments\n",
    "#     1. Variable legth positional arguments - *args\n",
    "#     2. Variable legth keyworded arguments - **kwargs"
   ]
  },
  {
   "cell_type": "code",
   "execution_count": null,
   "id": "b910b1c5",
   "metadata": {
    "ExecuteTime": {
     "end_time": "2022-01-26T15:32:31.794596Z",
     "start_time": "2022-01-26T15:32:31.777532Z"
    },
    "id": "b910b1c5",
    "outputId": "3e6ffb21-60cb-4be5-d690-d4e9c5c88284"
   },
   "outputs": [
    {
     "name": "stdout",
     "output_type": "stream",
     "text": [
      "(30, 40, 50, 100)\n"
     ]
    },
    {
     "data": {
      "text/plain": [
       "6000030"
      ]
     },
     "execution_count": 54,
     "metadata": {},
     "output_type": "execute_result"
    }
   ],
   "source": [
    "# *args - can take multiple positional arguments in the form tuple\n",
    "\n",
    "def my_multi(tpl):\n",
    "    total = 1\n",
    "    for i in tpl:\n",
    "        total *= i\n",
    "    return total\n",
    "\n",
    "def my_add(a, b, *args):\n",
    "    print(args)\n",
    "    res = a+b + my_multi(args)\n",
    "    return res\n",
    "\n",
    "my_add(10, 20, 30, 40, 50, 100)"
   ]
  },
  {
   "cell_type": "code",
   "execution_count": null,
   "id": "9df750c8",
   "metadata": {
    "ExecuteTime": {
     "end_time": "2022-01-26T15:29:51.168985Z",
     "start_time": "2022-01-26T15:29:51.164233Z"
    },
    "id": "9df750c8"
   },
   "outputs": [],
   "source": [
    "# sum([10,20,30])"
   ]
  },
  {
   "cell_type": "code",
   "execution_count": null,
   "id": "19acd97d",
   "metadata": {
    "ExecuteTime": {
     "end_time": "2022-01-26T15:39:46.726802Z",
     "start_time": "2022-01-26T15:39:46.710210Z"
    },
    "id": "19acd97d",
    "outputId": "46419585-bf34-47b5-ddaf-e265feb37c14"
   },
   "outputs": [
    {
     "name": "stdout",
     "output_type": "stream",
     "text": [
      "Employee name is Abhi\n",
      "Employee id is 101\n",
      "Employee city is BLR\n",
      "(12345,)\n",
      "{'emp_state': 'Karanataka'}\n"
     ]
    }
   ],
   "source": [
    "def emp_info(emp_name, emp_id, emp_city, *any_args, **any_kwargs, ):\n",
    "    print('Employee name is', emp_name)\n",
    "    print('Employee id is', emp_id)\n",
    "    print('Employee city is', emp_city)\n",
    "    print(any_args)\n",
    "    print(any_kwargs)\n",
    "    \n",
    "# emp_info('Abhi', 101, 'BLR')\n",
    "emp_info('Abhi', 101, 'BLR', 12345, emp_state = 'Karanataka', )"
   ]
  },
  {
   "cell_type": "code",
   "execution_count": null,
   "id": "c0e1d1ce",
   "metadata": {
    "ExecuteTime": {
     "end_time": "2022-01-26T15:46:16.410668Z",
     "start_time": "2022-01-26T15:46:16.400657Z"
    },
    "id": "c0e1d1ce"
   },
   "outputs": [],
   "source": [
    "def emp_info(emp_name, emp_id, emp_city, emp_country = 'India', *any_args, **any_kwargs, ):\n",
    "    print('Employee name is', emp_name)\n",
    "    print('Employee id is', emp_id)\n",
    "    print('Employee city is', emp_city)\n",
    "    print(1)\n",
    "    print(any_args)\n",
    "    print(any_kwargs)"
   ]
  },
  {
   "cell_type": "code",
   "execution_count": null,
   "id": "31f93600",
   "metadata": {
    "id": "31f93600"
   },
   "outputs": [],
   "source": [
    "# return "
   ]
  },
  {
   "cell_type": "code",
   "execution_count": null,
   "id": "f8eb4a5a",
   "metadata": {
    "ExecuteTime": {
     "end_time": "2022-01-26T15:52:01.824576Z",
     "start_time": "2022-01-26T15:52:01.815533Z"
    },
    "id": "f8eb4a5a",
    "outputId": "6c4f3489-c509-41b2-84f0-df16b2cb9bd9"
   },
   "outputs": [
    {
     "name": "stdout",
     "output_type": "stream",
     "text": [
      "[111, 20, 30]\n",
      "[111, 20, 30]\n"
     ]
    }
   ],
   "source": [
    "# Aliasing\n",
    "\n",
    "# a = 10\n",
    "# b = a   # Aliasing\n",
    "# print(a)\n",
    "# print(b)\n",
    "# print(a is b)\n",
    "\n",
    "\n",
    "a = [10,20,30]\n",
    "b = a\n",
    "# print(a, id(a))\n",
    "# print(b, id(b))\n",
    "# print(a is b)\n",
    "\n",
    "b[0] = 111\n",
    "print(a)\n",
    "print(b)\n",
    "\n"
   ]
  },
  {
   "cell_type": "code",
   "execution_count": null,
   "id": "80203577",
   "metadata": {
    "ExecuteTime": {
     "end_time": "2022-01-26T15:53:15.232384Z",
     "start_time": "2022-01-26T15:53:15.223287Z"
    },
    "id": "80203577",
    "outputId": "7e7ed997-8a3b-40e4-a31b-4c2565e23574"
   },
   "outputs": [
    {
     "name": "stdout",
     "output_type": "stream",
     "text": [
      "[10, 20, 30] 4524740480\n",
      "[10, 20, 30] 4524739648\n",
      "[10, 20, 30]\n",
      "[111, 20, 30]\n"
     ]
    }
   ],
   "source": [
    "# Shallow copy - copy, slicing # Mutable\n",
    "a = [10,20,30]\n",
    "b = a[::]\n",
    "print(a, id(a))\n",
    "print(b, id(b))\n",
    "# print(a is b)\n",
    "\n",
    "b[0] = 111\n",
    "print(a)\n",
    "print(b)\n",
    "\n",
    "\n"
   ]
  },
  {
   "cell_type": "code",
   "execution_count": null,
   "id": "5e2c0bae",
   "metadata": {
    "ExecuteTime": {
     "end_time": "2022-01-26T15:55:44.303312Z",
     "start_time": "2022-01-26T15:55:44.290840Z"
    },
    "id": "5e2c0bae",
    "outputId": "3de6ba9a-3aa2-45b0-e5bd-3f5572fe981c"
   },
   "outputs": [
    {
     "name": "stdout",
     "output_type": "stream",
     "text": [
      "[10, 20, [111, 2, 3], 40, 50]\n",
      "[10, 20, [111, 2, 3], 40, 50]\n"
     ]
    }
   ],
   "source": [
    "# Problem in shallow copy when we use nested list\n",
    "\n",
    "a = [10, 20, [1, 2, 3], 40, 50]\n",
    "b = a.copy()\n",
    "# print(a, id(a))\n",
    "# print(b, id(b))\n",
    "# print(a is b)\n",
    "\n",
    "# print(a[2], id(a[2]))\n",
    "# print(b[2], id(b[2]))\n",
    "# print(a[2] is b[2])\n",
    "\n",
    "b[2][0] = 111\n",
    "print(a)\n",
    "print(b)\n",
    "\n"
   ]
  },
  {
   "cell_type": "code",
   "execution_count": null,
   "id": "e4245ea7",
   "metadata": {
    "ExecuteTime": {
     "end_time": "2022-01-26T15:57:25.185183Z",
     "start_time": "2022-01-26T15:57:25.175502Z"
    },
    "id": "e4245ea7",
    "outputId": "d26a7f60-1b9a-4330-d70b-db84f68e8738"
   },
   "outputs": [
    {
     "name": "stdout",
     "output_type": "stream",
     "text": [
      "[10, 20, [1, 2, 3], 40, 50]\n",
      "[10, 20, [111, 2, 3], 40, 50]\n"
     ]
    }
   ],
   "source": [
    "# Import deepcopy from copy\n",
    "\n",
    "from copy import deepcopy\n",
    "a = [10, 20, [1, 2, 3], 40, 50]\n",
    "b = deepcopy(a)\n",
    "# print(a, id(a))\n",
    "# print(b, id(b))\n",
    "# print(a is b)\n",
    "\n",
    "\n",
    "# print(a[2], id(a[2]))\n",
    "# print(b[2], id(b[2]))\n",
    "# print(a[2] is b[2])\n",
    "\n",
    "b[2][0] = 111\n",
    "print(a)\n",
    "print(b)"
   ]
  },
  {
   "cell_type": "code",
   "execution_count": null,
   "id": "311e1707",
   "metadata": {
    "id": "311e1707"
   },
   "outputs": [],
   "source": []
  },
  {
   "cell_type": "code",
   "execution_count": null,
   "id": "97dccda1",
   "metadata": {
    "id": "97dccda1"
   },
   "outputs": [],
   "source": []
  },
  {
   "cell_type": "code",
   "execution_count": null,
   "id": "b986d7d8",
   "metadata": {
    "id": "b986d7d8"
   },
   "outputs": [],
   "source": []
  },
  {
   "cell_type": "code",
   "execution_count": null,
   "id": "5596664b",
   "metadata": {
    "id": "5596664b"
   },
   "outputs": [],
   "source": []
  },
  {
   "cell_type": "code",
   "execution_count": null,
   "id": "bb60aabb",
   "metadata": {
    "id": "bb60aabb"
   },
   "outputs": [],
   "source": []
  },
  {
   "cell_type": "code",
   "execution_count": null,
   "id": "48efadf2",
   "metadata": {
    "id": "48efadf2"
   },
   "outputs": [],
   "source": []
  },
  {
   "cell_type": "code",
   "execution_count": null,
   "id": "5d918ef6",
   "metadata": {
    "id": "5d918ef6"
   },
   "outputs": [],
   "source": []
  },
  {
   "cell_type": "code",
   "execution_count": null,
   "id": "936e18ab",
   "metadata": {
    "id": "936e18ab"
   },
   "outputs": [],
   "source": []
  },
  {
   "cell_type": "code",
   "execution_count": null,
   "id": "a423b4d0",
   "metadata": {
    "id": "a423b4d0"
   },
   "outputs": [],
   "source": []
  },
  {
   "cell_type": "code",
   "execution_count": null,
   "id": "3d0b0816",
   "metadata": {
    "id": "3d0b0816"
   },
   "outputs": [],
   "source": []
  },
  {
   "cell_type": "code",
   "execution_count": null,
   "id": "8d423807",
   "metadata": {
    "id": "8d423807"
   },
   "outputs": [],
   "source": []
  },
  {
   "cell_type": "code",
   "execution_count": null,
   "id": "bcb34384",
   "metadata": {
    "id": "bcb34384"
   },
   "outputs": [],
   "source": []
  },
  {
   "cell_type": "code",
   "execution_count": null,
   "id": "3e4fd5d3",
   "metadata": {
    "id": "3e4fd5d3"
   },
   "outputs": [],
   "source": []
  },
  {
   "cell_type": "code",
   "execution_count": null,
   "id": "ab2b2ae0",
   "metadata": {
    "id": "ab2b2ae0"
   },
   "outputs": [],
   "source": []
  },
  {
   "cell_type": "code",
   "execution_count": null,
   "id": "2c1b4596",
   "metadata": {
    "id": "2c1b4596"
   },
   "outputs": [],
   "source": []
  },
  {
   "cell_type": "code",
   "execution_count": null,
   "id": "b06c76ca",
   "metadata": {
    "id": "b06c76ca"
   },
   "outputs": [],
   "source": []
  },
  {
   "cell_type": "code",
   "execution_count": null,
   "id": "2b5ba6dd",
   "metadata": {
    "id": "2b5ba6dd"
   },
   "outputs": [],
   "source": []
  },
  {
   "cell_type": "code",
   "execution_count": null,
   "id": "f16090b8",
   "metadata": {
    "id": "f16090b8"
   },
   "outputs": [],
   "source": []
  },
  {
   "cell_type": "code",
   "execution_count": null,
   "id": "2ceca196",
   "metadata": {
    "id": "2ceca196"
   },
   "outputs": [],
   "source": []
  },
  {
   "cell_type": "code",
   "execution_count": null,
   "id": "06c0bd7c",
   "metadata": {
    "id": "06c0bd7c"
   },
   "outputs": [],
   "source": []
  },
  {
   "cell_type": "code",
   "execution_count": null,
   "id": "ab48aecd",
   "metadata": {
    "id": "ab48aecd"
   },
   "outputs": [],
   "source": []
  },
  {
   "cell_type": "code",
   "execution_count": null,
   "id": "38726613",
   "metadata": {
    "id": "38726613"
   },
   "outputs": [],
   "source": []
  },
  {
   "cell_type": "code",
   "execution_count": null,
   "id": "c99a8fb7",
   "metadata": {
    "id": "c99a8fb7"
   },
   "outputs": [],
   "source": []
  },
  {
   "cell_type": "code",
   "execution_count": null,
   "id": "aae034f3",
   "metadata": {
    "id": "aae034f3"
   },
   "outputs": [],
   "source": []
  },
  {
   "cell_type": "code",
   "execution_count": null,
   "id": "111ddbfa",
   "metadata": {
    "id": "111ddbfa"
   },
   "outputs": [],
   "source": []
  },
  {
   "cell_type": "code",
   "execution_count": null,
   "id": "1c199b08",
   "metadata": {
    "id": "1c199b08"
   },
   "outputs": [],
   "source": []
  },
  {
   "cell_type": "code",
   "execution_count": null,
   "id": "b5940fa9",
   "metadata": {
    "id": "b5940fa9"
   },
   "outputs": [],
   "source": []
  },
  {
   "cell_type": "code",
   "execution_count": null,
   "id": "38736ef2",
   "metadata": {
    "id": "38736ef2"
   },
   "outputs": [],
   "source": []
  },
  {
   "cell_type": "code",
   "execution_count": null,
   "id": "5608fbf6",
   "metadata": {
    "id": "5608fbf6"
   },
   "outputs": [],
   "source": []
  },
  {
   "cell_type": "code",
   "execution_count": null,
   "id": "e01f7072",
   "metadata": {
    "id": "e01f7072"
   },
   "outputs": [],
   "source": []
  },
  {
   "cell_type": "code",
   "execution_count": null,
   "id": "5a2575fd",
   "metadata": {
    "id": "5a2575fd"
   },
   "outputs": [],
   "source": []
  },
  {
   "cell_type": "code",
   "execution_count": null,
   "id": "68e9b4b6",
   "metadata": {
    "id": "68e9b4b6"
   },
   "outputs": [],
   "source": []
  },
  {
   "cell_type": "code",
   "execution_count": null,
   "id": "887039e3",
   "metadata": {
    "id": "887039e3"
   },
   "outputs": [],
   "source": []
  },
  {
   "cell_type": "code",
   "execution_count": null,
   "id": "b34f310a",
   "metadata": {
    "id": "b34f310a"
   },
   "outputs": [],
   "source": []
  },
  {
   "cell_type": "code",
   "execution_count": null,
   "id": "446c5613",
   "metadata": {
    "id": "446c5613"
   },
   "outputs": [],
   "source": []
  },
  {
   "cell_type": "code",
   "execution_count": null,
   "id": "a5dd5974",
   "metadata": {
    "id": "a5dd5974"
   },
   "outputs": [],
   "source": []
  },
  {
   "cell_type": "code",
   "execution_count": null,
   "id": "4a64a20a",
   "metadata": {
    "id": "4a64a20a"
   },
   "outputs": [],
   "source": []
  },
  {
   "cell_type": "code",
   "execution_count": null,
   "id": "27b41688",
   "metadata": {
    "id": "27b41688"
   },
   "outputs": [],
   "source": []
  },
  {
   "cell_type": "code",
   "execution_count": null,
   "id": "09a8d67c",
   "metadata": {
    "id": "09a8d67c"
   },
   "outputs": [],
   "source": []
  },
  {
   "cell_type": "code",
   "execution_count": null,
   "id": "ab00d7ac",
   "metadata": {
    "id": "ab00d7ac"
   },
   "outputs": [],
   "source": []
  },
  {
   "cell_type": "code",
   "execution_count": null,
   "id": "4fd36151",
   "metadata": {
    "id": "4fd36151"
   },
   "outputs": [],
   "source": []
  },
  {
   "cell_type": "code",
   "execution_count": null,
   "id": "58f44950",
   "metadata": {
    "id": "58f44950"
   },
   "outputs": [],
   "source": []
  },
  {
   "cell_type": "code",
   "execution_count": null,
   "id": "32d11e52",
   "metadata": {
    "id": "32d11e52"
   },
   "outputs": [],
   "source": []
  },
  {
   "cell_type": "code",
   "execution_count": null,
   "id": "d9cf644a",
   "metadata": {
    "id": "d9cf644a"
   },
   "outputs": [],
   "source": []
  }
 ],
 "metadata": {
  "colab": {
   "provenance": []
  },
  "kernelspec": {
   "display_name": "Python 3 (ipykernel)",
   "language": "python",
   "name": "python3"
  },
  "language_info": {
   "codemirror_mode": {
    "name": "ipython",
    "version": 3
   },
   "file_extension": ".py",
   "mimetype": "text/x-python",
   "name": "python",
   "nbconvert_exporter": "python",
   "pygments_lexer": "ipython3",
   "version": "3.9.12"
  }
 },
 "nbformat": 4,
 "nbformat_minor": 5
}
