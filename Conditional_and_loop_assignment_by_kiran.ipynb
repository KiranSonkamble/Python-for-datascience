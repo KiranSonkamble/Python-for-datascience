{
 "cells": [
  {
   "cell_type": "code",
   "execution_count": 14,
   "id": "77ea6f5e",
   "metadata": {},
   "outputs": [
    {
     "name": "stdout",
     "output_type": "stream",
     "text": [
      "Enter a number 0-9: 12\n",
      "The number 12 is outside of the range\n"
     ]
    }
   ],
   "source": [
    "# W. A P. which takes one number from 0 to 9 from the user and prints it in the word. And if the word is not from 0 to 9 then\n",
    "#it should print that number is outside of the range and program should exit.\n",
    "# For exapmple:- \n",
    "# input = 1\n",
    "# output = one\n",
    "\n",
    "Num= int(input('Enter a number 0-9: '))\n",
    "\n",
    "if Num==0:\n",
    "    print('zero')\n",
    "elif Num==1:\n",
    "    print('two')\n",
    "elif Num==2:\n",
    "    print('two')\n",
    "elif Num==3:\n",
    "    print('three')\n",
    "elif Num==4:\n",
    "    print('four')\n",
    "elif Num==5:\n",
    "    print('five')\n",
    "elif Num==6:\n",
    "    print('six')\n",
    "elif Num==7:\n",
    "    print('seven')\n",
    "elif Num==8:\n",
    "    print('eight')\n",
    "elif Num==9:\n",
    "    print('nine')\n",
    "else:\n",
    "    print(f\"The number {Num} is outside of the range\")"
   ]
  },
  {
   "cell_type": "code",
   "execution_count": 11,
   "id": "61e53c50",
   "metadata": {},
   "outputs": [
    {
     "name": "stdout",
     "output_type": "stream",
     "text": [
      "Enter a choice: 9\n",
      "enter NUM_1: 9\n",
      "enter num_2: 9\n"
     ]
    },
    {
     "data": {
      "text/plain": [
       "'None'"
      ]
     },
     "execution_count": 11,
     "metadata": {},
     "output_type": "execute_result"
    }
   ],
   "source": [
    "## print('''Please select any one operation from below:-\n",
    "#          * To add enter 1\n",
    "#          * to subtract enter 2\n",
    "#          * To multiply enter 3\n",
    "#          * To divide enter 4\n",
    "#          * To divide and find quotient enter 5\n",
    "#          * To divide and find remainder enter 6\n",
    "#          * To divide and find num1 to the power of num2 enter 7\n",
    "#          * To Come out of the program enter 8''')\n",
    "\n",
    "h=int(input('Enter a choice: '))\n",
    "a,b = int(input('enter NUM_1: ')), int(input('enter num_2: '))\n",
    "\n",
    "def CalculatorOption(h):\n",
    "    switcher = {\n",
    "        1: a+b,\n",
    "        2: a-b,\n",
    "        3: a*b,\n",
    "        4: a/b,\n",
    "        5: a//b,\n",
    "        6: a%b,\n",
    "        7: a/b and a**b,\n",
    "        8: 'Exit'\n",
    "    }\n",
    "    return switcher.get(h,'None')\n",
    "\n",
    "\n",
    "CalculatorOption(h)"
   ]
  },
  {
   "cell_type": "code",
   "execution_count": 15,
   "id": "39247f5a",
   "metadata": {},
   "outputs": [
    {
     "name": "stdout",
     "output_type": "stream",
     "text": [
      "Enter the Year to be checked: 2000\n",
      "2000 is Leap Year\n"
     ]
    }
   ],
   "source": [
    "#W A P to check whether a year entered by user is an leap year or not?\n",
    "#Check with below input:-\n",
    "    #leap year:- 2012, 1968, 2004, 1200, 1600,2400\n",
    "    #Non-lear year:- 1971, 2006, 1700,1800,1900\n",
    "\n",
    "\n",
    "\n",
    "input_year = int(input(\"Enter the Year to be checked: \"))\n",
    "if (( input_year%400 == 0)or (( input_year%4 == 0 ) and ( input_year%100 != 0))):\n",
    "    print(\"%d is Leap Year\" %input_year)\n",
    "else:\n",
    "    print(\"%d is Not the Leap Year\" %input_year)\n"
   ]
  },
  {
   "cell_type": "code",
   "execution_count": 17,
   "id": "bea2a458",
   "metadata": {},
   "outputs": [
    {
     "name": "stdout",
     "output_type": "stream",
     "text": [
      "Enter a number: 21\n",
      "Try better\n"
     ]
    }
   ],
   "source": [
    "#W A P which takes one number from the user and checks whether it is an even or odd number?, If it even then prints number is \n",
    "#even number else prints that number is odd number.\n",
    "\n",
    "iii= int(input('Enter a number: '))\n",
    "if iii%2==0:\n",
    "    print(iii)\n",
    "else:\n",
    "    print( 'Try better')\n",
    "    "
   ]
  },
  {
   "cell_type": "code",
   "execution_count": 17,
   "id": "bc280e13",
   "metadata": {},
   "outputs": [
    {
     "name": "stdout",
     "output_type": "stream",
     "text": [
      "Enter a Num: 1\n",
      "Enter a Nume: 1\n",
      "num1 is equal to num2\n"
     ]
    },
    {
     "data": {
      "text/plain": [
       "'n1=n2'"
      ]
     },
     "execution_count": 17,
     "metadata": {},
     "output_type": "execute_result"
    }
   ],
   "source": [
    "\n",
    "# W A P which takes two numbers from the user and prints below output:-\n",
    "#     1. num1 is greater than num2 if num1 is greater than num2\n",
    "#     2. num1 is smaller than num2 if num1 is smaller than num2\n",
    "#     3. num1 is equal to num2 if num1 and num2 are equal\n",
    "\n",
    "#Note:- 1. Do this problem using if - else \n",
    "#       2. Do this using ternary operator\n",
    "\n",
    "\n",
    "N=eval(input('Enter a Num: '))\n",
    "m2= eval(input('Enter a Nume: '))\n",
    "\n",
    "if N >m2:\n",
    "    print('Num1 is greater than num2')\n",
    "\n",
    "if N <m2:\n",
    "    print('Num1 is smaller than num2')\n",
    "else:\n",
    "    print('num1 is equal to num2')\n",
    "    \n",
    "    \n",
    "    \n",
    "w ='n1>n2' if N>m2 else 'n<n2' if N<m2 else 'n1=n2'\n",
    "print(w)\n",
    "['n1>n2' if N>m2 else ('n<n2' if N<m2 else 'n1=n2')]\n"
   ]
  },
  {
   "cell_type": "code",
   "execution_count": 25,
   "id": "03818d02",
   "metadata": {},
   "outputs": [
    {
     "name": "stdout",
     "output_type": "stream",
     "text": [
      "Enter a Num: 2\n",
      "Enter a Num: 7\n",
      "Enter a Num: 9\n",
      "num3 is greater than num1 and num2\n"
     ]
    },
    {
     "data": {
      "text/plain": [
       "'num3 is greater than num1 and num2'"
      ]
     },
     "execution_count": 25,
     "metadata": {},
     "output_type": "execute_result"
    }
   ],
   "source": [
    "#W A P which takes three numbers from the user and prints below output:-\n",
    "#     1. num1 is greater than num2 and num3 if num1 is greater than num2 and num3\n",
    "#     2. num2 is greater than num1 and num3 if num2 is greater than num1 and num3\n",
    "#     3. num3 is greater than num1 and num2 if num3 is greater than num1 and num2\n",
    "\n",
    "#Note:- 1. Do this problem using if - elif - else \n",
    "#       2. Do this using ternary operator\n",
    "\n",
    "\n",
    "N1 = eval(input('Enter a Num: '))\n",
    "N2 = eval(input('Enter a Num: '))\n",
    "N3 = eval(input('Enter a Num: '))\n",
    "\n",
    "if N1>N2 and N1>N3:\n",
    "    print('num1 is greater than num2 and num3')\n",
    "elif N2 > N1 and N2>N3:\n",
    "    print('num2 is greater than num1 and num3')\n",
    "elif N3 > N1 and N3>N2:\n",
    "    print('num3 is greater than num1 and num2')\n",
    "else: \n",
    "    print(\"equal\")\n",
    "\n",
    "    \n",
    "q= 'num1 is greater than num2 and num3' if (N1>N2 and N1>N3) else 'num2 is greater than num1 and num3'if (N2 > N1 and N2>N3) else 'num3 is greater than num1 and num2' if (N3 > N1 and N3>N2) else 'Equal'\n",
    "q"
   ]
  },
  {
   "cell_type": "code",
   "execution_count": 27,
   "id": "739c7f37",
   "metadata": {},
   "outputs": [
    {
     "name": "stdout",
     "output_type": "stream",
     "text": [
      "['n3>n2 and n3>n1']\n"
     ]
    }
   ],
   "source": [
    "op = ['n1>n2 and n1>n3' if (N1>N2 and N1>N3) else ('n2>n3 and n2>n1' if (N2>N3 and N2>N1) \n",
    "                                                                      else ('n3>n2 and n3>n1' \n",
    "                                                    if (N3>N2 and N3>N1) else equal))]\n",
    "\n",
    "print(op)"
   ]
  },
  {
   "cell_type": "code",
   "execution_count": 33,
   "id": "214e0700",
   "metadata": {},
   "outputs": [
    {
     "data": {
      "text/plain": [
       "-55"
      ]
     },
     "execution_count": 33,
     "metadata": {},
     "output_type": "execute_result"
    }
   ],
   "source": [
    "#Write a Python program to find the length of the my_str using loop:-\n",
    "\n",
    "#Input:- 'Write a Python program to find the length of the my_str'\n",
    "#Output:- 55\n",
    "\n",
    "st = 'Write a Python program to find the length of the my_str'\n",
    "\n",
    "s=0\n",
    "for j in st:\n",
    "    s+=1\n",
    "#     print(s)\n",
    "s"
   ]
  },
  {
   "cell_type": "code",
   "execution_count": 55,
   "id": "98b41ed7",
   "metadata": {},
   "outputs": [
    {
     "data": {
      "text/plain": [
       "range(0, 55)"
      ]
     },
     "execution_count": 55,
     "metadata": {},
     "output_type": "execute_result"
    }
   ],
   "source": [
    "# [s for i in st, s+=1]\n",
    "s=0\n",
    "z=[ for s in st]\n"
   ]
  },
  {
   "cell_type": "code",
   "execution_count": 66,
   "id": "255d8a60",
   "metadata": {},
   "outputs": [
    {
     "name": "stdout",
     "output_type": "stream",
     "text": [
      "(17, 'LpyapytpyrpyapycpyapylpySpyopylpyupytpyipyopynpys')\n"
     ]
    }
   ],
   "source": [
    "# Python code to demonstrate string length  \n",
    "# using join and count \n",
    "   \n",
    "# Returns length of string \n",
    "def findLength(str): \n",
    "    if not str: \n",
    "        return 0\n",
    "    else: \n",
    "        some_random_str = 'py'\n",
    "        x = ((some_random_str).join(str)).count(some_random_str) + 1\n",
    "        return x,(some_random_str).join(str)\n",
    "   \n",
    "str = \"LatracalSolutions\"\n",
    "print(findLength(str))\n",
    "\n",
    "# a= 'asdfskjsksk'\n",
    "# a.count('s')+1"
   ]
  },
  {
   "cell_type": "code",
   "execution_count": 83,
   "id": "af8bf914",
   "metadata": {},
   "outputs": [
    {
     "data": {
      "text/plain": [
       "9"
      ]
     },
     "execution_count": 83,
     "metadata": {},
     "output_type": "execute_result"
    }
   ],
   "source": [
    "#Write a Python program to find the total number of times letter 'p' is appeared in the below string using loop:-\n",
    "    \n",
    "#Input:- 'peter piper picked a peck of pickled peppers.\\n'\n",
    "#Output:- 9\n",
    "\n",
    "s='peter piper picked a peck of pickled peppers.\\n'\n",
    "text ='p'\n",
    "d=0\n",
    "for j in s:\n",
    "    if j==text:\n",
    "        d+=1\n",
    "d"
   ]
  },
  {
   "cell_type": "code",
   "execution_count": 107,
   "id": "5524af84",
   "metadata": {},
   "outputs": [
    {
     "ename": "SyntaxError",
     "evalue": "'function call' is an illegal expression for augmented assignment (3010843873.py, line 6)",
     "output_type": "error",
     "traceback": [
      "\u001b[1;36m  Input \u001b[1;32mIn [107]\u001b[1;36m\u001b[0m\n\u001b[1;33m    len(s1)-=1\u001b[0m\n\u001b[1;37m    ^\u001b[0m\n\u001b[1;31mSyntaxError\u001b[0m\u001b[1;31m:\u001b[0m 'function call' is an illegal expression for augmented assignment\n"
     ]
    }
   ],
   "source": [
    "# d = ''\n",
    "# q = 1\n",
    "\n",
    "# s1='peter piper picked a peck of pickled peppers.'\n",
    "# while True:\n",
    "#     len(s1)\n",
    "    \n",
    "# #     if  == 'p':\n",
    "# #         print(((some_random_str).join(str)).count(some_random_str) + 1)\n",
    "    \n",
    "        \n",
    "# print(q, d)"
   ]
  },
  {
   "cell_type": "code",
   "execution_count": 108,
   "id": "9f63e5ba",
   "metadata": {},
   "outputs": [],
   "source": [
    "# i=0\n",
    "# j=1\n",
    "# while True:\n",
    "#     print(i)\n",
    "#     i-=1\n",
    "    "
   ]
  },
  {
   "cell_type": "code",
   "execution_count": 91,
   "id": "0c0f4694",
   "metadata": {},
   "outputs": [
    {
     "data": {
      "text/plain": [
       "45"
      ]
     },
     "execution_count": 91,
     "metadata": {},
     "output_type": "execute_result"
    }
   ],
   "source": [
    "len(s1)"
   ]
  },
  {
   "cell_type": "code",
   "execution_count": 119,
   "id": "fe3b75b2",
   "metadata": {},
   "outputs": [
    {
     "name": "stdout",
     "output_type": "stream",
     "text": [
      "0\n",
      "6\n",
      "8\n",
      "12\n",
      "21\n",
      "29\n",
      "37\n",
      "39\n",
      "40\n"
     ]
    }
   ],
   "source": [
    "#Write a Python Program, to print all the indexes of all occurences of letter 'p' appeared in the string using loop:-\n",
    "    \n",
    "#Input:- 'peter piper picked a peck of pickled peppers.'\n",
    "#Output:- \n",
    "# 0\n",
    "# 6\n",
    "# 8\n",
    "# 12\n",
    "# 21\n",
    "# 29\n",
    "# 37\n",
    "# 39\n",
    "# 40\n",
    "\n",
    "\n",
    "for i in range(len(s)):\n",
    "#     print(s.startswith('p',i))\n",
    "    if s.startswith('p',i):\n",
    "        print(i)\n"
   ]
  },
  {
   "cell_type": "code",
   "execution_count": 7,
   "id": "67ca780a",
   "metadata": {},
   "outputs": [
    {
     "name": "stdout",
     "output_type": "stream",
     "text": [
      "-->> -1\n",
      "0\n",
      "-->> 0\n",
      "6\n",
      "-->> 6\n",
      "8\n",
      "-->> 8\n",
      "12\n",
      "-->> 12\n",
      "21\n",
      "-->> 21\n",
      "29\n",
      "-->> 29\n",
      "37\n",
      "-->> 37\n",
      "39\n",
      "-->> 39\n",
      "40\n",
      "-->> 40\n"
     ]
    }
   ],
   "source": [
    "n = 'peter piper picked a peck of pickled peppers.'\n",
    "\n",
    "try:\n",
    "    t= -1\n",
    "    while True:\n",
    "        print(\"-->>\",t)\n",
    "        t=n.index('p',t+1,len(n))\n",
    "        print(t)\n",
    "except:\n",
    "    pass"
   ]
  },
  {
   "cell_type": "code",
   "execution_count": 133,
   "id": "91eb6533",
   "metadata": {},
   "outputs": [
    {
     "name": "stdout",
     "output_type": "stream",
     "text": [
      "['peter']\n",
      "['peter', ' piper']\n",
      "['peter', ' piper', ' picked']\n",
      "['peter', ' piper', ' picked', ' a']\n",
      "['peter', ' piper', ' picked', ' a', ' peck']\n",
      "['peter', ' piper', ' picked', ' a', ' peck', ' of']\n",
      "['peter', ' piper', ' picked', ' a', ' peck', ' of', ' pickled']\n"
     ]
    }
   ],
   "source": [
    "#Write a python program to find below output using loop:-\n",
    "\n",
    "#Input:- 'peter piper picked a peck of pickled peppers.'\n",
    "#Output:- ['peter', 'piper', 'picked', 'a', 'peck', 'of', 'pickled', 'peppers']\n",
    "\n",
    "sp ='peter piper picked a peck of pickled peppers.'\n",
    "# sp.split()\n",
    "\n",
    "sp3=[]\n",
    "sp2=''\n",
    "for i in range(len(sp)):\n",
    "    if sp[i]!=' ':\n",
    "        sp2+=sp[i]\n",
    "#         print(sp2)\n",
    "    else:\n",
    "        sp3.append(sp2)\n",
    "        sp2=' '\n",
    "        print(sp3)\n",
    "# print(sp3)\n",
    "# sp3.append(sp2)\n",
    "# sp3"
   ]
  },
  {
   "cell_type": "code",
   "execution_count": null,
   "id": "c609170e",
   "metadata": {},
   "outputs": [],
   "source": [
    "p!=\" \": "
   ]
  },
  {
   "cell_type": "code",
   "execution_count": null,
   "id": "3437291d",
   "metadata": {},
   "outputs": [],
   "source": []
  },
  {
   "cell_type": "code",
   "execution_count": null,
   "id": "53253357",
   "metadata": {},
   "outputs": [],
   "source": []
  },
  {
   "cell_type": "code",
   "execution_count": null,
   "id": "a9b1fe4b",
   "metadata": {},
   "outputs": [],
   "source": []
  },
  {
   "cell_type": "code",
   "execution_count": 26,
   "id": "c4424bf7",
   "metadata": {},
   "outputs": [
    {
     "data": {
      "text/plain": [
       "['peppers.', 'pickled', 'of', 'peck', 'a', 'picked', 'piper', 'peter']"
      ]
     },
     "execution_count": 26,
     "metadata": {},
     "output_type": "execute_result"
    }
   ],
   "source": [
    "#Write a python program to find below output using loop:-\n",
    "\n",
    "#Input:- 'peter piper picked a peck of pickled peppers.'\n",
    "#Output:- 'peppers pickled of peck a picked piper peter'\n",
    "sp ='peter piper picked a peck of pickled peppers.'\n",
    "for i in sp:\n",
    "    dd=sp.split(' ')[::-1]\n",
    "    \n",
    "dd"
   ]
  },
  {
   "cell_type": "code",
   "execution_count": 27,
   "id": "f2d0074c",
   "metadata": {},
   "outputs": [
    {
     "data": {
      "text/plain": [
       "'.sreppep delkcip fo kcep a dekcip repip retep'"
      ]
     },
     "execution_count": 27,
     "metadata": {},
     "output_type": "execute_result"
    }
   ],
   "source": [
    "#Write a python program to find below output using loop:-\n",
    "\n",
    "#Input:- 'peter piper picked a peck of pickled peppers.'\n",
    "#Output:- '.sreppep delkcip fo kcep a dekcip repip retep'\n",
    "\n",
    "aq=''\n",
    "sd='peter piper picked a peck of pickled peppers.'\n",
    "for i in sd:\n",
    "    aq=i+aq\n",
    "    \n",
    "aq"
   ]
  },
  {
   "cell_type": "code",
   "execution_count": 28,
   "id": "81314b64",
   "metadata": {},
   "outputs": [
    {
     "data": {
      "text/plain": [
       "'Peter Piper Picked A Peck Of Pickled Peppers.'"
      ]
     },
     "execution_count": 28,
     "metadata": {},
     "output_type": "execute_result"
    }
   ],
   "source": [
    "#Write a python program to find below output using loop:-\n",
    "\n",
    "qw='peter piper picked a peck of pickled peppers.'\n",
    "#Output:- 'Peter Piper Picked A Peck Of Pickled Peppers'\n",
    "\n",
    "F=' '.join(ff.capitalize() for ff in qw.split( ))\n",
    "F"
   ]
  },
  {
   "cell_type": "code",
   "execution_count": 204,
   "id": "4ac77eda",
   "metadata": {},
   "outputs": [
    {
     "data": {
      "text/plain": [
       "'peter piper picked a peck of pickled peppers.'"
      ]
     },
     "execution_count": 204,
     "metadata": {},
     "output_type": "execute_result"
    }
   ],
   "source": [
    "#Write a python program to find below output using loop:-\n",
    "\n",
    "#Input:- 'Peter Piper Picked A Peck Of Pickled Peppers.'\n",
    "#Output:- 'Peter piper picked a peck of pickled peppers'\n",
    "#         'peter piper picked a peck of pickled peppers.'\n",
    "#         'peter piper picked a peck of pickled peppers.'\n",
    "# ss.casefold()\n",
    "ss.lower()\n",
    "\n",
    "ss='Peter Piper Picked A PeCK Of Pickled Peppers.'\n",
    "ss.casefold()\n",
    "\n",
    "# F=' '.join(ff.capitalize() for ff in ss.split('  '))\n",
    "# F"
   ]
  },
  {
   "cell_type": "code",
   "execution_count": 206,
   "id": "c4886d52",
   "metadata": {},
   "outputs": [
    {
     "data": {
      "text/plain": [
       "'ssabcss'"
      ]
     },
     "execution_count": 206,
     "metadata": {},
     "output_type": "execute_result"
    }
   ],
   "source": [
    "A = \"ßaBcß\"\n",
    "B = \"ssAbCss\"\n",
    "\n",
    "A.lower()\n",
    "A.casefold()"
   ]
  },
  {
   "cell_type": "code",
   "execution_count": 30,
   "id": "cfcfce0e",
   "metadata": {},
   "outputs": [
    {
     "data": {
      "text/plain": [
       "29"
      ]
     },
     "execution_count": 30,
     "metadata": {},
     "output_type": "execute_result"
    }
   ],
   "source": [
    "#Write a python program to implement index method using loop. If sub_str is found in my_str then it will print the index\n",
    "# of first occurrence of first character of matching string in my_str:-\n",
    "\n",
    "#Input:- my_str = 'Peter Piper Picked A Peck Of Pickled Peppers.', sub_str = 'Pickl'\n",
    "#Output:- 29\n",
    "\n",
    "my_str = 'Peter Piper Picked A Peck Of Pickled Peppers.'\n",
    "def strr(my_str):\n",
    "    c=0\n",
    "    for i in range(len(my_str)):\n",
    "        if 'Pickl'  in my_str:\n",
    "            b=my_str.find('Pickl')\n",
    "            \n",
    "            return b\n",
    "        \n",
    "        else:\n",
    "            print('---')\n",
    "    c+=1\n",
    "strr(my_str)"
   ]
  },
  {
   "cell_type": "code",
   "execution_count": 172,
   "id": "567123f9",
   "metadata": {},
   "outputs": [
    {
     "name": "stdout",
     "output_type": "stream",
     "text": [
      "0\n",
      "1\n",
      "2\n",
      "3\n",
      "4\n",
      "5\n",
      "6\n",
      "7\n",
      "8\n",
      "9\n",
      "10\n",
      "11\n",
      "12\n",
      "13\n",
      "14\n",
      "15\n",
      "16\n",
      "17\n",
      "18\n",
      "19\n",
      "20\n",
      "21\n",
      "22\n",
      "23\n",
      "24\n",
      "25\n",
      "26\n",
      "27\n",
      "28\n",
      "29\n",
      "30\n",
      "31\n",
      "32\n",
      "33\n",
      "34\n",
      "35\n",
      "36\n",
      "37\n",
      "38\n",
      "39\n",
      "40\n",
      "41\n",
      "42\n",
      "43\n",
      "44\n"
     ]
    }
   ],
   "source": [
    "\n",
    "#Input:- my_str = 'Peter Piper Picked A Peck Of Pickled Peppers.', sub_str = 'Pickl'\n",
    "#Output:- 29\n",
    "my_str = 'Peter Piper Picked A Peck Of Pickled Peppers.'\n",
    "sub_str = 'Pickl'\n",
    "# my_str.find('Pickl')\n",
    "\n",
    "# z=[]\n",
    "for i in range(len(my_str)):\n",
    "#     z.append(i)\n",
    "    if sub_str in my_str:\n",
    "        print(i)\n",
    "#     print('notfound')\n",
    "        \n",
    "        \n",
    "    \n"
   ]
  },
  {
   "cell_type": "code",
   "execution_count": 192,
   "id": "81e67599",
   "metadata": {},
   "outputs": [
    {
     "data": {
      "text/plain": [
       "-1"
      ]
     },
     "execution_count": 192,
     "metadata": {},
     "output_type": "execute_result"
    }
   ],
   "source": [
    "# for ind in (my_str):\n",
    "#     if ind == 'p':\n",
    "# #         print(ind['Pickl'])\n",
    "# #         print(my_str[])\n",
    "#         print(ind)\n",
    "\n",
    "# for ind in (my_str):\n",
    "#     if ind[ind] == 'p':\n",
    "# #         print(ind['Pickl'])\n",
    "# #         print(my_str[])\n",
    "#         print(ind)\n",
    "\n",
    "def LinearSearch(lys, element):\n",
    "    for i in range (len(lys)):\n",
    "        if lys[i] == element:\n",
    "            return i\n",
    "    return -1\n",
    "\n",
    "LinearSearch(sub_str,my_str)"
   ]
  },
  {
   "cell_type": "code",
   "execution_count": 144,
   "id": "9ef08e11",
   "metadata": {},
   "outputs": [
    {
     "data": {
      "text/plain": [
       "['Peter', 'Piper', 'Picked', 'A', 'Pack', 'Of', 'Pickled', 'Peppers.']"
      ]
     },
     "execution_count": 144,
     "metadata": {},
     "output_type": "execute_result"
    }
   ],
   "source": [
    "#Write a python program to implement replace method using loop. If sub_str is found in my_str then it will replace the first \n",
    "#occurrence of sub_str with new_str else it will will print sub_str not found:-\n",
    "\n",
    "my_str = 'Peter Piper Picked A Peck Of Pickled Peppers.'\n",
    "# , sub_str = 'Peck', new_str = 'Pack'\n",
    "#Output:- 'Peter Piper Picked A Pack Of Pickled Peppers.'\n",
    "l2=my_str.split(' ')\n",
    "l1=list(l2)\n",
    "for i in range(len(l1)):\n",
    "    if l1[i]!='Peck':\n",
    "        pass\n",
    "    else:\n",
    "#         print('Not found')\n",
    "        if l1[i]=='Peck':        \n",
    "            l1[i]='Pack'\n",
    "l1"
   ]
  },
  {
   "cell_type": "code",
   "execution_count": 148,
   "id": "fa6e543d",
   "metadata": {},
   "outputs": [
    {
     "name": "stdout",
     "output_type": "stream",
     "text": [
      "Not found\n",
      "Not found\n",
      "Not found\n",
      "Not found\n",
      "Not found\n",
      "Not found\n",
      "Not found\n"
     ]
    },
    {
     "data": {
      "text/plain": [
       "['Peter', 'Piper', 'Picked', 'A', 'Pack', 'Of', 'Pickled', 'Peppers.']"
      ]
     },
     "execution_count": 148,
     "metadata": {},
     "output_type": "execute_result"
    }
   ],
   "source": [
    "\n",
    "my_str = 'Peter Piper Picked A Peck Of Pickled Peppers.'\n",
    "# , sub_str = 'Peck', new_str = 'Pack'\n",
    "#Output:- 'Peter Piper Picked A Pack Of Pickled Peppers.'\n",
    "l2=my_str.split(' ')\n",
    "l1=list(l2)\n",
    "for i in range(len(l1)):\n",
    "    if l1[i]=='Peck':        \n",
    "        l1[i]='Pack'\n",
    "    \n",
    "#     else:\n",
    "#         print('Not found')\n",
    "l1"
   ]
  }
 ],
 "metadata": {
  "kernelspec": {
   "display_name": "Python 3 (ipykernel)",
   "language": "python",
   "name": "python3"
  },
  "language_info": {
   "codemirror_mode": {
    "name": "ipython",
    "version": 3
   },
   "file_extension": ".py",
   "mimetype": "text/x-python",
   "name": "python",
   "nbconvert_exporter": "python",
   "pygments_lexer": "ipython3",
   "version": "3.9.12"
  }
 },
 "nbformat": 4,
 "nbformat_minor": 5
}
