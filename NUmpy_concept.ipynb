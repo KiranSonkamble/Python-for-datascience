{
 "cells": [
  {
   "cell_type": "code",
   "execution_count": 1,
   "id": "6a719e28",
   "metadata": {},
   "outputs": [],
   "source": [
    "import numpy as np"
   ]
  },
  {
   "cell_type": "code",
   "execution_count": 182,
   "id": "63b368c3",
   "metadata": {},
   "outputs": [
    {
     "name": "stdout",
     "output_type": "stream",
     "text": [
      "[ 1  2  4  6  7  8  9  0 12  3] <class 'numpy.ndarray'>\n"
     ]
    }
   ],
   "source": [
    "a=[1,2,4,6,7,8,9,0,12,3]\n",
    "arra= np.array(a)\n",
    "print(arra,type(arra))\n"
   ]
  },
  {
   "cell_type": "code",
   "execution_count": 183,
   "id": "112d8472",
   "metadata": {},
   "outputs": [],
   "source": [
    "z=np.array([a,a])"
   ]
  },
  {
   "cell_type": "code",
   "execution_count": 185,
   "id": "72c3a957",
   "metadata": {},
   "outputs": [
    {
     "name": "stdout",
     "output_type": "stream",
     "text": [
      "20\n",
      "10\n",
      "2 10\n"
     ]
    }
   ],
   "source": [
    "print(z.size)\n",
    "print(arra.size)\n",
    "print(len(z),len(arra))\n",
    "# gives total number of elements present in array"
   ]
  },
  {
   "cell_type": "code",
   "execution_count": 195,
   "id": "32f3657e",
   "metadata": {},
   "outputs": [
    {
     "name": "stdout",
     "output_type": "stream",
     "text": [
      "2\n",
      "1\n"
     ]
    }
   ],
   "source": [
    "print(z.ndim)\n",
    "print(arra.ndim)\n",
    "# gives dimension\n",
    "# 2d is 2, 1d is 1"
   ]
  },
  {
   "cell_type": "code",
   "execution_count": 224,
   "id": "6e22cdf7",
   "metadata": {},
   "outputs": [
    {
     "name": "stdout",
     "output_type": "stream",
     "text": [
      "(2, 10)\n",
      "(10,)\n"
     ]
    }
   ],
   "source": [
    "print(z.shape)\n",
    "print(arra.shape)\n",
    "\n",
    "# gives z>> 2 row, 10 col\n",
    "# gives arra>> 10 row, 1col"
   ]
  },
  {
   "cell_type": "code",
   "execution_count": 225,
   "id": "a04881d4",
   "metadata": {},
   "outputs": [
    {
     "name": "stdout",
     "output_type": "stream",
     "text": [
      "{1, 2, 3, 4} <class 'numpy.ndarray'>\n"
     ]
    },
    {
     "data": {
      "text/plain": [
       "0"
      ]
     },
     "execution_count": 225,
     "metadata": {},
     "output_type": "execute_result"
    }
   ],
   "source": [
    "b={1,2,3,4}\n",
    "bb=np.array(b)\n",
    "print(bb,type(bb))\n",
    "bb.ndim"
   ]
  },
  {
   "cell_type": "code",
   "execution_count": 226,
   "id": "528e448f",
   "metadata": {},
   "outputs": [
    {
     "name": "stdout",
     "output_type": "stream",
     "text": [
      "[1 2 3 4] <class 'numpy.ndarray'>\n"
     ]
    },
    {
     "data": {
      "text/plain": [
       "1"
      ]
     },
     "execution_count": 226,
     "metadata": {},
     "output_type": "execute_result"
    }
   ],
   "source": [
    "b=(1,2,3,4)\n",
    "bb=np.array(b)\n",
    "print(bb,type(bb))\n",
    "bb.ndim"
   ]
  },
  {
   "cell_type": "code",
   "execution_count": 227,
   "id": "2569e942",
   "metadata": {},
   "outputs": [
    {
     "name": "stdout",
     "output_type": "stream",
     "text": [
      "{1: 12, 2: 22, 3: 33, 4: 44} <class 'numpy.ndarray'>\n",
      "0 ()\n"
     ]
    }
   ],
   "source": [
    "b={1:12,2:22,3:33,4:44}\n",
    "bb=np.array(b)\n",
    "print(bb,type(bb))\n",
    "print(bb.ndim,bb.shape)\n",
    "# print(arra.ndim)"
   ]
  },
  {
   "cell_type": "code",
   "execution_count": 228,
   "id": "5aa4c76c",
   "metadata": {},
   "outputs": [
    {
     "name": "stdout",
     "output_type": "stream",
     "text": [
      "{1: 12, 2: 22, 3: 33, 4: 44} <class 'numpy.ndarray'>\n"
     ]
    },
    {
     "data": {
      "text/plain": [
       "0"
      ]
     },
     "execution_count": 228,
     "metadata": {},
     "output_type": "execute_result"
    }
   ],
   "source": [
    "b={1:12,2:22,3:33,4:44}\n",
    "bb=np.array(b)\n",
    "print(bb,type(bb))\n",
    "bb.ndim"
   ]
  },
  {
   "cell_type": "code",
   "execution_count": 229,
   "id": "4a57a518",
   "metadata": {},
   "outputs": [
    {
     "name": "stdout",
     "output_type": "stream",
     "text": [
      "[1 2 3 4] <class 'numpy.ndarray'>\n"
     ]
    },
    {
     "data": {
      "text/plain": [
       "1"
      ]
     },
     "execution_count": 229,
     "metadata": {},
     "output_type": "execute_result"
    }
   ],
   "source": [
    "b=[1,2,3,4]\n",
    "bb=np.array(b)\n",
    "print(bb,type(bb))\n",
    "bb.size\n",
    "bb.shape\n",
    "bb.ndim"
   ]
  },
  {
   "cell_type": "code",
   "execution_count": 230,
   "id": "1434adbd",
   "metadata": {},
   "outputs": [
    {
     "data": {
      "text/plain": [
       "10"
      ]
     },
     "execution_count": 230,
     "metadata": {},
     "output_type": "execute_result"
    }
   ],
   "source": [
    "# do not use () for using numpy functions\n",
    "# gives the \n",
    "arra.size"
   ]
  },
  {
   "cell_type": "code",
   "execution_count": 231,
   "id": "52db64d3",
   "metadata": {},
   "outputs": [
    {
     "data": {
      "text/plain": [
       "(10,)"
      ]
     },
     "execution_count": 231,
     "metadata": {},
     "output_type": "execute_result"
    }
   ],
   "source": [
    "# shape-----(row,col)\n",
    "arra.shape"
   ]
  },
  {
   "cell_type": "code",
   "execution_count": 232,
   "id": "0318227b",
   "metadata": {},
   "outputs": [
    {
     "data": {
      "text/plain": [
       "1"
      ]
     },
     "execution_count": 232,
     "metadata": {},
     "output_type": "execute_result"
    }
   ],
   "source": [
    "# gives the dim of the given array\n",
    "arra.ndim"
   ]
  },
  {
   "cell_type": "markdown",
   "id": "aff2a5a5",
   "metadata": {},
   "source": [
    "* SCALAR-- 0D\n",
    "* vector--- 1D\n",
    "* (row,col)---- 2D"
   ]
  },
  {
   "cell_type": "code",
   "execution_count": 239,
   "id": "ba29843f",
   "metadata": {},
   "outputs": [
    {
     "data": {
      "text/plain": [
       "[1, 2, 3, 4, 5, 6, 7, 8, 9, 10, 11, 12, 13, 14, 15, 16, 17, 18]"
      ]
     },
     "execution_count": 239,
     "metadata": {},
     "output_type": "execute_result"
    }
   ],
   "source": [
    "[i for i in range(1,19)]"
   ]
  },
  {
   "cell_type": "code",
   "execution_count": 233,
   "id": "ff056d7c",
   "metadata": {},
   "outputs": [
    {
     "data": {
      "text/plain": [
       "array([ 1,  2,  3,  4,  5,  6,  7,  8,  9, 10, 11, 12, 13, 14, 15, 16, 17,\n",
       "       18])"
      ]
     },
     "execution_count": 233,
     "metadata": {},
     "output_type": "execute_result"
    }
   ],
   "source": [
    "np.arange(1,19)"
   ]
  },
  {
   "cell_type": "code",
   "execution_count": 11,
   "id": "c8126d52",
   "metadata": {},
   "outputs": [
    {
     "data": {
      "text/plain": [
       "array([0, 1, 2, 3, 4, 5, 6, 7])"
      ]
     },
     "execution_count": 11,
     "metadata": {},
     "output_type": "execute_result"
    }
   ],
   "source": [
    "# is a range function in NUmpy\n",
    "\n",
    "array=np.arange(8)\n",
    "array"
   ]
  },
  {
   "cell_type": "code",
   "execution_count": 221,
   "id": "c9200e08",
   "metadata": {},
   "outputs": [
    {
     "data": {
      "text/plain": [
       "array([1. , 1.1, 1.2, 1.3, 1.4, 1.5, 1.6, 1.7, 1.8, 1.9, 2. , 2.1, 2.2,\n",
       "       2.3, 2.4, 2.5, 2.6, 2.7, 2.8, 2.9, 3. , 3.1, 3.2, 3.3, 3.4, 3.5,\n",
       "       3.6, 3.7, 3.8, 3.9, 4. , 4.1, 4.2, 4.3, 4.4, 4.5, 4.6, 4.7, 4.8,\n",
       "       4.9, 5. , 5.1, 5.2, 5.3, 5.4, 5.5, 5.6, 5.7, 5.8, 5.9, 6. , 6.1,\n",
       "       6.2, 6.3, 6.4, 6.5, 6.6, 6.7, 6.8, 6.9, 7. , 7.1, 7.2, 7.3, 7.4,\n",
       "       7.5, 7.6, 7.7, 7.8, 7.9, 8. , 8.1, 8.2, 8.3, 8.4, 8.5, 8.6, 8.7,\n",
       "       8.8, 8.9, 9. , 9.1, 9.2, 9.3, 9.4, 9.5, 9.6, 9.7, 9.8, 9.9])"
      ]
     },
     "execution_count": 221,
     "metadata": {},
     "output_type": "execute_result"
    }
   ],
   "source": [
    "np.arange(1,10,0.1)"
   ]
  },
  {
   "cell_type": "code",
   "execution_count": 223,
   "id": "dcbb1969",
   "metadata": {},
   "outputs": [
    {
     "data": {
      "text/plain": [
       "100.0"
      ]
     },
     "execution_count": 223,
     "metadata": {},
     "output_type": "execute_result"
    }
   ],
   "source": [
    "10/0.1\n"
   ]
  },
  {
   "cell_type": "code",
   "execution_count": 240,
   "id": "dc0b5686",
   "metadata": {},
   "outputs": [
    {
     "data": {
      "text/plain": [
       "array([ 1.        ,  1.09090909,  1.18181818,  1.27272727,  1.36363636,\n",
       "        1.45454545,  1.54545455,  1.63636364,  1.72727273,  1.81818182,\n",
       "        1.90909091,  2.        ,  2.09090909,  2.18181818,  2.27272727,\n",
       "        2.36363636,  2.45454545,  2.54545455,  2.63636364,  2.72727273,\n",
       "        2.81818182,  2.90909091,  3.        ,  3.09090909,  3.18181818,\n",
       "        3.27272727,  3.36363636,  3.45454545,  3.54545455,  3.63636364,\n",
       "        3.72727273,  3.81818182,  3.90909091,  4.        ,  4.09090909,\n",
       "        4.18181818,  4.27272727,  4.36363636,  4.45454545,  4.54545455,\n",
       "        4.63636364,  4.72727273,  4.81818182,  4.90909091,  5.        ,\n",
       "        5.09090909,  5.18181818,  5.27272727,  5.36363636,  5.45454545,\n",
       "        5.54545455,  5.63636364,  5.72727273,  5.81818182,  5.90909091,\n",
       "        6.        ,  6.09090909,  6.18181818,  6.27272727,  6.36363636,\n",
       "        6.45454545,  6.54545455,  6.63636364,  6.72727273,  6.81818182,\n",
       "        6.90909091,  7.        ,  7.09090909,  7.18181818,  7.27272727,\n",
       "        7.36363636,  7.45454545,  7.54545455,  7.63636364,  7.72727273,\n",
       "        7.81818182,  7.90909091,  8.        ,  8.09090909,  8.18181818,\n",
       "        8.27272727,  8.36363636,  8.45454545,  8.54545455,  8.63636364,\n",
       "        8.72727273,  8.81818182,  8.90909091,  9.        ,  9.09090909,\n",
       "        9.18181818,  9.27272727,  9.36363636,  9.45454545,  9.54545455,\n",
       "        9.63636364,  9.72727273,  9.81818182,  9.90909091, 10.        ])"
      ]
     },
     "execution_count": 240,
     "metadata": {},
     "output_type": "execute_result"
    }
   ],
   "source": [
    "np.linspace(1,10,100)\n",
    "# np.linspace(start,stop,number of samples)"
   ]
  },
  {
   "cell_type": "markdown",
   "id": "bc4118ab",
   "metadata": {},
   "source": [
    "#### Creates equal div values given range"
   ]
  },
  {
   "cell_type": "code",
   "execution_count": 14,
   "id": "19296935",
   "metadata": {},
   "outputs": [
    {
     "data": {
      "text/plain": [
       "array([  1.,  12.,  23.,  34.,  45.,  56.,  67.,  78.,  89., 100.])"
      ]
     },
     "execution_count": 14,
     "metadata": {},
     "output_type": "execute_result"
    }
   ],
   "source": [
    "array=np.linspace(1,100,10)\n",
    "array"
   ]
  },
  {
   "cell_type": "code",
   "execution_count": 15,
   "id": "cb9833ee",
   "metadata": {},
   "outputs": [
    {
     "data": {
      "text/plain": [
       "array([ 0.        ,  3.33333333,  6.66666667, 10.        ])"
      ]
     },
     "execution_count": 15,
     "metadata": {},
     "output_type": "execute_result"
    }
   ],
   "source": [
    "array=np.linspace(0,10,4)\n",
    "array"
   ]
  },
  {
   "cell_type": "code",
   "execution_count": 16,
   "id": "28bbd37c",
   "metadata": {},
   "outputs": [
    {
     "data": {
      "text/plain": [
       "1"
      ]
     },
     "execution_count": 16,
     "metadata": {},
     "output_type": "execute_result"
    }
   ],
   "source": [
    "array.ndim"
   ]
  },
  {
   "cell_type": "code",
   "execution_count": 7,
   "id": "cdeb1186",
   "metadata": {},
   "outputs": [
    {
     "data": {
      "text/plain": [
       "array([[0, 0, 0],\n",
       "       [0, 0, 0]], dtype=int64)"
      ]
     },
     "execution_count": 7,
     "metadata": {},
     "output_type": "execute_result"
    }
   ],
   "source": [
    "np.zeros((2,3),np.int64)"
   ]
  },
  {
   "cell_type": "code",
   "execution_count": 9,
   "id": "4334257d",
   "metadata": {},
   "outputs": [
    {
     "data": {
      "text/plain": [
       "array([[0., 0.],\n",
       "       [0., 0.],\n",
       "       [0., 0.]])"
      ]
     },
     "execution_count": 9,
     "metadata": {},
     "output_type": "execute_result"
    }
   ],
   "source": [
    "np.zeros((3,2),dtype=np.float64)\n"
   ]
  },
  {
   "cell_type": "markdown",
   "id": "69c77741",
   "metadata": {},
   "source": [
    "### gives Zero elements in matrixof (nXm)"
   ]
  },
  {
   "cell_type": "code",
   "execution_count": 266,
   "id": "46361fb8",
   "metadata": {},
   "outputs": [
    {
     "data": {
      "text/plain": [
       "array([[0, 0, 0, 0],\n",
       "       [0, 0, 0, 0],\n",
       "       [0, 0, 0, 0]], dtype=int8)"
      ]
     },
     "execution_count": 266,
     "metadata": {},
     "output_type": "execute_result"
    }
   ],
   "source": [
    "np.zeros((3,4),np.int8)"
   ]
  },
  {
   "cell_type": "markdown",
   "id": "530d7c8f",
   "metadata": {},
   "source": [
    "#### Empty array give random matrix elements"
   ]
  },
  {
   "cell_type": "code",
   "execution_count": 360,
   "id": "6a1e1a4b",
   "metadata": {},
   "outputs": [
    {
     "data": {
      "text/plain": [
       "array([[-80, 101, 114],\n",
       "       [101, 110,  99]], dtype=int8)"
      ]
     },
     "execution_count": 360,
     "metadata": {},
     "output_type": "execute_result"
    }
   ],
   "source": [
    "e= np.empty((2,3),np.int8)\n",
    "e"
   ]
  },
  {
   "cell_type": "markdown",
   "id": "a134a521",
   "metadata": {},
   "source": [
    "### Ones matrix"
   ]
  },
  {
   "cell_type": "code",
   "execution_count": 361,
   "id": "869949c3",
   "metadata": {},
   "outputs": [
    {
     "data": {
      "text/plain": [
       "array([[1, 1, 1, 1],\n",
       "       [1, 1, 1, 1],\n",
       "       [1, 1, 1, 1]], dtype=int8)"
      ]
     },
     "execution_count": 361,
     "metadata": {},
     "output_type": "execute_result"
    }
   ],
   "source": [
    "np.ones((3,4),np.int8)"
   ]
  },
  {
   "cell_type": "markdown",
   "id": "a785d9c2",
   "metadata": {},
   "source": [
    "# identity matrix always in (nxn)\n",
    "\n",
    "np.eye(4)"
   ]
  },
  {
   "cell_type": "code",
   "execution_count": 362,
   "id": "d36ec4c7",
   "metadata": {},
   "outputs": [
    {
     "data": {
      "text/plain": [
       "array([[1., 0., 0.],\n",
       "       [0., 1., 0.],\n",
       "       [0., 0., 1.]])"
      ]
     },
     "execution_count": 362,
     "metadata": {},
     "output_type": "execute_result"
    }
   ],
   "source": [
    "np.eye(3)"
   ]
  },
  {
   "cell_type": "markdown",
   "id": "5ed4e5a5",
   "metadata": {},
   "source": [
    "### full matrix gives (nxm) matrix"
   ]
  },
  {
   "cell_type": "code",
   "execution_count": 363,
   "id": "42ba05f2",
   "metadata": {},
   "outputs": [
    {
     "data": {
      "text/plain": [
       "array([[5, 5, 5, 5],\n",
       "       [5, 5, 5, 5],\n",
       "       [5, 5, 5, 5]])"
      ]
     },
     "execution_count": 363,
     "metadata": {},
     "output_type": "execute_result"
    }
   ],
   "source": [
    "np.full((3,4),5)"
   ]
  },
  {
   "cell_type": "code",
   "execution_count": 364,
   "id": "fc567196",
   "metadata": {},
   "outputs": [
    {
     "data": {
      "text/plain": [
       "array([[7, 7, 7, 7],\n",
       "       [7, 7, 7, 7],\n",
       "       [7, 7, 7, 7],\n",
       "       [7, 7, 7, 7]])"
      ]
     },
     "execution_count": 364,
     "metadata": {},
     "output_type": "execute_result"
    }
   ],
   "source": [
    "np.full((4,4),7)"
   ]
  },
  {
   "cell_type": "code",
   "execution_count": 365,
   "id": "80a99a1d",
   "metadata": {},
   "outputs": [
    {
     "data": {
      "text/plain": [
       "array([[(0, 0), (0, 0), (0, 0), (0, 0)],\n",
       "       [(0, 0), (0, 0), (0, 0), (0, 0)],\n",
       "       [(0, 0), (0, 0), (0, 0), (0, 0)]],\n",
       "      dtype=[('x', '<i4'), ('y', '<i4')])"
      ]
     },
     "execution_count": 365,
     "metadata": {},
     "output_type": "execute_result"
    }
   ],
   "source": [
    "np.zeros((3,4),[('x','i4'),('y','i4')])"
   ]
  },
  {
   "cell_type": "code",
   "execution_count": 366,
   "id": "a013777d",
   "metadata": {},
   "outputs": [
    {
     "data": {
      "text/plain": [
       "array([[(1, 1), (1, 1), (1, 1), (1, 1)],\n",
       "       [(1, 1), (1, 1), (1, 1), (1, 1)],\n",
       "       [(1, 1), (1, 1), (1, 1), (1, 1)]],\n",
       "      dtype=[('x', '<i4'), ('y', '<i4')])"
      ]
     },
     "execution_count": 366,
     "metadata": {},
     "output_type": "execute_result"
    }
   ],
   "source": [
    "np.ones((3,4),[('x','i4'),('y','i4')])"
   ]
  },
  {
   "cell_type": "code",
   "execution_count": 367,
   "id": "c13ca113",
   "metadata": {},
   "outputs": [
    {
     "data": {
      "text/plain": [
       "array([['x', 'i4'],\n",
       "       ['y', 'i4']], dtype='<U2')"
      ]
     },
     "execution_count": 367,
     "metadata": {},
     "output_type": "execute_result"
    }
   ],
   "source": [
    "np.full((2,2),[('x','i4'),('y','i4')])"
   ]
  },
  {
   "cell_type": "code",
   "execution_count": 368,
   "id": "a645e7cf",
   "metadata": {},
   "outputs": [
    {
     "data": {
      "text/plain": [
       "array([['a', '1', '2'],\n",
       "       ['b', '2', '3'],\n",
       "       ['c', '3', '4']], dtype='<U11')"
      ]
     },
     "execution_count": 368,
     "metadata": {},
     "output_type": "execute_result"
    }
   ],
   "source": [
    "f=np.full((3,3),[('a',1,2),('b',2,3),('c',3,4)])\n",
    "f"
   ]
  },
  {
   "cell_type": "code",
   "execution_count": 393,
   "id": "7fc6fc35",
   "metadata": {},
   "outputs": [
    {
     "data": {
      "text/plain": [
       "6"
      ]
     },
     "execution_count": 393,
     "metadata": {},
     "output_type": "execute_result"
    }
   ],
   "source": [
    "import random\n",
    "import numpy as np\n",
    "np.random.randint(1,9)"
   ]
  },
  {
   "cell_type": "code",
   "execution_count": 14,
   "id": "f4ba4e4d",
   "metadata": {},
   "outputs": [
    {
     "data": {
      "text/plain": [
       "'0.%2snp.random.rand(4,)'"
      ]
     },
     "execution_count": 14,
     "metadata": {},
     "output_type": "execute_result"
    }
   ],
   "source": [
    "f'0.%2snp.random.rand(4,)'"
   ]
  },
  {
   "cell_type": "code",
   "execution_count": 426,
   "id": "440e80fb",
   "metadata": {},
   "outputs": [
    {
     "data": {
      "text/plain": [
       "array([[70, 70, 70, 70],\n",
       "       [70, 70, 70, 70],\n",
       "       [70, 70, 70, 70]])"
      ]
     },
     "execution_count": 426,
     "metadata": {},
     "output_type": "execute_result"
    }
   ],
   "source": [
    "np.full((3,3),[(1,\"o\",3),(1,'f',3),(1,2,3)])\n",
    "np.full((3,4),[np.random.randint(1,99)])"
   ]
  },
  {
   "cell_type": "code",
   "execution_count": 394,
   "id": "0c6c5470",
   "metadata": {},
   "outputs": [
    {
     "data": {
      "text/plain": [
       "array([[3, 4, 5],\n",
       "       [3, 4, 5],\n",
       "       [3, 4, 5]])"
      ]
     },
     "execution_count": 394,
     "metadata": {},
     "output_type": "execute_result"
    }
   ],
   "source": [
    "z=np.full((3,3),(3,4,5))\n",
    "z"
   ]
  },
  {
   "cell_type": "code",
   "execution_count": 395,
   "id": "98859cf0",
   "metadata": {},
   "outputs": [
    {
     "data": {
      "text/plain": [
       "array([[3, 3, 3],\n",
       "       [4, 4, 4],\n",
       "       [5, 5, 5]])"
      ]
     },
     "execution_count": 395,
     "metadata": {},
     "output_type": "execute_result"
    }
   ],
   "source": [
    "z.T"
   ]
  },
  {
   "cell_type": "markdown",
   "id": "eedf1f7c",
   "metadata": {},
   "source": [
    "### Convert any dim matrix into 1D matrix\n"
   ]
  },
  {
   "cell_type": "code",
   "execution_count": 33,
   "id": "77928e7a",
   "metadata": {},
   "outputs": [
    {
     "data": {
      "text/plain": [
       "array([3, 4, 5, 3, 4, 5, 3, 4, 5])"
      ]
     },
     "execution_count": 33,
     "metadata": {},
     "output_type": "execute_result"
    }
   ],
   "source": [
    "z.flatten()\n"
   ]
  },
  {
   "cell_type": "code",
   "execution_count": 34,
   "id": "7ab1e44b",
   "metadata": {},
   "outputs": [
    {
     "data": {
      "text/plain": [
       "1"
      ]
     },
     "execution_count": 34,
     "metadata": {},
     "output_type": "execute_result"
    }
   ],
   "source": [
    "f1=f.flatten()\n",
    "f1.ndim"
   ]
  },
  {
   "cell_type": "code",
   "execution_count": 428,
   "id": "2e90d9ff",
   "metadata": {},
   "outputs": [
    {
     "data": {
      "text/plain": [
       "array([[0, 1, 2],\n",
       "       [3, 4, 5],\n",
       "       [6, 7, 8]])"
      ]
     },
     "execution_count": 428,
     "metadata": {},
     "output_type": "execute_result"
    }
   ],
   "source": [
    "np.arange(9).reshape(3,3)"
   ]
  },
  {
   "cell_type": "code",
   "execution_count": 35,
   "id": "dd6d7e8d",
   "metadata": {},
   "outputs": [
    {
     "name": "stdout",
     "output_type": "stream",
     "text": [
      "3\n",
      "4\n",
      "5\n",
      "3\n",
      "4\n",
      "5\n",
      "3\n",
      "4\n",
      "5\n"
     ]
    }
   ],
   "source": [
    "a=np.arange(6).reshape(2,3)\n",
    "f1=z.flat\n",
    "for item in f1:\n",
    "    print(item)"
   ]
  },
  {
   "cell_type": "code",
   "execution_count": 430,
   "id": "a6c410f4",
   "metadata": {},
   "outputs": [
    {
     "data": {
      "text/plain": [
       "array([[0, 1, 2],\n",
       "       [3, 4, 5]])"
      ]
     },
     "execution_count": 430,
     "metadata": {},
     "output_type": "execute_result"
    }
   ],
   "source": [
    "q=np.arange(6).reshape(2,3)\n",
    "[i for i in q.flat]\n",
    "q"
   ]
  },
  {
   "cell_type": "code",
   "execution_count": 441,
   "id": "a05af14a",
   "metadata": {},
   "outputs": [
    {
     "data": {
      "text/plain": [
       "array([0, 1, 2, 3, 4, 5])"
      ]
     },
     "execution_count": 441,
     "metadata": {},
     "output_type": "execute_result"
    }
   ],
   "source": [
    "np.array([i for i in q.flat])"
   ]
  },
  {
   "cell_type": "code",
   "execution_count": 442,
   "id": "182c03da",
   "metadata": {},
   "outputs": [
    {
     "name": "stdout",
     "output_type": "stream",
     "text": [
      "[3 4 5]\n",
      "[3 4 5]\n",
      "[3 4 5]\n"
     ]
    }
   ],
   "source": [
    "for i in z:\n",
    "    print(i)"
   ]
  },
  {
   "cell_type": "code",
   "execution_count": 443,
   "id": "c8478bd4",
   "metadata": {},
   "outputs": [
    {
     "data": {
      "text/plain": [
       "array([3, 4, 5, 3, 4, 5, 3, 4, 5])"
      ]
     },
     "execution_count": 443,
     "metadata": {},
     "output_type": "execute_result"
    }
   ],
   "source": [
    "s=z.flatten()\n",
    "# for i in s:\n",
    "#     print(i)\n",
    "\n",
    "s\n"
   ]
  },
  {
   "cell_type": "markdown",
   "id": "92e496ff",
   "metadata": {},
   "source": [
    "### to print matrix using array"
   ]
  },
  {
   "cell_type": "code",
   "execution_count": 444,
   "id": "9049b9c4",
   "metadata": {},
   "outputs": [
    {
     "data": {
      "text/plain": [
       "array([[1, 4],\n",
       "       [4, 8]])"
      ]
     },
     "execution_count": 444,
     "metadata": {},
     "output_type": "execute_result"
    }
   ],
   "source": [
    "a=np.array([[1,4],[4,8]])\n",
    "a"
   ]
  },
  {
   "cell_type": "code",
   "execution_count": 445,
   "id": "c959910a",
   "metadata": {},
   "outputs": [
    {
     "data": {
      "text/plain": [
       "array([[1, 2],\n",
       "       [2, 3]])"
      ]
     },
     "execution_count": 445,
     "metadata": {},
     "output_type": "execute_result"
    }
   ],
   "source": [
    "np.array([[1,2],[2,3]])"
   ]
  },
  {
   "cell_type": "code",
   "execution_count": 447,
   "id": "36cbdde1",
   "metadata": {},
   "outputs": [
    {
     "data": {
      "text/plain": [
       "(3, 2)"
      ]
     },
     "execution_count": 447,
     "metadata": {},
     "output_type": "execute_result"
    }
   ],
   "source": [
    "b= np.array([[1,4],[4,8],[3,5]])\n",
    "b.shape"
   ]
  },
  {
   "cell_type": "code",
   "execution_count": 448,
   "id": "8e0790b2",
   "metadata": {},
   "outputs": [
    {
     "data": {
      "text/plain": [
       "array([[6, 6, 6, 6],\n",
       "       [6, 6, 6, 6],\n",
       "       [6, 6, 6, 6]])"
      ]
     },
     "execution_count": 448,
     "metadata": {},
     "output_type": "execute_result"
    }
   ],
   "source": [
    "np.full((3,4),6)"
   ]
  },
  {
   "cell_type": "code",
   "execution_count": 449,
   "id": "b30a3aed",
   "metadata": {},
   "outputs": [
    {
     "data": {
      "text/plain": [
       "array([[0, 1, 2],\n",
       "       [3, 4, 5],\n",
       "       [6, 7, 8]])"
      ]
     },
     "execution_count": 449,
     "metadata": {},
     "output_type": "execute_result"
    }
   ],
   "source": [
    "x=np.arange(9).reshape(3,3)\n",
    "x"
   ]
  },
  {
   "cell_type": "code",
   "execution_count": 452,
   "id": "9a170d8c",
   "metadata": {},
   "outputs": [
    {
     "name": "stderr",
     "output_type": "stream",
     "text": [
      "C:\\Users\\KIRAN Sonkamble\\AppData\\Local\\Temp\\ipykernel_12528\\2366921796.py:5: RuntimeWarning: divide by zero encountered in log\n",
      "  np.log(x)\n"
     ]
    },
    {
     "data": {
      "text/plain": [
       "array([[      -inf, 0.        , 0.69314718],\n",
       "       [1.09861229, 1.38629436, 1.60943791],\n",
       "       [1.79175947, 1.94591015, 2.07944154]])"
      ]
     },
     "execution_count": 452,
     "metadata": {},
     "output_type": "execute_result"
    }
   ],
   "source": [
    "x1=x.sum()\n",
    "x2= x.sum(axis=0)\n",
    "x3=x.mean()\n",
    "np.mean(x)\n",
    "np.log(x)\n"
   ]
  },
  {
   "cell_type": "code",
   "execution_count": 45,
   "id": "eaf61fc2",
   "metadata": {},
   "outputs": [
    {
     "data": {
      "text/plain": [
       "(3, 3)"
      ]
     },
     "execution_count": 45,
     "metadata": {},
     "output_type": "execute_result"
    }
   ],
   "source": [
    "# Tells the shape of the matrix\n",
    "x.shape"
   ]
  },
  {
   "cell_type": "code",
   "execution_count": 456,
   "id": "5a15c251",
   "metadata": {},
   "outputs": [
    {
     "data": {
      "text/plain": [
       "4.0"
      ]
     },
     "execution_count": 456,
     "metadata": {},
     "output_type": "execute_result"
    }
   ],
   "source": [
    "# np function\n",
    "np.mean(x)\n",
    "# built in \n",
    "x.mean()"
   ]
  },
  {
   "cell_type": "markdown",
   "id": "a7d01c87",
   "metadata": {},
   "source": [
    "### indxing and slicing"
   ]
  },
  {
   "cell_type": "code",
   "execution_count": 459,
   "id": "c30f05ea",
   "metadata": {},
   "outputs": [
    {
     "data": {
      "text/plain": [
       "array([ 1,  2,  0,  4,  6,  7, 12, 88,  2])"
      ]
     },
     "execution_count": 459,
     "metadata": {},
     "output_type": "execute_result"
    }
   ],
   "source": [
    "s=np.array([1,2,0,4,6,7,12,88,2])\n",
    "s"
   ]
  },
  {
   "cell_type": "code",
   "execution_count": 460,
   "id": "af0a70ec",
   "metadata": {},
   "outputs": [
    {
     "data": {
      "text/plain": [
       "0"
      ]
     },
     "execution_count": 460,
     "metadata": {},
     "output_type": "execute_result"
    }
   ],
   "source": [
    "s[2]"
   ]
  },
  {
   "cell_type": "code",
   "execution_count": 467,
   "id": "dc8a21e1",
   "metadata": {},
   "outputs": [
    {
     "data": {
      "text/plain": [
       "array([7])"
      ]
     },
     "execution_count": 467,
     "metadata": {},
     "output_type": "execute_result"
    }
   ],
   "source": [
    "s[-4]\n",
    "s[-4:-5:-1]"
   ]
  },
  {
   "cell_type": "code",
   "execution_count": 469,
   "id": "cc8c6742",
   "metadata": {},
   "outputs": [
    {
     "data": {
      "text/plain": [
       "array([[ 1,  2,  0],\n",
       "       [ 4,  6,  7],\n",
       "       [12, 88,  2]])"
      ]
     },
     "execution_count": 469,
     "metadata": {},
     "output_type": "execute_result"
    }
   ],
   "source": [
    "s2"
   ]
  },
  {
   "cell_type": "code",
   "execution_count": 477,
   "id": "442b4f67",
   "metadata": {},
   "outputs": [
    {
     "data": {
      "text/plain": [
       "array([[1, 2, 0]])"
      ]
     },
     "execution_count": 477,
     "metadata": {},
     "output_type": "execute_result"
    }
   ],
   "source": [
    "s2=np.array([1,2,0,4,6,7,12,88,2]).reshape(3,3)\n",
    "s2[0:,2]\n",
    "s2[0:1:2]"
   ]
  },
  {
   "cell_type": "code",
   "execution_count": 50,
   "id": "57b61f61",
   "metadata": {},
   "outputs": [
    {
     "data": {
      "text/plain": [
       "2"
      ]
     },
     "execution_count": 50,
     "metadata": {},
     "output_type": "execute_result"
    }
   ],
   "source": [
    "s1=[1,2,0,4,6,7,88,2]\n",
    "s1[-1]"
   ]
  },
  {
   "cell_type": "code",
   "execution_count": 51,
   "id": "fff89688",
   "metadata": {},
   "outputs": [
    {
     "data": {
      "text/plain": [
       "1"
      ]
     },
     "execution_count": 51,
     "metadata": {},
     "output_type": "execute_result"
    }
   ],
   "source": [
    "s[0]"
   ]
  },
  {
   "cell_type": "code",
   "execution_count": null,
   "id": "66a0cc68",
   "metadata": {},
   "outputs": [],
   "source": []
  },
  {
   "cell_type": "code",
   "execution_count": 52,
   "id": "0d0497e4",
   "metadata": {},
   "outputs": [
    {
     "data": {
      "text/plain": [
       "array([[0, 1, 2],\n",
       "       [3, 4, 5],\n",
       "       [6, 7, 8]])"
      ]
     },
     "execution_count": 52,
     "metadata": {},
     "output_type": "execute_result"
    }
   ],
   "source": [
    "x"
   ]
  },
  {
   "cell_type": "code",
   "execution_count": 53,
   "id": "61fbad1c",
   "metadata": {},
   "outputs": [
    {
     "data": {
      "text/plain": [
       "array([3, 4, 5])"
      ]
     },
     "execution_count": 53,
     "metadata": {},
     "output_type": "execute_result"
    }
   ],
   "source": [
    "x[0]       #row\n",
    "x[1]      #row"
   ]
  },
  {
   "cell_type": "code",
   "execution_count": 54,
   "id": "e948f6f6",
   "metadata": {},
   "outputs": [
    {
     "data": {
      "text/plain": [
       "array([0, 3, 6])"
      ]
     },
     "execution_count": 54,
     "metadata": {},
     "output_type": "execute_result"
    }
   ],
   "source": [
    "x[:,0]      #Column\n",
    "# x[:,1]      #Column"
   ]
  },
  {
   "cell_type": "code",
   "execution_count": 55,
   "id": "8a54d3b3",
   "metadata": {},
   "outputs": [
    {
     "data": {
      "text/plain": [
       "array([4, 5])"
      ]
     },
     "execution_count": 55,
     "metadata": {},
     "output_type": "execute_result"
    }
   ],
   "source": [
    "# [4,5]\n",
    "\n",
    "x[1,1:]"
   ]
  },
  {
   "cell_type": "code",
   "execution_count": 56,
   "id": "9b4f6a5a",
   "metadata": {},
   "outputs": [
    {
     "data": {
      "text/plain": [
       "array([6, 7])"
      ]
     },
     "execution_count": 56,
     "metadata": {},
     "output_type": "execute_result"
    }
   ],
   "source": [
    "# [6,7]\n",
    "x[2,:2]"
   ]
  },
  {
   "cell_type": "code",
   "execution_count": 57,
   "id": "f32e0569",
   "metadata": {},
   "outputs": [
    {
     "data": {
      "text/plain": [
       "array([[1, 2],\n",
       "       [4, 5]])"
      ]
     },
     "execution_count": 57,
     "metadata": {},
     "output_type": "execute_result"
    }
   ],
   "source": [
    "# [1,2] and [4,5]\n",
    "\n",
    "x[:2,1:]"
   ]
  },
  {
   "cell_type": "code",
   "execution_count": 58,
   "id": "a133def4",
   "metadata": {},
   "outputs": [
    {
     "data": {
      "text/plain": [
       "array([3, 5])"
      ]
     },
     "execution_count": 58,
     "metadata": {},
     "output_type": "execute_result"
    }
   ],
   "source": [
    "# [3,5]\n",
    "x[1,:3:2]"
   ]
  },
  {
   "cell_type": "code",
   "execution_count": 59,
   "id": "619a92e8",
   "metadata": {},
   "outputs": [
    {
     "data": {
      "text/plain": [
       "array([[0, 1, 2],\n",
       "       [6, 7, 8]])"
      ]
     },
     "execution_count": 59,
     "metadata": {},
     "output_type": "execute_result"
    }
   ],
   "source": [
    "x[::2]"
   ]
  },
  {
   "cell_type": "code",
   "execution_count": 60,
   "id": "38d3476f",
   "metadata": {},
   "outputs": [
    {
     "data": {
      "text/plain": [
       "array([[0, 2],\n",
       "       [3, 5],\n",
       "       [6, 8]])"
      ]
     },
     "execution_count": 60,
     "metadata": {},
     "output_type": "execute_result"
    }
   ],
   "source": [
    "x[:,::2]"
   ]
  },
  {
   "cell_type": "code",
   "execution_count": 61,
   "id": "2997df2c",
   "metadata": {},
   "outputs": [
    {
     "data": {
      "text/plain": [
       "array([[0, 2],\n",
       "       [6, 8]])"
      ]
     },
     "execution_count": 61,
     "metadata": {},
     "output_type": "execute_result"
    }
   ],
   "source": [
    "\n",
    "x[::2,::2]\n",
    "# x"
   ]
  },
  {
   "cell_type": "code",
   "execution_count": 62,
   "id": "af1de0c5",
   "metadata": {},
   "outputs": [
    {
     "data": {
      "text/plain": [
       "array([[1],\n",
       "       [7]])"
      ]
     },
     "execution_count": 62,
     "metadata": {},
     "output_type": "execute_result"
    }
   ],
   "source": [
    "# [1,7]\n",
    "x[::2,1:2]"
   ]
  },
  {
   "cell_type": "code",
   "execution_count": 63,
   "id": "2e41405d",
   "metadata": {},
   "outputs": [
    {
     "data": {
      "text/plain": [
       "array([[0, 1, 2],\n",
       "       [3, 4, 5],\n",
       "       [6, 7, 8]])"
      ]
     },
     "execution_count": 63,
     "metadata": {},
     "output_type": "execute_result"
    }
   ],
   "source": [
    "np.split(x,3)\n",
    "x"
   ]
  },
  {
   "cell_type": "code",
   "execution_count": 64,
   "id": "372b0450",
   "metadata": {},
   "outputs": [
    {
     "data": {
      "text/plain": [
       "array([ 0,  1,  2,  3,  4,  5,  6,  7,  8,  9, 10, 11, 12, 13, 14, 15, 16,\n",
       "       17, 18, 19, 20, 21, 22, 23, 24])"
      ]
     },
     "execution_count": 64,
     "metadata": {},
     "output_type": "execute_result"
    }
   ],
   "source": [
    "z=np.arange(25)\n",
    "z"
   ]
  },
  {
   "cell_type": "code",
   "execution_count": 65,
   "id": "d6ce32ad",
   "metadata": {},
   "outputs": [
    {
     "data": {
      "text/plain": [
       "[array([0, 1, 2]),\n",
       " array([3, 4, 5, 6]),\n",
       " array([ 7,  8,  9, 10, 11, 12]),\n",
       " array([13, 14, 15, 16, 17, 18, 19, 20, 21, 22, 23, 24])]"
      ]
     },
     "execution_count": 65,
     "metadata": {},
     "output_type": "execute_result"
    }
   ],
   "source": [
    "np.split(z,[3,7,13])"
   ]
  },
  {
   "cell_type": "code",
   "execution_count": 66,
   "id": "8cb45477",
   "metadata": {},
   "outputs": [
    {
     "data": {
      "text/plain": [
       "[array([0, 1, 2]),\n",
       " array([3, 4, 5, 6]),\n",
       " array([ 7,  8,  9, 10, 11, 12, 13, 14, 15, 16, 17, 18, 19, 20, 21, 22, 23,\n",
       "        24]),\n",
       " array([], dtype=int32)]"
      ]
     },
     "execution_count": 66,
     "metadata": {},
     "output_type": "execute_result"
    }
   ],
   "source": [
    "np.split(z,[3,7,33])\n"
   ]
  },
  {
   "cell_type": "code",
   "execution_count": 67,
   "id": "f926c9a9",
   "metadata": {},
   "outputs": [
    {
     "data": {
      "text/plain": [
       "[array([0]),\n",
       " array([1, 2, 3, 4, 5]),\n",
       " array([ 6,  7,  8,  9, 10, 11, 12, 13, 14, 15, 16, 17, 18, 19, 20, 21]),\n",
       " array([22, 23, 24]),\n",
       " array([], dtype=int32)]"
      ]
     },
     "execution_count": 67,
     "metadata": {},
     "output_type": "execute_result"
    }
   ],
   "source": [
    "np.split(z,[1,6,22,28])"
   ]
  },
  {
   "cell_type": "code",
   "execution_count": 68,
   "id": "316bebbe",
   "metadata": {},
   "outputs": [
    {
     "data": {
      "text/plain": [
       "[array([[0, 1, 2],\n",
       "        [3, 4, 5],\n",
       "        [6, 7, 8]]),\n",
       " array([], shape=(3, 0), dtype=int32),\n",
       " array([], shape=(3, 0), dtype=int32)]"
      ]
     },
     "execution_count": 68,
     "metadata": {},
     "output_type": "execute_result"
    }
   ],
   "source": [
    "np.split(x,[3,6],axis=1)"
   ]
  },
  {
   "cell_type": "code",
   "execution_count": 69,
   "id": "5cd3f2c5",
   "metadata": {},
   "outputs": [
    {
     "data": {
      "text/plain": [
       "[array([[0, 1, 2],\n",
       "        [3, 4, 5]]),\n",
       " array([[6, 7, 8]]),\n",
       " array([], shape=(0, 3), dtype=int32),\n",
       " array([], shape=(0, 3), dtype=int32)]"
      ]
     },
     "execution_count": 69,
     "metadata": {},
     "output_type": "execute_result"
    }
   ],
   "source": [
    "# Other way to split it is hsplit and vsplit\n",
    "\n",
    "np.hsplit(z,5)\n",
    "\n",
    "\n",
    "\n",
    "# vsplit works with on;y 2d array\n",
    "# np.vsplit(z,5)\n",
    "\n",
    "np.vsplit(x,[2,4,6])\n",
    "\n"
   ]
  },
  {
   "cell_type": "markdown",
   "id": "e91f7cbb",
   "metadata": {},
   "source": [
    "### scalar stack or Concatination"
   ]
  },
  {
   "cell_type": "code",
   "execution_count": 70,
   "id": "7a6047cc",
   "metadata": {},
   "outputs": [
    {
     "data": {
      "text/plain": [
       "array([ 0,  1,  2,  3,  4,  5,  6,  7,  8,  9, 10, 11, 12, 13, 14, 15, 16,\n",
       "       17, 18, 19, 20, 21, 22, 23, 24,  0,  1,  2,  3,  4,  5,  6,  7,  8,\n",
       "        9, 10, 11, 12, 13, 14, 15, 16, 17, 18, 19, 20, 21, 22, 23, 24])"
      ]
     },
     "execution_count": 70,
     "metadata": {},
     "output_type": "execute_result"
    }
   ],
   "source": [
    "np.concatenate((z,z))\n",
    "               "
   ]
  },
  {
   "cell_type": "code",
   "execution_count": 71,
   "id": "61ecbb35",
   "metadata": {},
   "outputs": [
    {
     "data": {
      "text/plain": [
       "array([[0, 1, 2],\n",
       "       [3, 4, 5],\n",
       "       [6, 7, 8],\n",
       "       [0, 1, 2],\n",
       "       [3, 4, 5],\n",
       "       [6, 7, 8]])"
      ]
     },
     "execution_count": 71,
     "metadata": {},
     "output_type": "execute_result"
    }
   ],
   "source": [
    "\n",
    "np.concatenate((x,x))"
   ]
  },
  {
   "cell_type": "code",
   "execution_count": 72,
   "id": "07c68ec9",
   "metadata": {},
   "outputs": [
    {
     "data": {
      "text/plain": [
       "array([ 0,  1,  2,  3,  4,  5,  6,  7,  8,  9, 10, 11, 12, 13, 14, 15, 16,\n",
       "       17, 18, 19, 20, 21, 22, 23, 24,  0,  1,  2,  3,  4,  5,  6,  7,  8,\n",
       "        9, 10, 11, 12, 13, 14, 15, 16, 17, 18, 19, 20, 21, 22, 23, 24])"
      ]
     },
     "execution_count": 72,
     "metadata": {},
     "output_type": "execute_result"
    }
   ],
   "source": [
    "np.hstack((z,z))"
   ]
  },
  {
   "cell_type": "code",
   "execution_count": 73,
   "id": "fe8ff5a2",
   "metadata": {},
   "outputs": [
    {
     "data": {
      "text/plain": [
       "array([[ 0,  1,  2,  3,  4,  5,  6,  7,  8,  9, 10, 11, 12, 13, 14, 15,\n",
       "        16, 17, 18, 19, 20, 21, 22, 23, 24],\n",
       "       [ 0,  1,  2,  3,  4,  5,  6,  7,  8,  9, 10, 11, 12, 13, 14, 15,\n",
       "        16, 17, 18, 19, 20, 21, 22, 23, 24]])"
      ]
     },
     "execution_count": 73,
     "metadata": {},
     "output_type": "execute_result"
    }
   ],
   "source": [
    "np.vstack((z,z))"
   ]
  },
  {
   "cell_type": "code",
   "execution_count": 74,
   "id": "2a63793a",
   "metadata": {},
   "outputs": [
    {
     "data": {
      "text/plain": [
       "(2, 25)"
      ]
     },
     "execution_count": 74,
     "metadata": {},
     "output_type": "execute_result"
    }
   ],
   "source": [
    "np.hstack((z,z)).shape\n",
    "np.vstack((z,z)).shape"
   ]
  },
  {
   "cell_type": "code",
   "execution_count": 75,
   "id": "a28138fc",
   "metadata": {},
   "outputs": [
    {
     "data": {
      "text/plain": [
       "(3, 6)"
      ]
     },
     "execution_count": 75,
     "metadata": {},
     "output_type": "execute_result"
    }
   ],
   "source": [
    "np.hstack((x,x))\n",
    "np.hstack((x,x)).shape"
   ]
  },
  {
   "cell_type": "code",
   "execution_count": 76,
   "id": "cedaf87d",
   "metadata": {},
   "outputs": [
    {
     "data": {
      "text/plain": [
       "(6, 3)"
      ]
     },
     "execution_count": 76,
     "metadata": {},
     "output_type": "execute_result"
    }
   ],
   "source": [
    "np.vstack((x,x))\n",
    "np.vstack((x,x)).shape"
   ]
  },
  {
   "cell_type": "code",
   "execution_count": null,
   "id": "89b44fe8",
   "metadata": {},
   "outputs": [],
   "source": []
  },
  {
   "cell_type": "code",
   "execution_count": null,
   "id": "8fa72b76",
   "metadata": {},
   "outputs": [],
   "source": []
  }
 ],
 "metadata": {
  "kernelspec": {
   "display_name": "Python 3 (ipykernel)",
   "language": "python",
   "name": "python3"
  },
  "language_info": {
   "codemirror_mode": {
    "name": "ipython",
    "version": 3
   },
   "file_extension": ".py",
   "mimetype": "text/x-python",
   "name": "python",
   "nbconvert_exporter": "python",
   "pygments_lexer": "ipython3",
   "version": "3.9.12"
  }
 },
 "nbformat": 4,
 "nbformat_minor": 5
}
