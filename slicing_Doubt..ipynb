{
 "cells": [
  {
   "cell_type": "markdown",
   "id": "40c910ac",
   "metadata": {},
   "source": [
    "## You have sliced: ess you."
   ]
  },
  {
   "cell_type": "code",
   "execution_count": 4,
   "id": "83c6d851",
   "metadata": {},
   "outputs": [
    {
     "name": "stdout",
     "output_type": "stream",
     "text": [
      "You have sliced: ess you\n"
     ]
    }
   ],
   "source": [
    "#Slicing\n",
    "my_str = \"Although that way may not be obvious at first unless you're Dutch.\"\n",
    "\n",
    "print(f\"You have sliced: {my_str[49:56]}\")\n",
    "\n",
    "#output:- You have sliced: ess you. Using begin, end and step."
   ]
  }
 ],
 "metadata": {
  "kernelspec": {
   "display_name": "Python 3 (ipykernel)",
   "language": "python",
   "name": "python3"
  },
  "language_info": {
   "codemirror_mode": {
    "name": "ipython",
    "version": 3
   },
   "file_extension": ".py",
   "mimetype": "text/x-python",
   "name": "python",
   "nbconvert_exporter": "python",
   "pygments_lexer": "ipython3",
   "version": "3.9.7"
  }
 },
 "nbformat": 4,
 "nbformat_minor": 5
}
