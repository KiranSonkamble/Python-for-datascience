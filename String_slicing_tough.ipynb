{
 "cells": [
  {
   "cell_type": "code",
   "execution_count": 2,
   "id": "0dd7c3e0",
   "metadata": {},
   "outputs": [],
   "source": [
    "qw=\"PYTHON PROGRAMMING\""
   ]
  },
  {
   "cell_type": "code",
   "execution_count": 3,
   "id": "9581c1d4",
   "metadata": {},
   "outputs": [
    {
     "data": {
      "text/plain": [
       "'HY'"
      ]
     },
     "execution_count": 3,
     "metadata": {},
     "output_type": "execute_result"
    }
   ],
   "source": [
    "\n",
    "qw[-15:-16]\n",
    "qw[-15:-16:-1]\n",
    "qw[-6:7:-2]\n",
    "qw[4:-8]\n",
    "qw[9:-10]\n",
    "qw[9:-10:-1]\n",
    "qw[22::-6]\n",
    "qw[2:-22:-1]\n",
    "qw[15::-2]\n",
    "qw[::-2]\n",
    "qw[-15::-2]\n"
   ]
  },
  {
   "cell_type": "code",
   "execution_count": 15,
   "id": "0a9f741d",
   "metadata": {},
   "outputs": [
    {
     "name": "stdout",
     "output_type": "stream",
     "text": [
      "YHN\n",
      "YHN\n",
      "TH\n",
      "TH\n",
      "HT\n",
      "NHY\n",
      "NHY\n"
     ]
    }
   ],
   "source": [
    "q= 'PYTHON'\n",
    "print(q[1:len(q):2])\n",
    "\n",
    "print(q[-5:len(q):2])\n",
    "print(q[-4:-2])\n",
    "print(q[2:4])\n",
    "\n",
    "print(q[-3:-5:-1])\n",
    "\n",
    "print(q[-1:-len(q):-2])\n",
    "print(q[::-2])\n"
   ]
  }
 ],
 "metadata": {
  "kernelspec": {
   "display_name": "Python 3 (ipykernel)",
   "language": "python",
   "name": "python3"
  },
  "language_info": {
   "codemirror_mode": {
    "name": "ipython",
    "version": 3
   },
   "file_extension": ".py",
   "mimetype": "text/x-python",
   "name": "python",
   "nbconvert_exporter": "python",
   "pygments_lexer": "ipython3",
   "version": "3.9.7"
  }
 },
 "nbformat": 4,
 "nbformat_minor": 5
}
