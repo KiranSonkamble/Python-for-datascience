{
 "cells": [
  {
   "cell_type": "markdown",
   "id": "64df3c39",
   "metadata": {},
   "source": [
    ": Kiran Sonkamble\n",
    ": 9880994453\n",
    ": krnsonkamble3@gmail.com"
   ]
  },
  {
   "cell_type": "code",
   "execution_count": 5,
   "id": "35e6a378",
   "metadata": {},
   "outputs": [
    {
     "name": "stdout",
     "output_type": "stream",
     "text": [
      "2611308030256\n"
     ]
    }
   ],
   "source": [
    "z = 1\n",
    "print(id(z))"
   ]
  },
  {
   "cell_type": "code",
   "execution_count": 14,
   "id": "eefc028a",
   "metadata": {},
   "outputs": [
    {
     "name": "stdout",
     "output_type": "stream",
     "text": [
      "140733428947048\n",
      "140733428947048\n"
     ]
    }
   ],
   "source": [
    "x= bool(12)\n",
    "c=bool(23)\n",
    "print(id(x))\n",
    "print(id(c))\n",
    "\n",
    "# Python allows object reusibility for boolean values"
   ]
  },
  {
   "cell_type": "code",
   "execution_count": 38,
   "id": "b2806033",
   "metadata": {},
   "outputs": [
    {
     "name": "stdout",
     "output_type": "stream",
     "text": [
      "add_1, diff_1, prod_0, div_0.0, rem_0, qou_0, pow_0\n"
     ]
    }
   ],
   "source": [
    "b= False\n",
    "v= True\n",
    "\n",
    "add_=v+b\n",
    "diff_=v-b\n",
    "prod_=v*b\n",
    "div_=b/v\n",
    "rem_=b%v\n",
    "qou_=b//v\n",
    "pow_=b**v\n",
    "\n",
    "print(f\"add_{add_}, diff_{diff_}, prod_{prod_}, div_{div_}, rem_{rem_}, qou_{qou_}, pow_{pow_}\")"
   ]
  },
  {
   "cell_type": "code",
   "execution_count": 43,
   "id": "d49bdd64",
   "metadata": {},
   "outputs": [
    {
     "name": "stdout",
     "output_type": "stream",
     "text": [
      "False\n",
      "True\n",
      "False\n",
      "True\n"
     ]
    }
   ],
   "source": [
    "n= 1\n",
    "m=0\n",
    "\n",
    "print(m>n)     #Greater than, '>'\n",
    "print(m<n)     #less than, '<'\n",
    "print(m>=n)     #Greater than or equal to, '>='\n",
    "print(m<=n)     #Less than or equal to, '<='    "
   ]
  },
  {
   "cell_type": "code",
   "execution_count": 49,
   "id": "d723aa09",
   "metadata": {},
   "outputs": [
    {
     "name": "stdout",
     "output_type": "stream",
     "text": [
      "False\n",
      "True\n"
     ]
    }
   ],
   "source": [
    "l= True\n",
    "k= False\n",
    "\n",
    "print(l==k)\n",
    "print(l!=k)"
   ]
  },
  {
   "cell_type": "code",
   "execution_count": 52,
   "id": "328bf871",
   "metadata": {},
   "outputs": [
    {
     "name": "stdout",
     "output_type": "stream",
     "text": [
      "True\n",
      "False\n",
      "False\n",
      "False\n",
      "True\n",
      "True\n",
      "True\n",
      "False\n",
      "False\n",
      "True\n"
     ]
    }
   ],
   "source": [
    "\n",
    "print(True and True)\n",
    "\n",
    "print(False and True)\n",
    "\n",
    "print(True and False)\n",
    "\n",
    "print(False and False)\n",
    "\n",
    "print(True or True)\n",
    "\n",
    "print(False or True)\n",
    "\n",
    "print(True or False)\n",
    "\n",
    "print(False or False)\n",
    "\n",
    "print(not True)\n",
    "\n",
    "print(not False)\n"
   ]
  },
  {
   "cell_type": "code",
   "execution_count": 60,
   "id": "caec06e2",
   "metadata": {},
   "outputs": [
    {
     "name": "stdout",
     "output_type": "stream",
     "text": [
      "True\n",
      "True\n",
      "True\n",
      "-2\n",
      "4\n",
      "0\n"
     ]
    }
   ],
   "source": [
    "#  Bitwise Operators\n",
    "\n",
    "print(True & True)\n",
    "    \n",
    "print(True | False)\n",
    "    \n",
    "print(True ^ False)\n",
    "\n",
    "print(~ True)\n",
    "\n",
    "print(True<<2)\n",
    "\n",
    "print(True>>2)"
   ]
  },
  {
   "cell_type": "code",
   "execution_count": 64,
   "id": "4712de5d",
   "metadata": {},
   "outputs": [
    {
     "name": "stdout",
     "output_type": "stream",
     "text": [
      "True\n",
      "False\n",
      "True\n",
      "False\n"
     ]
    }
   ],
   "source": [
    "# What is the output of expression inside the print statement.\n",
    "a = True\n",
    "b = True\n",
    "print(a is b) \n",
    "print(a is not b)\n",
    "\n",
    "a = False\n",
    "b = False\n",
    "print(a is b) \n",
    "print(a is not b)\n"
   ]
  },
  {
   "cell_type": "code",
   "execution_count": 68,
   "id": "2760ee4c",
   "metadata": {},
   "outputs": [
    {
     "name": "stdout",
     "output_type": "stream",
     "text": [
      "True\n",
      "True\n",
      "True\n",
      "True\n",
      "True\n"
     ]
    }
   ],
   "source": [
    "# Membership operation\n",
    "\n",
    "print(True in [10,10.20,10+20j,'Python', True])\n",
    "\n",
    "print(False in (10,10.20,10+20j,'Python', False))\n",
    "\n",
    "print(True in {1,2,3, True})\n",
    "\n",
    "print(True in {True:100, False:200, True:300})\n",
    "\n",
    "print(False in {True:100, False:200, True:300})"
   ]
  }
 ],
 "metadata": {
  "kernelspec": {
   "display_name": "Python 3 (ipykernel)",
   "language": "python",
   "name": "python3"
  },
  "language_info": {
   "codemirror_mode": {
    "name": "ipython",
    "version": 3
   },
   "file_extension": ".py",
   "mimetype": "text/x-python",
   "name": "python",
   "nbconvert_exporter": "python",
   "pygments_lexer": "ipython3",
   "version": "3.9.7"
  }
 },
 "nbformat": 4,
 "nbformat_minor": 5
}
