{
 "cells": [
  {
   "cell_type": "code",
   "execution_count": 2,
   "id": "f2e67e3e",
   "metadata": {},
   "outputs": [],
   "source": [
    "def pal(q):\n",
    "    if q==q[::-1]:\n",
    "        print(q)\n",
    "    return None"
   ]
  },
  {
   "cell_type": "code",
   "execution_count": 3,
   "id": "49687773",
   "metadata": {},
   "outputs": [
    {
     "name": "stdout",
     "output_type": "stream",
     "text": [
      "hih\n"
     ]
    }
   ],
   "source": [
    "pal('hih')"
   ]
  },
  {
   "cell_type": "code",
   "execution_count": 5,
   "id": "78b44419",
   "metadata": {},
   "outputs": [],
   "source": [
    "pal('lo')"
   ]
  },
  {
   "cell_type": "code",
   "execution_count": 12,
   "id": "11a044fd",
   "metadata": {},
   "outputs": [],
   "source": [
    "a={'name':'asd', 'age': 23}\n",
    "   \n",
    "def gt(a):\n",
    "   vl=b[0]\n",
    "   \n",
    "   for i in range(list(a),len(a),2):\n",
    "       print(i)"
   ]
  },
  {
   "cell_type": "code",
   "execution_count": 15,
   "id": "c23b9ba9",
   "metadata": {},
   "outputs": [
    {
     "ename": "NameError",
     "evalue": "name 'b' is not defined",
     "output_type": "error",
     "traceback": [
      "\u001b[1;31m---------------------------------------------------------------------------\u001b[0m",
      "\u001b[1;31mNameError\u001b[0m                                 Traceback (most recent call last)",
      "\u001b[1;32mC:\\Users\\KIRANS~1\\AppData\\Local\\Temp/ipykernel_14784/1278185898.py\u001b[0m in \u001b[0;36m<module>\u001b[1;34m\u001b[0m\n\u001b[1;32m----> 1\u001b[1;33m \u001b[0mgt\u001b[0m\u001b[1;33m(\u001b[0m\u001b[1;34m'name'\u001b[0m\u001b[1;33m)\u001b[0m\u001b[1;33m\u001b[0m\u001b[1;33m\u001b[0m\u001b[0m\n\u001b[0m",
      "\u001b[1;32mC:\\Users\\KIRANS~1\\AppData\\Local\\Temp/ipykernel_14784/1144708008.py\u001b[0m in \u001b[0;36mgt\u001b[1;34m(a)\u001b[0m\n\u001b[0;32m      2\u001b[0m \u001b[1;33m\u001b[0m\u001b[0m\n\u001b[0;32m      3\u001b[0m \u001b[1;32mdef\u001b[0m \u001b[0mgt\u001b[0m\u001b[1;33m(\u001b[0m\u001b[0ma\u001b[0m\u001b[1;33m)\u001b[0m\u001b[1;33m:\u001b[0m\u001b[1;33m\u001b[0m\u001b[1;33m\u001b[0m\u001b[0m\n\u001b[1;32m----> 4\u001b[1;33m    \u001b[0mvl\u001b[0m\u001b[1;33m=\u001b[0m\u001b[0mb\u001b[0m\u001b[1;33m[\u001b[0m\u001b[1;36m0\u001b[0m\u001b[1;33m]\u001b[0m\u001b[1;33m\u001b[0m\u001b[1;33m\u001b[0m\u001b[0m\n\u001b[0m\u001b[0;32m      5\u001b[0m \u001b[1;33m\u001b[0m\u001b[0m\n\u001b[0;32m      6\u001b[0m    \u001b[1;32mfor\u001b[0m \u001b[0mi\u001b[0m \u001b[1;32min\u001b[0m \u001b[0mrange\u001b[0m\u001b[1;33m(\u001b[0m\u001b[0mlist\u001b[0m\u001b[1;33m(\u001b[0m\u001b[0ma\u001b[0m\u001b[1;33m)\u001b[0m\u001b[1;33m,\u001b[0m\u001b[0mlen\u001b[0m\u001b[1;33m(\u001b[0m\u001b[0ma\u001b[0m\u001b[1;33m)\u001b[0m\u001b[1;33m,\u001b[0m\u001b[1;36m2\u001b[0m\u001b[1;33m)\u001b[0m\u001b[1;33m:\u001b[0m\u001b[1;33m\u001b[0m\u001b[1;33m\u001b[0m\u001b[0m\n",
      "\u001b[1;31mNameError\u001b[0m: name 'b' is not defined"
     ]
    }
   ],
   "source": [
    "gt('name')"
   ]
  },
  {
   "cell_type": "code",
   "execution_count": 17,
   "id": "f9262c7e",
   "metadata": {},
   "outputs": [
    {
     "name": "stdout",
     "output_type": "stream",
     "text": [
      "jkl\n",
      "jkl\n",
      "jkl\n",
      "jkl\n",
      "jkl\n",
      "jkl\n",
      "jkl\n",
      "jkl\n",
      "jkl\n",
      "jkl\n",
      "jkl\n",
      "jkl\n"
     ]
    }
   ],
   "source": [
    "for _ in range(12):\n",
    "    print('jkl')"
   ]
  },
  {
   "cell_type": "code",
   "execution_count": 19,
   "id": "264571f4",
   "metadata": {},
   "outputs": [],
   "source": [
    "a=[0,1,2,3,4,5,6]"
   ]
  },
  {
   "cell_type": "code",
   "execution_count": 28,
   "id": "08b646a8",
   "metadata": {},
   "outputs": [
    {
     "data": {
      "text/plain": [
       "6"
      ]
     },
     "execution_count": 28,
     "metadata": {},
     "output_type": "execute_result"
    }
   ],
   "source": [
    "a[-1]"
   ]
  },
  {
   "cell_type": "code",
   "execution_count": 56,
   "id": "2544f453",
   "metadata": {},
   "outputs": [
    {
     "name": "stdout",
     "output_type": "stream",
     "text": [
      "2\n"
     ]
    }
   ],
   "source": [
    "#Write a Python program to count the number of strings having length more than 2 and are palindrome in a list using loop.\n",
    "#Input:- ['ab', 'abc', 'aba', 'xyz', '1991']\n",
    "#Output:- 2\n",
    "\n",
    "a = ['ab', 'abc', 'aba', 'xyz', '1991']\n",
    "\n",
    "b=[]\n",
    "for i in a:\n",
    "#     len(a[0])\n",
    "#     print(i)\n",
    "    if len(i)>2 and i==i[::-1]:\n",
    "#         print(i)\n",
    "        b.append(i)\n",
    "        \n",
    "print(len(b))"
   ]
  },
  {
   "cell_type": "code",
   "execution_count": 74,
   "id": "69c69742",
   "metadata": {},
   "outputs": [
    {
     "name": "stdout",
     "output_type": "stream",
     "text": [
      "100\n",
      "10\n",
      "1\n",
      "298\n",
      "65\n",
      "483\n",
      "49876\n",
      "2\n",
      "80\n",
      "9\n",
      "9213\n"
     ]
    }
   ],
   "source": [
    "\n",
    "#Write a Python program to sort a list in ascending order using loop.\n",
    "#Input:- [100,10,1,298,65,483,49876,2,80,9,9213]\n",
    "#Output:- [1,2,9,10,65,80,100,298,483,9213,49876]\n",
    "\n",
    "s= [100,10,1,298,65,483,49876,2,80,9,9213]\n",
    "r=[]\n",
    "j=0\n",
    "for i in s:\n",
    "    print(i)\n",
    "    \n",
    "#     if i>j:\n",
    "#         j=i\n",
    "#         r.append(j)\n",
    "# r"
   ]
  },
  {
   "cell_type": "code",
   "execution_count": 83,
   "id": "bb9ac941",
   "metadata": {},
   "outputs": [
    {
     "name": "stdout",
     "output_type": "stream",
     "text": [
      "100\n",
      "10\n",
      "1\n",
      "298\n",
      "65\n",
      "483\n",
      "49876\n",
      "2\n",
      "80\n",
      "9\n",
      "9213\n"
     ]
    },
    {
     "data": {
      "text/plain": [
       "[100, 10, 1, 298, 65, 483, 49876, 2, 80, 9, 9213]"
      ]
     },
     "execution_count": 83,
     "metadata": {},
     "output_type": "execute_result"
    }
   ],
   "source": [
    "\n",
    "r=[]\n",
    "j=0\n",
    "for i in s:\n",
    "    print(i)\n",
    "    \n",
    "    if i >= j:\n",
    "        r.append(i)\n",
    "    else:\n",
    "        r.append(j)\n",
    "        \n",
    "r\n",
    "        "
   ]
  },
  {
   "cell_type": "code",
   "execution_count": 84,
   "id": "770ad959",
   "metadata": {},
   "outputs": [
    {
     "name": "stdout",
     "output_type": "stream",
     "text": [
      "Please enter the Total Number of List Elements: 5\n",
      "Please enter the Value of 1 Element : 12\n",
      "Please enter the Value of 2 Element : 23\n",
      "Please enter the Value of 3 Element : 13\n",
      "Please enter the Value of 4 Element : 21\n",
      "Please enter the Value of 5 Element : 2\n",
      "Element After Sorting List in Ascending Order is :  [2, 12, 13, 21, 23]\n"
     ]
    }
   ],
   "source": []
  },
  {
   "cell_type": "code",
   "execution_count": 107,
   "id": "d2b8cb85",
   "metadata": {},
   "outputs": [
    {
     "data": {
      "text/plain": [
       "[1, 2, 9, 10, 65, 80, 100, 298, 483, 9213, 49876]"
      ]
     },
     "execution_count": 107,
     "metadata": {},
     "output_type": "execute_result"
    }
   ],
   "source": [
    "s= [100,10,1,298,65,483,49876,2,80,9,9213]\n",
    "\n",
    "for i in range(0,len(s)):\n",
    "    for j in range(i+1,len(s)):\n",
    "        if s[i]>=s[j]:\n",
    "            s[i],s[j]=s[j],s[i]\n",
    "s\n",
    "            "
   ]
  },
  {
   "cell_type": "code",
   "execution_count": 108,
   "id": "646ca241",
   "metadata": {},
   "outputs": [
    {
     "ename": "IndentationError",
     "evalue": "expected an indented block (Temp/ipykernel_14784/2113977624.py, line 4)",
     "output_type": "error",
     "traceback": [
      "\u001b[1;36m  File \u001b[1;32m\"C:\\Users\\KIRANS~1\\AppData\\Local\\Temp/ipykernel_14784/2113977624.py\"\u001b[1;36m, line \u001b[1;32m4\u001b[0m\n\u001b[1;33m    for j in g:\u001b[0m\n\u001b[1;37m               ^\u001b[0m\n\u001b[1;31mIndentationError\u001b[0m\u001b[1;31m:\u001b[0m expected an indented block\n"
     ]
    }
   ],
   "source": [
    "g= [(5,4),(9,1),(2,3),(5,9),(7,6),(5,5)]\n",
    "\n",
    "for i in g:\n",
    "    for j in g:"
   ]
  },
  {
   "cell_type": "code",
   "execution_count": 111,
   "id": "c5c0d7dd",
   "metadata": {},
   "outputs": [
    {
     "name": "stdout",
     "output_type": "stream",
     "text": [
      "876\n"
     ]
    }
   ],
   "source": [
    "d = [10,1,11,1,29,876,768,10,11,1,92,29,876]\n",
    "for i in d:\n",
    "    for j in d:\n",
    "        \n",
    "        if i!=j:\n",
    "            "
   ]
  }
 ],
 "metadata": {
  "kernelspec": {
   "display_name": "Python 3 (ipykernel)",
   "language": "python",
   "name": "python3"
  },
  "language_info": {
   "codemirror_mode": {
    "name": "ipython",
    "version": 3
   },
   "file_extension": ".py",
   "mimetype": "text/x-python",
   "name": "python",
   "nbconvert_exporter": "python",
   "pygments_lexer": "ipython3",
   "version": "3.9.12"
  }
 },
 "nbformat": 4,
 "nbformat_minor": 5
}
