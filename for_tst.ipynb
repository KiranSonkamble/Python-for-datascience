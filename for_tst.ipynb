{
 "cells": [
  {
   "cell_type": "code",
   "execution_count": 21,
   "id": "44733aef",
   "metadata": {},
   "outputs": [
    {
     "name": "stdout",
     "output_type": "stream",
     "text": [
      "100\n"
     ]
    }
   ],
   "source": [
    "#Write a Python program to find the sum of all elements in a list using loop.\n",
    "#Input:- [10,20,30,40]\n",
    "#Output:- 100\n",
    "\n",
    "s=[10,20,30,40]\n",
    "d=0\n",
    "for i in s:\n",
    "    d=d+i\n",
    "print(d)\n"
   ]
  },
  {
   "cell_type": "code",
   "execution_count": 22,
   "id": "30f0bb8b",
   "metadata": {},
   "outputs": [
    {
     "name": "stdout",
     "output_type": "stream",
     "text": [
      "10 <----this is for i\n",
      "[10, 20, 30, 40]\n",
      "20 <----this is for i\n",
      "[10, 20, 30, 40]\n",
      "30 <----this is for i\n",
      "[10, 20, 30, 40]\n",
      "40 <----this is for i\n",
      "[10, 20, 30, 40]\n"
     ]
    }
   ],
   "source": [
    "\n",
    "s=[10,20,30,40]\n",
    "\n",
    "for i in s:\n",
    "    print(i,'<----this is for i')\n",
    "    print(s)"
   ]
  },
  {
   "cell_type": "code",
   "execution_count": 27,
   "id": "d55efb5e",
   "metadata": {},
   "outputs": [
    {
     "name": "stdout",
     "output_type": "stream",
     "text": [
      "240000\n"
     ]
    }
   ],
   "source": [
    "#Write a Python program to find the multiplication of all elements in a list using loop.\n",
    "#Input:- [10,20,30,40]\n",
    "#Output:- 240000\n",
    "f=1\n",
    "for m in s:\n",
    "    f=f*m\n",
    "print(f)\n"
   ]
  },
  {
   "cell_type": "code",
   "execution_count": 1,
   "id": "d38b38ad",
   "metadata": {},
   "outputs": [
    {
     "ename": "SyntaxError",
     "evalue": "invalid syntax (Temp/ipykernel_22376/1005953243.py, line 7)",
     "output_type": "error",
     "traceback": [
      "\u001b[1;36m  File \u001b[1;32m\"C:\\Users\\KIRANS~1\\AppData\\Local\\Temp/ipykernel_22376/1005953243.py\"\u001b[1;36m, line \u001b[1;32m7\u001b[0m\n\u001b[1;33m    for j >i:\u001b[0m\n\u001b[1;37m            ^\u001b[0m\n\u001b[1;31mSyntaxError\u001b[0m\u001b[1;31m:\u001b[0m invalid syntax\n"
     ]
    }
   ],
   "source": [
    "#Write a Python program to find the largest number from a list using loop.\n",
    "#Input:- [10,100,2321, 1,200,2]\n",
    "#Output:- 2321\n",
    "\n",
    "q= [10,100,2321, 1,200,2]\n",
    "for i in q:\n",
    "    for j >i:\n",
    "        if i> j:\n",
    "            \n",
    "            print(i)\n",
    "# print(j)"
   ]
  },
  {
   "cell_type": "code",
   "execution_count": 33,
   "id": "afa4dda8",
   "metadata": {},
   "outputs": [
    {
     "name": "stdout",
     "output_type": "stream",
     "text": [
      "2321\n"
     ]
    }
   ],
   "source": [
    "ln = q[0] if q else None\n",
    "\n",
    "# print(ln)\n",
    "\n",
    "for i in q:\n",
    "    if i>ln:\n",
    "        ln=i\n",
    "print(ln)"
   ]
  },
  {
   "cell_type": "code",
   "execution_count": 32,
   "id": "f390007c",
   "metadata": {},
   "outputs": [
    {
     "name": "stdout",
     "output_type": "stream",
     "text": [
      "1\n"
     ]
    }
   ],
   "source": [
    "ln = q[0] if q else None\n",
    "\n",
    "# print(ln)\n",
    "\n",
    "for i in q:\n",
    "    if i<ln:\n",
    "        ln=i\n",
    "print(ln)"
   ]
  },
  {
   "cell_type": "code",
   "execution_count": 1,
   "id": "5c42cab2",
   "metadata": {},
   "outputs": [
    {
     "ename": "SyntaxError",
     "evalue": "invalid syntax (Temp/ipykernel_36048/4264483148.py, line 9)",
     "output_type": "error",
     "traceback": [
      "\u001b[1;36m  File \u001b[1;32m\"C:\\Users\\KIRANS~1\\AppData\\Local\\Temp/ipykernel_36048/4264483148.py\"\u001b[1;36m, line \u001b[1;32m9\u001b[0m\n\u001b[1;33m    if\u001b[0m\n\u001b[1;37m        ^\u001b[0m\n\u001b[1;31mSyntaxError\u001b[0m\u001b[1;31m:\u001b[0m invalid syntax\n"
     ]
    }
   ],
   "source": [
    "#Write a Python program to count the number of strings having length more than 2 and are palindrome in a list using loop.\n",
    "#Input:- ['ab', 'abc', 'aba', 'xyz', '1991']\n",
    "#Output:- 2\n",
    "\n",
    "w=['ab', 'abc', 'aba', 'xyz', '1991']\n",
    "len(w[0])\n",
    "\n",
    "for i in w:\n",
    "    if  "
   ]
  },
  {
   "cell_type": "code",
   "execution_count": 4,
   "id": "0e049e6e",
   "metadata": {},
   "outputs": [
    {
     "ename": "SyntaxError",
     "evalue": "invalid syntax (Temp/ipykernel_36048/3842609499.py, line 3)",
     "output_type": "error",
     "traceback": [
      "\u001b[1;36m  File \u001b[1;32m\"C:\\Users\\KIRANS~1\\AppData\\Local\\Temp/ipykernel_36048/3842609499.py\"\u001b[1;36m, line \u001b[1;32m3\u001b[0m\n\u001b[1;33m    for i in range(de[][])\u001b[0m\n\u001b[1;37m                      ^\u001b[0m\n\u001b[1;31mSyntaxError\u001b[0m\u001b[1;31m:\u001b[0m invalid syntax\n"
     ]
    }
   ],
   "source": [
    "de= [(5,4),(9,1),(2,3),(5,9),(7,6),(5,5)]\n",
    "\n",
    "for i in de:\n",
    "    \n",
    "    if j[i][1]= j[]"
   ]
  },
  {
   "cell_type": "code",
   "execution_count": 10,
   "id": "76e4a096",
   "metadata": {},
   "outputs": [
    {
     "data": {
      "text/plain": [
       "6"
      ]
     },
     "execution_count": 10,
     "metadata": {},
     "output_type": "execute_result"
    }
   ],
   "source": [
    "de[4][1]"
   ]
  }
 ],
 "metadata": {
  "kernelspec": {
   "display_name": "Python 3 (ipykernel)",
   "language": "python",
   "name": "python3"
  },
  "language_info": {
   "codemirror_mode": {
    "name": "ipython",
    "version": 3
   },
   "file_extension": ".py",
   "mimetype": "text/x-python",
   "name": "python",
   "nbconvert_exporter": "python",
   "pygments_lexer": "ipython3",
   "version": "3.9.7"
  }
 },
 "nbformat": 4,
 "nbformat_minor": 5
}
