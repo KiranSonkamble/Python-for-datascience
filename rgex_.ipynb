{
 "cells": [
  {
   "cell_type": "code",
   "execution_count": null,
   "id": "d8a073ef",
   "metadata": {},
   "outputs": [],
   "source": [
    "emails = '''\n",
    "AfsanMKhan@gmail.com\n",
    "afsan.khan@university.edu\n",
    "afsan-321-khan@my-work.net\n",
    "afsan-321-khan@my-work.abc\n",
    "'''"
   ]
  },
  {
   "cell_type": "code",
   "execution_count": null,
   "id": "c13f316f",
   "metadata": {},
   "outputs": [],
   "source": [
    "import re\n",
    "pattern =re.compile(r'@.')\n",
    "m = pattern.finditer(emails)\n",
    "for i in m:\n",
    "    print(i)"
   ]
  },
  {
   "cell_type": "code",
   "execution_count": 3,
   "id": "37448c6f",
   "metadata": {},
   "outputs": [],
   "source": [
    "text_to_search = '''\n",
    "abcdefghijklmnopqurtuvwxyz\n",
    "ABCDEFGHIJKLMNOPQRSTUVWXYZ\\s\n",
    "321-555-4321\n",
    "1234567890\n",
    "Ha HaHa\n",
    "MetaCharacters (Need to be escaped):\n",
    ". ^ $ * + ? { } [ ] \\ | ( )\n",
    "khanafsaan11.com\n",
    "321-555-4321\n",
    "123.555.1234\n",
    "123*555*-1234\n",
    "123.555.1234\n",
    "800-555-1234\n",
    "900-555-1234\n",
    "Mr. Schafer\n",
    "Mr. Kiran\n",
    "Mr Smith\n",
    "Ms Davis\n",
    "Mrs. Robinson\n",
    "Mr. T\n",
    "Mr_hello\n",
    "'''"
   ]
  },
  {
   "cell_type": "code",
   "execution_count": 170,
   "id": "3fc4920f",
   "metadata": {},
   "outputs": [
    {
     "name": "stdout",
     "output_type": "stream",
     "text": [
      "<re.Match object; span=(0, 0), match=''>\n",
      "<re.Match object; span=(1, 1), match=''>\n",
      "<re.Match object; span=(2, 2), match=''>\n",
      "<re.Match object; span=(3, 3), match=''>\n",
      "<re.Match object; span=(4, 4), match=''>\n",
      "<re.Match object; span=(5, 5), match=''>\n",
      "<re.Match object; span=(6, 6), match=''>\n",
      "<re.Match object; span=(7, 7), match=''>\n",
      "<re.Match object; span=(8, 8), match=''>\n",
      "<re.Match object; span=(9, 9), match=''>\n",
      "<re.Match object; span=(10, 10), match=''>\n",
      "<re.Match object; span=(11, 11), match=''>\n",
      "<re.Match object; span=(12, 12), match=''>\n",
      "<re.Match object; span=(13, 13), match=''>\n",
      "<re.Match object; span=(14, 14), match=''>\n",
      "<re.Match object; span=(15, 15), match=''>\n",
      "<re.Match object; span=(16, 16), match=''>\n",
      "<re.Match object; span=(17, 17), match=''>\n",
      "<re.Match object; span=(18, 18), match=''>\n",
      "<re.Match object; span=(19, 19), match=''>\n",
      "<re.Match object; span=(20, 20), match=''>\n",
      "<re.Match object; span=(21, 21), match=''>\n",
      "<re.Match object; span=(22, 22), match=''>\n",
      "<re.Match object; span=(23, 23), match=''>\n",
      "<re.Match object; span=(24, 24), match=''>\n",
      "<re.Match object; span=(25, 25), match=''>\n",
      "<re.Match object; span=(26, 26), match=''>\n",
      "<re.Match object; span=(27, 27), match=''>\n",
      "<re.Match object; span=(28, 28), match=''>\n",
      "<re.Match object; span=(29, 29), match=''>\n",
      "<re.Match object; span=(30, 30), match=''>\n",
      "<re.Match object; span=(31, 31), match=''>\n",
      "<re.Match object; span=(32, 32), match=''>\n",
      "<re.Match object; span=(33, 33), match=''>\n",
      "<re.Match object; span=(34, 34), match=''>\n",
      "<re.Match object; span=(35, 35), match=''>\n",
      "<re.Match object; span=(36, 36), match=''>\n",
      "<re.Match object; span=(37, 37), match=''>\n",
      "<re.Match object; span=(38, 38), match=''>\n",
      "<re.Match object; span=(39, 39), match=''>\n",
      "<re.Match object; span=(40, 40), match=''>\n",
      "<re.Match object; span=(41, 41), match=''>\n",
      "<re.Match object; span=(42, 42), match=''>\n",
      "<re.Match object; span=(43, 43), match=''>\n",
      "<re.Match object; span=(44, 44), match=''>\n",
      "<re.Match object; span=(45, 45), match=''>\n",
      "<re.Match object; span=(46, 46), match=''>\n",
      "<re.Match object; span=(47, 47), match=''>\n",
      "<re.Match object; span=(48, 48), match=''>\n",
      "<re.Match object; span=(49, 49), match=''>\n",
      "<re.Match object; span=(50, 50), match=''>\n",
      "<re.Match object; span=(51, 51), match=''>\n",
      "<re.Match object; span=(52, 52), match=''>\n",
      "<re.Match object; span=(53, 53), match=''>\n",
      "<re.Match object; span=(54, 54), match=''>\n",
      "<re.Match object; span=(55, 55), match=''>\n",
      "<re.Match object; span=(56, 56), match=''>\n",
      "<re.Match object; span=(57, 57), match=''>\n",
      "<re.Match object; span=(58, 58), match=''>\n",
      "<re.Match object; span=(59, 59), match=''>\n",
      "<re.Match object; span=(60, 60), match=''>\n",
      "<re.Match object; span=(61, 61), match=''>\n",
      "<re.Match object; span=(62, 62), match=''>\n",
      "<re.Match object; span=(63, 63), match=''>\n",
      "<re.Match object; span=(64, 64), match=''>\n",
      "<re.Match object; span=(65, 65), match=''>\n",
      "<re.Match object; span=(66, 66), match=''>\n",
      "<re.Match object; span=(67, 67), match=''>\n",
      "<re.Match object; span=(68, 68), match=''>\n",
      "<re.Match object; span=(69, 69), match=''>\n",
      "<re.Match object; span=(70, 70), match=''>\n",
      "<re.Match object; span=(71, 71), match=''>\n",
      "<re.Match object; span=(72, 72), match=''>\n",
      "<re.Match object; span=(73, 73), match=''>\n",
      "<re.Match object; span=(74, 74), match=''>\n",
      "<re.Match object; span=(75, 75), match=''>\n",
      "<re.Match object; span=(76, 76), match=''>\n",
      "<re.Match object; span=(77, 77), match=''>\n",
      "<re.Match object; span=(78, 78), match=''>\n",
      "<re.Match object; span=(79, 79), match=''>\n",
      "<re.Match object; span=(80, 80), match=''>\n",
      "<re.Match object; span=(81, 81), match=''>\n",
      "<re.Match object; span=(82, 82), match=''>\n",
      "<re.Match object; span=(83, 83), match=''>\n",
      "<re.Match object; span=(84, 84), match=''>\n",
      "<re.Match object; span=(85, 85), match=''>\n",
      "<re.Match object; span=(86, 86), match=''>\n",
      "<re.Match object; span=(87, 87), match=''>\n",
      "<re.Match object; span=(88, 88), match=''>\n",
      "<re.Match object; span=(89, 89), match=''>\n",
      "<re.Match object; span=(90, 90), match=''>\n",
      "<re.Match object; span=(91, 91), match=''>\n",
      "<re.Match object; span=(92, 92), match=''>\n",
      "<re.Match object; span=(93, 93), match=''>\n",
      "<re.Match object; span=(94, 94), match=''>\n",
      "<re.Match object; span=(95, 95), match=''>\n",
      "<re.Match object; span=(96, 96), match=''>\n",
      "<re.Match object; span=(97, 97), match=''>\n",
      "<re.Match object; span=(98, 98), match=''>\n",
      "<re.Match object; span=(99, 99), match=''>\n",
      "<re.Match object; span=(100, 100), match=''>\n",
      "<re.Match object; span=(101, 101), match=''>\n",
      "<re.Match object; span=(102, 102), match=''>\n",
      "<re.Match object; span=(103, 103), match=''>\n",
      "<re.Match object; span=(104, 104), match=''>\n",
      "<re.Match object; span=(105, 105), match=''>\n",
      "<re.Match object; span=(106, 106), match=''>\n",
      "<re.Match object; span=(107, 107), match=''>\n",
      "<re.Match object; span=(108, 108), match=''>\n",
      "<re.Match object; span=(109, 109), match=''>\n",
      "<re.Match object; span=(110, 110), match=''>\n",
      "<re.Match object; span=(111, 111), match=''>\n",
      "<re.Match object; span=(112, 112), match=''>\n",
      "<re.Match object; span=(113, 113), match=''>\n",
      "<re.Match object; span=(114, 114), match=''>\n",
      "<re.Match object; span=(115, 115), match=''>\n",
      "<re.Match object; span=(116, 116), match=''>\n",
      "<re.Match object; span=(117, 117), match=''>\n",
      "<re.Match object; span=(118, 118), match=''>\n",
      "<re.Match object; span=(119, 119), match=''>\n",
      "<re.Match object; span=(120, 120), match=''>\n",
      "<re.Match object; span=(121, 121), match=''>\n",
      "<re.Match object; span=(122, 122), match=''>\n",
      "<re.Match object; span=(123, 123), match=''>\n",
      "<re.Match object; span=(124, 124), match=''>\n",
      "<re.Match object; span=(125, 125), match=''>\n",
      "<re.Match object; span=(126, 126), match=''>\n",
      "<re.Match object; span=(127, 127), match=''>\n",
      "<re.Match object; span=(128, 128), match=''>\n",
      "<re.Match object; span=(129, 129), match=''>\n",
      "<re.Match object; span=(130, 130), match=''>\n",
      "<re.Match object; span=(131, 131), match=''>\n",
      "<re.Match object; span=(132, 132), match=''>\n",
      "<re.Match object; span=(133, 133), match=''>\n",
      "<re.Match object; span=(134, 134), match=''>\n",
      "<re.Match object; span=(135, 135), match=''>\n",
      "<re.Match object; span=(136, 136), match=''>\n",
      "<re.Match object; span=(137, 137), match=''>\n",
      "<re.Match object; span=(138, 138), match=''>\n",
      "<re.Match object; span=(139, 139), match=''>\n",
      "<re.Match object; span=(140, 140), match=''>\n",
      "<re.Match object; span=(141, 141), match=''>\n",
      "<re.Match object; span=(142, 142), match=''>\n",
      "<re.Match object; span=(143, 143), match=''>\n",
      "<re.Match object; span=(144, 144), match=''>\n",
      "<re.Match object; span=(145, 145), match=''>\n",
      "<re.Match object; span=(146, 146), match=''>\n",
      "<re.Match object; span=(147, 147), match=''>\n",
      "<re.Match object; span=(148, 148), match=''>\n",
      "<re.Match object; span=(149, 149), match=''>\n",
      "<re.Match object; span=(150, 150), match=''>\n",
      "<re.Match object; span=(151, 151), match=''>\n",
      "<re.Match object; span=(152, 152), match=''>\n",
      "<re.Match object; span=(153, 153), match=''>\n",
      "<re.Match object; span=(154, 154), match=''>\n",
      "<re.Match object; span=(155, 155), match=''>\n",
      "<re.Match object; span=(156, 156), match=''>\n",
      "<re.Match object; span=(157, 157), match=''>\n",
      "<re.Match object; span=(158, 158), match=''>\n",
      "<re.Match object; span=(159, 159), match=''>\n",
      "<re.Match object; span=(160, 160), match=''>\n",
      "<re.Match object; span=(161, 161), match=''>\n",
      "<re.Match object; span=(162, 162), match=''>\n",
      "<re.Match object; span=(163, 163), match=''>\n",
      "<re.Match object; span=(164, 164), match=''>\n",
      "<re.Match object; span=(165, 165), match=''>\n",
      "<re.Match object; span=(166, 166), match=''>\n",
      "<re.Match object; span=(167, 167), match=''>\n",
      "<re.Match object; span=(168, 168), match=''>\n",
      "<re.Match object; span=(169, 169), match=''>\n",
      "<re.Match object; span=(170, 170), match=''>\n",
      "<re.Match object; span=(171, 171), match=''>\n",
      "<re.Match object; span=(172, 172), match=''>\n",
      "<re.Match object; span=(173, 173), match=''>\n",
      "<re.Match object; span=(174, 174), match=''>\n",
      "<re.Match object; span=(175, 175), match=''>\n",
      "<re.Match object; span=(176, 176), match=''>\n",
      "<re.Match object; span=(177, 177), match=''>\n",
      "<re.Match object; span=(178, 178), match=''>\n",
      "<re.Match object; span=(179, 179), match=''>\n",
      "<re.Match object; span=(180, 180), match=''>\n",
      "<re.Match object; span=(181, 181), match=''>\n",
      "<re.Match object; span=(182, 182), match=''>\n",
      "<re.Match object; span=(183, 183), match=''>\n",
      "<re.Match object; span=(184, 184), match=''>\n",
      "<re.Match object; span=(185, 185), match=''>\n",
      "<re.Match object; span=(186, 186), match=''>\n",
      "<re.Match object; span=(187, 187), match=''>\n",
      "<re.Match object; span=(188, 188), match=''>\n",
      "<re.Match object; span=(189, 189), match=''>\n",
      "<re.Match object; span=(190, 190), match=''>\n",
      "<re.Match object; span=(191, 191), match=''>\n",
      "<re.Match object; span=(192, 192), match=''>\n",
      "<re.Match object; span=(193, 193), match=''>\n",
      "<re.Match object; span=(194, 194), match=''>\n",
      "<re.Match object; span=(195, 195), match=''>\n",
      "<re.Match object; span=(196, 196), match=''>\n",
      "<re.Match object; span=(197, 197), match=''>\n",
      "<re.Match object; span=(198, 198), match=''>\n",
      "<re.Match object; span=(199, 199), match=''>\n",
      "<re.Match object; span=(200, 200), match=''>\n",
      "<re.Match object; span=(201, 201), match=''>\n",
      "<re.Match object; span=(202, 202), match=''>\n",
      "<re.Match object; span=(203, 203), match=''>\n",
      "<re.Match object; span=(204, 204), match=''>\n",
      "<re.Match object; span=(205, 205), match=''>\n",
      "<re.Match object; span=(206, 206), match=''>\n",
      "<re.Match object; span=(207, 207), match=''>\n",
      "<re.Match object; span=(208, 208), match=''>\n",
      "<re.Match object; span=(209, 209), match=''>\n",
      "<re.Match object; span=(210, 210), match=''>\n",
      "<re.Match object; span=(211, 211), match=''>\n",
      "<re.Match object; span=(212, 212), match=''>\n",
      "<re.Match object; span=(213, 213), match=''>\n",
      "<re.Match object; span=(214, 214), match=''>\n",
      "<re.Match object; span=(215, 215), match=''>\n",
      "<re.Match object; span=(216, 216), match=''>\n",
      "<re.Match object; span=(217, 217), match=''>\n",
      "<re.Match object; span=(218, 218), match=''>\n",
      "<re.Match object; span=(219, 219), match=''>\n",
      "<re.Match object; span=(220, 220), match=''>\n",
      "<re.Match object; span=(221, 221), match=''>\n",
      "<re.Match object; span=(222, 222), match=''>\n",
      "<re.Match object; span=(223, 223), match=''>\n",
      "<re.Match object; span=(224, 224), match=''>\n",
      "<re.Match object; span=(225, 225), match=''>\n",
      "<re.Match object; span=(226, 226), match=''>\n",
      "<re.Match object; span=(227, 227), match=''>\n",
      "<re.Match object; span=(228, 228), match=''>\n",
      "<re.Match object; span=(229, 229), match=''>\n",
      "<re.Match object; span=(230, 230), match=''>\n",
      "<re.Match object; span=(231, 231), match=''>\n",
      "<re.Match object; span=(232, 232), match=''>\n",
      "<re.Match object; span=(233, 233), match=''>\n",
      "<re.Match object; span=(234, 234), match=''>\n",
      "<re.Match object; span=(235, 235), match=''>\n",
      "<re.Match object; span=(236, 236), match=''>\n",
      "<re.Match object; span=(237, 237), match=''>\n",
      "<re.Match object; span=(238, 238), match=''>\n",
      "<re.Match object; span=(239, 239), match=''>\n",
      "<re.Match object; span=(240, 240), match=''>\n",
      "<re.Match object; span=(241, 241), match=''>\n",
      "<re.Match object; span=(242, 242), match=''>\n",
      "<re.Match object; span=(243, 243), match=''>\n",
      "<re.Match object; span=(244, 244), match=''>\n",
      "<re.Match object; span=(245, 245), match=''>\n",
      "<re.Match object; span=(246, 246), match=''>\n",
      "<re.Match object; span=(247, 247), match=''>\n",
      "<re.Match object; span=(248, 248), match=''>\n",
      "<re.Match object; span=(249, 249), match=''>\n",
      "<re.Match object; span=(250, 250), match=''>\n",
      "<re.Match object; span=(251, 251), match=''>\n",
      "<re.Match object; span=(252, 252), match=''>\n",
      "<re.Match object; span=(253, 253), match=''>\n",
      "<re.Match object; span=(254, 254), match=''>\n",
      "<re.Match object; span=(255, 255), match=''>\n",
      "<re.Match object; span=(256, 256), match=''>\n",
      "<re.Match object; span=(257, 257), match=''>\n",
      "<re.Match object; span=(258, 258), match=''>\n",
      "<re.Match object; span=(259, 259), match=''>\n",
      "<re.Match object; span=(260, 260), match=''>\n",
      "<re.Match object; span=(261, 261), match=''>\n",
      "<re.Match object; span=(262, 262), match=''>\n",
      "<re.Match object; span=(263, 263), match=''>\n",
      "<re.Match object; span=(264, 264), match=''>\n",
      "<re.Match object; span=(265, 265), match=''>\n",
      "<re.Match object; span=(266, 266), match=''>\n",
      "<re.Match object; span=(267, 267), match=''>\n",
      "<re.Match object; span=(268, 268), match=''>\n",
      "<re.Match object; span=(269, 269), match=''>\n",
      "<re.Match object; span=(270, 270), match=''>\n",
      "<re.Match object; span=(271, 271), match=''>\n",
      "<re.Match object; span=(272, 272), match=''>\n",
      "<re.Match object; span=(273, 273), match=''>\n",
      "<re.Match object; span=(274, 274), match=''>\n",
      "<re.Match object; span=(275, 275), match=''>\n",
      "<re.Match object; span=(276, 276), match=''>\n",
      "<re.Match object; span=(277, 277), match=''>\n",
      "<re.Match object; span=(278, 278), match=''>\n",
      "<re.Match object; span=(279, 279), match=''>\n",
      "<re.Match object; span=(280, 280), match=''>\n",
      "<re.Match object; span=(281, 281), match=''>\n",
      "<re.Match object; span=(282, 282), match=''>\n",
      "<re.Match object; span=(283, 283), match=''>\n",
      "<re.Match object; span=(284, 284), match=''>\n",
      "<re.Match object; span=(285, 285), match=''>\n",
      "<re.Match object; span=(286, 286), match=''>\n",
      "<re.Match object; span=(287, 287), match=''>\n",
      "<re.Match object; span=(288, 288), match=''>\n",
      "<re.Match object; span=(289, 289), match=''>\n",
      "<re.Match object; span=(290, 290), match=''>\n",
      "<re.Match object; span=(291, 291), match=''>\n",
      "<re.Match object; span=(292, 292), match=''>\n",
      "<re.Match object; span=(293, 293), match=''>\n",
      "<re.Match object; span=(294, 294), match=''>\n",
      "<re.Match object; span=(295, 295), match=''>\n",
      "<re.Match object; span=(296, 296), match=''>\n",
      "<re.Match object; span=(297, 297), match=''>\n",
      "<re.Match object; span=(298, 298), match=''>\n",
      "<re.Match object; span=(299, 299), match=''>\n",
      "<re.Match object; span=(300, 300), match=''>\n",
      "<re.Match object; span=(301, 301), match=''>\n",
      "<re.Match object; span=(302, 302), match=''>\n",
      "<re.Match object; span=(303, 303), match=''>\n",
      "<re.Match object; span=(304, 304), match=''>\n",
      "<re.Match object; span=(305, 305), match=''>\n",
      "<re.Match object; span=(306, 306), match=''>\n",
      "<re.Match object; span=(307, 307), match=''>\n",
      "<re.Match object; span=(308, 308), match=''>\n",
      "<re.Match object; span=(309, 309), match=''>\n",
      "<re.Match object; span=(310, 310), match=''>\n",
      "<re.Match object; span=(311, 311), match=''>\n",
      "<re.Match object; span=(312, 312), match=''>\n",
      "<re.Match object; span=(313, 313), match=''>\n",
      "<re.Match object; span=(314, 314), match=''>\n",
      "<re.Match object; span=(315, 315), match=''>\n",
      "<re.Match object; span=(316, 316), match=''>\n",
      "<re.Match object; span=(317, 317), match=''>\n",
      "<re.Match object; span=(318, 318), match=''>\n",
      "<re.Match object; span=(319, 319), match=''>\n"
     ]
    }
   ],
   "source": [
    "p = re.compile(r'')\n",
    "h = p.finditer(text_to_search)\n",
    "for i in h:\n",
    "    print(i)"
   ]
  },
  {
   "cell_type": "code",
   "execution_count": 157,
   "id": "54c22620",
   "metadata": {},
   "outputs": [
    {
     "name": "stdout",
     "output_type": "stream",
     "text": [
      "<re.Match object; span=(184, 196), match='123.555.1234'>\n",
      "<re.Match object; span=(211, 223), match='123.555.1234'>\n"
     ]
    }
   ],
   "source": [
    "# extract valid phone numbers\n",
    "# 123.555.1234\n",
    "p = re.compile(r'\\d\\d\\d\\.\\d\\d\\d\\.\\d\\d\\d\\d')\n",
    "h = p.finditer(text_to_search)\n",
    "for i in h:\n",
    "    print(i)"
   ]
  },
  {
   "cell_type": "code",
   "execution_count": null,
   "id": "dd256958",
   "metadata": {},
   "outputs": [],
   "source": []
  },
  {
   "cell_type": "code",
   "execution_count": 128,
   "id": "bf52bbf9",
   "metadata": {},
   "outputs": [
    {
     "name": "stdout",
     "output_type": "stream",
     "text": [
      "<re.Match object; span=(57, 60), match='321'>\n",
      "<re.Match object; span=(61, 64), match='555'>\n",
      "<re.Match object; span=(171, 174), match='321'>\n",
      "<re.Match object; span=(175, 178), match='555'>\n",
      "<re.Match object; span=(184, 187), match='123'>\n",
      "<re.Match object; span=(188, 191), match='555'>\n",
      "<re.Match object; span=(197, 200), match='123'>\n",
      "<re.Match object; span=(201, 204), match='555'>\n",
      "<re.Match object; span=(211, 214), match='123'>\n",
      "<re.Match object; span=(215, 218), match='555'>\n",
      "<re.Match object; span=(224, 227), match='800'>\n",
      "<re.Match object; span=(228, 231), match='555'>\n",
      "<re.Match object; span=(237, 240), match='900'>\n",
      "<re.Match object; span=(241, 244), match='555'>\n"
     ]
    }
   ],
   "source": [
    "# extract only the3 digit numbers\n",
    "p = re.compile(r'\\b\\d\\d\\d\\b')\n",
    "h = p.finditer(text_to_search)\n",
    "for i in h:\n",
    "    print(i)"
   ]
  },
  {
   "cell_type": "code",
   "execution_count": 126,
   "id": "42f219fa",
   "metadata": {},
   "outputs": [
    {
     "name": "stdout",
     "output_type": "stream",
     "text": [
      "<re.Match object; span=(57, 60), match='321'>\n",
      "<re.Match object; span=(61, 64), match='555'>\n",
      "<re.Match object; span=(65, 68), match='432'>\n",
      "<re.Match object; span=(70, 73), match='123'>\n",
      "<re.Match object; span=(73, 76), match='456'>\n",
      "<re.Match object; span=(76, 79), match='789'>\n",
      "<re.Match object; span=(171, 174), match='321'>\n",
      "<re.Match object; span=(175, 178), match='555'>\n",
      "<re.Match object; span=(179, 182), match='432'>\n",
      "<re.Match object; span=(184, 187), match='123'>\n",
      "<re.Match object; span=(188, 191), match='555'>\n",
      "<re.Match object; span=(192, 195), match='123'>\n",
      "<re.Match object; span=(197, 200), match='123'>\n",
      "<re.Match object; span=(201, 204), match='555'>\n",
      "<re.Match object; span=(206, 209), match='123'>\n",
      "<re.Match object; span=(211, 214), match='123'>\n",
      "<re.Match object; span=(215, 218), match='555'>\n",
      "<re.Match object; span=(219, 222), match='123'>\n",
      "<re.Match object; span=(224, 227), match='800'>\n",
      "<re.Match object; span=(228, 231), match='555'>\n",
      "<re.Match object; span=(232, 235), match='123'>\n",
      "<re.Match object; span=(237, 240), match='900'>\n",
      "<re.Match object; span=(241, 244), match='555'>\n",
      "<re.Match object; span=(245, 248), match='123'>\n"
     ]
    }
   ],
   "source": [
    "# extract all the3 digit numbers\n",
    "p = re.compile(r'\\d\\d\\d')\n",
    "h = p.finditer(text_to_search)\n",
    "for i in h:\n",
    "    print(i)"
   ]
  },
  {
   "cell_type": "code",
   "execution_count": 124,
   "id": "308e8170",
   "metadata": {},
   "outputs": [
    {
     "data": {
      "text/plain": [
       "'321-555-4321'"
      ]
     },
     "execution_count": 124,
     "metadata": {},
     "output_type": "execute_result"
    }
   ],
   "source": [
    "text_to_search[57:69]"
   ]
  },
  {
   "cell_type": "code",
   "execution_count": null,
   "id": "203150ac",
   "metadata": {},
   "outputs": [],
   "source": []
  },
  {
   "cell_type": "code",
   "execution_count": null,
   "id": "ae357228",
   "metadata": {},
   "outputs": [],
   "source": []
  },
  {
   "cell_type": "code",
   "execution_count": 18,
   "id": "06aad4d5",
   "metadata": {},
   "outputs": [],
   "source": [
    "pattern= re.compile(r'Kiran')\n",
    "mat = pattern.findall(text_to_search)\n",
    "m = pattern.finditer(text_to_search)"
   ]
  },
  {
   "cell_type": "code",
   "execution_count": 19,
   "id": "e83d88d5",
   "metadata": {},
   "outputs": [
    {
     "name": "stdout",
     "output_type": "stream",
     "text": [
      "<re.Match object; span=(266, 271), match='Kiran'>\n"
     ]
    }
   ],
   "source": [
    "for i in m:\n",
    "    print(i)"
   ]
  },
  {
   "cell_type": "code",
   "execution_count": 20,
   "id": "008a2891",
   "metadata": {},
   "outputs": [
    {
     "name": "stdout",
     "output_type": "stream",
     "text": [
      "Kiran\n"
     ]
    }
   ],
   "source": [
    "for j in mat:\n",
    "    print(j)"
   ]
  },
  {
   "cell_type": "code",
   "execution_count": 22,
   "id": "4f4484df",
   "metadata": {},
   "outputs": [
    {
     "name": "stdout",
     "output_type": "stream",
     "text": [
      "<re.Match object; span=(57, 58), match='3'>\n",
      "<re.Match object; span=(58, 59), match='2'>\n",
      "<re.Match object; span=(59, 60), match='1'>\n",
      "<re.Match object; span=(61, 62), match='5'>\n",
      "<re.Match object; span=(62, 63), match='5'>\n",
      "<re.Match object; span=(63, 64), match='5'>\n",
      "<re.Match object; span=(65, 66), match='4'>\n",
      "<re.Match object; span=(66, 67), match='3'>\n",
      "<re.Match object; span=(67, 68), match='2'>\n",
      "<re.Match object; span=(68, 69), match='1'>\n",
      "<re.Match object; span=(70, 71), match='1'>\n",
      "<re.Match object; span=(71, 72), match='2'>\n",
      "<re.Match object; span=(72, 73), match='3'>\n",
      "<re.Match object; span=(73, 74), match='4'>\n",
      "<re.Match object; span=(74, 75), match='5'>\n",
      "<re.Match object; span=(75, 76), match='6'>\n",
      "<re.Match object; span=(76, 77), match='7'>\n",
      "<re.Match object; span=(77, 78), match='8'>\n",
      "<re.Match object; span=(78, 79), match='9'>\n",
      "<re.Match object; span=(79, 80), match='0'>\n",
      "<re.Match object; span=(164, 165), match='1'>\n",
      "<re.Match object; span=(165, 166), match='1'>\n",
      "<re.Match object; span=(171, 172), match='3'>\n",
      "<re.Match object; span=(172, 173), match='2'>\n",
      "<re.Match object; span=(173, 174), match='1'>\n",
      "<re.Match object; span=(175, 176), match='5'>\n",
      "<re.Match object; span=(176, 177), match='5'>\n",
      "<re.Match object; span=(177, 178), match='5'>\n",
      "<re.Match object; span=(179, 180), match='4'>\n",
      "<re.Match object; span=(180, 181), match='3'>\n",
      "<re.Match object; span=(181, 182), match='2'>\n",
      "<re.Match object; span=(182, 183), match='1'>\n",
      "<re.Match object; span=(184, 185), match='1'>\n",
      "<re.Match object; span=(185, 186), match='2'>\n",
      "<re.Match object; span=(186, 187), match='3'>\n",
      "<re.Match object; span=(188, 189), match='5'>\n",
      "<re.Match object; span=(189, 190), match='5'>\n",
      "<re.Match object; span=(190, 191), match='5'>\n",
      "<re.Match object; span=(192, 193), match='1'>\n",
      "<re.Match object; span=(193, 194), match='2'>\n",
      "<re.Match object; span=(194, 195), match='3'>\n",
      "<re.Match object; span=(195, 196), match='4'>\n",
      "<re.Match object; span=(197, 198), match='1'>\n",
      "<re.Match object; span=(198, 199), match='2'>\n",
      "<re.Match object; span=(199, 200), match='3'>\n",
      "<re.Match object; span=(201, 202), match='5'>\n",
      "<re.Match object; span=(202, 203), match='5'>\n",
      "<re.Match object; span=(203, 204), match='5'>\n",
      "<re.Match object; span=(206, 207), match='1'>\n",
      "<re.Match object; span=(207, 208), match='2'>\n",
      "<re.Match object; span=(208, 209), match='3'>\n",
      "<re.Match object; span=(209, 210), match='4'>\n",
      "<re.Match object; span=(211, 212), match='1'>\n",
      "<re.Match object; span=(212, 213), match='2'>\n",
      "<re.Match object; span=(213, 214), match='3'>\n",
      "<re.Match object; span=(215, 216), match='5'>\n",
      "<re.Match object; span=(216, 217), match='5'>\n",
      "<re.Match object; span=(217, 218), match='5'>\n",
      "<re.Match object; span=(219, 220), match='1'>\n",
      "<re.Match object; span=(220, 221), match='2'>\n",
      "<re.Match object; span=(221, 222), match='3'>\n",
      "<re.Match object; span=(222, 223), match='4'>\n",
      "<re.Match object; span=(224, 225), match='8'>\n",
      "<re.Match object; span=(225, 226), match='0'>\n",
      "<re.Match object; span=(226, 227), match='0'>\n",
      "<re.Match object; span=(228, 229), match='5'>\n",
      "<re.Match object; span=(229, 230), match='5'>\n",
      "<re.Match object; span=(230, 231), match='5'>\n",
      "<re.Match object; span=(232, 233), match='1'>\n",
      "<re.Match object; span=(233, 234), match='2'>\n",
      "<re.Match object; span=(234, 235), match='3'>\n",
      "<re.Match object; span=(235, 236), match='4'>\n",
      "<re.Match object; span=(237, 238), match='9'>\n",
      "<re.Match object; span=(238, 239), match='0'>\n",
      "<re.Match object; span=(239, 240), match='0'>\n",
      "<re.Match object; span=(241, 242), match='5'>\n",
      "<re.Match object; span=(242, 243), match='5'>\n",
      "<re.Match object; span=(243, 244), match='5'>\n",
      "<re.Match object; span=(245, 246), match='1'>\n",
      "<re.Match object; span=(246, 247), match='2'>\n",
      "<re.Match object; span=(247, 248), match='3'>\n",
      "<re.Match object; span=(248, 249), match='4'>\n"
     ]
    }
   ],
   "source": [
    "import re\n",
    "p = re.compile(r'\\d')\n",
    "h = p.finditer(text_to_search)\n",
    "for i in h:\n",
    "    print(i)"
   ]
  },
  {
   "cell_type": "code",
   "execution_count": 26,
   "id": "3f38f043",
   "metadata": {},
   "outputs": [
    {
     "name": "stdout",
     "output_type": "stream",
     "text": [
      "<re.Match object; span=(0, 1), match='\\n'>\n",
      "<re.Match object; span=(27, 28), match='\\n'>\n",
      "<re.Match object; span=(54, 55), match='\\\\'>\n",
      "<re.Match object; span=(56, 57), match='\\n'>\n",
      "<re.Match object; span=(60, 61), match='-'>\n",
      "<re.Match object; span=(64, 65), match='-'>\n",
      "<re.Match object; span=(69, 70), match='\\n'>\n",
      "<re.Match object; span=(80, 81), match='\\n'>\n",
      "<re.Match object; span=(83, 84), match=' '>\n",
      "<re.Match object; span=(88, 89), match='\\n'>\n",
      "<re.Match object; span=(103, 104), match=' '>\n",
      "<re.Match object; span=(104, 105), match='('>\n",
      "<re.Match object; span=(109, 110), match=' '>\n",
      "<re.Match object; span=(112, 113), match=' '>\n",
      "<re.Match object; span=(115, 116), match=' '>\n",
      "<re.Match object; span=(123, 124), match=')'>\n",
      "<re.Match object; span=(124, 125), match=':'>\n",
      "<re.Match object; span=(125, 126), match='\\n'>\n",
      "<re.Match object; span=(126, 127), match='.'>\n",
      "<re.Match object; span=(127, 128), match=' '>\n",
      "<re.Match object; span=(128, 129), match='^'>\n",
      "<re.Match object; span=(129, 130), match=' '>\n",
      "<re.Match object; span=(130, 131), match='$'>\n",
      "<re.Match object; span=(131, 132), match=' '>\n",
      "<re.Match object; span=(132, 133), match='*'>\n",
      "<re.Match object; span=(133, 134), match=' '>\n",
      "<re.Match object; span=(134, 135), match='+'>\n",
      "<re.Match object; span=(135, 136), match=' '>\n",
      "<re.Match object; span=(136, 137), match='?'>\n",
      "<re.Match object; span=(137, 138), match=' '>\n",
      "<re.Match object; span=(138, 139), match='{'>\n",
      "<re.Match object; span=(139, 140), match=' '>\n",
      "<re.Match object; span=(140, 141), match='}'>\n",
      "<re.Match object; span=(141, 142), match=' '>\n",
      "<re.Match object; span=(142, 143), match='['>\n",
      "<re.Match object; span=(143, 144), match=' '>\n",
      "<re.Match object; span=(144, 145), match=']'>\n",
      "<re.Match object; span=(145, 146), match=' '>\n",
      "<re.Match object; span=(146, 147), match='\\\\'>\n",
      "<re.Match object; span=(147, 148), match=' '>\n",
      "<re.Match object; span=(148, 149), match='|'>\n",
      "<re.Match object; span=(149, 150), match=' '>\n",
      "<re.Match object; span=(150, 151), match='('>\n",
      "<re.Match object; span=(151, 152), match=' '>\n",
      "<re.Match object; span=(152, 153), match=')'>\n",
      "<re.Match object; span=(153, 154), match='\\n'>\n",
      "<re.Match object; span=(166, 167), match='.'>\n",
      "<re.Match object; span=(170, 171), match='\\n'>\n",
      "<re.Match object; span=(174, 175), match='-'>\n",
      "<re.Match object; span=(178, 179), match='-'>\n",
      "<re.Match object; span=(183, 184), match='\\n'>\n",
      "<re.Match object; span=(187, 188), match='.'>\n",
      "<re.Match object; span=(191, 192), match='.'>\n",
      "<re.Match object; span=(196, 197), match='\\n'>\n",
      "<re.Match object; span=(200, 201), match='*'>\n",
      "<re.Match object; span=(204, 205), match='*'>\n",
      "<re.Match object; span=(205, 206), match='-'>\n",
      "<re.Match object; span=(210, 211), match='\\n'>\n",
      "<re.Match object; span=(214, 215), match='.'>\n",
      "<re.Match object; span=(218, 219), match='.'>\n",
      "<re.Match object; span=(223, 224), match='\\n'>\n",
      "<re.Match object; span=(227, 228), match='-'>\n",
      "<re.Match object; span=(231, 232), match='-'>\n",
      "<re.Match object; span=(236, 237), match='\\n'>\n",
      "<re.Match object; span=(240, 241), match='-'>\n",
      "<re.Match object; span=(244, 245), match='-'>\n",
      "<re.Match object; span=(249, 250), match='\\n'>\n",
      "<re.Match object; span=(252, 253), match='.'>\n",
      "<re.Match object; span=(253, 254), match=' '>\n",
      "<re.Match object; span=(261, 262), match='\\n'>\n",
      "<re.Match object; span=(264, 265), match='.'>\n",
      "<re.Match object; span=(265, 266), match=' '>\n",
      "<re.Match object; span=(271, 272), match='\\n'>\n",
      "<re.Match object; span=(274, 275), match=' '>\n",
      "<re.Match object; span=(280, 281), match='\\n'>\n",
      "<re.Match object; span=(283, 284), match=' '>\n",
      "<re.Match object; span=(289, 290), match='\\n'>\n",
      "<re.Match object; span=(293, 294), match='.'>\n",
      "<re.Match object; span=(294, 295), match=' '>\n",
      "<re.Match object; span=(303, 304), match='\\n'>\n",
      "<re.Match object; span=(306, 307), match='.'>\n",
      "<re.Match object; span=(307, 308), match=' '>\n",
      "<re.Match object; span=(309, 310), match='\\n'>\n",
      "<re.Match object; span=(318, 319), match='\\n'>\n"
     ]
    }
   ],
   "source": [
    "o = re.compile(r\"\\W\")\n",
    "f = o.finditer(text_to_search)\n",
    "for h in f:\n",
    "    print(h)"
   ]
  },
  {
   "cell_type": "code",
   "execution_count": 28,
   "id": "7d6730db",
   "metadata": {},
   "outputs": [
    {
     "name": "stdout",
     "output_type": "stream",
     "text": [
      "<re.Match object; span=(0, 1), match='\\n'>\n",
      "<re.Match object; span=(27, 28), match='\\n'>\n",
      "<re.Match object; span=(56, 57), match='\\n'>\n",
      "<re.Match object; span=(69, 70), match='\\n'>\n",
      "<re.Match object; span=(80, 81), match='\\n'>\n",
      "<re.Match object; span=(83, 84), match=' '>\n",
      "<re.Match object; span=(88, 89), match='\\n'>\n",
      "<re.Match object; span=(103, 104), match=' '>\n",
      "<re.Match object; span=(109, 110), match=' '>\n",
      "<re.Match object; span=(112, 113), match=' '>\n",
      "<re.Match object; span=(115, 116), match=' '>\n",
      "<re.Match object; span=(125, 126), match='\\n'>\n",
      "<re.Match object; span=(127, 128), match=' '>\n",
      "<re.Match object; span=(129, 130), match=' '>\n",
      "<re.Match object; span=(131, 132), match=' '>\n",
      "<re.Match object; span=(133, 134), match=' '>\n",
      "<re.Match object; span=(135, 136), match=' '>\n",
      "<re.Match object; span=(137, 138), match=' '>\n",
      "<re.Match object; span=(139, 140), match=' '>\n",
      "<re.Match object; span=(141, 142), match=' '>\n",
      "<re.Match object; span=(143, 144), match=' '>\n",
      "<re.Match object; span=(145, 146), match=' '>\n",
      "<re.Match object; span=(147, 148), match=' '>\n",
      "<re.Match object; span=(149, 150), match=' '>\n",
      "<re.Match object; span=(151, 152), match=' '>\n",
      "<re.Match object; span=(153, 154), match='\\n'>\n",
      "<re.Match object; span=(170, 171), match='\\n'>\n",
      "<re.Match object; span=(183, 184), match='\\n'>\n",
      "<re.Match object; span=(196, 197), match='\\n'>\n",
      "<re.Match object; span=(210, 211), match='\\n'>\n",
      "<re.Match object; span=(223, 224), match='\\n'>\n",
      "<re.Match object; span=(236, 237), match='\\n'>\n",
      "<re.Match object; span=(249, 250), match='\\n'>\n",
      "<re.Match object; span=(253, 254), match=' '>\n",
      "<re.Match object; span=(261, 262), match='\\n'>\n",
      "<re.Match object; span=(265, 266), match=' '>\n",
      "<re.Match object; span=(271, 272), match='\\n'>\n",
      "<re.Match object; span=(274, 275), match=' '>\n",
      "<re.Match object; span=(280, 281), match='\\n'>\n",
      "<re.Match object; span=(283, 284), match=' '>\n",
      "<re.Match object; span=(289, 290), match='\\n'>\n",
      "<re.Match object; span=(294, 295), match=' '>\n",
      "<re.Match object; span=(303, 304), match='\\n'>\n",
      "<re.Match object; span=(307, 308), match=' '>\n",
      "<re.Match object; span=(309, 310), match='\\n'>\n",
      "<re.Match object; span=(318, 319), match='\\n'>\n"
     ]
    }
   ],
   "source": [
    "import re\n",
    "d = re.compile(r\"\\s\")\n",
    "qs = d.finditer(text_to_search)\n",
    "for i in qs:\n",
    "    print(i)"
   ]
  },
  {
   "cell_type": "code",
   "execution_count": 29,
   "id": "bd7fa7ec",
   "metadata": {},
   "outputs": [
    {
     "name": "stdout",
     "output_type": "stream",
     "text": [
      "<re.Match object; span=(1, 2), match='a'>\n",
      "<re.Match object; span=(2, 3), match='b'>\n",
      "<re.Match object; span=(3, 4), match='c'>\n",
      "<re.Match object; span=(4, 5), match='d'>\n",
      "<re.Match object; span=(5, 6), match='e'>\n",
      "<re.Match object; span=(6, 7), match='f'>\n",
      "<re.Match object; span=(7, 8), match='g'>\n",
      "<re.Match object; span=(8, 9), match='h'>\n",
      "<re.Match object; span=(9, 10), match='i'>\n",
      "<re.Match object; span=(10, 11), match='j'>\n",
      "<re.Match object; span=(11, 12), match='k'>\n",
      "<re.Match object; span=(12, 13), match='l'>\n",
      "<re.Match object; span=(13, 14), match='m'>\n",
      "<re.Match object; span=(14, 15), match='n'>\n",
      "<re.Match object; span=(15, 16), match='o'>\n",
      "<re.Match object; span=(16, 17), match='p'>\n",
      "<re.Match object; span=(17, 18), match='q'>\n",
      "<re.Match object; span=(18, 19), match='u'>\n",
      "<re.Match object; span=(19, 20), match='r'>\n",
      "<re.Match object; span=(20, 21), match='t'>\n",
      "<re.Match object; span=(21, 22), match='u'>\n",
      "<re.Match object; span=(22, 23), match='v'>\n",
      "<re.Match object; span=(23, 24), match='w'>\n",
      "<re.Match object; span=(24, 25), match='x'>\n",
      "<re.Match object; span=(25, 26), match='y'>\n",
      "<re.Match object; span=(26, 27), match='z'>\n",
      "<re.Match object; span=(28, 29), match='A'>\n",
      "<re.Match object; span=(29, 30), match='B'>\n",
      "<re.Match object; span=(30, 31), match='C'>\n",
      "<re.Match object; span=(31, 32), match='D'>\n",
      "<re.Match object; span=(32, 33), match='E'>\n",
      "<re.Match object; span=(33, 34), match='F'>\n",
      "<re.Match object; span=(34, 35), match='G'>\n",
      "<re.Match object; span=(35, 36), match='H'>\n",
      "<re.Match object; span=(36, 37), match='I'>\n",
      "<re.Match object; span=(37, 38), match='J'>\n",
      "<re.Match object; span=(38, 39), match='K'>\n",
      "<re.Match object; span=(39, 40), match='L'>\n",
      "<re.Match object; span=(40, 41), match='M'>\n",
      "<re.Match object; span=(41, 42), match='N'>\n",
      "<re.Match object; span=(42, 43), match='O'>\n",
      "<re.Match object; span=(43, 44), match='P'>\n",
      "<re.Match object; span=(44, 45), match='Q'>\n",
      "<re.Match object; span=(45, 46), match='R'>\n",
      "<re.Match object; span=(46, 47), match='S'>\n",
      "<re.Match object; span=(47, 48), match='T'>\n",
      "<re.Match object; span=(48, 49), match='U'>\n",
      "<re.Match object; span=(49, 50), match='V'>\n",
      "<re.Match object; span=(50, 51), match='W'>\n",
      "<re.Match object; span=(51, 52), match='X'>\n",
      "<re.Match object; span=(52, 53), match='Y'>\n",
      "<re.Match object; span=(53, 54), match='Z'>\n",
      "<re.Match object; span=(54, 55), match='\\\\'>\n",
      "<re.Match object; span=(55, 56), match='s'>\n",
      "<re.Match object; span=(57, 58), match='3'>\n",
      "<re.Match object; span=(58, 59), match='2'>\n",
      "<re.Match object; span=(59, 60), match='1'>\n",
      "<re.Match object; span=(60, 61), match='-'>\n",
      "<re.Match object; span=(61, 62), match='5'>\n",
      "<re.Match object; span=(62, 63), match='5'>\n",
      "<re.Match object; span=(63, 64), match='5'>\n",
      "<re.Match object; span=(64, 65), match='-'>\n",
      "<re.Match object; span=(65, 66), match='4'>\n",
      "<re.Match object; span=(66, 67), match='3'>\n",
      "<re.Match object; span=(67, 68), match='2'>\n",
      "<re.Match object; span=(68, 69), match='1'>\n",
      "<re.Match object; span=(70, 71), match='1'>\n",
      "<re.Match object; span=(71, 72), match='2'>\n",
      "<re.Match object; span=(72, 73), match='3'>\n",
      "<re.Match object; span=(73, 74), match='4'>\n",
      "<re.Match object; span=(74, 75), match='5'>\n",
      "<re.Match object; span=(75, 76), match='6'>\n",
      "<re.Match object; span=(76, 77), match='7'>\n",
      "<re.Match object; span=(77, 78), match='8'>\n",
      "<re.Match object; span=(78, 79), match='9'>\n",
      "<re.Match object; span=(79, 80), match='0'>\n",
      "<re.Match object; span=(81, 82), match='H'>\n",
      "<re.Match object; span=(82, 83), match='a'>\n",
      "<re.Match object; span=(84, 85), match='H'>\n",
      "<re.Match object; span=(85, 86), match='a'>\n",
      "<re.Match object; span=(86, 87), match='H'>\n",
      "<re.Match object; span=(87, 88), match='a'>\n",
      "<re.Match object; span=(89, 90), match='M'>\n",
      "<re.Match object; span=(90, 91), match='e'>\n",
      "<re.Match object; span=(91, 92), match='t'>\n",
      "<re.Match object; span=(92, 93), match='a'>\n",
      "<re.Match object; span=(93, 94), match='C'>\n",
      "<re.Match object; span=(94, 95), match='h'>\n",
      "<re.Match object; span=(95, 96), match='a'>\n",
      "<re.Match object; span=(96, 97), match='r'>\n",
      "<re.Match object; span=(97, 98), match='a'>\n",
      "<re.Match object; span=(98, 99), match='c'>\n",
      "<re.Match object; span=(99, 100), match='t'>\n",
      "<re.Match object; span=(100, 101), match='e'>\n",
      "<re.Match object; span=(101, 102), match='r'>\n",
      "<re.Match object; span=(102, 103), match='s'>\n",
      "<re.Match object; span=(104, 105), match='('>\n",
      "<re.Match object; span=(105, 106), match='N'>\n",
      "<re.Match object; span=(106, 107), match='e'>\n",
      "<re.Match object; span=(107, 108), match='e'>\n",
      "<re.Match object; span=(108, 109), match='d'>\n",
      "<re.Match object; span=(110, 111), match='t'>\n",
      "<re.Match object; span=(111, 112), match='o'>\n",
      "<re.Match object; span=(113, 114), match='b'>\n",
      "<re.Match object; span=(114, 115), match='e'>\n",
      "<re.Match object; span=(116, 117), match='e'>\n",
      "<re.Match object; span=(117, 118), match='s'>\n",
      "<re.Match object; span=(118, 119), match='c'>\n",
      "<re.Match object; span=(119, 120), match='a'>\n",
      "<re.Match object; span=(120, 121), match='p'>\n",
      "<re.Match object; span=(121, 122), match='e'>\n",
      "<re.Match object; span=(122, 123), match='d'>\n",
      "<re.Match object; span=(123, 124), match=')'>\n",
      "<re.Match object; span=(124, 125), match=':'>\n",
      "<re.Match object; span=(126, 127), match='.'>\n",
      "<re.Match object; span=(128, 129), match='^'>\n",
      "<re.Match object; span=(130, 131), match='$'>\n",
      "<re.Match object; span=(132, 133), match='*'>\n",
      "<re.Match object; span=(134, 135), match='+'>\n",
      "<re.Match object; span=(136, 137), match='?'>\n",
      "<re.Match object; span=(138, 139), match='{'>\n",
      "<re.Match object; span=(140, 141), match='}'>\n",
      "<re.Match object; span=(142, 143), match='['>\n",
      "<re.Match object; span=(144, 145), match=']'>\n",
      "<re.Match object; span=(146, 147), match='\\\\'>\n",
      "<re.Match object; span=(148, 149), match='|'>\n",
      "<re.Match object; span=(150, 151), match='('>\n",
      "<re.Match object; span=(152, 153), match=')'>\n",
      "<re.Match object; span=(154, 155), match='k'>\n",
      "<re.Match object; span=(155, 156), match='h'>\n",
      "<re.Match object; span=(156, 157), match='a'>\n",
      "<re.Match object; span=(157, 158), match='n'>\n",
      "<re.Match object; span=(158, 159), match='a'>\n",
      "<re.Match object; span=(159, 160), match='f'>\n",
      "<re.Match object; span=(160, 161), match='s'>\n",
      "<re.Match object; span=(161, 162), match='a'>\n",
      "<re.Match object; span=(162, 163), match='a'>\n",
      "<re.Match object; span=(163, 164), match='n'>\n",
      "<re.Match object; span=(164, 165), match='1'>\n",
      "<re.Match object; span=(165, 166), match='1'>\n",
      "<re.Match object; span=(166, 167), match='.'>\n",
      "<re.Match object; span=(167, 168), match='c'>\n",
      "<re.Match object; span=(168, 169), match='o'>\n",
      "<re.Match object; span=(169, 170), match='m'>\n",
      "<re.Match object; span=(171, 172), match='3'>\n",
      "<re.Match object; span=(172, 173), match='2'>\n",
      "<re.Match object; span=(173, 174), match='1'>\n",
      "<re.Match object; span=(174, 175), match='-'>\n",
      "<re.Match object; span=(175, 176), match='5'>\n",
      "<re.Match object; span=(176, 177), match='5'>\n",
      "<re.Match object; span=(177, 178), match='5'>\n",
      "<re.Match object; span=(178, 179), match='-'>\n",
      "<re.Match object; span=(179, 180), match='4'>\n",
      "<re.Match object; span=(180, 181), match='3'>\n",
      "<re.Match object; span=(181, 182), match='2'>\n",
      "<re.Match object; span=(182, 183), match='1'>\n",
      "<re.Match object; span=(184, 185), match='1'>\n",
      "<re.Match object; span=(185, 186), match='2'>\n",
      "<re.Match object; span=(186, 187), match='3'>\n",
      "<re.Match object; span=(187, 188), match='.'>\n",
      "<re.Match object; span=(188, 189), match='5'>\n",
      "<re.Match object; span=(189, 190), match='5'>\n",
      "<re.Match object; span=(190, 191), match='5'>\n",
      "<re.Match object; span=(191, 192), match='.'>\n",
      "<re.Match object; span=(192, 193), match='1'>\n",
      "<re.Match object; span=(193, 194), match='2'>\n",
      "<re.Match object; span=(194, 195), match='3'>\n",
      "<re.Match object; span=(195, 196), match='4'>\n",
      "<re.Match object; span=(197, 198), match='1'>\n",
      "<re.Match object; span=(198, 199), match='2'>\n",
      "<re.Match object; span=(199, 200), match='3'>\n",
      "<re.Match object; span=(200, 201), match='*'>\n",
      "<re.Match object; span=(201, 202), match='5'>\n",
      "<re.Match object; span=(202, 203), match='5'>\n",
      "<re.Match object; span=(203, 204), match='5'>\n",
      "<re.Match object; span=(204, 205), match='*'>\n",
      "<re.Match object; span=(205, 206), match='-'>\n",
      "<re.Match object; span=(206, 207), match='1'>\n",
      "<re.Match object; span=(207, 208), match='2'>\n",
      "<re.Match object; span=(208, 209), match='3'>\n",
      "<re.Match object; span=(209, 210), match='4'>\n",
      "<re.Match object; span=(211, 212), match='1'>\n",
      "<re.Match object; span=(212, 213), match='2'>\n",
      "<re.Match object; span=(213, 214), match='3'>\n",
      "<re.Match object; span=(214, 215), match='.'>\n",
      "<re.Match object; span=(215, 216), match='5'>\n",
      "<re.Match object; span=(216, 217), match='5'>\n",
      "<re.Match object; span=(217, 218), match='5'>\n",
      "<re.Match object; span=(218, 219), match='.'>\n",
      "<re.Match object; span=(219, 220), match='1'>\n",
      "<re.Match object; span=(220, 221), match='2'>\n",
      "<re.Match object; span=(221, 222), match='3'>\n",
      "<re.Match object; span=(222, 223), match='4'>\n",
      "<re.Match object; span=(224, 225), match='8'>\n",
      "<re.Match object; span=(225, 226), match='0'>\n",
      "<re.Match object; span=(226, 227), match='0'>\n",
      "<re.Match object; span=(227, 228), match='-'>\n",
      "<re.Match object; span=(228, 229), match='5'>\n",
      "<re.Match object; span=(229, 230), match='5'>\n",
      "<re.Match object; span=(230, 231), match='5'>\n",
      "<re.Match object; span=(231, 232), match='-'>\n",
      "<re.Match object; span=(232, 233), match='1'>\n",
      "<re.Match object; span=(233, 234), match='2'>\n",
      "<re.Match object; span=(234, 235), match='3'>\n",
      "<re.Match object; span=(235, 236), match='4'>\n",
      "<re.Match object; span=(237, 238), match='9'>\n",
      "<re.Match object; span=(238, 239), match='0'>\n",
      "<re.Match object; span=(239, 240), match='0'>\n",
      "<re.Match object; span=(240, 241), match='-'>\n",
      "<re.Match object; span=(241, 242), match='5'>\n",
      "<re.Match object; span=(242, 243), match='5'>\n",
      "<re.Match object; span=(243, 244), match='5'>\n",
      "<re.Match object; span=(244, 245), match='-'>\n",
      "<re.Match object; span=(245, 246), match='1'>\n",
      "<re.Match object; span=(246, 247), match='2'>\n",
      "<re.Match object; span=(247, 248), match='3'>\n",
      "<re.Match object; span=(248, 249), match='4'>\n",
      "<re.Match object; span=(250, 251), match='M'>\n",
      "<re.Match object; span=(251, 252), match='r'>\n",
      "<re.Match object; span=(252, 253), match='.'>\n",
      "<re.Match object; span=(254, 255), match='S'>\n",
      "<re.Match object; span=(255, 256), match='c'>\n",
      "<re.Match object; span=(256, 257), match='h'>\n",
      "<re.Match object; span=(257, 258), match='a'>\n",
      "<re.Match object; span=(258, 259), match='f'>\n",
      "<re.Match object; span=(259, 260), match='e'>\n",
      "<re.Match object; span=(260, 261), match='r'>\n",
      "<re.Match object; span=(262, 263), match='M'>\n",
      "<re.Match object; span=(263, 264), match='r'>\n",
      "<re.Match object; span=(264, 265), match='.'>\n",
      "<re.Match object; span=(266, 267), match='K'>\n",
      "<re.Match object; span=(267, 268), match='i'>\n",
      "<re.Match object; span=(268, 269), match='r'>\n",
      "<re.Match object; span=(269, 270), match='a'>\n",
      "<re.Match object; span=(270, 271), match='n'>\n",
      "<re.Match object; span=(272, 273), match='M'>\n",
      "<re.Match object; span=(273, 274), match='r'>\n",
      "<re.Match object; span=(275, 276), match='S'>\n",
      "<re.Match object; span=(276, 277), match='m'>\n",
      "<re.Match object; span=(277, 278), match='i'>\n",
      "<re.Match object; span=(278, 279), match='t'>\n",
      "<re.Match object; span=(279, 280), match='h'>\n",
      "<re.Match object; span=(281, 282), match='M'>\n",
      "<re.Match object; span=(282, 283), match='s'>\n",
      "<re.Match object; span=(284, 285), match='D'>\n",
      "<re.Match object; span=(285, 286), match='a'>\n",
      "<re.Match object; span=(286, 287), match='v'>\n",
      "<re.Match object; span=(287, 288), match='i'>\n",
      "<re.Match object; span=(288, 289), match='s'>\n",
      "<re.Match object; span=(290, 291), match='M'>\n",
      "<re.Match object; span=(291, 292), match='r'>\n",
      "<re.Match object; span=(292, 293), match='s'>\n",
      "<re.Match object; span=(293, 294), match='.'>\n",
      "<re.Match object; span=(295, 296), match='R'>\n",
      "<re.Match object; span=(296, 297), match='o'>\n",
      "<re.Match object; span=(297, 298), match='b'>\n",
      "<re.Match object; span=(298, 299), match='i'>\n",
      "<re.Match object; span=(299, 300), match='n'>\n",
      "<re.Match object; span=(300, 301), match='s'>\n",
      "<re.Match object; span=(301, 302), match='o'>\n",
      "<re.Match object; span=(302, 303), match='n'>\n",
      "<re.Match object; span=(304, 305), match='M'>\n",
      "<re.Match object; span=(305, 306), match='r'>\n",
      "<re.Match object; span=(306, 307), match='.'>\n",
      "<re.Match object; span=(308, 309), match='T'>\n",
      "<re.Match object; span=(310, 311), match='M'>\n",
      "<re.Match object; span=(311, 312), match='r'>\n",
      "<re.Match object; span=(312, 313), match='_'>\n",
      "<re.Match object; span=(313, 314), match='h'>\n",
      "<re.Match object; span=(314, 315), match='e'>\n",
      "<re.Match object; span=(315, 316), match='l'>\n",
      "<re.Match object; span=(316, 317), match='l'>\n",
      "<re.Match object; span=(317, 318), match='o'>\n"
     ]
    }
   ],
   "source": [
    "import re\n",
    "d = re.compile(r\"\\S\")\n",
    "qs = d.finditer(text_to_search)\n",
    "for i in qs:\n",
    "    print(i)"
   ]
  },
  {
   "cell_type": "code",
   "execution_count": 36,
   "id": "c99e3ca0",
   "metadata": {},
   "outputs": [],
   "source": [
    "sa = \"cat catherine catholic wildcat copycat uncatchable\""
   ]
  },
  {
   "cell_type": "code",
   "execution_count": null,
   "id": "edc0052f",
   "metadata": {},
   "outputs": [],
   "source": []
  },
  {
   "cell_type": "code",
   "execution_count": 68,
   "id": "87b3a12f",
   "metadata": {},
   "outputs": [
    {
     "name": "stdout",
     "output_type": "stream",
     "text": [
      "<re.Match object; span=(0, 3), match='cat'>\n"
     ]
    }
   ],
   "source": [
    "e = re.compile(r\"\\bcat\\b\")\n",
    "q = e.finditer(sa)\n",
    "for i in q:\n",
    "    print(i)"
   ]
  },
  {
   "cell_type": "code",
   "execution_count": 69,
   "id": "25c27003",
   "metadata": {},
   "outputs": [],
   "source": [
    "sea = \"she sells seashells at seashore\"\n",
    "       01234567890"
   ]
  },
  {
   "cell_type": "code",
   "execution_count": 77,
   "id": "01b6c124",
   "metadata": {},
   "outputs": [
    {
     "name": "stdout",
     "output_type": "stream",
     "text": [
      "<re.Match object; span=(8, 9), match='s'>\n",
      "<re.Match object; span=(18, 19), match='s'>\n"
     ]
    }
   ],
   "source": [
    "q= re.compile(r\"s\\b\")\n",
    "w = q.finditer(sea)\n",
    "for  i in w:\n",
    "    print(i)"
   ]
  },
  {
   "cell_type": "code",
   "execution_count": 79,
   "id": "d3d8f7db",
   "metadata": {},
   "outputs": [
    {
     "name": "stdout",
     "output_type": "stream",
     "text": [
      "<re.Match object; span=(13, 14), match='s'>\n",
      "<re.Match object; span=(26, 27), match='s'>\n"
     ]
    }
   ],
   "source": [
    "sea = \"she sells seashells at seashore\"\n",
    "q= re.compile(r\"\\Bs\\B\")\n",
    "w = q.finditer(sea)\n",
    "for  i in w:\n",
    "    print(i)"
   ]
  },
  {
   "cell_type": "code",
   "execution_count": 88,
   "id": "71e55685",
   "metadata": {},
   "outputs": [
    {
     "name": "stdout",
     "output_type": "stream",
     "text": [
      "<re.Match object; span=(0, 1), match='s'>\n",
      "<re.Match object; span=(4, 5), match='s'>\n",
      "<re.Match object; span=(10, 11), match='s'>\n",
      "<re.Match object; span=(23, 24), match='s'>\n"
     ]
    }
   ],
   "source": [
    "sea = \"she sells seashells at seashore\"\n",
    "q= re.compile(r\"\\bs\\B\")\n",
    "w = q.finditer(sea)\n",
    "for  i in w:\n",
    "    print(i)"
   ]
  },
  {
   "cell_type": "code",
   "execution_count": 98,
   "id": "8078132d",
   "metadata": {},
   "outputs": [
    {
     "name": "stdout",
     "output_type": "stream",
     "text": [
      "<re.Match object; span=(0, 3), match='she'>\n"
     ]
    }
   ],
   "source": [
    "t = re.compile(r\"^she\")\n",
    "g = t.finditer(sea)\n",
    "for i in g:\n",
    "    print(i)"
   ]
  },
  {
   "cell_type": "code",
   "execution_count": 105,
   "id": "a9e7d1dd",
   "metadata": {},
   "outputs": [
    {
     "name": "stdout",
     "output_type": "stream",
     "text": [
      "<re.Match object; span=(28, 31), match='ore'>\n"
     ]
    }
   ],
   "source": [
    "t = re.compile(r\"ore$\")\n",
    "g = t.finditer(sea)\n",
    "for i in g:\n",
    "    print(i)"
   ]
  },
  {
   "cell_type": "code",
   "execution_count": 110,
   "id": "d06f7a13",
   "metadata": {},
   "outputs": [
    {
     "name": "stdout",
     "output_type": "stream",
     "text": [
      "<re.Match object; span=(65, 67), match='43'>\n",
      "<re.Match object; span=(70, 73), match='123'>\n",
      "<re.Match object; span=(179, 181), match='43'>\n",
      "<re.Match object; span=(184, 187), match='123'>\n",
      "<re.Match object; span=(192, 195), match='123'>\n",
      "<re.Match object; span=(197, 200), match='123'>\n",
      "<re.Match object; span=(206, 209), match='123'>\n",
      "<re.Match object; span=(211, 214), match='123'>\n",
      "<re.Match object; span=(219, 222), match='123'>\n",
      "<re.Match object; span=(232, 235), match='123'>\n",
      "<re.Match object; span=(245, 248), match='123'>\n"
     ]
    }
   ],
   "source": [
    "# extract all the 3 digit numbers\n",
    "t = re.compile(r\"\\d+3\")\n",
    "g = t.finditer(text_to_search)\n",
    "for i in g:\n",
    "    print(i)"
   ]
  },
  {
   "cell_type": "code",
   "execution_count": null,
   "id": "1a7096ed",
   "metadata": {},
   "outputs": [],
   "source": []
  },
  {
   "cell_type": "code",
   "execution_count": null,
   "id": "febc0115",
   "metadata": {},
   "outputs": [],
   "source": []
  },
  {
   "cell_type": "code",
   "execution_count": null,
   "id": "383b5096",
   "metadata": {},
   "outputs": [],
   "source": [
    "\n",
    "q= re.compile(r\"s\")\n",
    "w = q.finditer(sea)\n",
    "for  i in w:\n",
    "    print(i)"
   ]
  },
  {
   "cell_type": "code",
   "execution_count": null,
   "id": "4220698c",
   "metadata": {},
   "outputs": [],
   "source": []
  },
  {
   "cell_type": "code",
   "execution_count": null,
   "id": "2ff9d860",
   "metadata": {},
   "outputs": [],
   "source": []
  },
  {
   "cell_type": "code",
   "execution_count": null,
   "id": "65554b5a",
   "metadata": {},
   "outputs": [],
   "source": []
  },
  {
   "cell_type": "code",
   "execution_count": null,
   "id": "c9bae52d",
   "metadata": {},
   "outputs": [],
   "source": []
  },
  {
   "cell_type": "code",
   "execution_count": null,
   "id": "06cba688",
   "metadata": {},
   "outputs": [],
   "source": []
  },
  {
   "cell_type": "code",
   "execution_count": null,
   "id": "30bc2e61",
   "metadata": {},
   "outputs": [],
   "source": []
  },
  {
   "cell_type": "code",
   "execution_count": null,
   "id": "f94167f1",
   "metadata": {},
   "outputs": [],
   "source": []
  },
  {
   "cell_type": "code",
   "execution_count": 30,
   "id": "ba6523b3",
   "metadata": {},
   "outputs": [
    {
     "name": "stdout",
     "output_type": "stream",
     "text": [
      "<re.Match object; span=(158, 160), match='af'>\n",
      "<re.Match object; span=(257, 259), match='af'>\n"
     ]
    }
   ],
   "source": [
    "ptn = re.compile(r\"af\")\n",
    "m = ptn.finditer(text_to_search)\n",
    "for m1 in m:\n",
    "    print(m1)"
   ]
  },
  {
   "cell_type": "code",
   "execution_count": 31,
   "id": "2e181435",
   "metadata": {},
   "outputs": [
    {
     "data": {
      "text/plain": [
       "'af'"
      ]
     },
     "execution_count": 31,
     "metadata": {},
     "output_type": "execute_result"
    }
   ],
   "source": [
    "text_to_search[158:160]\n",
    "text_to_search[257:259]"
   ]
  },
  {
   "cell_type": "code",
   "execution_count": 32,
   "id": "503b9eeb",
   "metadata": {},
   "outputs": [
    {
     "name": "stdout",
     "output_type": "stream",
     "text": [
      "abc\n",
      "dc\n"
     ]
    }
   ],
   "source": [
    "print('abc\\ndc')"
   ]
  },
  {
   "cell_type": "code",
   "execution_count": 33,
   "id": "a1d115ae",
   "metadata": {},
   "outputs": [
    {
     "name": "stdout",
     "output_type": "stream",
     "text": [
      "abc\\ndc\n"
     ]
    }
   ],
   "source": [
    "print(r'abc\\ndc')"
   ]
  },
  {
   "cell_type": "code",
   "execution_count": 34,
   "id": "d2a1a25d",
   "metadata": {},
   "outputs": [
    {
     "name": "stdout",
     "output_type": "stream",
     "text": [
      "['hello']\n"
     ]
    }
   ],
   "source": [
    "pattern=re.compile(r\"hello\")\n",
    "match=pattern.findall(text_to_search)\n",
    "print(match)"
   ]
  },
  {
   "cell_type": "code",
   "execution_count": 35,
   "id": "a796be61",
   "metadata": {},
   "outputs": [
    {
     "name": "stdout",
     "output_type": "stream",
     "text": [
      "<callable_iterator object at 0x000001C1CD6488E0>\n"
     ]
    },
    {
     "data": {
      "text/plain": [
       "'\\nMr. '"
      ]
     },
     "execution_count": 35,
     "metadata": {},
     "output_type": "execute_result"
    }
   ],
   "source": [
    "pattern=re.compile(r\"hello\")\n",
    "match=pattern.finditer(text_to_search)\n",
    "print(match)\n",
    "list(match)\n",
    "\n",
    "for i in match:\n",
    "    print(i)\n",
    "    \n",
    "text_to_search[303:308]"
   ]
  },
  {
   "cell_type": "code",
   "execution_count": null,
   "id": "a407b320",
   "metadata": {},
   "outputs": [],
   "source": [
    "# either and group works\n",
    "\n",
    "pattern = re.compile(r'M(r|rs|s)\\.')\n",
    "matches = pattern.finditer(text_to_search)\n",
    "\n",
    "for match in matches:\n",
    "    print(match)"
   ]
  },
  {
   "cell_type": "code",
   "execution_count": null,
   "id": "4f1a00c6",
   "metadata": {},
   "outputs": [],
   "source": [
    "text_to_search[25:211]"
   ]
  },
  {
   "cell_type": "code",
   "execution_count": null,
   "id": "a33b9fb8",
   "metadata": {},
   "outputs": [],
   "source": [
    "pattern=re.compile(r'.')\n",
    "matches=pattern.finditer(text_to_search)\n",
    "\n",
    "for i in matches:\n",
    "    print(i)"
   ]
  },
  {
   "cell_type": "code",
   "execution_count": null,
   "id": "14948ce2",
   "metadata": {},
   "outputs": [],
   "source": [
    "pattern=re.compile(r'.')\n",
    "matches=pattern.findall(text_to_search)\n",
    "# matches \n",
    "for i in matches:\n",
    "    print(i)"
   ]
  },
  {
   "cell_type": "code",
   "execution_count": null,
   "id": "744421af",
   "metadata": {},
   "outputs": [],
   "source": [
    "pattern = re.compile(r'\\d')\n",
    "match=pattern.findall(text_to_search)\n",
    "match\n",
    "for i in match:\n",
    "    print(i)"
   ]
  },
  {
   "cell_type": "code",
   "execution_count": null,
   "id": "be973e9c",
   "metadata": {},
   "outputs": [],
   "source": [
    "# Extract only digits not char\n",
    "\n",
    "pattern=re.compile(r\"\\d\")\n",
    "match=pattern.finditer(text_to_search)\n",
    "for i in match:\n",
    "    print(i)\n"
   ]
  },
  {
   "cell_type": "code",
   "execution_count": null,
   "id": "3eb24a74",
   "metadata": {},
   "outputs": [],
   "source": [
    "# Extract only char icluding new line\n",
    "\n",
    "# pattern=re.compile(r\"\\D\")\n",
    "# match=pattern.finditer(text_to_search)\n",
    "# for i in match:\n",
    "#     print(i)\n",
    "\n",
    "pattern=re.compile(r\"\\d\")\n",
    "match=pattern.findall(text_to_search)\n",
    "for i in match:\n",
    "    print(i,end=' ')\n",
    "\n",
    "\n",
    "pattern=re.compile(r\"\\D\")\n",
    "match=pattern.findall(text_to_search)\n",
    "for i in match:\n",
    "    print(i,end=' ')\n"
   ]
  },
  {
   "cell_type": "code",
   "execution_count": null,
   "id": "827ef52d",
   "metadata": {},
   "outputs": [],
   "source": [
    "# All white space like tab, newline, space\n",
    "\n",
    "pattern=re.compile(r\"\\s\")\n",
    "match=pattern.finditer(text_to_search)\n",
    "for i in match:\n",
    "    print(i)\n"
   ]
  },
  {
   "cell_type": "code",
   "execution_count": null,
   "id": "0e9903c8",
   "metadata": {},
   "outputs": [],
   "source": [
    "# All char including digits but not white space\n",
    "\n",
    "pattern=re.compile(r\"\\S\")\n",
    "match=pattern.finditer(text_to_search)\n",
    "for i in match:\n",
    "    print(i)\n"
   ]
  },
  {
   "cell_type": "code",
   "execution_count": null,
   "id": "adf0dbed",
   "metadata": {},
   "outputs": [],
   "source": [
    "# pattern=re.compile(r\"\\w\")\n",
    "# match=pattern.finditer(text_to_search)\n",
    "# for i in match:\n",
    "#     print(i)\n",
    "\n",
    "# [a-z,A-Z,0-9,_]\n",
    "\n",
    "pattern=re.compile(r\"\\w\")\n",
    "match=pattern.findall(text_to_search)\n",
    "for i in match:\n",
    "    print(i,end=' ')\n"
   ]
  },
  {
   "cell_type": "code",
   "execution_count": null,
   "id": "b06e6da0",
   "metadata": {},
   "outputs": [],
   "source": [
    "pattern=re.compile(r\"\\w\")\n",
    "match=pattern.findall(text_to_search)\n",
    "for i in match:\n",
    "    print(i,end=' ')\n"
   ]
  },
  {
   "cell_type": "code",
   "execution_count": null,
   "id": "0882d965",
   "metadata": {},
   "outputs": [],
   "source": [
    "pattern=re.compile(r\"\\d\")\n",
    "match=pattern.finditer(text_to_search)\n",
    "for i in match:\n",
    "    print(i)\n"
   ]
  },
  {
   "cell_type": "code",
   "execution_count": null,
   "id": "ee5d05f3",
   "metadata": {},
   "outputs": [],
   "source": [
    "import re\n",
    "string = 'cat catherine catholic wildcat copycat uncatchable'\n",
    "len(string)"
   ]
  },
  {
   "cell_type": "code",
   "execution_count": null,
   "id": "60da10ed",
   "metadata": {},
   "outputs": [],
   "source": [
    "# Extract first word cat only\n",
    "# isolate the word\n",
    "pattern=re.compile(r\"cat\\b\")\n",
    "match=pattern.finditer(string)\n",
    "for i in match:\n",
    "    print(i)\n",
    "# left hand should be word char and right hand side should not be a word char\n",
    "# then put \"\"word_char\\b\"\"\n",
    "\n",
    "# ends with cat \n",
    "string[31:39]"
   ]
  },
  {
   "cell_type": "code",
   "execution_count": null,
   "id": "ff2c56d3",
   "metadata": {},
   "outputs": [],
   "source": [
    "# Extract first word cat only\n",
    "\n",
    "pattern=re.compile(r\"\\bcat\")\n",
    "match=pattern.finditer(string)\n",
    "for i in match:\n",
    "    print(i)\n",
    "\n",
    "# start with cat that is boundry\n",
    "string[14:22]"
   ]
  },
  {
   "cell_type": "code",
   "execution_count": null,
   "id": "f09ae694",
   "metadata": {},
   "outputs": [],
   "source": [
    "# Extract first word cat only\n",
    "\n",
    "pattern=re.compile(r\"\\bcat\\b\")\n",
    "match=pattern.finditer(string)\n",
    "for i in match:\n",
    "    print(i)\n",
    "string[0:4]"
   ]
  },
  {
   "cell_type": "code",
   "execution_count": null,
   "id": "a3fdff50",
   "metadata": {},
   "outputs": [],
   "source": [
    "\n",
    "pattern=re.compile(r\"\\Bcat\\B\")\n",
    "match=pattern.finditer(string)\n",
    "for i in match:\n",
    "    print(i)\n",
    "\n",
    "string[39:52]\n",
    "\n",
    "# both the side wordchar present that is NO BOUNDRY"
   ]
  },
  {
   "cell_type": "code",
   "execution_count": null,
   "id": "13afc791",
   "metadata": {},
   "outputs": [],
   "source": [
    "text= \"she sells seashells at seashore\"\n",
    "\n",
    "pattern=re.compile(r\"s\\b\")\n",
    "match=pattern.finditer(text)\n",
    "for i in match:\n",
    "    print(i)\n",
    "\n",
    "#output is empty because \"s\" is with other char like she,.."
   ]
  },
  {
   "cell_type": "code",
   "execution_count": null,
   "id": "5229ad7a",
   "metadata": {},
   "outputs": [],
   "source": [
    "# \\B not a word boundry\n",
    "\n",
    "pattern=re.compile(r\"s\\B\")\n",
    "match=pattern.finditer(text)\n",
    "for i in match:\n",
    "    print(i)\n",
    "\n",
    "# at the end no word boundry that means end must have a char\n",
    "# That means only s with start word_char extracted"
   ]
  },
  {
   "cell_type": "code",
   "execution_count": null,
   "id": "d817fc51",
   "metadata": {},
   "outputs": [],
   "source": [
    "\n",
    "pattern=re.compile(r\"\\Bs\")\n",
    "match=pattern.finditer(text)\n",
    "for i in match:\n",
    "    print(i)\n",
    "\n",
    "# at the start no word boundry that means start must have a char\n",
    "#  thst is only end char_word will be extracted"
   ]
  },
  {
   "cell_type": "code",
   "execution_count": null,
   "id": "0262eb57",
   "metadata": {},
   "outputs": [],
   "source": [
    "\n",
    "pattern=re.compile(r\"\\Bs\\B\")\n",
    "match=pattern.finditer(text)\n",
    "for i in match:\n",
    "    print(i)\n",
    "\n",
    "# at the end no word boundry that means end must have a char\n",
    "# that means left and right word_char present"
   ]
  },
  {
   "cell_type": "code",
   "execution_count": null,
   "id": "2f584612",
   "metadata": {},
   "outputs": [],
   "source": [
    "# '^' beginig of string\n",
    "\n",
    "pattern=re.compile(r\"^sh\")\n",
    "match=pattern.finditer(text)\n",
    "for i in match:\n",
    "    print(i)\n",
    "\n",
    "text1 = 'dcat catherine catholic wildcat copycat uncatchable'\n",
    "\n",
    "pattern=re.compile(r\"^dc\")\n",
    "match=pattern.finditer(text1)\n",
    "for i in match:\n",
    "    print(i)\n",
    "\n",
    "#     's' is at begining of only string but not word in string"
   ]
  },
  {
   "cell_type": "code",
   "execution_count": null,
   "id": "d42f01ea",
   "metadata": {},
   "outputs": [],
   "source": [
    "# '$' end of string\n",
    "\n",
    "pattern=re.compile(r\"hore$\")\n",
    "match=pattern.finditer(text)\n",
    "for i in match:\n",
    "    print(i)\n",
    "\n",
    "text1 = 'dcat catherine catholic wildcat copycat uncatchable'\n",
    "\n",
    "pattern=re.compile(r\"ble$\")\n",
    "match=pattern.finditer(text1)\n",
    "for i in match:\n",
    "    print(i)\n",
    "\n",
    "#     's' is at begining of only string but not word in string"
   ]
  },
  {
   "cell_type": "code",
   "execution_count": null,
   "id": "9a89e407",
   "metadata": {},
   "outputs": [],
   "source": [
    "# get all the three dgit number\n",
    "pattern=re.compile(r\"\\d\\w\\w\")\n",
    "match=pattern.findall(text_to_search)\n",
    "for i in match:\n",
    "    print(i,end= \" \")\n",
    "\n",
    "    \n",
    "pattern=re.compile(r\"\\d\\d\\d\")\n",
    "match=pattern.findall(text_to_search)\n",
    "for i in match:\n",
    "    print(i,end= \" \")\n"
   ]
  },
  {
   "cell_type": "code",
   "execution_count": null,
   "id": "6770335a",
   "metadata": {},
   "outputs": [],
   "source": [
    "text_to_search"
   ]
  },
  {
   "cell_type": "code",
   "execution_count": null,
   "id": "d77b67a9",
   "metadata": {},
   "outputs": [],
   "source": [
    "pattern=re.compile(r\"\\d\\d\\d\\.\\d\\d\\d\\.\\d\\d\\d\\d\")\n",
    "match=pattern.finditer(text_to_search)\n",
    "for i in match:\n",
    "    print(i,end= \" \")\n"
   ]
  },
  {
   "cell_type": "code",
   "execution_count": null,
   "id": "1edc6a00",
   "metadata": {},
   "outputs": [],
   "source": [
    "# [xyz] gives exact match character not word\n",
    "\n",
    "pattern=re.compile(r\"[ab]\")\n",
    "match=pattern.finditer(text_to_search)\n",
    "for i in match:\n",
    "    print(i,end= \"\\n\")\n"
   ]
  },
  {
   "cell_type": "code",
   "execution_count": null,
   "id": "f06771be",
   "metadata": {},
   "outputs": [],
   "source": [
    "# pattern=re.compile(r\"[a-k]\")\n",
    "# match=pattern.finditer(text_to_search)\n",
    "# for i in match:\n",
    "#     print(i,end= \"\\n\")\n",
    "\n",
    "# pattern=re.compile(r\"[0-z]\")\n",
    "# match=pattern.finditer(text_to_search)\n",
    "# for i in match:\n",
    "#     print(i,end= \"\\n\")\n",
    "    \n",
    "pattern=re.compile(r\"[A-z]\")\n",
    "match=pattern.finditer(text_to_search)\n",
    "for i in match:\n",
    "    print(i,end= \"\\n\")"
   ]
  },
  {
   "cell_type": "code",
   "execution_count": null,
   "id": "a3b91723",
   "metadata": {},
   "outputs": [],
   "source": [
    "# extract 0 to 7 and '-'\n",
    "\n",
    "# pattern=re.compile(r\"[0-7-]\")\n",
    "# match=pattern.finditer(text_to_search)\n",
    "# for i in match:\n",
    "#     print(i,end= \"\\n\")\n",
    "\n",
    "# works as 0 and 7 and '-'\n",
    "pattern=re.compile(r\"[07-]\")\n",
    "match=pattern.finditer(text_to_search)\n",
    "for i in match:\n",
    "    print(i,end= \"\\n\")"
   ]
  },
  {
   "cell_type": "code",
   "execution_count": null,
   "id": "27b6116c",
   "metadata": {},
   "outputs": [],
   "source": [
    "# a to p and '-'\n",
    "\n",
    "pattern=re.compile(r\"[a-p-]\")\n",
    "match=pattern.finditer(text_to_search)\n",
    "for i in match:\n",
    "    print(i,end= \"\\n\")"
   ]
  },
  {
   "cell_type": "code",
   "execution_count": null,
   "id": "f511f979",
   "metadata": {},
   "outputs": [],
   "source": [
    "# a to p and 0 to 7\n",
    "pattern=re.compile(r\"[a-p0-7]\")\n",
    "match=pattern.finditer(text_to_search)\n",
    "for i in match:\n",
    "    print(i,end= \"\\n\")"
   ]
  },
  {
   "cell_type": "code",
   "execution_count": null,
   "id": "cf341b7a",
   "metadata": {},
   "outputs": [],
   "source": [
    "# ['^xyz'] dont extract this char\n",
    "\n",
    "pattern=re.compile(r\"[^a-p-]\")\n",
    "match=pattern.finditer(text_to_search)\n",
    "for i in match:\n",
    "    print(i,end= \"\\n\")"
   ]
  },
  {
   "cell_type": "code",
   "execution_count": null,
   "id": "feedcd59",
   "metadata": {},
   "outputs": [],
   "source": [
    "# [^xyz] except xyz display\n",
    "pattern=re.compile(r\"[^a-z]\")\n",
    "match=pattern.finditer(text_to_search)\n",
    "for i in match:\n",
    "    print(i,end= \"\\n\")"
   ]
  },
  {
   "cell_type": "code",
   "execution_count": null,
   "id": "e5dba91c",
   "metadata": {},
   "outputs": [],
   "source": [
    "# {number} enter number of char in bracket and print\n",
    "\n",
    "pattern=re.compile(r\"\\d{3}\\.\\d{3}\\.\\d{4}\")\n",
    "match=pattern.finditer(text_to_search)\n",
    "for i in match:\n",
    "    print(i,end= \"\\n\")"
   ]
  },
  {
   "cell_type": "code",
   "execution_count": null,
   "id": "b8f09a82",
   "metadata": {},
   "outputs": [],
   "source": [
    "# {number} enter number of char in bracket and print\n",
    "# [.-] search and returns individualy\n",
    "pattern=re.compile(r\"\\d{3}[.-]\\d{3}[.-]\\d{4}\")\n",
    "match=pattern.finditer(text_to_search)\n",
    "for i in match:\n",
    "    print(i,end= \"\\n\")"
   ]
  },
  {
   "cell_type": "code",
   "execution_count": null,
   "id": "5409e0eb",
   "metadata": {},
   "outputs": [],
   "source": [
    "# Find a valid name\n",
    "\n",
    "# as all the valid names starts with 'Mr'\n",
    "# so search Mr first\n",
    "\n",
    "pattern = re.compile(r'Mr')\n",
    "match = pattern.finditer(text_to_search)\n",
    "for i in match:\n",
    "    print(i)"
   ]
  },
  {
   "cell_type": "code",
   "execution_count": null,
   "id": "f8745277",
   "metadata": {
    "scrolled": true
   },
   "outputs": [],
   "source": [
    "# All the valid name have '.' after Mr/Mrs\n",
    "\n",
    "pattern = re.compile(r'Mr.')\n",
    "match = pattern.finditer(text_to_search)\n",
    "for i in match:\n",
    "    print(i)\n"
   ]
  },
  {
   "cell_type": "code",
   "execution_count": null,
   "id": "7f094ba0",
   "metadata": {},
   "outputs": [],
   "source": [
    "# After 'Mr.' ' ' present so use \\s \n",
    "pattern = re.compile(r'Mr\\.\\s')\n",
    "match = pattern.finditer(text_to_search)\n",
    "for i in match:\n",
    "    print(i)\n"
   ]
  },
  {
   "cell_type": "code",
   "execution_count": null,
   "id": "03fb16ae",
   "metadata": {},
   "outputs": [],
   "source": [
    "# then Mr. N\n",
    "\n",
    "pattern = re.compile(r'Mr\\.\\s[A-z]')\n",
    "match = pattern.finditer(text_to_search)\n",
    "for i in match:\n",
    "    print(i)\n"
   ]
  },
  {
   "cell_type": "code",
   "execution_count": null,
   "id": "3d499996",
   "metadata": {},
   "outputs": [],
   "source": [
    "# Mr.Name using '*' is to match 0 or more character\n",
    "\n",
    "pattern = re.compile(r'Mr\\.\\s[A-z]*')\n",
    "match = pattern.finditer(text_to_search)\n",
    "for i in match:\n",
    "    print(i)\n"
   ]
  },
  {
   "cell_type": "code",
   "execution_count": null,
   "id": "e152614a",
   "metadata": {},
   "outputs": [],
   "source": [
    "# '?' is to represent 0 or one\n",
    "# '.' or ' ' match\n",
    "\n",
    "pattern = re.compile(r'Mr\\.?\\s[A-z]*')\n",
    "match = pattern.finditer(text_to_search)\n",
    "for i in match:\n",
    "    print(i)\n"
   ]
  },
  {
   "cell_type": "code",
   "execution_count": null,
   "id": "ce0339a3",
   "metadata": {},
   "outputs": [],
   "source": [
    "# here [Mr|Ms] matches 'M','r','|','s' individully\n",
    "# this thing we don't want\n",
    "pattern = re.compile(r'[Mr|Ms]\\.?\\s[A-z]*')\n",
    "match = pattern.finditer(text_to_search)\n",
    "for i in match:\n",
    "    print(i)\n"
   ]
  },
  {
   "cell_type": "code",
   "execution_count": null,
   "id": "fa07e0b7",
   "metadata": {},
   "outputs": [],
   "source": [
    "# starts with 'Mr' or 'Ms' matches but donot matches with 'Mrs'\n",
    "pattern = re.compile(r'M[rs]\\.?\\s[A-z]*')\n",
    "match = pattern.finditer(text_to_search)\n",
    "for i in match:\n",
    "    print(i)\n"
   ]
  },
  {
   "cell_type": "code",
   "execution_count": null,
   "id": "a4ed6800",
   "metadata": {},
   "outputs": [],
   "source": [
    "# here  'Mr'or 'M|' or 'Ms' trying to match but available data returns\n",
    "\n",
    "pattern = re.compile(r'M[r|s|rs]\\.?\\s[A-z]*')\n",
    "match = pattern.finditer(text_to_search)\n",
    "for i in match:\n",
    "    print(i)\n"
   ]
  },
  {
   "cell_type": "code",
   "execution_count": null,
   "id": "cf2034ce",
   "metadata": {},
   "outputs": [],
   "source": [
    "# Here 'Mrs' and 'Ms' only printed then 'Mr' followes the Name\n",
    "# To avoid this situation use group()\n",
    "pattern = re.compile(r'Mrs|Ms|Mr\\.?\\s[A-z]*')\n",
    "match = pattern.finditer(text_to_search)\n",
    "for i in match:\n",
    "    print(i)\n"
   ]
  },
  {
   "cell_type": "code",
   "execution_count": null,
   "id": "98050285",
   "metadata": {},
   "outputs": [],
   "source": [
    "# now 'M' follows 'rs' or 's' or 'r'\n",
    "\n",
    "pattern = re.compile(r'M(rs|s|r)\\.?\\s[A-z]*')\n",
    "match = pattern.finditer(text_to_search)\n",
    "for i in match:\n",
    "    print(i)\n"
   ]
  },
  {
   "cell_type": "code",
   "execution_count": null,
   "id": "10c0578f",
   "metadata": {},
   "outputs": [],
   "source": [
    "# find the pattern of emails \n",
    "emails = '''\n",
    "AfsanMKhan@gmail.com\n",
    "afsan.khan@university.edu\n",
    "afsan-321-khan@my-work.net\n",
    "afsan-321-khan@my-work.abc\n",
    "'''"
   ]
  },
  {
   "cell_type": "code",
   "execution_count": null,
   "id": "a748ecd2",
   "metadata": {},
   "outputs": [],
   "source": [
    "pattern = re.compile(r'[A-z]*')\n",
    "match = pattern.finditer(emails)\n",
    "for i in match:\n",
    "    print(i)\n",
    "    "
   ]
  },
  {
   "cell_type": "code",
   "execution_count": null,
   "id": "147a45cf",
   "metadata": {},
   "outputs": [],
   "source": [
    "pattern = re.compile(r'[A-z]*@\\b\\w')\n",
    "match = pattern.finditer(emails)\n",
    "for i in match:\n",
    "    print(i)"
   ]
  },
  {
   "cell_type": "code",
   "execution_count": null,
   "id": "c4983197",
   "metadata": {},
   "outputs": [],
   "source": [
    "# Most important thing is '@' then anything\n",
    "# like a-z- or more\n",
    "# then . follows either edu or net or com\n",
    "# but at start it can be a A to z or 0 to 9 or . or -\n",
    "# zero or one time\n"
   ]
  },
  {
   "cell_type": "code",
   "execution_count": null,
   "id": "6e5f33b0",
   "metadata": {},
   "outputs": [],
   "source": [
    "pattern = re.compile(r'[A-z.-]+@[a-z-]+\\.(edu|net|com)')\n",
    "match = pattern.finditer(emails)\n",
    "for i in match:\n",
    "    print(i)"
   ]
  },
  {
   "cell_type": "code",
   "execution_count": null,
   "id": "d3904469",
   "metadata": {},
   "outputs": [],
   "source": [
    "pattern = re.compile(r'[A-z.-]*@[a-z-]*\\.(edu|net|com)')\n",
    "match = pattern.finditer(emails)\n",
    "for i in match:\n",
    "    print(i)"
   ]
  },
  {
   "cell_type": "code",
   "execution_count": null,
   "id": "00b0f97c",
   "metadata": {},
   "outputs": [],
   "source": [
    "pattern = re.compile(r'[A-z0-9.-]+@[a-z-]+\\.(edu|net|com)')\n",
    "match = pattern.finditer(emails)\n",
    "for i in match:\n",
    "    print(i)"
   ]
  },
  {
   "cell_type": "markdown",
   "id": "09c533e6",
   "metadata": {},
   "source": [
    "## Regex is used for form validation"
   ]
  },
  {
   "cell_type": "markdown",
   "id": "8df7622b",
   "metadata": {},
   "source": [
    "#### Regex is univarsal\n"
   ]
  },
  {
   "cell_type": "code",
   "execution_count": null,
   "id": "f18f824c",
   "metadata": {},
   "outputs": [],
   "source": []
  }
 ],
 "metadata": {
  "kernelspec": {
   "display_name": "Python 3 (ipykernel)",
   "language": "python",
   "name": "python3"
  },
  "language_info": {
   "codemirror_mode": {
    "name": "ipython",
    "version": 3
   },
   "file_extension": ".py",
   "mimetype": "text/x-python",
   "name": "python",
   "nbconvert_exporter": "python",
   "pygments_lexer": "ipython3",
   "version": "3.9.12"
  }
 },
 "nbformat": 4,
 "nbformat_minor": 5
}
