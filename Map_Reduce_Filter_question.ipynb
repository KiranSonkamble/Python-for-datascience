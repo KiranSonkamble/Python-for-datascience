{
 "cells": [
  {
   "cell_type": "code",
   "execution_count": 1,
   "id": "4a958cab",
   "metadata": {},
   "outputs": [
    {
     "data": {
      "text/plain": [
       "[0, 3, 6, 9, 12, 15, 18, 21, 24]"
      ]
     },
     "execution_count": 1,
     "metadata": {},
     "output_type": "execute_result"
    }
   ],
   "source": [
    "###### Write a Python program to triple all numbers of a given list of integers. Use Python map\n",
    "\n",
    "tr= range(9)\n",
    "list(map(lambda x: x*3 ,tr))"
   ]
  },
  {
   "cell_type": "code",
   "execution_count": 3,
   "id": "bd9b404f",
   "metadata": {},
   "outputs": [
    {
     "data": {
      "text/plain": [
       "[36, 45, 54, 63]"
      ]
     },
     "execution_count": 3,
     "metadata": {},
     "output_type": "execute_result"
    }
   ],
   "source": [
    "# Write a Python program to add three given lists using Python map and lambda\n",
    "\n",
    "a=list(range(0,12,3))\n",
    "b=list(range(12,24,3))\n",
    "c=list(range(24,36,3))\n",
    "\n",
    "list(map(lambda x,z,c: x+z+c, a,b,c))"
   ]
  },
  {
   "cell_type": "code",
   "execution_count": 4,
   "id": "f43b4f94",
   "metadata": {},
   "outputs": [
    {
     "data": {
      "text/plain": [
       "[(6, 6), (6, 4), (10, -4), (16, 2)]"
      ]
     },
     "execution_count": 4,
     "metadata": {},
     "output_type": "execute_result"
    }
   ],
   "source": [
    "# Write a Python program to add two given lists and find the difference between lists\n",
    "\n",
    "\"\"\"\n",
    "sample list\n",
    "\n",
    "output  - [(6, 6), (6, 4), (10, -4), (16, 2)]\n",
    "\n",
    "\"\"\"\n",
    "nums1 = [6, 5, 3, 9]\n",
    "nums2 = [0, 1, 7, 7]\n",
    "\n",
    "\n",
    "a=list(map(lambda x,y: x+y,nums1,nums2))\n",
    "b=list(map(lambda c,v:c-v,nums1,nums2))\n",
    "\n",
    "list(zip(a,b))\n"
   ]
  },
  {
   "cell_type": "code",
   "execution_count": 5,
   "id": "4a7b514d",
   "metadata": {},
   "outputs": [
    {
     "name": "stdout",
     "output_type": "stream",
     "text": [
      "CHARACTERS IN UPPERCASE AND LOWERCASE AND ELIMINATE DUPLICATE LETTERS\n",
      "characters in uppercase and lowercase and eliminate duplicate letters\n"
     ]
    },
    {
     "data": {
      "text/plain": [
       "'Charctes inUPERASdlowmup'"
      ]
     },
     "execution_count": 5,
     "metadata": {},
     "output_type": "execute_result"
    }
   ],
   "source": [
    "# Write a Python program to convert all the characters in uppercase and lowercase and eliminate duplicate letters from a given sequence\n",
    "\n",
    "strin='Characters in UPPERCASE and lowercase and eliminate duplicate letters'\n",
    "\n",
    "def dup(strin):\n",
    "    \n",
    "    print(strin.upper())\n",
    "    print(strin.lower())\n",
    "    st=''\n",
    "\n",
    "    for i in strin:\n",
    "        if i not in st:\n",
    "            st=st+i\n",
    "\n",
    "    return ''.join(st)\n",
    "\n",
    "from collections import OrderedDict\n",
    "\n",
    "def remove_duplicate(strin): \n",
    "    return \"\".join(OrderedDict.fromkeys(strin))\n",
    "\n",
    "dup(strin)\n",
    "remove_duplicate(strin)"
   ]
  },
  {
   "cell_type": "code",
   "execution_count": 7,
   "id": "65ef88bc",
   "metadata": {},
   "outputs": [
    {
     "data": {
      "text/plain": [
       "['Apple', 'Apricot', 'Avocado', 'Acai']"
      ]
     },
     "execution_count": 7,
     "metadata": {},
     "output_type": "execute_result"
    }
   ],
   "source": [
    "# Filter out the fruits that start with A \n",
    "\n",
    "fruits= ['Apple', 'Apricot','Coconut','Jackfruit','Avocado', 'Banana', 'Acai']\n",
    "\n",
    "def A_fruits(fr):\n",
    "    for i in fr:\n",
    "#         f=''\n",
    "        if i[0]==\"A\":\n",
    "#             f=f+i\n",
    "            return True\n",
    "        \n",
    "list(filter(A_fruits,fruits))"
   ]
  },
  {
   "cell_type": "code",
   "execution_count": 8,
   "id": "e3bb7e06",
   "metadata": {},
   "outputs": [
    {
     "data": {
      "text/plain": [
       "[1, 2, 3, 4, 5]"
      ]
     },
     "execution_count": 8,
     "metadata": {},
     "output_type": "execute_result"
    }
   ],
   "source": [
    "# Filter out the positve number from a list\n",
    "import random\n",
    "\n",
    "a1= list(range(-3,6))\n",
    "\n",
    "def positiveNumber(Num):\n",
    "        if Num>0:\n",
    "            return True\n",
    "            \n",
    "        \n",
    "list(filter(positiveNumber,a1))"
   ]
  },
  {
   "cell_type": "code",
   "execution_count": 9,
   "id": "cec2ee52",
   "metadata": {},
   "outputs": [
    {
     "data": {
      "text/plain": [
       "[30, 15]"
      ]
     },
     "execution_count": 9,
     "metadata": {},
     "output_type": "execute_result"
    }
   ],
   "source": [
    "# filter out the multiples of 3 and 5 from a list\n",
    "a=[1,4,30,6,70,9,33,2,13,34,35,15]\n",
    "\n",
    "def mult_f(num):\n",
    "        if num%3==0 and num%5==0:\n",
    "            return True\n",
    "        \n",
    "list(filter(mult_f,a))"
   ]
  },
  {
   "cell_type": "code",
   "execution_count": 10,
   "id": "b66bbf22",
   "metadata": {},
   "outputs": [
    {
     "data": {
      "text/plain": [
       "70"
      ]
     },
     "execution_count": 10,
     "metadata": {},
     "output_type": "execute_result"
    }
   ],
   "source": [
    "# find the max string using reuduce function\n",
    "from functools import reduce\n",
    "reduce(lambda x,y: x if x>y else y, a)"
   ]
  },
  {
   "cell_type": "code",
   "execution_count": 11,
   "id": "c481450a",
   "metadata": {},
   "outputs": [
    {
     "name": "stdout",
     "output_type": "stream",
     "text": [
      "70 1 126.5\n"
     ]
    }
   ],
   "source": [
    "# find the mean , max and min of a given list using reduce function\n",
    "\n",
    "max=reduce(lambda x,y: x if x>y else y,a)\n",
    "\n",
    "min=reduce(lambda x,y: x if x<y else y,a)\n",
    "\n",
    "mean=reduce(lambda x,y: x+y/2,a)\n",
    "\n",
    "print(max,min,mean)"
   ]
  }
 ],
 "metadata": {
  "kernelspec": {
   "display_name": "Python 3 (ipykernel)",
   "language": "python",
   "name": "python3"
  },
  "language_info": {
   "codemirror_mode": {
    "name": "ipython",
    "version": 3
   },
   "file_extension": ".py",
   "mimetype": "text/x-python",
   "name": "python",
   "nbconvert_exporter": "python",
   "pygments_lexer": "ipython3",
   "version": "3.9.7"
  }
 },
 "nbformat": 4,
 "nbformat_minor": 5
}
